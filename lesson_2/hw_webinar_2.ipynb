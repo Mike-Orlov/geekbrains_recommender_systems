{
  "nbformat": 4,
  "nbformat_minor": 0,
  "metadata": {
    "colab": {
      "name": "hw_webinar_2.ipynb",
      "provenance": [],
      "collapsed_sections": []
    },
    "kernelspec": {
      "display_name": "Python 3",
      "language": "python",
      "name": "python3"
    },
    "language_info": {
      "codemirror_mode": {
        "name": "ipython",
        "version": 3
      },
      "file_extension": ".py",
      "mimetype": "text/x-python",
      "name": "python",
      "nbconvert_exporter": "python",
      "pygments_lexer": "ipython3",
      "version": "3.7.2"
    },
    "widgets": {
      "application/vnd.jupyter.widget-state+json": {
        "b5704e1ba8a14f9486c56e8e5b104b68": {
          "model_module": "@jupyter-widgets/controls",
          "model_name": "HBoxModel",
          "state": {
            "_view_name": "HBoxView",
            "_dom_classes": [],
            "_model_name": "HBoxModel",
            "_view_module": "@jupyter-widgets/controls",
            "_model_module_version": "1.5.0",
            "_view_count": null,
            "_view_module_version": "1.5.0",
            "box_style": "",
            "layout": "IPY_MODEL_e9f6e18880344dca9abde355d8618dbb",
            "_model_module": "@jupyter-widgets/controls",
            "children": [
              "IPY_MODEL_6b5cfc27598a4d12a6e849a3705d4d6f",
              "IPY_MODEL_a1348548a606467b951a2870ac764458"
            ]
          }
        },
        "e9f6e18880344dca9abde355d8618dbb": {
          "model_module": "@jupyter-widgets/base",
          "model_name": "LayoutModel",
          "state": {
            "_view_name": "LayoutView",
            "grid_template_rows": null,
            "right": null,
            "justify_content": null,
            "_view_module": "@jupyter-widgets/base",
            "overflow": null,
            "_model_module_version": "1.2.0",
            "_view_count": null,
            "flex_flow": null,
            "width": null,
            "min_width": null,
            "border": null,
            "align_items": null,
            "bottom": null,
            "_model_module": "@jupyter-widgets/base",
            "top": null,
            "grid_column": null,
            "overflow_y": null,
            "overflow_x": null,
            "grid_auto_flow": null,
            "grid_area": null,
            "grid_template_columns": null,
            "flex": null,
            "_model_name": "LayoutModel",
            "justify_items": null,
            "grid_row": null,
            "max_height": null,
            "align_content": null,
            "visibility": null,
            "align_self": null,
            "height": null,
            "min_height": null,
            "padding": null,
            "grid_auto_rows": null,
            "grid_gap": null,
            "max_width": null,
            "order": null,
            "_view_module_version": "1.2.0",
            "grid_template_areas": null,
            "object_position": null,
            "object_fit": null,
            "grid_auto_columns": null,
            "margin": null,
            "display": null,
            "left": null
          }
        },
        "6b5cfc27598a4d12a6e849a3705d4d6f": {
          "model_module": "@jupyter-widgets/controls",
          "model_name": "FloatProgressModel",
          "state": {
            "_view_name": "ProgressView",
            "style": "IPY_MODEL_106bc85f4faa41a89b8107f5b02b3f84",
            "_dom_classes": [],
            "description": "100%",
            "_model_name": "FloatProgressModel",
            "bar_style": "success",
            "max": 5001,
            "_view_module": "@jupyter-widgets/controls",
            "_model_module_version": "1.5.0",
            "value": 5001,
            "_view_count": null,
            "_view_module_version": "1.5.0",
            "orientation": "horizontal",
            "min": 0,
            "description_tooltip": null,
            "_model_module": "@jupyter-widgets/controls",
            "layout": "IPY_MODEL_470e66892822470c8e27d168be4a7a1d"
          }
        },
        "a1348548a606467b951a2870ac764458": {
          "model_module": "@jupyter-widgets/controls",
          "model_name": "HTMLModel",
          "state": {
            "_view_name": "HTMLView",
            "style": "IPY_MODEL_6b7ec0d1257e454ab668ac6873ec595a",
            "_dom_classes": [],
            "description": "",
            "_model_name": "HTMLModel",
            "placeholder": "​",
            "_view_module": "@jupyter-widgets/controls",
            "_model_module_version": "1.5.0",
            "value": " 5001/5001 [00:01&lt;00:00, 2638.19it/s]",
            "_view_count": null,
            "_view_module_version": "1.5.0",
            "description_tooltip": null,
            "_model_module": "@jupyter-widgets/controls",
            "layout": "IPY_MODEL_b2ff8414a7834ebbac6805de68a38756"
          }
        },
        "106bc85f4faa41a89b8107f5b02b3f84": {
          "model_module": "@jupyter-widgets/controls",
          "model_name": "ProgressStyleModel",
          "state": {
            "_view_name": "StyleView",
            "_model_name": "ProgressStyleModel",
            "description_width": "initial",
            "_view_module": "@jupyter-widgets/base",
            "_model_module_version": "1.5.0",
            "_view_count": null,
            "_view_module_version": "1.2.0",
            "bar_color": null,
            "_model_module": "@jupyter-widgets/controls"
          }
        },
        "470e66892822470c8e27d168be4a7a1d": {
          "model_module": "@jupyter-widgets/base",
          "model_name": "LayoutModel",
          "state": {
            "_view_name": "LayoutView",
            "grid_template_rows": null,
            "right": null,
            "justify_content": null,
            "_view_module": "@jupyter-widgets/base",
            "overflow": null,
            "_model_module_version": "1.2.0",
            "_view_count": null,
            "flex_flow": null,
            "width": null,
            "min_width": null,
            "border": null,
            "align_items": null,
            "bottom": null,
            "_model_module": "@jupyter-widgets/base",
            "top": null,
            "grid_column": null,
            "overflow_y": null,
            "overflow_x": null,
            "grid_auto_flow": null,
            "grid_area": null,
            "grid_template_columns": null,
            "flex": null,
            "_model_name": "LayoutModel",
            "justify_items": null,
            "grid_row": null,
            "max_height": null,
            "align_content": null,
            "visibility": null,
            "align_self": null,
            "height": null,
            "min_height": null,
            "padding": null,
            "grid_auto_rows": null,
            "grid_gap": null,
            "max_width": null,
            "order": null,
            "_view_module_version": "1.2.0",
            "grid_template_areas": null,
            "object_position": null,
            "object_fit": null,
            "grid_auto_columns": null,
            "margin": null,
            "display": null,
            "left": null
          }
        },
        "6b7ec0d1257e454ab668ac6873ec595a": {
          "model_module": "@jupyter-widgets/controls",
          "model_name": "DescriptionStyleModel",
          "state": {
            "_view_name": "StyleView",
            "_model_name": "DescriptionStyleModel",
            "description_width": "",
            "_view_module": "@jupyter-widgets/base",
            "_model_module_version": "1.5.0",
            "_view_count": null,
            "_view_module_version": "1.2.0",
            "_model_module": "@jupyter-widgets/controls"
          }
        },
        "b2ff8414a7834ebbac6805de68a38756": {
          "model_module": "@jupyter-widgets/base",
          "model_name": "LayoutModel",
          "state": {
            "_view_name": "LayoutView",
            "grid_template_rows": null,
            "right": null,
            "justify_content": null,
            "_view_module": "@jupyter-widgets/base",
            "overflow": null,
            "_model_module_version": "1.2.0",
            "_view_count": null,
            "flex_flow": null,
            "width": null,
            "min_width": null,
            "border": null,
            "align_items": null,
            "bottom": null,
            "_model_module": "@jupyter-widgets/base",
            "top": null,
            "grid_column": null,
            "overflow_y": null,
            "overflow_x": null,
            "grid_auto_flow": null,
            "grid_area": null,
            "grid_template_columns": null,
            "flex": null,
            "_model_name": "LayoutModel",
            "justify_items": null,
            "grid_row": null,
            "max_height": null,
            "align_content": null,
            "visibility": null,
            "align_self": null,
            "height": null,
            "min_height": null,
            "padding": null,
            "grid_auto_rows": null,
            "grid_gap": null,
            "max_width": null,
            "order": null,
            "_view_module_version": "1.2.0",
            "grid_template_areas": null,
            "object_position": null,
            "object_fit": null,
            "grid_auto_columns": null,
            "margin": null,
            "display": null,
            "left": null
          }
        },
        "e4fd2967280d4ce0873295915c528681": {
          "model_module": "@jupyter-widgets/controls",
          "model_name": "HBoxModel",
          "state": {
            "_view_name": "HBoxView",
            "_dom_classes": [],
            "_model_name": "HBoxModel",
            "_view_module": "@jupyter-widgets/controls",
            "_model_module_version": "1.5.0",
            "_view_count": null,
            "_view_module_version": "1.5.0",
            "box_style": "",
            "layout": "IPY_MODEL_96149e9928654098948973efe38e0527",
            "_model_module": "@jupyter-widgets/controls",
            "children": [
              "IPY_MODEL_70274dea12f74bbb93f5b88a6dfd35ba",
              "IPY_MODEL_549295a880e5423799c3a0afc6118476"
            ]
          }
        },
        "96149e9928654098948973efe38e0527": {
          "model_module": "@jupyter-widgets/base",
          "model_name": "LayoutModel",
          "state": {
            "_view_name": "LayoutView",
            "grid_template_rows": null,
            "right": null,
            "justify_content": null,
            "_view_module": "@jupyter-widgets/base",
            "overflow": null,
            "_model_module_version": "1.2.0",
            "_view_count": null,
            "flex_flow": null,
            "width": null,
            "min_width": null,
            "border": null,
            "align_items": null,
            "bottom": null,
            "_model_module": "@jupyter-widgets/base",
            "top": null,
            "grid_column": null,
            "overflow_y": null,
            "overflow_x": null,
            "grid_auto_flow": null,
            "grid_area": null,
            "grid_template_columns": null,
            "flex": null,
            "_model_name": "LayoutModel",
            "justify_items": null,
            "grid_row": null,
            "max_height": null,
            "align_content": null,
            "visibility": null,
            "align_self": null,
            "height": null,
            "min_height": null,
            "padding": null,
            "grid_auto_rows": null,
            "grid_gap": null,
            "max_width": null,
            "order": null,
            "_view_module_version": "1.2.0",
            "grid_template_areas": null,
            "object_position": null,
            "object_fit": null,
            "grid_auto_columns": null,
            "margin": null,
            "display": null,
            "left": null
          }
        },
        "70274dea12f74bbb93f5b88a6dfd35ba": {
          "model_module": "@jupyter-widgets/controls",
          "model_name": "FloatProgressModel",
          "state": {
            "_view_name": "ProgressView",
            "style": "IPY_MODEL_40d5fcdc745749e99ba3c5c67b93070e",
            "_dom_classes": [],
            "description": "100%",
            "_model_name": "FloatProgressModel",
            "bar_style": "success",
            "max": 5000,
            "_view_module": "@jupyter-widgets/controls",
            "_model_module_version": "1.5.0",
            "value": 5000,
            "_view_count": null,
            "_view_module_version": "1.5.0",
            "orientation": "horizontal",
            "min": 0,
            "description_tooltip": null,
            "_model_module": "@jupyter-widgets/controls",
            "layout": "IPY_MODEL_bd6a3cfb799a4bb8bc81e3cf976063ae"
          }
        },
        "549295a880e5423799c3a0afc6118476": {
          "model_module": "@jupyter-widgets/controls",
          "model_name": "HTMLModel",
          "state": {
            "_view_name": "HTMLView",
            "style": "IPY_MODEL_49724ab7287041bc98a1439620086443",
            "_dom_classes": [],
            "description": "",
            "_model_name": "HTMLModel",
            "placeholder": "​",
            "_view_module": "@jupyter-widgets/controls",
            "_model_module_version": "1.5.0",
            "value": " 5000/5000 [00:01&lt;00:00, 3046.24it/s]",
            "_view_count": null,
            "_view_module_version": "1.5.0",
            "description_tooltip": null,
            "_model_module": "@jupyter-widgets/controls",
            "layout": "IPY_MODEL_3c2391ab7b72446ea344a8502ada14e3"
          }
        },
        "40d5fcdc745749e99ba3c5c67b93070e": {
          "model_module": "@jupyter-widgets/controls",
          "model_name": "ProgressStyleModel",
          "state": {
            "_view_name": "StyleView",
            "_model_name": "ProgressStyleModel",
            "description_width": "initial",
            "_view_module": "@jupyter-widgets/base",
            "_model_module_version": "1.5.0",
            "_view_count": null,
            "_view_module_version": "1.2.0",
            "bar_color": null,
            "_model_module": "@jupyter-widgets/controls"
          }
        },
        "bd6a3cfb799a4bb8bc81e3cf976063ae": {
          "model_module": "@jupyter-widgets/base",
          "model_name": "LayoutModel",
          "state": {
            "_view_name": "LayoutView",
            "grid_template_rows": null,
            "right": null,
            "justify_content": null,
            "_view_module": "@jupyter-widgets/base",
            "overflow": null,
            "_model_module_version": "1.2.0",
            "_view_count": null,
            "flex_flow": null,
            "width": null,
            "min_width": null,
            "border": null,
            "align_items": null,
            "bottom": null,
            "_model_module": "@jupyter-widgets/base",
            "top": null,
            "grid_column": null,
            "overflow_y": null,
            "overflow_x": null,
            "grid_auto_flow": null,
            "grid_area": null,
            "grid_template_columns": null,
            "flex": null,
            "_model_name": "LayoutModel",
            "justify_items": null,
            "grid_row": null,
            "max_height": null,
            "align_content": null,
            "visibility": null,
            "align_self": null,
            "height": null,
            "min_height": null,
            "padding": null,
            "grid_auto_rows": null,
            "grid_gap": null,
            "max_width": null,
            "order": null,
            "_view_module_version": "1.2.0",
            "grid_template_areas": null,
            "object_position": null,
            "object_fit": null,
            "grid_auto_columns": null,
            "margin": null,
            "display": null,
            "left": null
          }
        },
        "49724ab7287041bc98a1439620086443": {
          "model_module": "@jupyter-widgets/controls",
          "model_name": "DescriptionStyleModel",
          "state": {
            "_view_name": "StyleView",
            "_model_name": "DescriptionStyleModel",
            "description_width": "",
            "_view_module": "@jupyter-widgets/base",
            "_model_module_version": "1.5.0",
            "_view_count": null,
            "_view_module_version": "1.2.0",
            "_model_module": "@jupyter-widgets/controls"
          }
        },
        "3c2391ab7b72446ea344a8502ada14e3": {
          "model_module": "@jupyter-widgets/base",
          "model_name": "LayoutModel",
          "state": {
            "_view_name": "LayoutView",
            "grid_template_rows": null,
            "right": null,
            "justify_content": null,
            "_view_module": "@jupyter-widgets/base",
            "overflow": null,
            "_model_module_version": "1.2.0",
            "_view_count": null,
            "flex_flow": null,
            "width": null,
            "min_width": null,
            "border": null,
            "align_items": null,
            "bottom": null,
            "_model_module": "@jupyter-widgets/base",
            "top": null,
            "grid_column": null,
            "overflow_y": null,
            "overflow_x": null,
            "grid_auto_flow": null,
            "grid_area": null,
            "grid_template_columns": null,
            "flex": null,
            "_model_name": "LayoutModel",
            "justify_items": null,
            "grid_row": null,
            "max_height": null,
            "align_content": null,
            "visibility": null,
            "align_self": null,
            "height": null,
            "min_height": null,
            "padding": null,
            "grid_auto_rows": null,
            "grid_gap": null,
            "max_width": null,
            "order": null,
            "_view_module_version": "1.2.0",
            "grid_template_areas": null,
            "object_position": null,
            "object_fit": null,
            "grid_auto_columns": null,
            "margin": null,
            "display": null,
            "left": null
          }
        },
        "c6af945ddcad4f0e83364e4f3456761b": {
          "model_module": "@jupyter-widgets/controls",
          "model_name": "HBoxModel",
          "state": {
            "_view_name": "HBoxView",
            "_dom_classes": [],
            "_model_name": "HBoxModel",
            "_view_module": "@jupyter-widgets/controls",
            "_model_module_version": "1.5.0",
            "_view_count": null,
            "_view_module_version": "1.5.0",
            "box_style": "",
            "layout": "IPY_MODEL_7b0f2864eb7648aaa0107ad264dfae85",
            "_model_module": "@jupyter-widgets/controls",
            "children": [
              "IPY_MODEL_46f53128363b4973a522e747eceb5264",
              "IPY_MODEL_e659dfb498004dad8d79c28d9149665b"
            ]
          }
        },
        "7b0f2864eb7648aaa0107ad264dfae85": {
          "model_module": "@jupyter-widgets/base",
          "model_name": "LayoutModel",
          "state": {
            "_view_name": "LayoutView",
            "grid_template_rows": null,
            "right": null,
            "justify_content": null,
            "_view_module": "@jupyter-widgets/base",
            "overflow": null,
            "_model_module_version": "1.2.0",
            "_view_count": null,
            "flex_flow": null,
            "width": null,
            "min_width": null,
            "border": null,
            "align_items": null,
            "bottom": null,
            "_model_module": "@jupyter-widgets/base",
            "top": null,
            "grid_column": null,
            "overflow_y": null,
            "overflow_x": null,
            "grid_auto_flow": null,
            "grid_area": null,
            "grid_template_columns": null,
            "flex": null,
            "_model_name": "LayoutModel",
            "justify_items": null,
            "grid_row": null,
            "max_height": null,
            "align_content": null,
            "visibility": null,
            "align_self": null,
            "height": null,
            "min_height": null,
            "padding": null,
            "grid_auto_rows": null,
            "grid_gap": null,
            "max_width": null,
            "order": null,
            "_view_module_version": "1.2.0",
            "grid_template_areas": null,
            "object_position": null,
            "object_fit": null,
            "grid_auto_columns": null,
            "margin": null,
            "display": null,
            "left": null
          }
        },
        "46f53128363b4973a522e747eceb5264": {
          "model_module": "@jupyter-widgets/controls",
          "model_name": "FloatProgressModel",
          "state": {
            "_view_name": "ProgressView",
            "style": "IPY_MODEL_32544635c3fb4eb6abc7768c8ca81fe6",
            "_dom_classes": [],
            "description": "100%",
            "_model_name": "FloatProgressModel",
            "bar_style": "success",
            "max": 5001,
            "_view_module": "@jupyter-widgets/controls",
            "_model_module_version": "1.5.0",
            "value": 5001,
            "_view_count": null,
            "_view_module_version": "1.5.0",
            "orientation": "horizontal",
            "min": 0,
            "description_tooltip": null,
            "_model_module": "@jupyter-widgets/controls",
            "layout": "IPY_MODEL_d7c14b9b4f89475a9c3212c26678fbed"
          }
        },
        "e659dfb498004dad8d79c28d9149665b": {
          "model_module": "@jupyter-widgets/controls",
          "model_name": "HTMLModel",
          "state": {
            "_view_name": "HTMLView",
            "style": "IPY_MODEL_e6f0bfd388d745d383c75b6414fa28b1",
            "_dom_classes": [],
            "description": "",
            "_model_name": "HTMLModel",
            "placeholder": "​",
            "_view_module": "@jupyter-widgets/controls",
            "_model_module_version": "1.5.0",
            "value": " 5001/5001 [00:03&lt;00:00, 1547.42it/s]",
            "_view_count": null,
            "_view_module_version": "1.5.0",
            "description_tooltip": null,
            "_model_module": "@jupyter-widgets/controls",
            "layout": "IPY_MODEL_acf3512959aa4c94ace6d00f95bfa66a"
          }
        },
        "32544635c3fb4eb6abc7768c8ca81fe6": {
          "model_module": "@jupyter-widgets/controls",
          "model_name": "ProgressStyleModel",
          "state": {
            "_view_name": "StyleView",
            "_model_name": "ProgressStyleModel",
            "description_width": "initial",
            "_view_module": "@jupyter-widgets/base",
            "_model_module_version": "1.5.0",
            "_view_count": null,
            "_view_module_version": "1.2.0",
            "bar_color": null,
            "_model_module": "@jupyter-widgets/controls"
          }
        },
        "d7c14b9b4f89475a9c3212c26678fbed": {
          "model_module": "@jupyter-widgets/base",
          "model_name": "LayoutModel",
          "state": {
            "_view_name": "LayoutView",
            "grid_template_rows": null,
            "right": null,
            "justify_content": null,
            "_view_module": "@jupyter-widgets/base",
            "overflow": null,
            "_model_module_version": "1.2.0",
            "_view_count": null,
            "flex_flow": null,
            "width": null,
            "min_width": null,
            "border": null,
            "align_items": null,
            "bottom": null,
            "_model_module": "@jupyter-widgets/base",
            "top": null,
            "grid_column": null,
            "overflow_y": null,
            "overflow_x": null,
            "grid_auto_flow": null,
            "grid_area": null,
            "grid_template_columns": null,
            "flex": null,
            "_model_name": "LayoutModel",
            "justify_items": null,
            "grid_row": null,
            "max_height": null,
            "align_content": null,
            "visibility": null,
            "align_self": null,
            "height": null,
            "min_height": null,
            "padding": null,
            "grid_auto_rows": null,
            "grid_gap": null,
            "max_width": null,
            "order": null,
            "_view_module_version": "1.2.0",
            "grid_template_areas": null,
            "object_position": null,
            "object_fit": null,
            "grid_auto_columns": null,
            "margin": null,
            "display": null,
            "left": null
          }
        },
        "e6f0bfd388d745d383c75b6414fa28b1": {
          "model_module": "@jupyter-widgets/controls",
          "model_name": "DescriptionStyleModel",
          "state": {
            "_view_name": "StyleView",
            "_model_name": "DescriptionStyleModel",
            "description_width": "",
            "_view_module": "@jupyter-widgets/base",
            "_model_module_version": "1.5.0",
            "_view_count": null,
            "_view_module_version": "1.2.0",
            "_model_module": "@jupyter-widgets/controls"
          }
        },
        "acf3512959aa4c94ace6d00f95bfa66a": {
          "model_module": "@jupyter-widgets/base",
          "model_name": "LayoutModel",
          "state": {
            "_view_name": "LayoutView",
            "grid_template_rows": null,
            "right": null,
            "justify_content": null,
            "_view_module": "@jupyter-widgets/base",
            "overflow": null,
            "_model_module_version": "1.2.0",
            "_view_count": null,
            "flex_flow": null,
            "width": null,
            "min_width": null,
            "border": null,
            "align_items": null,
            "bottom": null,
            "_model_module": "@jupyter-widgets/base",
            "top": null,
            "grid_column": null,
            "overflow_y": null,
            "overflow_x": null,
            "grid_auto_flow": null,
            "grid_area": null,
            "grid_template_columns": null,
            "flex": null,
            "_model_name": "LayoutModel",
            "justify_items": null,
            "grid_row": null,
            "max_height": null,
            "align_content": null,
            "visibility": null,
            "align_self": null,
            "height": null,
            "min_height": null,
            "padding": null,
            "grid_auto_rows": null,
            "grid_gap": null,
            "max_width": null,
            "order": null,
            "_view_module_version": "1.2.0",
            "grid_template_areas": null,
            "object_position": null,
            "object_fit": null,
            "grid_auto_columns": null,
            "margin": null,
            "display": null,
            "left": null
          }
        },
        "55ec8a764b0546cf924ba435a5b1937f": {
          "model_module": "@jupyter-widgets/controls",
          "model_name": "HBoxModel",
          "state": {
            "_view_name": "HBoxView",
            "_dom_classes": [],
            "_model_name": "HBoxModel",
            "_view_module": "@jupyter-widgets/controls",
            "_model_module_version": "1.5.0",
            "_view_count": null,
            "_view_module_version": "1.5.0",
            "box_style": "",
            "layout": "IPY_MODEL_4ad0d0e166414d908c68d68467a39338",
            "_model_module": "@jupyter-widgets/controls",
            "children": [
              "IPY_MODEL_818d311971ef4f5daf7fc3941ad0c132",
              "IPY_MODEL_7a5c37a620864ce082681d3c581330ff"
            ]
          }
        },
        "4ad0d0e166414d908c68d68467a39338": {
          "model_module": "@jupyter-widgets/base",
          "model_name": "LayoutModel",
          "state": {
            "_view_name": "LayoutView",
            "grid_template_rows": null,
            "right": null,
            "justify_content": null,
            "_view_module": "@jupyter-widgets/base",
            "overflow": null,
            "_model_module_version": "1.2.0",
            "_view_count": null,
            "flex_flow": null,
            "width": null,
            "min_width": null,
            "border": null,
            "align_items": null,
            "bottom": null,
            "_model_module": "@jupyter-widgets/base",
            "top": null,
            "grid_column": null,
            "overflow_y": null,
            "overflow_x": null,
            "grid_auto_flow": null,
            "grid_area": null,
            "grid_template_columns": null,
            "flex": null,
            "_model_name": "LayoutModel",
            "justify_items": null,
            "grid_row": null,
            "max_height": null,
            "align_content": null,
            "visibility": null,
            "align_self": null,
            "height": null,
            "min_height": null,
            "padding": null,
            "grid_auto_rows": null,
            "grid_gap": null,
            "max_width": null,
            "order": null,
            "_view_module_version": "1.2.0",
            "grid_template_areas": null,
            "object_position": null,
            "object_fit": null,
            "grid_auto_columns": null,
            "margin": null,
            "display": null,
            "left": null
          }
        },
        "818d311971ef4f5daf7fc3941ad0c132": {
          "model_module": "@jupyter-widgets/controls",
          "model_name": "FloatProgressModel",
          "state": {
            "_view_name": "ProgressView",
            "style": "IPY_MODEL_54541ac4f7e544d298f99a5e8095c6c4",
            "_dom_classes": [],
            "description": "100%",
            "_model_name": "FloatProgressModel",
            "bar_style": "success",
            "max": 5001,
            "_view_module": "@jupyter-widgets/controls",
            "_model_module_version": "1.5.0",
            "value": 5001,
            "_view_count": null,
            "_view_module_version": "1.5.0",
            "orientation": "horizontal",
            "min": 0,
            "description_tooltip": null,
            "_model_module": "@jupyter-widgets/controls",
            "layout": "IPY_MODEL_ea2398580ec6492f89ec70b93f12d7b8"
          }
        },
        "7a5c37a620864ce082681d3c581330ff": {
          "model_module": "@jupyter-widgets/controls",
          "model_name": "HTMLModel",
          "state": {
            "_view_name": "HTMLView",
            "style": "IPY_MODEL_510cbaa7698e4a14b34016883c07bc15",
            "_dom_classes": [],
            "description": "",
            "_model_name": "HTMLModel",
            "placeholder": "​",
            "_view_module": "@jupyter-widgets/controls",
            "_model_module_version": "1.5.0",
            "value": " 5001/5001 [00:01&lt;00:00, 3577.97it/s]",
            "_view_count": null,
            "_view_module_version": "1.5.0",
            "description_tooltip": null,
            "_model_module": "@jupyter-widgets/controls",
            "layout": "IPY_MODEL_8bd28c83aad04f039f68b993966c7dd4"
          }
        },
        "54541ac4f7e544d298f99a5e8095c6c4": {
          "model_module": "@jupyter-widgets/controls",
          "model_name": "ProgressStyleModel",
          "state": {
            "_view_name": "StyleView",
            "_model_name": "ProgressStyleModel",
            "description_width": "initial",
            "_view_module": "@jupyter-widgets/base",
            "_model_module_version": "1.5.0",
            "_view_count": null,
            "_view_module_version": "1.2.0",
            "bar_color": null,
            "_model_module": "@jupyter-widgets/controls"
          }
        },
        "ea2398580ec6492f89ec70b93f12d7b8": {
          "model_module": "@jupyter-widgets/base",
          "model_name": "LayoutModel",
          "state": {
            "_view_name": "LayoutView",
            "grid_template_rows": null,
            "right": null,
            "justify_content": null,
            "_view_module": "@jupyter-widgets/base",
            "overflow": null,
            "_model_module_version": "1.2.0",
            "_view_count": null,
            "flex_flow": null,
            "width": null,
            "min_width": null,
            "border": null,
            "align_items": null,
            "bottom": null,
            "_model_module": "@jupyter-widgets/base",
            "top": null,
            "grid_column": null,
            "overflow_y": null,
            "overflow_x": null,
            "grid_auto_flow": null,
            "grid_area": null,
            "grid_template_columns": null,
            "flex": null,
            "_model_name": "LayoutModel",
            "justify_items": null,
            "grid_row": null,
            "max_height": null,
            "align_content": null,
            "visibility": null,
            "align_self": null,
            "height": null,
            "min_height": null,
            "padding": null,
            "grid_auto_rows": null,
            "grid_gap": null,
            "max_width": null,
            "order": null,
            "_view_module_version": "1.2.0",
            "grid_template_areas": null,
            "object_position": null,
            "object_fit": null,
            "grid_auto_columns": null,
            "margin": null,
            "display": null,
            "left": null
          }
        },
        "510cbaa7698e4a14b34016883c07bc15": {
          "model_module": "@jupyter-widgets/controls",
          "model_name": "DescriptionStyleModel",
          "state": {
            "_view_name": "StyleView",
            "_model_name": "DescriptionStyleModel",
            "description_width": "",
            "_view_module": "@jupyter-widgets/base",
            "_model_module_version": "1.5.0",
            "_view_count": null,
            "_view_module_version": "1.2.0",
            "_model_module": "@jupyter-widgets/controls"
          }
        },
        "8bd28c83aad04f039f68b993966c7dd4": {
          "model_module": "@jupyter-widgets/base",
          "model_name": "LayoutModel",
          "state": {
            "_view_name": "LayoutView",
            "grid_template_rows": null,
            "right": null,
            "justify_content": null,
            "_view_module": "@jupyter-widgets/base",
            "overflow": null,
            "_model_module_version": "1.2.0",
            "_view_count": null,
            "flex_flow": null,
            "width": null,
            "min_width": null,
            "border": null,
            "align_items": null,
            "bottom": null,
            "_model_module": "@jupyter-widgets/base",
            "top": null,
            "grid_column": null,
            "overflow_y": null,
            "overflow_x": null,
            "grid_auto_flow": null,
            "grid_area": null,
            "grid_template_columns": null,
            "flex": null,
            "_model_name": "LayoutModel",
            "justify_items": null,
            "grid_row": null,
            "max_height": null,
            "align_content": null,
            "visibility": null,
            "align_self": null,
            "height": null,
            "min_height": null,
            "padding": null,
            "grid_auto_rows": null,
            "grid_gap": null,
            "max_width": null,
            "order": null,
            "_view_module_version": "1.2.0",
            "grid_template_areas": null,
            "object_position": null,
            "object_fit": null,
            "grid_auto_columns": null,
            "margin": null,
            "display": null,
            "left": null
          }
        },
        "8dfdecb16a1441fe9cc0a49c9a204e32": {
          "model_module": "@jupyter-widgets/controls",
          "model_name": "HBoxModel",
          "state": {
            "_view_name": "HBoxView",
            "_dom_classes": [],
            "_model_name": "HBoxModel",
            "_view_module": "@jupyter-widgets/controls",
            "_model_module_version": "1.5.0",
            "_view_count": null,
            "_view_module_version": "1.5.0",
            "box_style": "",
            "layout": "IPY_MODEL_94181747022b4faba21853c653c43151",
            "_model_module": "@jupyter-widgets/controls",
            "children": [
              "IPY_MODEL_990b34771cc743fcb12bf56f0a6da02c",
              "IPY_MODEL_2542442e3b9c4fa3a361d3f7ec9bcc24"
            ]
          }
        },
        "94181747022b4faba21853c653c43151": {
          "model_module": "@jupyter-widgets/base",
          "model_name": "LayoutModel",
          "state": {
            "_view_name": "LayoutView",
            "grid_template_rows": null,
            "right": null,
            "justify_content": null,
            "_view_module": "@jupyter-widgets/base",
            "overflow": null,
            "_model_module_version": "1.2.0",
            "_view_count": null,
            "flex_flow": null,
            "width": null,
            "min_width": null,
            "border": null,
            "align_items": null,
            "bottom": null,
            "_model_module": "@jupyter-widgets/base",
            "top": null,
            "grid_column": null,
            "overflow_y": null,
            "overflow_x": null,
            "grid_auto_flow": null,
            "grid_area": null,
            "grid_template_columns": null,
            "flex": null,
            "_model_name": "LayoutModel",
            "justify_items": null,
            "grid_row": null,
            "max_height": null,
            "align_content": null,
            "visibility": null,
            "align_self": null,
            "height": null,
            "min_height": null,
            "padding": null,
            "grid_auto_rows": null,
            "grid_gap": null,
            "max_width": null,
            "order": null,
            "_view_module_version": "1.2.0",
            "grid_template_areas": null,
            "object_position": null,
            "object_fit": null,
            "grid_auto_columns": null,
            "margin": null,
            "display": null,
            "left": null
          }
        },
        "990b34771cc743fcb12bf56f0a6da02c": {
          "model_module": "@jupyter-widgets/controls",
          "model_name": "FloatProgressModel",
          "state": {
            "_view_name": "ProgressView",
            "style": "IPY_MODEL_3e325803045d48ce847df011f5efc4ed",
            "_dom_classes": [],
            "description": "100%",
            "_model_name": "FloatProgressModel",
            "bar_style": "success",
            "max": 5001,
            "_view_module": "@jupyter-widgets/controls",
            "_model_module_version": "1.5.0",
            "value": 5001,
            "_view_count": null,
            "_view_module_version": "1.5.0",
            "orientation": "horizontal",
            "min": 0,
            "description_tooltip": null,
            "_model_module": "@jupyter-widgets/controls",
            "layout": "IPY_MODEL_2b7091f7261d478eb486e242f39a12ce"
          }
        },
        "2542442e3b9c4fa3a361d3f7ec9bcc24": {
          "model_module": "@jupyter-widgets/controls",
          "model_name": "HTMLModel",
          "state": {
            "_view_name": "HTMLView",
            "style": "IPY_MODEL_28c463a1977d4e6b96cefc38a9e1c7fe",
            "_dom_classes": [],
            "description": "",
            "_model_name": "HTMLModel",
            "placeholder": "​",
            "_view_module": "@jupyter-widgets/controls",
            "_model_module_version": "1.5.0",
            "value": " 5001/5001 [00:01&lt;00:00, 3596.54it/s]",
            "_view_count": null,
            "_view_module_version": "1.5.0",
            "description_tooltip": null,
            "_model_module": "@jupyter-widgets/controls",
            "layout": "IPY_MODEL_903cabe6fbe54b84a6e5e8e8a1ecf5f0"
          }
        },
        "3e325803045d48ce847df011f5efc4ed": {
          "model_module": "@jupyter-widgets/controls",
          "model_name": "ProgressStyleModel",
          "state": {
            "_view_name": "StyleView",
            "_model_name": "ProgressStyleModel",
            "description_width": "initial",
            "_view_module": "@jupyter-widgets/base",
            "_model_module_version": "1.5.0",
            "_view_count": null,
            "_view_module_version": "1.2.0",
            "bar_color": null,
            "_model_module": "@jupyter-widgets/controls"
          }
        },
        "2b7091f7261d478eb486e242f39a12ce": {
          "model_module": "@jupyter-widgets/base",
          "model_name": "LayoutModel",
          "state": {
            "_view_name": "LayoutView",
            "grid_template_rows": null,
            "right": null,
            "justify_content": null,
            "_view_module": "@jupyter-widgets/base",
            "overflow": null,
            "_model_module_version": "1.2.0",
            "_view_count": null,
            "flex_flow": null,
            "width": null,
            "min_width": null,
            "border": null,
            "align_items": null,
            "bottom": null,
            "_model_module": "@jupyter-widgets/base",
            "top": null,
            "grid_column": null,
            "overflow_y": null,
            "overflow_x": null,
            "grid_auto_flow": null,
            "grid_area": null,
            "grid_template_columns": null,
            "flex": null,
            "_model_name": "LayoutModel",
            "justify_items": null,
            "grid_row": null,
            "max_height": null,
            "align_content": null,
            "visibility": null,
            "align_self": null,
            "height": null,
            "min_height": null,
            "padding": null,
            "grid_auto_rows": null,
            "grid_gap": null,
            "max_width": null,
            "order": null,
            "_view_module_version": "1.2.0",
            "grid_template_areas": null,
            "object_position": null,
            "object_fit": null,
            "grid_auto_columns": null,
            "margin": null,
            "display": null,
            "left": null
          }
        },
        "28c463a1977d4e6b96cefc38a9e1c7fe": {
          "model_module": "@jupyter-widgets/controls",
          "model_name": "DescriptionStyleModel",
          "state": {
            "_view_name": "StyleView",
            "_model_name": "DescriptionStyleModel",
            "description_width": "",
            "_view_module": "@jupyter-widgets/base",
            "_model_module_version": "1.5.0",
            "_view_count": null,
            "_view_module_version": "1.2.0",
            "_model_module": "@jupyter-widgets/controls"
          }
        },
        "903cabe6fbe54b84a6e5e8e8a1ecf5f0": {
          "model_module": "@jupyter-widgets/base",
          "model_name": "LayoutModel",
          "state": {
            "_view_name": "LayoutView",
            "grid_template_rows": null,
            "right": null,
            "justify_content": null,
            "_view_module": "@jupyter-widgets/base",
            "overflow": null,
            "_model_module_version": "1.2.0",
            "_view_count": null,
            "flex_flow": null,
            "width": null,
            "min_width": null,
            "border": null,
            "align_items": null,
            "bottom": null,
            "_model_module": "@jupyter-widgets/base",
            "top": null,
            "grid_column": null,
            "overflow_y": null,
            "overflow_x": null,
            "grid_auto_flow": null,
            "grid_area": null,
            "grid_template_columns": null,
            "flex": null,
            "_model_name": "LayoutModel",
            "justify_items": null,
            "grid_row": null,
            "max_height": null,
            "align_content": null,
            "visibility": null,
            "align_self": null,
            "height": null,
            "min_height": null,
            "padding": null,
            "grid_auto_rows": null,
            "grid_gap": null,
            "max_width": null,
            "order": null,
            "_view_module_version": "1.2.0",
            "grid_template_areas": null,
            "object_position": null,
            "object_fit": null,
            "grid_auto_columns": null,
            "margin": null,
            "display": null,
            "left": null
          }
        },
        "94ecae18613441e793b88ccd2e7819aa": {
          "model_module": "@jupyter-widgets/controls",
          "model_name": "HBoxModel",
          "state": {
            "_view_name": "HBoxView",
            "_dom_classes": [],
            "_model_name": "HBoxModel",
            "_view_module": "@jupyter-widgets/controls",
            "_model_module_version": "1.5.0",
            "_view_count": null,
            "_view_module_version": "1.5.0",
            "box_style": "",
            "layout": "IPY_MODEL_829994089698429d8d5a278a3daceef0",
            "_model_module": "@jupyter-widgets/controls",
            "children": [
              "IPY_MODEL_3a396c6e54b54d00b47b964f2ad546dc",
              "IPY_MODEL_d80a4a7ebe894842b26feb5e9920e119"
            ]
          }
        },
        "829994089698429d8d5a278a3daceef0": {
          "model_module": "@jupyter-widgets/base",
          "model_name": "LayoutModel",
          "state": {
            "_view_name": "LayoutView",
            "grid_template_rows": null,
            "right": null,
            "justify_content": null,
            "_view_module": "@jupyter-widgets/base",
            "overflow": null,
            "_model_module_version": "1.2.0",
            "_view_count": null,
            "flex_flow": null,
            "width": null,
            "min_width": null,
            "border": null,
            "align_items": null,
            "bottom": null,
            "_model_module": "@jupyter-widgets/base",
            "top": null,
            "grid_column": null,
            "overflow_y": null,
            "overflow_x": null,
            "grid_auto_flow": null,
            "grid_area": null,
            "grid_template_columns": null,
            "flex": null,
            "_model_name": "LayoutModel",
            "justify_items": null,
            "grid_row": null,
            "max_height": null,
            "align_content": null,
            "visibility": null,
            "align_self": null,
            "height": null,
            "min_height": null,
            "padding": null,
            "grid_auto_rows": null,
            "grid_gap": null,
            "max_width": null,
            "order": null,
            "_view_module_version": "1.2.0",
            "grid_template_areas": null,
            "object_position": null,
            "object_fit": null,
            "grid_auto_columns": null,
            "margin": null,
            "display": null,
            "left": null
          }
        },
        "3a396c6e54b54d00b47b964f2ad546dc": {
          "model_module": "@jupyter-widgets/controls",
          "model_name": "FloatProgressModel",
          "state": {
            "_view_name": "ProgressView",
            "style": "IPY_MODEL_03c38dce33f842e785f7eb01a6361a73",
            "_dom_classes": [],
            "description": "100%",
            "_model_name": "FloatProgressModel",
            "bar_style": "success",
            "max": 5001,
            "_view_module": "@jupyter-widgets/controls",
            "_model_module_version": "1.5.0",
            "value": 5001,
            "_view_count": null,
            "_view_module_version": "1.5.0",
            "orientation": "horizontal",
            "min": 0,
            "description_tooltip": null,
            "_model_module": "@jupyter-widgets/controls",
            "layout": "IPY_MODEL_acaf9b99a77b439e865c61ff80f9d1a7"
          }
        },
        "d80a4a7ebe894842b26feb5e9920e119": {
          "model_module": "@jupyter-widgets/controls",
          "model_name": "HTMLModel",
          "state": {
            "_view_name": "HTMLView",
            "style": "IPY_MODEL_bd125b3d0d194a3f94743061a22c23b6",
            "_dom_classes": [],
            "description": "",
            "_model_name": "HTMLModel",
            "placeholder": "​",
            "_view_module": "@jupyter-widgets/controls",
            "_model_module_version": "1.5.0",
            "value": " 5001/5001 [00:05&lt;00:00, 988.05it/s]",
            "_view_count": null,
            "_view_module_version": "1.5.0",
            "description_tooltip": null,
            "_model_module": "@jupyter-widgets/controls",
            "layout": "IPY_MODEL_27574ee26cab40f89045fbae4f8077f0"
          }
        },
        "03c38dce33f842e785f7eb01a6361a73": {
          "model_module": "@jupyter-widgets/controls",
          "model_name": "ProgressStyleModel",
          "state": {
            "_view_name": "StyleView",
            "_model_name": "ProgressStyleModel",
            "description_width": "initial",
            "_view_module": "@jupyter-widgets/base",
            "_model_module_version": "1.5.0",
            "_view_count": null,
            "_view_module_version": "1.2.0",
            "bar_color": null,
            "_model_module": "@jupyter-widgets/controls"
          }
        },
        "acaf9b99a77b439e865c61ff80f9d1a7": {
          "model_module": "@jupyter-widgets/base",
          "model_name": "LayoutModel",
          "state": {
            "_view_name": "LayoutView",
            "grid_template_rows": null,
            "right": null,
            "justify_content": null,
            "_view_module": "@jupyter-widgets/base",
            "overflow": null,
            "_model_module_version": "1.2.0",
            "_view_count": null,
            "flex_flow": null,
            "width": null,
            "min_width": null,
            "border": null,
            "align_items": null,
            "bottom": null,
            "_model_module": "@jupyter-widgets/base",
            "top": null,
            "grid_column": null,
            "overflow_y": null,
            "overflow_x": null,
            "grid_auto_flow": null,
            "grid_area": null,
            "grid_template_columns": null,
            "flex": null,
            "_model_name": "LayoutModel",
            "justify_items": null,
            "grid_row": null,
            "max_height": null,
            "align_content": null,
            "visibility": null,
            "align_self": null,
            "height": null,
            "min_height": null,
            "padding": null,
            "grid_auto_rows": null,
            "grid_gap": null,
            "max_width": null,
            "order": null,
            "_view_module_version": "1.2.0",
            "grid_template_areas": null,
            "object_position": null,
            "object_fit": null,
            "grid_auto_columns": null,
            "margin": null,
            "display": null,
            "left": null
          }
        },
        "bd125b3d0d194a3f94743061a22c23b6": {
          "model_module": "@jupyter-widgets/controls",
          "model_name": "DescriptionStyleModel",
          "state": {
            "_view_name": "StyleView",
            "_model_name": "DescriptionStyleModel",
            "description_width": "",
            "_view_module": "@jupyter-widgets/base",
            "_model_module_version": "1.5.0",
            "_view_count": null,
            "_view_module_version": "1.2.0",
            "_model_module": "@jupyter-widgets/controls"
          }
        },
        "27574ee26cab40f89045fbae4f8077f0": {
          "model_module": "@jupyter-widgets/base",
          "model_name": "LayoutModel",
          "state": {
            "_view_name": "LayoutView",
            "grid_template_rows": null,
            "right": null,
            "justify_content": null,
            "_view_module": "@jupyter-widgets/base",
            "overflow": null,
            "_model_module_version": "1.2.0",
            "_view_count": null,
            "flex_flow": null,
            "width": null,
            "min_width": null,
            "border": null,
            "align_items": null,
            "bottom": null,
            "_model_module": "@jupyter-widgets/base",
            "top": null,
            "grid_column": null,
            "overflow_y": null,
            "overflow_x": null,
            "grid_auto_flow": null,
            "grid_area": null,
            "grid_template_columns": null,
            "flex": null,
            "_model_name": "LayoutModel",
            "justify_items": null,
            "grid_row": null,
            "max_height": null,
            "align_content": null,
            "visibility": null,
            "align_self": null,
            "height": null,
            "min_height": null,
            "padding": null,
            "grid_auto_rows": null,
            "grid_gap": null,
            "max_width": null,
            "order": null,
            "_view_module_version": "1.2.0",
            "grid_template_areas": null,
            "object_position": null,
            "object_fit": null,
            "grid_auto_columns": null,
            "margin": null,
            "display": null,
            "left": null
          }
        },
        "ae16a459a963429b92f751eca9b1f60e": {
          "model_module": "@jupyter-widgets/controls",
          "model_name": "HBoxModel",
          "state": {
            "_view_name": "HBoxView",
            "_dom_classes": [],
            "_model_name": "HBoxModel",
            "_view_module": "@jupyter-widgets/controls",
            "_model_module_version": "1.5.0",
            "_view_count": null,
            "_view_module_version": "1.5.0",
            "box_style": "",
            "layout": "IPY_MODEL_197d3973a4154cc7ae5dd9f51c9c926a",
            "_model_module": "@jupyter-widgets/controls",
            "children": [
              "IPY_MODEL_feb8f918cef044658d7ba57582bb8934",
              "IPY_MODEL_f34c434dd54f47a0a8134600a2dab658"
            ]
          }
        },
        "197d3973a4154cc7ae5dd9f51c9c926a": {
          "model_module": "@jupyter-widgets/base",
          "model_name": "LayoutModel",
          "state": {
            "_view_name": "LayoutView",
            "grid_template_rows": null,
            "right": null,
            "justify_content": null,
            "_view_module": "@jupyter-widgets/base",
            "overflow": null,
            "_model_module_version": "1.2.0",
            "_view_count": null,
            "flex_flow": null,
            "width": null,
            "min_width": null,
            "border": null,
            "align_items": null,
            "bottom": null,
            "_model_module": "@jupyter-widgets/base",
            "top": null,
            "grid_column": null,
            "overflow_y": null,
            "overflow_x": null,
            "grid_auto_flow": null,
            "grid_area": null,
            "grid_template_columns": null,
            "flex": null,
            "_model_name": "LayoutModel",
            "justify_items": null,
            "grid_row": null,
            "max_height": null,
            "align_content": null,
            "visibility": null,
            "align_self": null,
            "height": null,
            "min_height": null,
            "padding": null,
            "grid_auto_rows": null,
            "grid_gap": null,
            "max_width": null,
            "order": null,
            "_view_module_version": "1.2.0",
            "grid_template_areas": null,
            "object_position": null,
            "object_fit": null,
            "grid_auto_columns": null,
            "margin": null,
            "display": null,
            "left": null
          }
        },
        "feb8f918cef044658d7ba57582bb8934": {
          "model_module": "@jupyter-widgets/controls",
          "model_name": "FloatProgressModel",
          "state": {
            "_view_name": "ProgressView",
            "style": "IPY_MODEL_8a1f096eadd2444fb7db0a32db90297c",
            "_dom_classes": [],
            "description": "100%",
            "_model_name": "FloatProgressModel",
            "bar_style": "success",
            "max": 5001,
            "_view_module": "@jupyter-widgets/controls",
            "_model_module_version": "1.5.0",
            "value": 5001,
            "_view_count": null,
            "_view_module_version": "1.5.0",
            "orientation": "horizontal",
            "min": 0,
            "description_tooltip": null,
            "_model_module": "@jupyter-widgets/controls",
            "layout": "IPY_MODEL_8d6b4d136b24435faf83779ee3b436c2"
          }
        },
        "f34c434dd54f47a0a8134600a2dab658": {
          "model_module": "@jupyter-widgets/controls",
          "model_name": "HTMLModel",
          "state": {
            "_view_name": "HTMLView",
            "style": "IPY_MODEL_531f357e9de1488daa799480ad72dd3b",
            "_dom_classes": [],
            "description": "",
            "_model_name": "HTMLModel",
            "placeholder": "​",
            "_view_module": "@jupyter-widgets/controls",
            "_model_module_version": "1.5.0",
            "value": " 5001/5001 [00:03&lt;00:00, 1528.45it/s]",
            "_view_count": null,
            "_view_module_version": "1.5.0",
            "description_tooltip": null,
            "_model_module": "@jupyter-widgets/controls",
            "layout": "IPY_MODEL_d6021ad8c8b64b36a44e8de8775def2c"
          }
        },
        "8a1f096eadd2444fb7db0a32db90297c": {
          "model_module": "@jupyter-widgets/controls",
          "model_name": "ProgressStyleModel",
          "state": {
            "_view_name": "StyleView",
            "_model_name": "ProgressStyleModel",
            "description_width": "initial",
            "_view_module": "@jupyter-widgets/base",
            "_model_module_version": "1.5.0",
            "_view_count": null,
            "_view_module_version": "1.2.0",
            "bar_color": null,
            "_model_module": "@jupyter-widgets/controls"
          }
        },
        "8d6b4d136b24435faf83779ee3b436c2": {
          "model_module": "@jupyter-widgets/base",
          "model_name": "LayoutModel",
          "state": {
            "_view_name": "LayoutView",
            "grid_template_rows": null,
            "right": null,
            "justify_content": null,
            "_view_module": "@jupyter-widgets/base",
            "overflow": null,
            "_model_module_version": "1.2.0",
            "_view_count": null,
            "flex_flow": null,
            "width": null,
            "min_width": null,
            "border": null,
            "align_items": null,
            "bottom": null,
            "_model_module": "@jupyter-widgets/base",
            "top": null,
            "grid_column": null,
            "overflow_y": null,
            "overflow_x": null,
            "grid_auto_flow": null,
            "grid_area": null,
            "grid_template_columns": null,
            "flex": null,
            "_model_name": "LayoutModel",
            "justify_items": null,
            "grid_row": null,
            "max_height": null,
            "align_content": null,
            "visibility": null,
            "align_self": null,
            "height": null,
            "min_height": null,
            "padding": null,
            "grid_auto_rows": null,
            "grid_gap": null,
            "max_width": null,
            "order": null,
            "_view_module_version": "1.2.0",
            "grid_template_areas": null,
            "object_position": null,
            "object_fit": null,
            "grid_auto_columns": null,
            "margin": null,
            "display": null,
            "left": null
          }
        },
        "531f357e9de1488daa799480ad72dd3b": {
          "model_module": "@jupyter-widgets/controls",
          "model_name": "DescriptionStyleModel",
          "state": {
            "_view_name": "StyleView",
            "_model_name": "DescriptionStyleModel",
            "description_width": "",
            "_view_module": "@jupyter-widgets/base",
            "_model_module_version": "1.5.0",
            "_view_count": null,
            "_view_module_version": "1.2.0",
            "_model_module": "@jupyter-widgets/controls"
          }
        },
        "d6021ad8c8b64b36a44e8de8775def2c": {
          "model_module": "@jupyter-widgets/base",
          "model_name": "LayoutModel",
          "state": {
            "_view_name": "LayoutView",
            "grid_template_rows": null,
            "right": null,
            "justify_content": null,
            "_view_module": "@jupyter-widgets/base",
            "overflow": null,
            "_model_module_version": "1.2.0",
            "_view_count": null,
            "flex_flow": null,
            "width": null,
            "min_width": null,
            "border": null,
            "align_items": null,
            "bottom": null,
            "_model_module": "@jupyter-widgets/base",
            "top": null,
            "grid_column": null,
            "overflow_y": null,
            "overflow_x": null,
            "grid_auto_flow": null,
            "grid_area": null,
            "grid_template_columns": null,
            "flex": null,
            "_model_name": "LayoutModel",
            "justify_items": null,
            "grid_row": null,
            "max_height": null,
            "align_content": null,
            "visibility": null,
            "align_self": null,
            "height": null,
            "min_height": null,
            "padding": null,
            "grid_auto_rows": null,
            "grid_gap": null,
            "max_width": null,
            "order": null,
            "_view_module_version": "1.2.0",
            "grid_template_areas": null,
            "object_position": null,
            "object_fit": null,
            "grid_auto_columns": null,
            "margin": null,
            "display": null,
            "left": null
          }
        },
        "1b9ddf9f18a34bbabdbf7b7ad7af40bf": {
          "model_module": "@jupyter-widgets/controls",
          "model_name": "HBoxModel",
          "state": {
            "_view_name": "HBoxView",
            "_dom_classes": [],
            "_model_name": "HBoxModel",
            "_view_module": "@jupyter-widgets/controls",
            "_model_module_version": "1.5.0",
            "_view_count": null,
            "_view_module_version": "1.5.0",
            "box_style": "",
            "layout": "IPY_MODEL_761aec9759de4b4ba7f167d9db283b99",
            "_model_module": "@jupyter-widgets/controls",
            "children": [
              "IPY_MODEL_d14172ae0c4e454e830e24238549a043",
              "IPY_MODEL_8a335696b1ba477a9a7e420980df2f7b"
            ]
          }
        },
        "761aec9759de4b4ba7f167d9db283b99": {
          "model_module": "@jupyter-widgets/base",
          "model_name": "LayoutModel",
          "state": {
            "_view_name": "LayoutView",
            "grid_template_rows": null,
            "right": null,
            "justify_content": null,
            "_view_module": "@jupyter-widgets/base",
            "overflow": null,
            "_model_module_version": "1.2.0",
            "_view_count": null,
            "flex_flow": null,
            "width": null,
            "min_width": null,
            "border": null,
            "align_items": null,
            "bottom": null,
            "_model_module": "@jupyter-widgets/base",
            "top": null,
            "grid_column": null,
            "overflow_y": null,
            "overflow_x": null,
            "grid_auto_flow": null,
            "grid_area": null,
            "grid_template_columns": null,
            "flex": null,
            "_model_name": "LayoutModel",
            "justify_items": null,
            "grid_row": null,
            "max_height": null,
            "align_content": null,
            "visibility": null,
            "align_self": null,
            "height": null,
            "min_height": null,
            "padding": null,
            "grid_auto_rows": null,
            "grid_gap": null,
            "max_width": null,
            "order": null,
            "_view_module_version": "1.2.0",
            "grid_template_areas": null,
            "object_position": null,
            "object_fit": null,
            "grid_auto_columns": null,
            "margin": null,
            "display": null,
            "left": null
          }
        },
        "d14172ae0c4e454e830e24238549a043": {
          "model_module": "@jupyter-widgets/controls",
          "model_name": "FloatProgressModel",
          "state": {
            "_view_name": "ProgressView",
            "style": "IPY_MODEL_eef0042c6b3d44bea8f3e411ae3316be",
            "_dom_classes": [],
            "description": "100%",
            "_model_name": "FloatProgressModel",
            "bar_style": "success",
            "max": 5001,
            "_view_module": "@jupyter-widgets/controls",
            "_model_module_version": "1.5.0",
            "value": 5001,
            "_view_count": null,
            "_view_module_version": "1.5.0",
            "orientation": "horizontal",
            "min": 0,
            "description_tooltip": null,
            "_model_module": "@jupyter-widgets/controls",
            "layout": "IPY_MODEL_bf2f1d67aa3544c6893b40e3d14fbdd9"
          }
        },
        "8a335696b1ba477a9a7e420980df2f7b": {
          "model_module": "@jupyter-widgets/controls",
          "model_name": "HTMLModel",
          "state": {
            "_view_name": "HTMLView",
            "style": "IPY_MODEL_82d5733118fa4bb88c7572f08a4d86ab",
            "_dom_classes": [],
            "description": "",
            "_model_name": "HTMLModel",
            "placeholder": "​",
            "_view_module": "@jupyter-widgets/controls",
            "_model_module_version": "1.5.0",
            "value": " 5001/5001 [00:01&lt;00:00, 3579.93it/s]",
            "_view_count": null,
            "_view_module_version": "1.5.0",
            "description_tooltip": null,
            "_model_module": "@jupyter-widgets/controls",
            "layout": "IPY_MODEL_c6fafa407a424d8a88e0742835fc65fd"
          }
        },
        "eef0042c6b3d44bea8f3e411ae3316be": {
          "model_module": "@jupyter-widgets/controls",
          "model_name": "ProgressStyleModel",
          "state": {
            "_view_name": "StyleView",
            "_model_name": "ProgressStyleModel",
            "description_width": "initial",
            "_view_module": "@jupyter-widgets/base",
            "_model_module_version": "1.5.0",
            "_view_count": null,
            "_view_module_version": "1.2.0",
            "bar_color": null,
            "_model_module": "@jupyter-widgets/controls"
          }
        },
        "bf2f1d67aa3544c6893b40e3d14fbdd9": {
          "model_module": "@jupyter-widgets/base",
          "model_name": "LayoutModel",
          "state": {
            "_view_name": "LayoutView",
            "grid_template_rows": null,
            "right": null,
            "justify_content": null,
            "_view_module": "@jupyter-widgets/base",
            "overflow": null,
            "_model_module_version": "1.2.0",
            "_view_count": null,
            "flex_flow": null,
            "width": null,
            "min_width": null,
            "border": null,
            "align_items": null,
            "bottom": null,
            "_model_module": "@jupyter-widgets/base",
            "top": null,
            "grid_column": null,
            "overflow_y": null,
            "overflow_x": null,
            "grid_auto_flow": null,
            "grid_area": null,
            "grid_template_columns": null,
            "flex": null,
            "_model_name": "LayoutModel",
            "justify_items": null,
            "grid_row": null,
            "max_height": null,
            "align_content": null,
            "visibility": null,
            "align_self": null,
            "height": null,
            "min_height": null,
            "padding": null,
            "grid_auto_rows": null,
            "grid_gap": null,
            "max_width": null,
            "order": null,
            "_view_module_version": "1.2.0",
            "grid_template_areas": null,
            "object_position": null,
            "object_fit": null,
            "grid_auto_columns": null,
            "margin": null,
            "display": null,
            "left": null
          }
        },
        "82d5733118fa4bb88c7572f08a4d86ab": {
          "model_module": "@jupyter-widgets/controls",
          "model_name": "DescriptionStyleModel",
          "state": {
            "_view_name": "StyleView",
            "_model_name": "DescriptionStyleModel",
            "description_width": "",
            "_view_module": "@jupyter-widgets/base",
            "_model_module_version": "1.5.0",
            "_view_count": null,
            "_view_module_version": "1.2.0",
            "_model_module": "@jupyter-widgets/controls"
          }
        },
        "c6fafa407a424d8a88e0742835fc65fd": {
          "model_module": "@jupyter-widgets/base",
          "model_name": "LayoutModel",
          "state": {
            "_view_name": "LayoutView",
            "grid_template_rows": null,
            "right": null,
            "justify_content": null,
            "_view_module": "@jupyter-widgets/base",
            "overflow": null,
            "_model_module_version": "1.2.0",
            "_view_count": null,
            "flex_flow": null,
            "width": null,
            "min_width": null,
            "border": null,
            "align_items": null,
            "bottom": null,
            "_model_module": "@jupyter-widgets/base",
            "top": null,
            "grid_column": null,
            "overflow_y": null,
            "overflow_x": null,
            "grid_auto_flow": null,
            "grid_area": null,
            "grid_template_columns": null,
            "flex": null,
            "_model_name": "LayoutModel",
            "justify_items": null,
            "grid_row": null,
            "max_height": null,
            "align_content": null,
            "visibility": null,
            "align_self": null,
            "height": null,
            "min_height": null,
            "padding": null,
            "grid_auto_rows": null,
            "grid_gap": null,
            "max_width": null,
            "order": null,
            "_view_module_version": "1.2.0",
            "grid_template_areas": null,
            "object_position": null,
            "object_fit": null,
            "grid_auto_columns": null,
            "margin": null,
            "display": null,
            "left": null
          }
        },
        "9787bd6ca33941ca998b406bb220b26f": {
          "model_module": "@jupyter-widgets/controls",
          "model_name": "HBoxModel",
          "state": {
            "_view_name": "HBoxView",
            "_dom_classes": [],
            "_model_name": "HBoxModel",
            "_view_module": "@jupyter-widgets/controls",
            "_model_module_version": "1.5.0",
            "_view_count": null,
            "_view_module_version": "1.5.0",
            "box_style": "",
            "layout": "IPY_MODEL_4a77859ac63244b19cf20c97a6a3eaa7",
            "_model_module": "@jupyter-widgets/controls",
            "children": [
              "IPY_MODEL_27074cafcac148118ecacfbba79f5802",
              "IPY_MODEL_537cee504b6f4592b948d78c8498cf98"
            ]
          }
        },
        "4a77859ac63244b19cf20c97a6a3eaa7": {
          "model_module": "@jupyter-widgets/base",
          "model_name": "LayoutModel",
          "state": {
            "_view_name": "LayoutView",
            "grid_template_rows": null,
            "right": null,
            "justify_content": null,
            "_view_module": "@jupyter-widgets/base",
            "overflow": null,
            "_model_module_version": "1.2.0",
            "_view_count": null,
            "flex_flow": null,
            "width": null,
            "min_width": null,
            "border": null,
            "align_items": null,
            "bottom": null,
            "_model_module": "@jupyter-widgets/base",
            "top": null,
            "grid_column": null,
            "overflow_y": null,
            "overflow_x": null,
            "grid_auto_flow": null,
            "grid_area": null,
            "grid_template_columns": null,
            "flex": null,
            "_model_name": "LayoutModel",
            "justify_items": null,
            "grid_row": null,
            "max_height": null,
            "align_content": null,
            "visibility": null,
            "align_self": null,
            "height": null,
            "min_height": null,
            "padding": null,
            "grid_auto_rows": null,
            "grid_gap": null,
            "max_width": null,
            "order": null,
            "_view_module_version": "1.2.0",
            "grid_template_areas": null,
            "object_position": null,
            "object_fit": null,
            "grid_auto_columns": null,
            "margin": null,
            "display": null,
            "left": null
          }
        },
        "27074cafcac148118ecacfbba79f5802": {
          "model_module": "@jupyter-widgets/controls",
          "model_name": "FloatProgressModel",
          "state": {
            "_view_name": "ProgressView",
            "style": "IPY_MODEL_6b4b41c79a6342c099c6c65d2c3a0c8a",
            "_dom_classes": [],
            "description": "100%",
            "_model_name": "FloatProgressModel",
            "bar_style": "success",
            "max": 5001,
            "_view_module": "@jupyter-widgets/controls",
            "_model_module_version": "1.5.0",
            "value": 5001,
            "_view_count": null,
            "_view_module_version": "1.5.0",
            "orientation": "horizontal",
            "min": 0,
            "description_tooltip": null,
            "_model_module": "@jupyter-widgets/controls",
            "layout": "IPY_MODEL_03a0889a021b4151a02f88659e6d1541"
          }
        },
        "537cee504b6f4592b948d78c8498cf98": {
          "model_module": "@jupyter-widgets/controls",
          "model_name": "HTMLModel",
          "state": {
            "_view_name": "HTMLView",
            "style": "IPY_MODEL_ef6e1d5cffe54f5aadbe3cff5568deab",
            "_dom_classes": [],
            "description": "",
            "_model_name": "HTMLModel",
            "placeholder": "​",
            "_view_module": "@jupyter-widgets/controls",
            "_model_module_version": "1.5.0",
            "value": " 5001/5001 [00:01&lt;00:00, 3910.44it/s]",
            "_view_count": null,
            "_view_module_version": "1.5.0",
            "description_tooltip": null,
            "_model_module": "@jupyter-widgets/controls",
            "layout": "IPY_MODEL_d1b2278b11e543e1bbccdf071bb53c82"
          }
        },
        "6b4b41c79a6342c099c6c65d2c3a0c8a": {
          "model_module": "@jupyter-widgets/controls",
          "model_name": "ProgressStyleModel",
          "state": {
            "_view_name": "StyleView",
            "_model_name": "ProgressStyleModel",
            "description_width": "initial",
            "_view_module": "@jupyter-widgets/base",
            "_model_module_version": "1.5.0",
            "_view_count": null,
            "_view_module_version": "1.2.0",
            "bar_color": null,
            "_model_module": "@jupyter-widgets/controls"
          }
        },
        "03a0889a021b4151a02f88659e6d1541": {
          "model_module": "@jupyter-widgets/base",
          "model_name": "LayoutModel",
          "state": {
            "_view_name": "LayoutView",
            "grid_template_rows": null,
            "right": null,
            "justify_content": null,
            "_view_module": "@jupyter-widgets/base",
            "overflow": null,
            "_model_module_version": "1.2.0",
            "_view_count": null,
            "flex_flow": null,
            "width": null,
            "min_width": null,
            "border": null,
            "align_items": null,
            "bottom": null,
            "_model_module": "@jupyter-widgets/base",
            "top": null,
            "grid_column": null,
            "overflow_y": null,
            "overflow_x": null,
            "grid_auto_flow": null,
            "grid_area": null,
            "grid_template_columns": null,
            "flex": null,
            "_model_name": "LayoutModel",
            "justify_items": null,
            "grid_row": null,
            "max_height": null,
            "align_content": null,
            "visibility": null,
            "align_self": null,
            "height": null,
            "min_height": null,
            "padding": null,
            "grid_auto_rows": null,
            "grid_gap": null,
            "max_width": null,
            "order": null,
            "_view_module_version": "1.2.0",
            "grid_template_areas": null,
            "object_position": null,
            "object_fit": null,
            "grid_auto_columns": null,
            "margin": null,
            "display": null,
            "left": null
          }
        },
        "ef6e1d5cffe54f5aadbe3cff5568deab": {
          "model_module": "@jupyter-widgets/controls",
          "model_name": "DescriptionStyleModel",
          "state": {
            "_view_name": "StyleView",
            "_model_name": "DescriptionStyleModel",
            "description_width": "",
            "_view_module": "@jupyter-widgets/base",
            "_model_module_version": "1.5.0",
            "_view_count": null,
            "_view_module_version": "1.2.0",
            "_model_module": "@jupyter-widgets/controls"
          }
        },
        "d1b2278b11e543e1bbccdf071bb53c82": {
          "model_module": "@jupyter-widgets/base",
          "model_name": "LayoutModel",
          "state": {
            "_view_name": "LayoutView",
            "grid_template_rows": null,
            "right": null,
            "justify_content": null,
            "_view_module": "@jupyter-widgets/base",
            "overflow": null,
            "_model_module_version": "1.2.0",
            "_view_count": null,
            "flex_flow": null,
            "width": null,
            "min_width": null,
            "border": null,
            "align_items": null,
            "bottom": null,
            "_model_module": "@jupyter-widgets/base",
            "top": null,
            "grid_column": null,
            "overflow_y": null,
            "overflow_x": null,
            "grid_auto_flow": null,
            "grid_area": null,
            "grid_template_columns": null,
            "flex": null,
            "_model_name": "LayoutModel",
            "justify_items": null,
            "grid_row": null,
            "max_height": null,
            "align_content": null,
            "visibility": null,
            "align_self": null,
            "height": null,
            "min_height": null,
            "padding": null,
            "grid_auto_rows": null,
            "grid_gap": null,
            "max_width": null,
            "order": null,
            "_view_module_version": "1.2.0",
            "grid_template_areas": null,
            "object_position": null,
            "object_fit": null,
            "grid_auto_columns": null,
            "margin": null,
            "display": null,
            "left": null
          }
        },
        "cf6d81fab06844e896537c702055d3fa": {
          "model_module": "@jupyter-widgets/controls",
          "model_name": "HBoxModel",
          "state": {
            "_view_name": "HBoxView",
            "_dom_classes": [],
            "_model_name": "HBoxModel",
            "_view_module": "@jupyter-widgets/controls",
            "_model_module_version": "1.5.0",
            "_view_count": null,
            "_view_module_version": "1.5.0",
            "box_style": "",
            "layout": "IPY_MODEL_f2d43dd2ef70457fbd7706093cf540d6",
            "_model_module": "@jupyter-widgets/controls",
            "children": [
              "IPY_MODEL_e738f1f3fbe44087a7ba7e6b757ac029",
              "IPY_MODEL_b9b10d9b5f064629bd2a249a6d8b217c"
            ]
          }
        },
        "f2d43dd2ef70457fbd7706093cf540d6": {
          "model_module": "@jupyter-widgets/base",
          "model_name": "LayoutModel",
          "state": {
            "_view_name": "LayoutView",
            "grid_template_rows": null,
            "right": null,
            "justify_content": null,
            "_view_module": "@jupyter-widgets/base",
            "overflow": null,
            "_model_module_version": "1.2.0",
            "_view_count": null,
            "flex_flow": null,
            "width": null,
            "min_width": null,
            "border": null,
            "align_items": null,
            "bottom": null,
            "_model_module": "@jupyter-widgets/base",
            "top": null,
            "grid_column": null,
            "overflow_y": null,
            "overflow_x": null,
            "grid_auto_flow": null,
            "grid_area": null,
            "grid_template_columns": null,
            "flex": null,
            "_model_name": "LayoutModel",
            "justify_items": null,
            "grid_row": null,
            "max_height": null,
            "align_content": null,
            "visibility": null,
            "align_self": null,
            "height": null,
            "min_height": null,
            "padding": null,
            "grid_auto_rows": null,
            "grid_gap": null,
            "max_width": null,
            "order": null,
            "_view_module_version": "1.2.0",
            "grid_template_areas": null,
            "object_position": null,
            "object_fit": null,
            "grid_auto_columns": null,
            "margin": null,
            "display": null,
            "left": null
          }
        },
        "e738f1f3fbe44087a7ba7e6b757ac029": {
          "model_module": "@jupyter-widgets/controls",
          "model_name": "FloatProgressModel",
          "state": {
            "_view_name": "ProgressView",
            "style": "IPY_MODEL_bec9081261c44cd295cb4f982eb1477f",
            "_dom_classes": [],
            "description": "100%",
            "_model_name": "FloatProgressModel",
            "bar_style": "success",
            "max": 5001,
            "_view_module": "@jupyter-widgets/controls",
            "_model_module_version": "1.5.0",
            "value": 5001,
            "_view_count": null,
            "_view_module_version": "1.5.0",
            "orientation": "horizontal",
            "min": 0,
            "description_tooltip": null,
            "_model_module": "@jupyter-widgets/controls",
            "layout": "IPY_MODEL_9b29e915ebde416c98fe34864c99e54b"
          }
        },
        "b9b10d9b5f064629bd2a249a6d8b217c": {
          "model_module": "@jupyter-widgets/controls",
          "model_name": "HTMLModel",
          "state": {
            "_view_name": "HTMLView",
            "style": "IPY_MODEL_761b85d3c8c94b689545f252d7e01203",
            "_dom_classes": [],
            "description": "",
            "_model_name": "HTMLModel",
            "placeholder": "​",
            "_view_module": "@jupyter-widgets/controls",
            "_model_module_version": "1.5.0",
            "value": " 5001/5001 [00:03&lt;00:00, 1532.83it/s]",
            "_view_count": null,
            "_view_module_version": "1.5.0",
            "description_tooltip": null,
            "_model_module": "@jupyter-widgets/controls",
            "layout": "IPY_MODEL_8187492589d74f16b2d3a63c90f5dc46"
          }
        },
        "bec9081261c44cd295cb4f982eb1477f": {
          "model_module": "@jupyter-widgets/controls",
          "model_name": "ProgressStyleModel",
          "state": {
            "_view_name": "StyleView",
            "_model_name": "ProgressStyleModel",
            "description_width": "initial",
            "_view_module": "@jupyter-widgets/base",
            "_model_module_version": "1.5.0",
            "_view_count": null,
            "_view_module_version": "1.2.0",
            "bar_color": null,
            "_model_module": "@jupyter-widgets/controls"
          }
        },
        "9b29e915ebde416c98fe34864c99e54b": {
          "model_module": "@jupyter-widgets/base",
          "model_name": "LayoutModel",
          "state": {
            "_view_name": "LayoutView",
            "grid_template_rows": null,
            "right": null,
            "justify_content": null,
            "_view_module": "@jupyter-widgets/base",
            "overflow": null,
            "_model_module_version": "1.2.0",
            "_view_count": null,
            "flex_flow": null,
            "width": null,
            "min_width": null,
            "border": null,
            "align_items": null,
            "bottom": null,
            "_model_module": "@jupyter-widgets/base",
            "top": null,
            "grid_column": null,
            "overflow_y": null,
            "overflow_x": null,
            "grid_auto_flow": null,
            "grid_area": null,
            "grid_template_columns": null,
            "flex": null,
            "_model_name": "LayoutModel",
            "justify_items": null,
            "grid_row": null,
            "max_height": null,
            "align_content": null,
            "visibility": null,
            "align_self": null,
            "height": null,
            "min_height": null,
            "padding": null,
            "grid_auto_rows": null,
            "grid_gap": null,
            "max_width": null,
            "order": null,
            "_view_module_version": "1.2.0",
            "grid_template_areas": null,
            "object_position": null,
            "object_fit": null,
            "grid_auto_columns": null,
            "margin": null,
            "display": null,
            "left": null
          }
        },
        "761b85d3c8c94b689545f252d7e01203": {
          "model_module": "@jupyter-widgets/controls",
          "model_name": "DescriptionStyleModel",
          "state": {
            "_view_name": "StyleView",
            "_model_name": "DescriptionStyleModel",
            "description_width": "",
            "_view_module": "@jupyter-widgets/base",
            "_model_module_version": "1.5.0",
            "_view_count": null,
            "_view_module_version": "1.2.0",
            "_model_module": "@jupyter-widgets/controls"
          }
        },
        "8187492589d74f16b2d3a63c90f5dc46": {
          "model_module": "@jupyter-widgets/base",
          "model_name": "LayoutModel",
          "state": {
            "_view_name": "LayoutView",
            "grid_template_rows": null,
            "right": null,
            "justify_content": null,
            "_view_module": "@jupyter-widgets/base",
            "overflow": null,
            "_model_module_version": "1.2.0",
            "_view_count": null,
            "flex_flow": null,
            "width": null,
            "min_width": null,
            "border": null,
            "align_items": null,
            "bottom": null,
            "_model_module": "@jupyter-widgets/base",
            "top": null,
            "grid_column": null,
            "overflow_y": null,
            "overflow_x": null,
            "grid_auto_flow": null,
            "grid_area": null,
            "grid_template_columns": null,
            "flex": null,
            "_model_name": "LayoutModel",
            "justify_items": null,
            "grid_row": null,
            "max_height": null,
            "align_content": null,
            "visibility": null,
            "align_self": null,
            "height": null,
            "min_height": null,
            "padding": null,
            "grid_auto_rows": null,
            "grid_gap": null,
            "max_width": null,
            "order": null,
            "_view_module_version": "1.2.0",
            "grid_template_areas": null,
            "object_position": null,
            "object_fit": null,
            "grid_auto_columns": null,
            "margin": null,
            "display": null,
            "left": null
          }
        },
        "e6ba3068825741a3b3bb77d9531e39ff": {
          "model_module": "@jupyter-widgets/controls",
          "model_name": "HBoxModel",
          "state": {
            "_view_name": "HBoxView",
            "_dom_classes": [],
            "_model_name": "HBoxModel",
            "_view_module": "@jupyter-widgets/controls",
            "_model_module_version": "1.5.0",
            "_view_count": null,
            "_view_module_version": "1.5.0",
            "box_style": "",
            "layout": "IPY_MODEL_491b93254aab4779960778c20c84f2c1",
            "_model_module": "@jupyter-widgets/controls",
            "children": [
              "IPY_MODEL_dadf665718854d1eabe091fad47e3d43",
              "IPY_MODEL_57fe1d7bdb414fb8be7b76a1d4d032e5"
            ]
          }
        },
        "491b93254aab4779960778c20c84f2c1": {
          "model_module": "@jupyter-widgets/base",
          "model_name": "LayoutModel",
          "state": {
            "_view_name": "LayoutView",
            "grid_template_rows": null,
            "right": null,
            "justify_content": null,
            "_view_module": "@jupyter-widgets/base",
            "overflow": null,
            "_model_module_version": "1.2.0",
            "_view_count": null,
            "flex_flow": null,
            "width": null,
            "min_width": null,
            "border": null,
            "align_items": null,
            "bottom": null,
            "_model_module": "@jupyter-widgets/base",
            "top": null,
            "grid_column": null,
            "overflow_y": null,
            "overflow_x": null,
            "grid_auto_flow": null,
            "grid_area": null,
            "grid_template_columns": null,
            "flex": null,
            "_model_name": "LayoutModel",
            "justify_items": null,
            "grid_row": null,
            "max_height": null,
            "align_content": null,
            "visibility": null,
            "align_self": null,
            "height": null,
            "min_height": null,
            "padding": null,
            "grid_auto_rows": null,
            "grid_gap": null,
            "max_width": null,
            "order": null,
            "_view_module_version": "1.2.0",
            "grid_template_areas": null,
            "object_position": null,
            "object_fit": null,
            "grid_auto_columns": null,
            "margin": null,
            "display": null,
            "left": null
          }
        },
        "dadf665718854d1eabe091fad47e3d43": {
          "model_module": "@jupyter-widgets/controls",
          "model_name": "FloatProgressModel",
          "state": {
            "_view_name": "ProgressView",
            "style": "IPY_MODEL_829a3c3035d84ee59ac73d2606e56d81",
            "_dom_classes": [],
            "description": "100%",
            "_model_name": "FloatProgressModel",
            "bar_style": "success",
            "max": 5001,
            "_view_module": "@jupyter-widgets/controls",
            "_model_module_version": "1.5.0",
            "value": 5001,
            "_view_count": null,
            "_view_module_version": "1.5.0",
            "orientation": "horizontal",
            "min": 0,
            "description_tooltip": null,
            "_model_module": "@jupyter-widgets/controls",
            "layout": "IPY_MODEL_6e16903dab67441fb92601f4924fa498"
          }
        },
        "57fe1d7bdb414fb8be7b76a1d4d032e5": {
          "model_module": "@jupyter-widgets/controls",
          "model_name": "HTMLModel",
          "state": {
            "_view_name": "HTMLView",
            "style": "IPY_MODEL_40e47645b08d44f399db079a59721ad3",
            "_dom_classes": [],
            "description": "",
            "_model_name": "HTMLModel",
            "placeholder": "​",
            "_view_module": "@jupyter-widgets/controls",
            "_model_module_version": "1.5.0",
            "value": " 5001/5001 [00:01&lt;00:00, 3789.76it/s]",
            "_view_count": null,
            "_view_module_version": "1.5.0",
            "description_tooltip": null,
            "_model_module": "@jupyter-widgets/controls",
            "layout": "IPY_MODEL_a49482c80ab74ffcbaf7b0da8cdf6974"
          }
        },
        "829a3c3035d84ee59ac73d2606e56d81": {
          "model_module": "@jupyter-widgets/controls",
          "model_name": "ProgressStyleModel",
          "state": {
            "_view_name": "StyleView",
            "_model_name": "ProgressStyleModel",
            "description_width": "initial",
            "_view_module": "@jupyter-widgets/base",
            "_model_module_version": "1.5.0",
            "_view_count": null,
            "_view_module_version": "1.2.0",
            "bar_color": null,
            "_model_module": "@jupyter-widgets/controls"
          }
        },
        "6e16903dab67441fb92601f4924fa498": {
          "model_module": "@jupyter-widgets/base",
          "model_name": "LayoutModel",
          "state": {
            "_view_name": "LayoutView",
            "grid_template_rows": null,
            "right": null,
            "justify_content": null,
            "_view_module": "@jupyter-widgets/base",
            "overflow": null,
            "_model_module_version": "1.2.0",
            "_view_count": null,
            "flex_flow": null,
            "width": null,
            "min_width": null,
            "border": null,
            "align_items": null,
            "bottom": null,
            "_model_module": "@jupyter-widgets/base",
            "top": null,
            "grid_column": null,
            "overflow_y": null,
            "overflow_x": null,
            "grid_auto_flow": null,
            "grid_area": null,
            "grid_template_columns": null,
            "flex": null,
            "_model_name": "LayoutModel",
            "justify_items": null,
            "grid_row": null,
            "max_height": null,
            "align_content": null,
            "visibility": null,
            "align_self": null,
            "height": null,
            "min_height": null,
            "padding": null,
            "grid_auto_rows": null,
            "grid_gap": null,
            "max_width": null,
            "order": null,
            "_view_module_version": "1.2.0",
            "grid_template_areas": null,
            "object_position": null,
            "object_fit": null,
            "grid_auto_columns": null,
            "margin": null,
            "display": null,
            "left": null
          }
        },
        "40e47645b08d44f399db079a59721ad3": {
          "model_module": "@jupyter-widgets/controls",
          "model_name": "DescriptionStyleModel",
          "state": {
            "_view_name": "StyleView",
            "_model_name": "DescriptionStyleModel",
            "description_width": "",
            "_view_module": "@jupyter-widgets/base",
            "_model_module_version": "1.5.0",
            "_view_count": null,
            "_view_module_version": "1.2.0",
            "_model_module": "@jupyter-widgets/controls"
          }
        },
        "a49482c80ab74ffcbaf7b0da8cdf6974": {
          "model_module": "@jupyter-widgets/base",
          "model_name": "LayoutModel",
          "state": {
            "_view_name": "LayoutView",
            "grid_template_rows": null,
            "right": null,
            "justify_content": null,
            "_view_module": "@jupyter-widgets/base",
            "overflow": null,
            "_model_module_version": "1.2.0",
            "_view_count": null,
            "flex_flow": null,
            "width": null,
            "min_width": null,
            "border": null,
            "align_items": null,
            "bottom": null,
            "_model_module": "@jupyter-widgets/base",
            "top": null,
            "grid_column": null,
            "overflow_y": null,
            "overflow_x": null,
            "grid_auto_flow": null,
            "grid_area": null,
            "grid_template_columns": null,
            "flex": null,
            "_model_name": "LayoutModel",
            "justify_items": null,
            "grid_row": null,
            "max_height": null,
            "align_content": null,
            "visibility": null,
            "align_self": null,
            "height": null,
            "min_height": null,
            "padding": null,
            "grid_auto_rows": null,
            "grid_gap": null,
            "max_width": null,
            "order": null,
            "_view_module_version": "1.2.0",
            "grid_template_areas": null,
            "object_position": null,
            "object_fit": null,
            "grid_auto_columns": null,
            "margin": null,
            "display": null,
            "left": null
          }
        }
      }
    }
  },
  "cells": [
    {
      "cell_type": "code",
      "metadata": {
        "colab": {
          "base_uri": "https://localhost:8080/"
        },
        "id": "zqTHjSQ3aTRB",
        "outputId": "cc3e2930-b36e-44ac-e6d6-130bcf80a66e"
      },
      "source": [
        "!pip install implicit"
      ],
      "execution_count": 38,
      "outputs": [
        {
          "output_type": "stream",
          "text": [
            "Requirement already satisfied: implicit in /usr/local/lib/python3.7/dist-packages (0.4.4)\n",
            "Requirement already satisfied: tqdm>=4.27 in /usr/local/lib/python3.7/dist-packages (from implicit) (4.41.1)\n",
            "Requirement already satisfied: numpy in /usr/local/lib/python3.7/dist-packages (from implicit) (1.19.5)\n",
            "Requirement already satisfied: scipy>=0.16 in /usr/local/lib/python3.7/dist-packages (from implicit) (1.4.1)\n"
          ],
          "name": "stdout"
        }
      ]
    },
    {
      "cell_type": "code",
      "metadata": {
        "id": "aUbkndHOaYrl",
        "colab": {
          "base_uri": "https://localhost:8080/"
        },
        "outputId": "9fd12392-2451-4548-dcb8-15bad551d39e"
      },
      "source": [
        "from google.colab import drive\r\n",
        "drive.mount('/content/drive')"
      ],
      "execution_count": 39,
      "outputs": [
        {
          "output_type": "stream",
          "text": [
            "Drive already mounted at /content/drive; to attempt to forcibly remount, call drive.mount(\"/content/drive\", force_remount=True).\n"
          ],
          "name": "stdout"
        }
      ]
    },
    {
      "cell_type": "code",
      "metadata": {
        "id": "rgIzW-DSC8Yi"
      },
      "source": [
        "import pandas as pd\n",
        "import numpy as np\n",
        "import matplotlib.pyplot as plt\n",
        "%matplotlib inline\n",
        "\n",
        "import copy\n",
        "\n",
        "# Для работы с матрицами\n",
        "from scipy.sparse import csr_matrix, coo_matrix\n",
        "\n",
        "# Детерминированные алгоритмы\n",
        "from implicit.nearest_neighbours import ItemItemRecommender, CosineRecommender, TFIDFRecommender, BM25Recommender\n",
        "\n",
        "# Метрики\n",
        "from implicit.evaluation import train_test_split\n",
        "from implicit.evaluation import precision_at_k, mean_average_precision_at_k, AUC_at_k, ndcg_at_k"
      ],
      "execution_count": 40,
      "outputs": []
    },
    {
      "cell_type": "markdown",
      "metadata": {
        "id": "F09xoiHqaK5q"
      },
      "source": [
        "### Задание 0. Товар 999999\n",
        "На вебинаре мы использовали товар 999999 - что это за товар?  \n",
        "Зачем он нужен?  \n",
        "Используя этот товар мы смещаем качество рекомендаций.\n",
        "В какую сторону?   \n",
        "Можно ли удалить этот товар?   \n",
        "Уберите этот товар (**внимание**: это можно сделать разными способами!) и сравните с качеством на семинаре.\n",
        "\n",
        "**Ответ.** Товар 999999 мы использовали как замену наименее популярным товарам. Он нужен, чтобы уменьшить число товаров для обучения, т.е. мы незначительно жертвуем точностью ради скорости обучения и предикта. Кроме того увеличивается плотность матрицы user-item, т.к. становится меньше доля нулей.\n",
        "\n",
        "Качество рекомендаций становится немного хуже и также этот товар-заглушка может выдаваться как рекомендуемый на первых позициях просто потому, что его много будет.\n",
        "\n",
        "Удалить его можно, но это приведет к потере информации и появлению части юзеров у которых не будет покупок."
      ]
    },
    {
      "cell_type": "code",
      "metadata": {
        "id": "HZ7oPI3pJVor"
      },
      "source": [
        "def precision_at_k(recommended_list, bought_list, k=5):\r\n",
        "    \r\n",
        "    bought_list = np.array(bought_list)\r\n",
        "    recommended_list = np.array(recommended_list)\r\n",
        "    \r\n",
        "    bought_list = bought_list  # Тут нет [:k] !!\r\n",
        "    recommended_list = recommended_list[:k]\r\n",
        "    \r\n",
        "    flags = np.isin(bought_list, recommended_list)\r\n",
        "    #print(flags)\r\n",
        "    \r\n",
        "    \r\n",
        "    precision = flags.sum() / len(recommended_list)\r\n",
        "    \r\n",
        "    \r\n",
        "    return precision"
      ],
      "execution_count": 41,
      "outputs": []
    },
    {
      "cell_type": "code",
      "metadata": {
        "id": "hD4CmEEpJc_-"
      },
      "source": [
        "def compare_models_precision_at_k(user_id, result_data, k=5):\r\n",
        "    itemitem_dummy_droped_pre = precision_at_k(result_data['itemitem_dummy_droped'][user_id], result_data['actual'][user_id], k)\r\n",
        "    itemitem_pre = precision_at_k(result_data['itemitem'][user_id], result_data['actual'][user_id], k)\r\n",
        "    return itemitem_pre, itemitem_dummy_droped_pre"
      ],
      "execution_count": 42,
      "outputs": []
    },
    {
      "cell_type": "code",
      "metadata": {
        "colab": {
          "base_uri": "https://localhost:8080/",
          "height": 111
        },
        "id": "9qFkcgyrC8Yt",
        "outputId": "e6e12e72-3748-4864-f907-8361271535f1"
      },
      "source": [
        "data = pd.read_csv(r'/content/drive/MyDrive/Colab Notebooks/recommender_systems/data/retail_train.csv')\n",
        "data.head(2)"
      ],
      "execution_count": 43,
      "outputs": [
        {
          "output_type": "execute_result",
          "data": {
            "text/html": [
              "<div>\n",
              "<style scoped>\n",
              "    .dataframe tbody tr th:only-of-type {\n",
              "        vertical-align: middle;\n",
              "    }\n",
              "\n",
              "    .dataframe tbody tr th {\n",
              "        vertical-align: top;\n",
              "    }\n",
              "\n",
              "    .dataframe thead th {\n",
              "        text-align: right;\n",
              "    }\n",
              "</style>\n",
              "<table border=\"1\" class=\"dataframe\">\n",
              "  <thead>\n",
              "    <tr style=\"text-align: right;\">\n",
              "      <th></th>\n",
              "      <th>user_id</th>\n",
              "      <th>basket_id</th>\n",
              "      <th>day</th>\n",
              "      <th>item_id</th>\n",
              "      <th>quantity</th>\n",
              "      <th>sales_value</th>\n",
              "      <th>store_id</th>\n",
              "      <th>retail_disc</th>\n",
              "      <th>trans_time</th>\n",
              "      <th>week_no</th>\n",
              "      <th>coupon_disc</th>\n",
              "      <th>coupon_match_disc</th>\n",
              "    </tr>\n",
              "  </thead>\n",
              "  <tbody>\n",
              "    <tr>\n",
              "      <th>0</th>\n",
              "      <td>2375</td>\n",
              "      <td>26984851472</td>\n",
              "      <td>1</td>\n",
              "      <td>1004906</td>\n",
              "      <td>1</td>\n",
              "      <td>1.39</td>\n",
              "      <td>364</td>\n",
              "      <td>-0.6</td>\n",
              "      <td>1631</td>\n",
              "      <td>1</td>\n",
              "      <td>0.0</td>\n",
              "      <td>0.0</td>\n",
              "    </tr>\n",
              "    <tr>\n",
              "      <th>1</th>\n",
              "      <td>2375</td>\n",
              "      <td>26984851472</td>\n",
              "      <td>1</td>\n",
              "      <td>1033142</td>\n",
              "      <td>1</td>\n",
              "      <td>0.82</td>\n",
              "      <td>364</td>\n",
              "      <td>0.0</td>\n",
              "      <td>1631</td>\n",
              "      <td>1</td>\n",
              "      <td>0.0</td>\n",
              "      <td>0.0</td>\n",
              "    </tr>\n",
              "  </tbody>\n",
              "</table>\n",
              "</div>"
            ],
            "text/plain": [
              "   user_id    basket_id  day  ...  week_no  coupon_disc  coupon_match_disc\n",
              "0     2375  26984851472    1  ...        1          0.0                0.0\n",
              "1     2375  26984851472    1  ...        1          0.0                0.0\n",
              "\n",
              "[2 rows x 12 columns]"
            ]
          },
          "metadata": {
            "tags": []
          },
          "execution_count": 43
        }
      ]
    },
    {
      "cell_type": "code",
      "metadata": {
        "id": "epcBZlgJC8Y0"
      },
      "source": [
        "test_size_weeks = 3\n",
        "\n",
        "data_train = data[data['week_no'] < data['week_no'].max() - test_size_weeks]\n",
        "data_test = data[data['week_no'] >= data['week_no'].max() - test_size_weeks]"
      ],
      "execution_count": 44,
      "outputs": []
    },
    {
      "cell_type": "code",
      "metadata": {
        "colab": {
          "base_uri": "https://localhost:8080/",
          "height": 359
        },
        "id": "u5vz2lC3CRCv",
        "outputId": "a55441bc-c194-4ba7-9a33-02b921612890"
      },
      "source": [
        "result_new = data_test.groupby('user_id')['item_id'].unique().reset_index()\r\n",
        "result_new.columns=['user_id', 'actual']\r\n",
        "result_new['actual'] = result_new['actual'].apply(lambda x: list(x))\r\n",
        "result_new.head(10)"
      ],
      "execution_count": 45,
      "outputs": [
        {
          "output_type": "execute_result",
          "data": {
            "text/html": [
              "<div>\n",
              "<style scoped>\n",
              "    .dataframe tbody tr th:only-of-type {\n",
              "        vertical-align: middle;\n",
              "    }\n",
              "\n",
              "    .dataframe tbody tr th {\n",
              "        vertical-align: top;\n",
              "    }\n",
              "\n",
              "    .dataframe thead th {\n",
              "        text-align: right;\n",
              "    }\n",
              "</style>\n",
              "<table border=\"1\" class=\"dataframe\">\n",
              "  <thead>\n",
              "    <tr style=\"text-align: right;\">\n",
              "      <th></th>\n",
              "      <th>user_id</th>\n",
              "      <th>actual</th>\n",
              "    </tr>\n",
              "  </thead>\n",
              "  <tbody>\n",
              "    <tr>\n",
              "      <th>0</th>\n",
              "      <td>1</td>\n",
              "      <td>[821867, 834484, 856942, 865456, 889248, 90795...</td>\n",
              "    </tr>\n",
              "    <tr>\n",
              "      <th>1</th>\n",
              "      <td>3</td>\n",
              "      <td>[835476, 851057, 872021, 878302, 879948, 90963...</td>\n",
              "    </tr>\n",
              "    <tr>\n",
              "      <th>2</th>\n",
              "      <td>6</td>\n",
              "      <td>[920308, 926804, 946489, 1006718, 1017061, 107...</td>\n",
              "    </tr>\n",
              "    <tr>\n",
              "      <th>3</th>\n",
              "      <td>7</td>\n",
              "      <td>[840386, 889774, 898068, 909714, 929067, 95347...</td>\n",
              "    </tr>\n",
              "    <tr>\n",
              "      <th>4</th>\n",
              "      <td>8</td>\n",
              "      <td>[835098, 872137, 910439, 924610, 992977, 10412...</td>\n",
              "    </tr>\n",
              "    <tr>\n",
              "      <th>5</th>\n",
              "      <td>9</td>\n",
              "      <td>[864335, 990865, 1029743, 9297474, 10457112, 8...</td>\n",
              "    </tr>\n",
              "    <tr>\n",
              "      <th>6</th>\n",
              "      <td>13</td>\n",
              "      <td>[6534178, 1104146, 829197, 840361, 862070, 884...</td>\n",
              "    </tr>\n",
              "    <tr>\n",
              "      <th>7</th>\n",
              "      <td>14</td>\n",
              "      <td>[840601, 867293, 933067, 951590, 952408, 96569...</td>\n",
              "    </tr>\n",
              "    <tr>\n",
              "      <th>8</th>\n",
              "      <td>15</td>\n",
              "      <td>[910439, 1082185, 959076, 1023958, 1082310, 13...</td>\n",
              "    </tr>\n",
              "    <tr>\n",
              "      <th>9</th>\n",
              "      <td>16</td>\n",
              "      <td>[1062973, 1082185, 13007710]</td>\n",
              "    </tr>\n",
              "  </tbody>\n",
              "</table>\n",
              "</div>"
            ],
            "text/plain": [
              "   user_id                                             actual\n",
              "0        1  [821867, 834484, 856942, 865456, 889248, 90795...\n",
              "1        3  [835476, 851057, 872021, 878302, 879948, 90963...\n",
              "2        6  [920308, 926804, 946489, 1006718, 1017061, 107...\n",
              "3        7  [840386, 889774, 898068, 909714, 929067, 95347...\n",
              "4        8  [835098, 872137, 910439, 924610, 992977, 10412...\n",
              "5        9  [864335, 990865, 1029743, 9297474, 10457112, 8...\n",
              "6       13  [6534178, 1104146, 829197, 840361, 862070, 884...\n",
              "7       14  [840601, 867293, 933067, 951590, 952408, 96569...\n",
              "8       15  [910439, 1082185, 959076, 1023958, 1082310, 13...\n",
              "9       16                       [1062973, 1082185, 13007710]"
            ]
          },
          "metadata": {
            "tags": []
          },
          "execution_count": 45
        }
      ]
    },
    {
      "cell_type": "code",
      "metadata": {
        "colab": {
          "base_uri": "https://localhost:8080/",
          "height": 204
        },
        "id": "6kmz6QVf8sVJ",
        "outputId": "5dd1e9d2-3bd3-4c90-da9f-ed6edba39498"
      },
      "source": [
        "popularity = data_train.groupby('item_id')['quantity'].sum().reset_index()\r\n",
        "popularity.rename(columns={'quantity': 'n_sold'}, inplace=True)\r\n",
        "\r\n",
        "popularity.head()"
      ],
      "execution_count": 46,
      "outputs": [
        {
          "output_type": "execute_result",
          "data": {
            "text/html": [
              "<div>\n",
              "<style scoped>\n",
              "    .dataframe tbody tr th:only-of-type {\n",
              "        vertical-align: middle;\n",
              "    }\n",
              "\n",
              "    .dataframe tbody tr th {\n",
              "        vertical-align: top;\n",
              "    }\n",
              "\n",
              "    .dataframe thead th {\n",
              "        text-align: right;\n",
              "    }\n",
              "</style>\n",
              "<table border=\"1\" class=\"dataframe\">\n",
              "  <thead>\n",
              "    <tr style=\"text-align: right;\">\n",
              "      <th></th>\n",
              "      <th>item_id</th>\n",
              "      <th>n_sold</th>\n",
              "    </tr>\n",
              "  </thead>\n",
              "  <tbody>\n",
              "    <tr>\n",
              "      <th>0</th>\n",
              "      <td>25671</td>\n",
              "      <td>6</td>\n",
              "    </tr>\n",
              "    <tr>\n",
              "      <th>1</th>\n",
              "      <td>26081</td>\n",
              "      <td>1</td>\n",
              "    </tr>\n",
              "    <tr>\n",
              "      <th>2</th>\n",
              "      <td>26093</td>\n",
              "      <td>1</td>\n",
              "    </tr>\n",
              "    <tr>\n",
              "      <th>3</th>\n",
              "      <td>26190</td>\n",
              "      <td>1</td>\n",
              "    </tr>\n",
              "    <tr>\n",
              "      <th>4</th>\n",
              "      <td>26355</td>\n",
              "      <td>2</td>\n",
              "    </tr>\n",
              "  </tbody>\n",
              "</table>\n",
              "</div>"
            ],
            "text/plain": [
              "   item_id  n_sold\n",
              "0    25671       6\n",
              "1    26081       1\n",
              "2    26093       1\n",
              "3    26190       1\n",
              "4    26355       2"
            ]
          },
          "metadata": {
            "tags": []
          },
          "execution_count": 46
        }
      ]
    },
    {
      "cell_type": "code",
      "metadata": {
        "id": "SBJPMASN8ube"
      },
      "source": [
        "top_5000 = popularity.sort_values('n_sold', ascending=False).head(5000).item_id.tolist()"
      ],
      "execution_count": 47,
      "outputs": []
    },
    {
      "cell_type": "code",
      "metadata": {
        "colab": {
          "base_uri": "https://localhost:8080/",
          "height": 324
        },
        "id": "dM-nrewJ8_C1",
        "outputId": "5ee26b45-25e5-4d04-8c0f-03b6b81a5f09"
      },
      "source": [
        "# Заведем фиктивный item_id (если юзер НЕ покупал товары из топ-5000, то он \"купил\" такой товар)\r\n",
        "data_train.loc[~data_train['item_id'].isin(top_5000), 'item_id'] = 999999\r\n",
        "\r\n",
        "user_item_matrix = pd.pivot_table(data_train, \r\n",
        "                                  index='user_id', columns='item_id', \r\n",
        "                                  values='quantity',\r\n",
        "                                  aggfunc='count', \r\n",
        "                                  fill_value=0\r\n",
        "                                 )\r\n",
        "\r\n",
        "user_item_matrix[user_item_matrix > 0] = 1 # так как в итоге хотим предсказать \r\n",
        "user_item_matrix = user_item_matrix.astype(float) # необходимый тип матрицы для implicit\r\n",
        "\r\n",
        "# переведем в формат saprse matrix (позволяет в сжатом виде хранить большие матрицы, где много нулей)\r\n",
        "sparse_user_item = csr_matrix(user_item_matrix).tocsr()\r\n",
        "\r\n",
        "user_item_matrix.head(3)"
      ],
      "execution_count": 48,
      "outputs": [
        {
          "output_type": "stream",
          "text": [
            "/usr/local/lib/python3.7/dist-packages/pandas/core/indexing.py:1763: SettingWithCopyWarning: \n",
            "A value is trying to be set on a copy of a slice from a DataFrame.\n",
            "Try using .loc[row_indexer,col_indexer] = value instead\n",
            "\n",
            "See the caveats in the documentation: https://pandas.pydata.org/pandas-docs/stable/user_guide/indexing.html#returning-a-view-versus-a-copy\n",
            "  isetter(loc, value)\n"
          ],
          "name": "stderr"
        },
        {
          "output_type": "execute_result",
          "data": {
            "text/html": [
              "<div>\n",
              "<style scoped>\n",
              "    .dataframe tbody tr th:only-of-type {\n",
              "        vertical-align: middle;\n",
              "    }\n",
              "\n",
              "    .dataframe tbody tr th {\n",
              "        vertical-align: top;\n",
              "    }\n",
              "\n",
              "    .dataframe thead th {\n",
              "        text-align: right;\n",
              "    }\n",
              "</style>\n",
              "<table border=\"1\" class=\"dataframe\">\n",
              "  <thead>\n",
              "    <tr style=\"text-align: right;\">\n",
              "      <th>item_id</th>\n",
              "      <th>202291</th>\n",
              "      <th>397896</th>\n",
              "      <th>420647</th>\n",
              "      <th>480014</th>\n",
              "      <th>545926</th>\n",
              "      <th>707683</th>\n",
              "      <th>731106</th>\n",
              "      <th>818980</th>\n",
              "      <th>819063</th>\n",
              "      <th>819227</th>\n",
              "      <th>819255</th>\n",
              "      <th>819304</th>\n",
              "      <th>819308</th>\n",
              "      <th>819330</th>\n",
              "      <th>819518</th>\n",
              "      <th>819594</th>\n",
              "      <th>819643</th>\n",
              "      <th>819765</th>\n",
              "      <th>819840</th>\n",
              "      <th>819845</th>\n",
              "      <th>819927</th>\n",
              "      <th>819978</th>\n",
              "      <th>820082</th>\n",
              "      <th>820122</th>\n",
              "      <th>820165</th>\n",
              "      <th>820291</th>\n",
              "      <th>820301</th>\n",
              "      <th>820321</th>\n",
              "      <th>820361</th>\n",
              "      <th>820486</th>\n",
              "      <th>820518</th>\n",
              "      <th>820560</th>\n",
              "      <th>820701</th>\n",
              "      <th>820895</th>\n",
              "      <th>821025</th>\n",
              "      <th>821083</th>\n",
              "      <th>821200</th>\n",
              "      <th>821209</th>\n",
              "      <th>821219</th>\n",
              "      <th>821344</th>\n",
              "      <th>...</th>\n",
              "      <th>13512965</th>\n",
              "      <th>13671759</th>\n",
              "      <th>13672065</th>\n",
              "      <th>13777104</th>\n",
              "      <th>13841744</th>\n",
              "      <th>13842088</th>\n",
              "      <th>13842090</th>\n",
              "      <th>13842214</th>\n",
              "      <th>13842224</th>\n",
              "      <th>13877192</th>\n",
              "      <th>13945141</th>\n",
              "      <th>13945244</th>\n",
              "      <th>13987135</th>\n",
              "      <th>14025185</th>\n",
              "      <th>14043817</th>\n",
              "      <th>14043823</th>\n",
              "      <th>14043825</th>\n",
              "      <th>14043826</th>\n",
              "      <th>14050436</th>\n",
              "      <th>14050460</th>\n",
              "      <th>14050461</th>\n",
              "      <th>14077333</th>\n",
              "      <th>14106445</th>\n",
              "      <th>15452677</th>\n",
              "      <th>15452812</th>\n",
              "      <th>15506577</th>\n",
              "      <th>15511891</th>\n",
              "      <th>15596279</th>\n",
              "      <th>15596488</th>\n",
              "      <th>15596515</th>\n",
              "      <th>15778533</th>\n",
              "      <th>15831255</th>\n",
              "      <th>15926712</th>\n",
              "      <th>15926775</th>\n",
              "      <th>15926844</th>\n",
              "      <th>15926886</th>\n",
              "      <th>15927403</th>\n",
              "      <th>15927661</th>\n",
              "      <th>15927850</th>\n",
              "      <th>16809471</th>\n",
              "    </tr>\n",
              "    <tr>\n",
              "      <th>user_id</th>\n",
              "      <th></th>\n",
              "      <th></th>\n",
              "      <th></th>\n",
              "      <th></th>\n",
              "      <th></th>\n",
              "      <th></th>\n",
              "      <th></th>\n",
              "      <th></th>\n",
              "      <th></th>\n",
              "      <th></th>\n",
              "      <th></th>\n",
              "      <th></th>\n",
              "      <th></th>\n",
              "      <th></th>\n",
              "      <th></th>\n",
              "      <th></th>\n",
              "      <th></th>\n",
              "      <th></th>\n",
              "      <th></th>\n",
              "      <th></th>\n",
              "      <th></th>\n",
              "      <th></th>\n",
              "      <th></th>\n",
              "      <th></th>\n",
              "      <th></th>\n",
              "      <th></th>\n",
              "      <th></th>\n",
              "      <th></th>\n",
              "      <th></th>\n",
              "      <th></th>\n",
              "      <th></th>\n",
              "      <th></th>\n",
              "      <th></th>\n",
              "      <th></th>\n",
              "      <th></th>\n",
              "      <th></th>\n",
              "      <th></th>\n",
              "      <th></th>\n",
              "      <th></th>\n",
              "      <th></th>\n",
              "      <th></th>\n",
              "      <th></th>\n",
              "      <th></th>\n",
              "      <th></th>\n",
              "      <th></th>\n",
              "      <th></th>\n",
              "      <th></th>\n",
              "      <th></th>\n",
              "      <th></th>\n",
              "      <th></th>\n",
              "      <th></th>\n",
              "      <th></th>\n",
              "      <th></th>\n",
              "      <th></th>\n",
              "      <th></th>\n",
              "      <th></th>\n",
              "      <th></th>\n",
              "      <th></th>\n",
              "      <th></th>\n",
              "      <th></th>\n",
              "      <th></th>\n",
              "      <th></th>\n",
              "      <th></th>\n",
              "      <th></th>\n",
              "      <th></th>\n",
              "      <th></th>\n",
              "      <th></th>\n",
              "      <th></th>\n",
              "      <th></th>\n",
              "      <th></th>\n",
              "      <th></th>\n",
              "      <th></th>\n",
              "      <th></th>\n",
              "      <th></th>\n",
              "      <th></th>\n",
              "      <th></th>\n",
              "      <th></th>\n",
              "      <th></th>\n",
              "      <th></th>\n",
              "      <th></th>\n",
              "      <th></th>\n",
              "    </tr>\n",
              "  </thead>\n",
              "  <tbody>\n",
              "    <tr>\n",
              "      <th>1</th>\n",
              "      <td>0.0</td>\n",
              "      <td>0.0</td>\n",
              "      <td>0.0</td>\n",
              "      <td>0.0</td>\n",
              "      <td>0.0</td>\n",
              "      <td>0.0</td>\n",
              "      <td>0.0</td>\n",
              "      <td>0.0</td>\n",
              "      <td>0.0</td>\n",
              "      <td>0.0</td>\n",
              "      <td>0.0</td>\n",
              "      <td>0.0</td>\n",
              "      <td>0.0</td>\n",
              "      <td>0.0</td>\n",
              "      <td>0.0</td>\n",
              "      <td>0.0</td>\n",
              "      <td>0.0</td>\n",
              "      <td>0.0</td>\n",
              "      <td>0.0</td>\n",
              "      <td>0.0</td>\n",
              "      <td>0.0</td>\n",
              "      <td>0.0</td>\n",
              "      <td>0.0</td>\n",
              "      <td>0.0</td>\n",
              "      <td>1.0</td>\n",
              "      <td>0.0</td>\n",
              "      <td>0.0</td>\n",
              "      <td>0.0</td>\n",
              "      <td>0.0</td>\n",
              "      <td>0.0</td>\n",
              "      <td>0.0</td>\n",
              "      <td>0.0</td>\n",
              "      <td>0.0</td>\n",
              "      <td>0.0</td>\n",
              "      <td>0.0</td>\n",
              "      <td>0.0</td>\n",
              "      <td>0.0</td>\n",
              "      <td>0.0</td>\n",
              "      <td>0.0</td>\n",
              "      <td>0.0</td>\n",
              "      <td>...</td>\n",
              "      <td>0.0</td>\n",
              "      <td>0.0</td>\n",
              "      <td>0.0</td>\n",
              "      <td>0.0</td>\n",
              "      <td>0.0</td>\n",
              "      <td>0.0</td>\n",
              "      <td>0.0</td>\n",
              "      <td>0.0</td>\n",
              "      <td>0.0</td>\n",
              "      <td>0.0</td>\n",
              "      <td>0.0</td>\n",
              "      <td>0.0</td>\n",
              "      <td>0.0</td>\n",
              "      <td>0.0</td>\n",
              "      <td>0.0</td>\n",
              "      <td>0.0</td>\n",
              "      <td>0.0</td>\n",
              "      <td>0.0</td>\n",
              "      <td>0.0</td>\n",
              "      <td>0.0</td>\n",
              "      <td>0.0</td>\n",
              "      <td>0.0</td>\n",
              "      <td>0.0</td>\n",
              "      <td>0.0</td>\n",
              "      <td>0.0</td>\n",
              "      <td>0.0</td>\n",
              "      <td>0.0</td>\n",
              "      <td>0.0</td>\n",
              "      <td>0.0</td>\n",
              "      <td>0.0</td>\n",
              "      <td>0.0</td>\n",
              "      <td>0.0</td>\n",
              "      <td>0.0</td>\n",
              "      <td>0.0</td>\n",
              "      <td>1.0</td>\n",
              "      <td>0.0</td>\n",
              "      <td>0.0</td>\n",
              "      <td>0.0</td>\n",
              "      <td>0.0</td>\n",
              "      <td>0.0</td>\n",
              "    </tr>\n",
              "    <tr>\n",
              "      <th>2</th>\n",
              "      <td>0.0</td>\n",
              "      <td>0.0</td>\n",
              "      <td>0.0</td>\n",
              "      <td>0.0</td>\n",
              "      <td>0.0</td>\n",
              "      <td>0.0</td>\n",
              "      <td>0.0</td>\n",
              "      <td>0.0</td>\n",
              "      <td>0.0</td>\n",
              "      <td>0.0</td>\n",
              "      <td>0.0</td>\n",
              "      <td>0.0</td>\n",
              "      <td>0.0</td>\n",
              "      <td>0.0</td>\n",
              "      <td>0.0</td>\n",
              "      <td>0.0</td>\n",
              "      <td>0.0</td>\n",
              "      <td>0.0</td>\n",
              "      <td>0.0</td>\n",
              "      <td>0.0</td>\n",
              "      <td>0.0</td>\n",
              "      <td>0.0</td>\n",
              "      <td>0.0</td>\n",
              "      <td>0.0</td>\n",
              "      <td>0.0</td>\n",
              "      <td>0.0</td>\n",
              "      <td>1.0</td>\n",
              "      <td>0.0</td>\n",
              "      <td>0.0</td>\n",
              "      <td>0.0</td>\n",
              "      <td>0.0</td>\n",
              "      <td>0.0</td>\n",
              "      <td>0.0</td>\n",
              "      <td>0.0</td>\n",
              "      <td>0.0</td>\n",
              "      <td>1.0</td>\n",
              "      <td>0.0</td>\n",
              "      <td>0.0</td>\n",
              "      <td>0.0</td>\n",
              "      <td>0.0</td>\n",
              "      <td>...</td>\n",
              "      <td>0.0</td>\n",
              "      <td>0.0</td>\n",
              "      <td>0.0</td>\n",
              "      <td>0.0</td>\n",
              "      <td>0.0</td>\n",
              "      <td>0.0</td>\n",
              "      <td>0.0</td>\n",
              "      <td>0.0</td>\n",
              "      <td>0.0</td>\n",
              "      <td>0.0</td>\n",
              "      <td>0.0</td>\n",
              "      <td>0.0</td>\n",
              "      <td>0.0</td>\n",
              "      <td>0.0</td>\n",
              "      <td>0.0</td>\n",
              "      <td>0.0</td>\n",
              "      <td>0.0</td>\n",
              "      <td>0.0</td>\n",
              "      <td>0.0</td>\n",
              "      <td>0.0</td>\n",
              "      <td>0.0</td>\n",
              "      <td>0.0</td>\n",
              "      <td>0.0</td>\n",
              "      <td>0.0</td>\n",
              "      <td>0.0</td>\n",
              "      <td>0.0</td>\n",
              "      <td>0.0</td>\n",
              "      <td>0.0</td>\n",
              "      <td>0.0</td>\n",
              "      <td>0.0</td>\n",
              "      <td>0.0</td>\n",
              "      <td>0.0</td>\n",
              "      <td>0.0</td>\n",
              "      <td>0.0</td>\n",
              "      <td>0.0</td>\n",
              "      <td>0.0</td>\n",
              "      <td>0.0</td>\n",
              "      <td>0.0</td>\n",
              "      <td>0.0</td>\n",
              "      <td>0.0</td>\n",
              "    </tr>\n",
              "    <tr>\n",
              "      <th>3</th>\n",
              "      <td>0.0</td>\n",
              "      <td>0.0</td>\n",
              "      <td>0.0</td>\n",
              "      <td>0.0</td>\n",
              "      <td>0.0</td>\n",
              "      <td>0.0</td>\n",
              "      <td>0.0</td>\n",
              "      <td>0.0</td>\n",
              "      <td>0.0</td>\n",
              "      <td>0.0</td>\n",
              "      <td>1.0</td>\n",
              "      <td>0.0</td>\n",
              "      <td>0.0</td>\n",
              "      <td>0.0</td>\n",
              "      <td>0.0</td>\n",
              "      <td>0.0</td>\n",
              "      <td>0.0</td>\n",
              "      <td>0.0</td>\n",
              "      <td>0.0</td>\n",
              "      <td>0.0</td>\n",
              "      <td>0.0</td>\n",
              "      <td>0.0</td>\n",
              "      <td>0.0</td>\n",
              "      <td>0.0</td>\n",
              "      <td>0.0</td>\n",
              "      <td>0.0</td>\n",
              "      <td>0.0</td>\n",
              "      <td>0.0</td>\n",
              "      <td>0.0</td>\n",
              "      <td>0.0</td>\n",
              "      <td>0.0</td>\n",
              "      <td>0.0</td>\n",
              "      <td>0.0</td>\n",
              "      <td>0.0</td>\n",
              "      <td>0.0</td>\n",
              "      <td>0.0</td>\n",
              "      <td>0.0</td>\n",
              "      <td>0.0</td>\n",
              "      <td>0.0</td>\n",
              "      <td>0.0</td>\n",
              "      <td>...</td>\n",
              "      <td>0.0</td>\n",
              "      <td>0.0</td>\n",
              "      <td>0.0</td>\n",
              "      <td>0.0</td>\n",
              "      <td>0.0</td>\n",
              "      <td>0.0</td>\n",
              "      <td>0.0</td>\n",
              "      <td>1.0</td>\n",
              "      <td>0.0</td>\n",
              "      <td>0.0</td>\n",
              "      <td>0.0</td>\n",
              "      <td>1.0</td>\n",
              "      <td>0.0</td>\n",
              "      <td>0.0</td>\n",
              "      <td>0.0</td>\n",
              "      <td>0.0</td>\n",
              "      <td>0.0</td>\n",
              "      <td>0.0</td>\n",
              "      <td>0.0</td>\n",
              "      <td>0.0</td>\n",
              "      <td>0.0</td>\n",
              "      <td>0.0</td>\n",
              "      <td>0.0</td>\n",
              "      <td>0.0</td>\n",
              "      <td>0.0</td>\n",
              "      <td>0.0</td>\n",
              "      <td>0.0</td>\n",
              "      <td>1.0</td>\n",
              "      <td>0.0</td>\n",
              "      <td>0.0</td>\n",
              "      <td>0.0</td>\n",
              "      <td>0.0</td>\n",
              "      <td>0.0</td>\n",
              "      <td>0.0</td>\n",
              "      <td>0.0</td>\n",
              "      <td>0.0</td>\n",
              "      <td>0.0</td>\n",
              "      <td>0.0</td>\n",
              "      <td>0.0</td>\n",
              "      <td>0.0</td>\n",
              "    </tr>\n",
              "  </tbody>\n",
              "</table>\n",
              "<p>3 rows × 5001 columns</p>\n",
              "</div>"
            ],
            "text/plain": [
              "item_id  202291    397896    420647    ...  15927661  15927850  16809471\n",
              "user_id                                ...                              \n",
              "1             0.0       0.0       0.0  ...       0.0       0.0       0.0\n",
              "2             0.0       0.0       0.0  ...       0.0       0.0       0.0\n",
              "3             0.0       0.0       0.0  ...       0.0       0.0       0.0\n",
              "\n",
              "[3 rows x 5001 columns]"
            ]
          },
          "metadata": {
            "tags": []
          },
          "execution_count": 48
        }
      ]
    },
    {
      "cell_type": "code",
      "metadata": {
        "id": "N91huHlr9zkT"
      },
      "source": [
        "# перенумеруем пользователей и товары\r\n",
        "userids = user_item_matrix.index.values\r\n",
        "itemids = user_item_matrix.columns.values\r\n",
        "\r\n",
        "matrix_userids = np.arange(len(userids))\r\n",
        "matrix_itemids = np.arange(len(itemids))\r\n",
        "\r\n",
        "id_to_itemid = dict(zip(matrix_itemids, itemids))\r\n",
        "id_to_userid = dict(zip(matrix_userids, userids))\r\n",
        "\r\n",
        "itemid_to_id = dict(zip(itemids, matrix_itemids))\r\n",
        "userid_to_id = dict(zip(userids, matrix_userids))"
      ],
      "execution_count": 49,
      "outputs": []
    },
    {
      "cell_type": "code",
      "metadata": {
        "colab": {
          "base_uri": "https://localhost:8080/"
        },
        "id": "yZAzE7B3F2Jl",
        "outputId": "f1dfa620-dea4-4b69-c50d-b53a2d3a55db"
      },
      "source": [
        "user_item_matrix_dummy_droped = user_item_matrix.drop(columns=[999999])\r\n",
        "\r\n",
        "sparse_user_item_dummy_droped = csr_matrix(user_item_matrix_dummy_droped).tocsr()\r\n",
        "999999 in user_item_matrix_dummy_droped.columns  # Проверка правильности удаления 999999"
      ],
      "execution_count": 50,
      "outputs": [
        {
          "output_type": "execute_result",
          "data": {
            "text/plain": [
              "False"
            ]
          },
          "metadata": {
            "tags": []
          },
          "execution_count": 50
        }
      ]
    },
    {
      "cell_type": "code",
      "metadata": {
        "id": "eiD6ffohFcHo"
      },
      "source": [
        "# перенумеруем пользователей и товары\r\n",
        "userids_dummy_droped = user_item_matrix_dummy_droped.index.values\r\n",
        "itemids_dummy_droped = user_item_matrix_dummy_droped.columns.values\r\n",
        "\r\n",
        "matrix_userids_dummy_droped = np.arange(len(userids_dummy_droped))\r\n",
        "matrix_itemids_dummy_droped = np.arange(len(itemids_dummy_droped))\r\n",
        "\r\n",
        "id_to_itemid_dummy_droped = dict(zip(matrix_itemids_dummy_droped, itemids_dummy_droped))\r\n",
        "id_to_userid_dummy_droped = dict(zip(matrix_userids_dummy_droped, userids_dummy_droped))\r\n",
        "\r\n",
        "itemid_to_id_dummy_droped = dict(zip(itemids_dummy_droped, matrix_itemids_dummy_droped))\r\n",
        "userid_to_id_dummy_droped = dict(zip(userids_dummy_droped, matrix_userids_dummy_droped))"
      ],
      "execution_count": 51,
      "outputs": []
    },
    {
      "cell_type": "code",
      "metadata": {
        "colab": {
          "base_uri": "https://localhost:8080/",
          "height": 149,
          "referenced_widgets": [
            "b5704e1ba8a14f9486c56e8e5b104b68",
            "e9f6e18880344dca9abde355d8618dbb",
            "6b5cfc27598a4d12a6e849a3705d4d6f",
            "a1348548a606467b951a2870ac764458",
            "106bc85f4faa41a89b8107f5b02b3f84",
            "470e66892822470c8e27d168be4a7a1d",
            "6b7ec0d1257e454ab668ac6873ec595a",
            "b2ff8414a7834ebbac6805de68a38756",
            "e4fd2967280d4ce0873295915c528681",
            "96149e9928654098948973efe38e0527",
            "70274dea12f74bbb93f5b88a6dfd35ba",
            "549295a880e5423799c3a0afc6118476",
            "40d5fcdc745749e99ba3c5c67b93070e",
            "bd6a3cfb799a4bb8bc81e3cf976063ae",
            "49724ab7287041bc98a1439620086443",
            "3c2391ab7b72446ea344a8502ada14e3"
          ]
        },
        "id": "XnWeTe6R92lE",
        "outputId": "4a4dbe3b-5796-412c-ba6d-86382a224863"
      },
      "source": [
        "%%time\r\n",
        "\r\n",
        "model = ItemItemRecommender(K=5, num_threads=4) # K - кол-во билжайших соседей\r\n",
        "\r\n",
        "model.fit(csr_matrix(user_item_matrix).T.tocsr(),  # На вход item-user matrix\r\n",
        "          show_progress=True)\r\n",
        "\r\n",
        "model_dummy_droped = ItemItemRecommender(K=5, num_threads=4) # K - кол-во билжайших соседей\r\n",
        "\r\n",
        "model_dummy_droped.fit(csr_matrix(user_item_matrix_dummy_droped).T.tocsr(),  # На вход item-user matrix\r\n",
        "          show_progress=True)"
      ],
      "execution_count": 52,
      "outputs": [
        {
          "output_type": "display_data",
          "data": {
            "application/vnd.jupyter.widget-view+json": {
              "model_id": "b5704e1ba8a14f9486c56e8e5b104b68",
              "version_minor": 0,
              "version_major": 2
            },
            "text/plain": [
              "HBox(children=(FloatProgress(value=0.0, max=5001.0), HTML(value='')))"
            ]
          },
          "metadata": {
            "tags": []
          }
        },
        {
          "output_type": "stream",
          "text": [
            "\n"
          ],
          "name": "stdout"
        },
        {
          "output_type": "display_data",
          "data": {
            "application/vnd.jupyter.widget-view+json": {
              "model_id": "e4fd2967280d4ce0873295915c528681",
              "version_minor": 0,
              "version_major": 2
            },
            "text/plain": [
              "HBox(children=(FloatProgress(value=0.0, max=5000.0), HTML(value='')))"
            ]
          },
          "metadata": {
            "tags": []
          }
        },
        {
          "output_type": "stream",
          "text": [
            "\n",
            "CPU times: user 4.2 s, sys: 51.5 ms, total: 4.25 s\n",
            "Wall time: 3.07 s\n"
          ],
          "name": "stdout"
        }
      ]
    },
    {
      "cell_type": "code",
      "metadata": {
        "id": "IrmOptj5BAPD",
        "colab": {
          "base_uri": "https://localhost:8080/"
        },
        "outputId": "7172bd4c-f9ed-45ed-9e6e-3110e41ea07a"
      },
      "source": [
        "%%time\r\n",
        "\r\n",
        "result_new['itemitem'] = result_new['user_id'].\\\r\n",
        "    apply(lambda x: [id_to_itemid[rec[0]] for rec in \r\n",
        "                    model.recommend(userid=userid_to_id[x], \r\n",
        "                                    user_items=sparse_user_item,   # на вход user-item matrix\r\n",
        "                                    N=5, \r\n",
        "                                    filter_already_liked_items=False, \r\n",
        "                                    filter_items=None, \r\n",
        "                                    recalculate_user=True)])\r\n",
        "\r\n",
        "result_new['itemitem_dummy_droped'] = result_new['user_id'].\\\r\n",
        "    apply(lambda x: [id_to_itemid[rec[0]] for rec in \r\n",
        "                    model_dummy_droped.recommend(userid=userid_to_id_dummy_droped[x], \r\n",
        "                                    user_items=sparse_user_item,   # на вход для рекомендаций даём user-item matrix полную с товаром 999999, тогда как обучались без 999999 !!\r\n",
        "                                    N=5, \r\n",
        "                                    filter_already_liked_items=False, \r\n",
        "                                    filter_items=None, \r\n",
        "                                    recalculate_user=True)])"
      ],
      "execution_count": 53,
      "outputs": [
        {
          "output_type": "stream",
          "text": [
            "CPU times: user 129 ms, sys: 952 µs, total: 130 ms\n",
            "Wall time: 131 ms\n"
          ],
          "name": "stdout"
        }
      ]
    },
    {
      "cell_type": "code",
      "metadata": {
        "id": "xPcMEs7XJJ7K",
        "colab": {
          "base_uri": "https://localhost:8080/",
          "height": 359
        },
        "outputId": "62a3004d-2687-4591-e218-768f42f4bce7"
      },
      "source": [
        "result_new.head(10)"
      ],
      "execution_count": 54,
      "outputs": [
        {
          "output_type": "execute_result",
          "data": {
            "text/html": [
              "<div>\n",
              "<style scoped>\n",
              "    .dataframe tbody tr th:only-of-type {\n",
              "        vertical-align: middle;\n",
              "    }\n",
              "\n",
              "    .dataframe tbody tr th {\n",
              "        vertical-align: top;\n",
              "    }\n",
              "\n",
              "    .dataframe thead th {\n",
              "        text-align: right;\n",
              "    }\n",
              "</style>\n",
              "<table border=\"1\" class=\"dataframe\">\n",
              "  <thead>\n",
              "    <tr style=\"text-align: right;\">\n",
              "      <th></th>\n",
              "      <th>user_id</th>\n",
              "      <th>actual</th>\n",
              "      <th>itemitem</th>\n",
              "      <th>itemitem_dummy_droped</th>\n",
              "    </tr>\n",
              "  </thead>\n",
              "  <tbody>\n",
              "    <tr>\n",
              "      <th>0</th>\n",
              "      <td>1</td>\n",
              "      <td>[821867, 834484, 856942, 865456, 889248, 90795...</td>\n",
              "      <td>[999999, 1082185, 981760, 1127831, 995242]</td>\n",
              "      <td>[1082172, 981760, 1127825, 995242, 1097849]</td>\n",
              "    </tr>\n",
              "    <tr>\n",
              "      <th>1</th>\n",
              "      <td>3</td>\n",
              "      <td>[835476, 851057, 872021, 878302, 879948, 90963...</td>\n",
              "      <td>[999999, 1082185, 981760, 1098066, 995242]</td>\n",
              "      <td>[1082172, 981760, 1097849, 826249, 995242]</td>\n",
              "    </tr>\n",
              "    <tr>\n",
              "      <th>2</th>\n",
              "      <td>6</td>\n",
              "      <td>[920308, 926804, 946489, 1006718, 1017061, 107...</td>\n",
              "      <td>[999999, 1082185, 981760, 1127831, 995242]</td>\n",
              "      <td>[1082172, 981760, 1127825, 1097849, 995242]</td>\n",
              "    </tr>\n",
              "    <tr>\n",
              "      <th>3</th>\n",
              "      <td>7</td>\n",
              "      <td>[840386, 889774, 898068, 909714, 929067, 95347...</td>\n",
              "      <td>[999999, 1082185, 981760, 1127831, 995242]</td>\n",
              "      <td>[1082172, 981760, 1097849, 1127825, 995242]</td>\n",
              "    </tr>\n",
              "    <tr>\n",
              "      <th>4</th>\n",
              "      <td>8</td>\n",
              "      <td>[835098, 872137, 910439, 924610, 992977, 10412...</td>\n",
              "      <td>[999999, 1082185, 981760, 1127831, 1098066]</td>\n",
              "      <td>[1082172, 981760, 1097849, 826249, 995242]</td>\n",
              "    </tr>\n",
              "    <tr>\n",
              "      <th>5</th>\n",
              "      <td>9</td>\n",
              "      <td>[864335, 990865, 1029743, 9297474, 10457112, 8...</td>\n",
              "      <td>[999999, 1082185, 981760, 995242, 1098066]</td>\n",
              "      <td>[1082172, 981760, 1097849, 995242, 1127825]</td>\n",
              "    </tr>\n",
              "    <tr>\n",
              "      <th>6</th>\n",
              "      <td>13</td>\n",
              "      <td>[6534178, 1104146, 829197, 840361, 862070, 884...</td>\n",
              "      <td>[999999, 1082185, 981760, 1098066, 1127831]</td>\n",
              "      <td>[1082172, 981760, 1097849, 826249, 995242]</td>\n",
              "    </tr>\n",
              "    <tr>\n",
              "      <th>7</th>\n",
              "      <td>14</td>\n",
              "      <td>[840601, 867293, 933067, 951590, 952408, 96569...</td>\n",
              "      <td>[999999, 1082185, 981760, 1098066, 995242]</td>\n",
              "      <td>[1082172, 981760, 1097849, 826249, 995242]</td>\n",
              "    </tr>\n",
              "    <tr>\n",
              "      <th>8</th>\n",
              "      <td>15</td>\n",
              "      <td>[910439, 1082185, 959076, 1023958, 1082310, 13...</td>\n",
              "      <td>[999999, 1082185, 981760, 1127831, 995242]</td>\n",
              "      <td>[1082172, 981760, 1127825, 995242, 840361]</td>\n",
              "    </tr>\n",
              "    <tr>\n",
              "      <th>9</th>\n",
              "      <td>16</td>\n",
              "      <td>[1062973, 1082185, 13007710]</td>\n",
              "      <td>[999999, 1082185, 981760, 995242, 1029743]</td>\n",
              "      <td>[1082172, 981760, 866227, 840361, 995242]</td>\n",
              "    </tr>\n",
              "  </tbody>\n",
              "</table>\n",
              "</div>"
            ],
            "text/plain": [
              "   user_id  ...                        itemitem_dummy_droped\n",
              "0        1  ...  [1082172, 981760, 1127825, 995242, 1097849]\n",
              "1        3  ...   [1082172, 981760, 1097849, 826249, 995242]\n",
              "2        6  ...  [1082172, 981760, 1127825, 1097849, 995242]\n",
              "3        7  ...  [1082172, 981760, 1097849, 1127825, 995242]\n",
              "4        8  ...   [1082172, 981760, 1097849, 826249, 995242]\n",
              "5        9  ...  [1082172, 981760, 1097849, 995242, 1127825]\n",
              "6       13  ...   [1082172, 981760, 1097849, 826249, 995242]\n",
              "7       14  ...   [1082172, 981760, 1097849, 826249, 995242]\n",
              "8       15  ...   [1082172, 981760, 1127825, 995242, 840361]\n",
              "9       16  ...    [1082172, 981760, 866227, 840361, 995242]\n",
              "\n",
              "[10 rows x 4 columns]"
            ]
          },
          "metadata": {
            "tags": []
          },
          "execution_count": 54
        }
      ]
    },
    {
      "cell_type": "code",
      "metadata": {
        "id": "NhGAnv9kGbzd",
        "colab": {
          "base_uri": "https://localhost:8080/"
        },
        "outputId": "326f55a8-c035-4adb-9dcb-1aa542bdcca5"
      },
      "source": [
        "for column in result_new.columns[2:]:\r\n",
        "    print(f\"Mean precision@5 for {column} is: {result_new.apply(lambda x: precision_at_k(x[column], x['actual'],  5), axis=1).mean()}\")"
      ],
      "execution_count": 55,
      "outputs": [
        {
          "output_type": "stream",
          "text": [
            "Mean precision@5 for itemitem is: 0.13692458374142857\n",
            "Mean precision@5 for itemitem_dummy_droped is: 0.07061704211557317\n"
          ],
          "name": "stdout"
        }
      ]
    },
    {
      "cell_type": "markdown",
      "metadata": {
        "id": "YwYPML9aGj0o"
      },
      "source": [
        "Точность значительно ухудшилась после отбрасывания товара-заглушки."
      ]
    },
    {
      "cell_type": "markdown",
      "metadata": {
        "id": "zlUUzLFeC8Y4"
      },
      "source": [
        "### Задание 1. Weighted Random Recommendation\n",
        "\n",
        "Напишите код для случайных рекоммендаций, в которых вероятность рекомендовать товар прямо пропорционально логарифму продаж\n",
        "- Можно сэмплировать товары случайно, но пропорционально какому-либо весу\n",
        "- Например, прямопропорционально популярности. вес = log(sales_sum товара)\n",
        "- Придумайте пример 3 весов, посчитайте weighted_random_recommendation для разных весов"
      ]
    },
    {
      "cell_type": "markdown",
      "metadata": {
        "id": "w9hPMaZBLFby"
      },
      "source": [
        "*Пример*  \r\n",
        "item_1 - 5, item_2 - 7, item_3 - 4  # / sum  \r\n",
        "item_1 - 5 / 16, item_2 - 7 / 16, item_3 - 4 / 16"
      ]
    },
    {
      "cell_type": "code",
      "metadata": {
        "id": "brMuCHolC8Y4"
      },
      "source": [
        "def weighted_random_recommendation(items_weights, n=5):\n",
        "    \"\"\"Взвешенные случайные рекоммендации на основе доли выбранного показателя по item в общей сумме по данному показателю.\n",
        "    На вход принимается сгрупированная по item таблица относительно целевого показателя.\"\"\"\n",
        "    \n",
        "    items = np.array(items_weights['item_id'])\n",
        "\n",
        "    items_weights_sum = items_weights['weights'].sum()  # Считаю общую сумму 1 раз, чтобы не вычислять на всей длине выборки\n",
        "    probabilities = np.array(items_weights['weights'].apply(lambda x: x / items_weights_sum))  # Нормирую каждое значение на общую сумму, чтобы получить вероятности\n",
        "\n",
        "    recs = np.random.choice(items, size=n, p=probabilities, replace=False)\n",
        "    \n",
        "    return recs.tolist()"
      ],
      "execution_count": 56,
      "outputs": []
    },
    {
      "cell_type": "markdown",
      "metadata": {
        "id": "SKcZ4kJVaK5s"
      },
      "source": [
        "Сделайте предсказания"
      ]
    },
    {
      "cell_type": "code",
      "metadata": {
        "id": "zRJUkJldLalj",
        "colab": {
          "base_uri": "https://localhost:8080/"
        },
        "outputId": "ce198c33-84d8-4599-a70c-27ccf18c8f33"
      },
      "source": [
        "%%time\r\n",
        "\r\n",
        "items_weights = data_train.groupby('item_id')['sales_value'].sum().reset_index()\r\n",
        "items_weights.columns = ['item_id', 'weights']\r\n",
        "\r\n",
        "result_new['weighted_random_recommendation_by_sales_value'] = result_new['user_id'].apply(lambda x: weighted_random_recommendation(items_weights, n=5))"
      ],
      "execution_count": 57,
      "outputs": [
        {
          "output_type": "stream",
          "text": [
            "CPU times: user 5.03 s, sys: 13.2 ms, total: 5.04 s\n",
            "Wall time: 5.06 s\n"
          ],
          "name": "stdout"
        }
      ]
    },
    {
      "cell_type": "code",
      "metadata": {
        "id": "V8vs1Yewiru6",
        "colab": {
          "base_uri": "https://localhost:8080/"
        },
        "outputId": "db684df1-e2a4-4243-dcf1-bf2f081d2b79"
      },
      "source": [
        "%%time\r\n",
        "\r\n",
        "items_weights = data_train.groupby('item_id')['quantity'].sum().reset_index()\r\n",
        "items_weights.columns = ['item_id', 'weights']\r\n",
        "\r\n",
        "result_new['weighted_random_recommendation_by_quantity'] = result_new['user_id'].apply(lambda x: weighted_random_recommendation(items_weights, n=5))"
      ],
      "execution_count": 58,
      "outputs": [
        {
          "output_type": "stream",
          "text": [
            "CPU times: user 6.58 s, sys: 4.42 ms, total: 6.58 s\n",
            "Wall time: 6.62 s\n"
          ],
          "name": "stdout"
        }
      ]
    },
    {
      "cell_type": "code",
      "metadata": {
        "id": "PSlQRx76iUDb",
        "colab": {
          "base_uri": "https://localhost:8080/",
          "height": 204
        },
        "outputId": "9d7ef884-8bb4-43cd-93ec-4edcc0b63660"
      },
      "source": [
        "result_new.head(5)"
      ],
      "execution_count": 59,
      "outputs": [
        {
          "output_type": "execute_result",
          "data": {
            "text/html": [
              "<div>\n",
              "<style scoped>\n",
              "    .dataframe tbody tr th:only-of-type {\n",
              "        vertical-align: middle;\n",
              "    }\n",
              "\n",
              "    .dataframe tbody tr th {\n",
              "        vertical-align: top;\n",
              "    }\n",
              "\n",
              "    .dataframe thead th {\n",
              "        text-align: right;\n",
              "    }\n",
              "</style>\n",
              "<table border=\"1\" class=\"dataframe\">\n",
              "  <thead>\n",
              "    <tr style=\"text-align: right;\">\n",
              "      <th></th>\n",
              "      <th>user_id</th>\n",
              "      <th>actual</th>\n",
              "      <th>itemitem</th>\n",
              "      <th>itemitem_dummy_droped</th>\n",
              "      <th>weighted_random_recommendation_by_sales_value</th>\n",
              "      <th>weighted_random_recommendation_by_quantity</th>\n",
              "    </tr>\n",
              "  </thead>\n",
              "  <tbody>\n",
              "    <tr>\n",
              "      <th>0</th>\n",
              "      <td>1</td>\n",
              "      <td>[821867, 834484, 856942, 865456, 889248, 90795...</td>\n",
              "      <td>[999999, 1082185, 981760, 1127831, 995242]</td>\n",
              "      <td>[1082172, 981760, 1127825, 995242, 1097849]</td>\n",
              "      <td>[999999, 6633273, 6534178, 8090537, 827261]</td>\n",
              "      <td>[6534178, 6533889, 6544236, 6534166, 397896]</td>\n",
              "    </tr>\n",
              "    <tr>\n",
              "      <th>1</th>\n",
              "      <td>3</td>\n",
              "      <td>[835476, 851057, 872021, 878302, 879948, 90963...</td>\n",
              "      <td>[999999, 1082185, 981760, 1098066, 995242]</td>\n",
              "      <td>[1082172, 981760, 1097849, 826249, 995242]</td>\n",
              "      <td>[999999, 960984, 1076738, 9245106, 882288]</td>\n",
              "      <td>[6534178, 480014, 6534166, 5668996, 6533889]</td>\n",
              "    </tr>\n",
              "    <tr>\n",
              "      <th>2</th>\n",
              "      <td>6</td>\n",
              "      <td>[920308, 926804, 946489, 1006718, 1017061, 107...</td>\n",
              "      <td>[999999, 1082185, 981760, 1127831, 995242]</td>\n",
              "      <td>[1082172, 981760, 1127825, 1097849, 995242]</td>\n",
              "      <td>[999999, 1062966, 883068, 1087916, 6534178]</td>\n",
              "      <td>[6534178, 6534166, 1388206, 9245106, 6533889]</td>\n",
              "    </tr>\n",
              "    <tr>\n",
              "      <th>3</th>\n",
              "      <td>7</td>\n",
              "      <td>[840386, 889774, 898068, 909714, 929067, 95347...</td>\n",
              "      <td>[999999, 1082185, 981760, 1127831, 995242]</td>\n",
              "      <td>[1082172, 981760, 1097849, 1127825, 995242]</td>\n",
              "      <td>[962229, 936355, 944836, 999999, 8067128]</td>\n",
              "      <td>[6534178, 6533889, 6534166, 5668996, 1426702]</td>\n",
              "    </tr>\n",
              "    <tr>\n",
              "      <th>4</th>\n",
              "      <td>8</td>\n",
              "      <td>[835098, 872137, 910439, 924610, 992977, 10412...</td>\n",
              "      <td>[999999, 1082185, 981760, 1127831, 1098066]</td>\n",
              "      <td>[1082172, 981760, 1097849, 826249, 995242]</td>\n",
              "      <td>[999999, 6034648, 1058214, 978983, 849202]</td>\n",
              "      <td>[6534166, 6534178, 397896, 1404121, 1022003]</td>\n",
              "    </tr>\n",
              "  </tbody>\n",
              "</table>\n",
              "</div>"
            ],
            "text/plain": [
              "   user_id  ...     weighted_random_recommendation_by_quantity\n",
              "0        1  ...   [6534178, 6533889, 6544236, 6534166, 397896]\n",
              "1        3  ...   [6534178, 480014, 6534166, 5668996, 6533889]\n",
              "2        6  ...  [6534178, 6534166, 1388206, 9245106, 6533889]\n",
              "3        7  ...  [6534178, 6533889, 6534166, 5668996, 1426702]\n",
              "4        8  ...   [6534166, 6534178, 397896, 1404121, 1022003]\n",
              "\n",
              "[5 rows x 6 columns]"
            ]
          },
          "metadata": {
            "tags": []
          },
          "execution_count": 59
        }
      ]
    },
    {
      "cell_type": "markdown",
      "metadata": {
        "id": "hyNG6O-wC8Y_"
      },
      "source": [
        "### Задание 2. Расчет метрик\n",
        "Рассчитайте Precision@5 для каждого алгоритма (с вебинара и weighted_random_recommendation) с помощью функции из вебинара 1. Какой алгоритм показывает лучшее качество? Почему?"
      ]
    },
    {
      "cell_type": "code",
      "metadata": {
        "id": "m_5c2vZJ1fnC"
      },
      "source": [
        "result_weighted = result_new.drop(columns=['actual', 'itemitem'])"
      ],
      "execution_count": 60,
      "outputs": []
    },
    {
      "cell_type": "code",
      "metadata": {
        "id": "36HtRgm8C8ZA",
        "colab": {
          "base_uri": "https://localhost:8080/",
          "height": 145
        },
        "outputId": "b75d5e61-a913-4b3c-d26a-8edfcad45632"
      },
      "source": [
        "result = pd.read_csv(r'/content/drive/MyDrive/Colab Notebooks/recommender_systems/data/preds.csv')  # загрузка predict с семианара\n",
        "result.head(2)"
      ],
      "execution_count": 61,
      "outputs": [
        {
          "output_type": "execute_result",
          "data": {
            "text/html": [
              "<div>\n",
              "<style scoped>\n",
              "    .dataframe tbody tr th:only-of-type {\n",
              "        vertical-align: middle;\n",
              "    }\n",
              "\n",
              "    .dataframe tbody tr th {\n",
              "        vertical-align: top;\n",
              "    }\n",
              "\n",
              "    .dataframe thead th {\n",
              "        text-align: right;\n",
              "    }\n",
              "</style>\n",
              "<table border=\"1\" class=\"dataframe\">\n",
              "  <thead>\n",
              "    <tr style=\"text-align: right;\">\n",
              "      <th></th>\n",
              "      <th>user_id</th>\n",
              "      <th>actual</th>\n",
              "      <th>random_recommendation</th>\n",
              "      <th>popular_recommendation</th>\n",
              "      <th>itemitem</th>\n",
              "      <th>cosine</th>\n",
              "      <th>tfidf</th>\n",
              "      <th>own_purchases</th>\n",
              "    </tr>\n",
              "  </thead>\n",
              "  <tbody>\n",
              "    <tr>\n",
              "      <th>0</th>\n",
              "      <td>1</td>\n",
              "      <td>[821867, 834484, 856942, 865456, 889248, 90795...</td>\n",
              "      <td>[15927063, 905162, 6034968, 10311367, 941944]</td>\n",
              "      <td>[6534178, 6533889, 1029743, 6534166, 1082185]</td>\n",
              "      <td>[999999, 1082185, 981760, 1127831, 995242]</td>\n",
              "      <td>[1082185, 999999, 981760, 1127831, 1098066]</td>\n",
              "      <td>[1082185, 981760, 1127831, 999999, 1098066]</td>\n",
              "      <td>[999999, 1082185, 1029743, 995785, 1004906]</td>\n",
              "    </tr>\n",
              "    <tr>\n",
              "      <th>1</th>\n",
              "      <td>3</td>\n",
              "      <td>[835476, 851057, 872021, 878302, 879948, 90963...</td>\n",
              "      <td>[1122732, 983151, 6552927, 257927, 1074209]</td>\n",
              "      <td>[6534178, 6533889, 1029743, 6534166, 1082185]</td>\n",
              "      <td>[999999, 1082185, 981760, 1098066, 995242]</td>\n",
              "      <td>[1082185, 1098066, 981760, 999999, 826249]</td>\n",
              "      <td>[1082185, 981760, 1098066, 826249, 999999]</td>\n",
              "      <td>[999999, 1082185, 1098066, 6534178, 1127831]</td>\n",
              "    </tr>\n",
              "  </tbody>\n",
              "</table>\n",
              "</div>"
            ],
            "text/plain": [
              "   user_id  ...                                 own_purchases\n",
              "0        1  ...   [999999, 1082185, 1029743, 995785, 1004906]\n",
              "1        3  ...  [999999, 1082185, 1098066, 6534178, 1127831]\n",
              "\n",
              "[2 rows x 8 columns]"
            ]
          },
          "metadata": {
            "tags": []
          },
          "execution_count": 61
        }
      ]
    },
    {
      "cell_type": "code",
      "metadata": {
        "id": "HsD-6zYmaK5t",
        "colab": {
          "base_uri": "https://localhost:8080/"
        },
        "outputId": "c2ba973c-535a-4e22-9865-dafb03cb71aa"
      },
      "source": [
        "type(result['actual'][0])"
      ],
      "execution_count": 62,
      "outputs": [
        {
          "output_type": "execute_result",
          "data": {
            "text/plain": [
              "str"
            ]
          },
          "metadata": {
            "tags": []
          },
          "execution_count": 62
        }
      ]
    },
    {
      "cell_type": "code",
      "metadata": {
        "collapsed": true,
        "id": "RPkdo3pLaK5u"
      },
      "source": [
        "# файл с предсказаниями сохранил предсказания как строки\n",
        "# нужно перевести обратно в список\n",
        "for a in result.columns[1:]:\n",
        "    result[a] =  result[a].map(lambda x: x[1:-1].split(', ')).apply(lambda x: list(map(int, x)))"
      ],
      "execution_count": 63,
      "outputs": []
    },
    {
      "cell_type": "code",
      "metadata": {
        "id": "u6QiyDR_D0fk"
      },
      "source": [
        "# Прикрепляю новые расчеты\r\n",
        "result = pd.merge(result, result_weighted, on=\"user_id\")"
      ],
      "execution_count": 64,
      "outputs": []
    },
    {
      "cell_type": "code",
      "metadata": {
        "id": "hkxV8pwPIHJV",
        "colab": {
          "base_uri": "https://localhost:8080/",
          "height": 629
        },
        "outputId": "57f7f3e2-fd5b-422d-99ee-9eb92e4920c8"
      },
      "source": [
        "result.head()"
      ],
      "execution_count": 65,
      "outputs": [
        {
          "output_type": "execute_result",
          "data": {
            "text/html": [
              "<div>\n",
              "<style scoped>\n",
              "    .dataframe tbody tr th:only-of-type {\n",
              "        vertical-align: middle;\n",
              "    }\n",
              "\n",
              "    .dataframe tbody tr th {\n",
              "        vertical-align: top;\n",
              "    }\n",
              "\n",
              "    .dataframe thead th {\n",
              "        text-align: right;\n",
              "    }\n",
              "</style>\n",
              "<table border=\"1\" class=\"dataframe\">\n",
              "  <thead>\n",
              "    <tr style=\"text-align: right;\">\n",
              "      <th></th>\n",
              "      <th>user_id</th>\n",
              "      <th>actual</th>\n",
              "      <th>random_recommendation</th>\n",
              "      <th>popular_recommendation</th>\n",
              "      <th>itemitem</th>\n",
              "      <th>cosine</th>\n",
              "      <th>tfidf</th>\n",
              "      <th>own_purchases</th>\n",
              "      <th>itemitem_dummy_droped</th>\n",
              "      <th>weighted_random_recommendation_by_sales_value</th>\n",
              "      <th>weighted_random_recommendation_by_quantity</th>\n",
              "    </tr>\n",
              "  </thead>\n",
              "  <tbody>\n",
              "    <tr>\n",
              "      <th>0</th>\n",
              "      <td>1</td>\n",
              "      <td>[821867, 834484, 856942, 865456, 889248, 90795...</td>\n",
              "      <td>[15927063, 905162, 6034968, 10311367, 941944]</td>\n",
              "      <td>[6534178, 6533889, 1029743, 6534166, 1082185]</td>\n",
              "      <td>[999999, 1082185, 981760, 1127831, 995242]</td>\n",
              "      <td>[1082185, 999999, 981760, 1127831, 1098066]</td>\n",
              "      <td>[1082185, 981760, 1127831, 999999, 1098066]</td>\n",
              "      <td>[999999, 1082185, 1029743, 995785, 1004906]</td>\n",
              "      <td>[1082172, 981760, 1127825, 995242, 1097849]</td>\n",
              "      <td>[999999, 6633273, 6534178, 8090537, 827261]</td>\n",
              "      <td>[6534178, 6533889, 6544236, 6534166, 397896]</td>\n",
              "    </tr>\n",
              "    <tr>\n",
              "      <th>1</th>\n",
              "      <td>3</td>\n",
              "      <td>[835476, 851057, 872021, 878302, 879948, 90963...</td>\n",
              "      <td>[1122732, 983151, 6552927, 257927, 1074209]</td>\n",
              "      <td>[6534178, 6533889, 1029743, 6534166, 1082185]</td>\n",
              "      <td>[999999, 1082185, 981760, 1098066, 995242]</td>\n",
              "      <td>[1082185, 1098066, 981760, 999999, 826249]</td>\n",
              "      <td>[1082185, 981760, 1098066, 826249, 999999]</td>\n",
              "      <td>[999999, 1082185, 1098066, 6534178, 1127831]</td>\n",
              "      <td>[1082172, 981760, 1097849, 826249, 995242]</td>\n",
              "      <td>[999999, 960984, 1076738, 9245106, 882288]</td>\n",
              "      <td>[6534178, 480014, 6534166, 5668996, 6533889]</td>\n",
              "    </tr>\n",
              "    <tr>\n",
              "      <th>2</th>\n",
              "      <td>6</td>\n",
              "      <td>[920308, 926804, 946489, 1006718, 1017061, 107...</td>\n",
              "      <td>[969846, 866285, 10122659, 9485565, 6442626]</td>\n",
              "      <td>[6534178, 6533889, 1029743, 6534166, 1082185]</td>\n",
              "      <td>[999999, 1082185, 981760, 1127831, 995242]</td>\n",
              "      <td>[1082185, 999999, 981760, 1127831, 1098066]</td>\n",
              "      <td>[1082185, 981760, 1127831, 999999, 878996]</td>\n",
              "      <td>[999999, 1082185, 1029743, 6534178, 1127831]</td>\n",
              "      <td>[1082172, 981760, 1127825, 1097849, 995242]</td>\n",
              "      <td>[999999, 1062966, 883068, 1087916, 6534178]</td>\n",
              "      <td>[6534178, 6534166, 1388206, 9245106, 6533889]</td>\n",
              "    </tr>\n",
              "    <tr>\n",
              "      <th>3</th>\n",
              "      <td>7</td>\n",
              "      <td>[840386, 889774, 898068, 909714, 929067, 95347...</td>\n",
              "      <td>[5995778, 10311808, 7152900, 8069231, 1010481]</td>\n",
              "      <td>[6534178, 6533889, 1029743, 6534166, 1082185]</td>\n",
              "      <td>[999999, 1082185, 981760, 1127831, 995242]</td>\n",
              "      <td>[1082185, 981760, 999999, 1127831, 961554]</td>\n",
              "      <td>[1082185, 981760, 1127831, 999999, 961554]</td>\n",
              "      <td>[999999, 1082185, 1029743, 1127831, 995785]</td>\n",
              "      <td>[1082172, 981760, 1097849, 1127825, 995242]</td>\n",
              "      <td>[962229, 936355, 944836, 999999, 8067128]</td>\n",
              "      <td>[6534178, 6533889, 6534166, 5668996, 1426702]</td>\n",
              "    </tr>\n",
              "    <tr>\n",
              "      <th>4</th>\n",
              "      <td>8</td>\n",
              "      <td>[835098, 872137, 910439, 924610, 992977, 10412...</td>\n",
              "      <td>[1032838, 769086, 15828354, 1081434, 972437]</td>\n",
              "      <td>[6534178, 6533889, 1029743, 6534166, 1082185]</td>\n",
              "      <td>[999999, 1082185, 981760, 1127831, 1098066]</td>\n",
              "      <td>[1082185, 981760, 999999, 1098066, 826249]</td>\n",
              "      <td>[1082185, 981760, 999999, 1098066, 826249]</td>\n",
              "      <td>[999999, 1082185, 1029743, 1098066, 6534178]</td>\n",
              "      <td>[1082172, 981760, 1097849, 826249, 995242]</td>\n",
              "      <td>[999999, 6034648, 1058214, 978983, 849202]</td>\n",
              "      <td>[6534166, 6534178, 397896, 1404121, 1022003]</td>\n",
              "    </tr>\n",
              "  </tbody>\n",
              "</table>\n",
              "</div>"
            ],
            "text/plain": [
              "   user_id  ...     weighted_random_recommendation_by_quantity\n",
              "0        1  ...   [6534178, 6533889, 6544236, 6534166, 397896]\n",
              "1        3  ...   [6534178, 480014, 6534166, 5668996, 6533889]\n",
              "2        6  ...  [6534178, 6534166, 1388206, 9245106, 6533889]\n",
              "3        7  ...  [6534178, 6533889, 6534166, 5668996, 1426702]\n",
              "4        8  ...   [6534166, 6534178, 397896, 1404121, 1022003]\n",
              "\n",
              "[5 rows x 11 columns]"
            ]
          },
          "metadata": {
            "tags": []
          },
          "execution_count": 65
        }
      ]
    },
    {
      "cell_type": "code",
      "metadata": {
        "id": "_0cu0VeTC8ZD"
      },
      "source": [
        "#result.apply(lambda x: precision_at_k(x['popular_recommendation'], x['actual'],  5), axis=1).mean()"
      ],
      "execution_count": 66,
      "outputs": []
    },
    {
      "cell_type": "code",
      "metadata": {
        "id": "YDlHC84tsHPn",
        "colab": {
          "base_uri": "https://localhost:8080/"
        },
        "outputId": "51a41ab6-adc9-4623-facd-eb9bf2571b59"
      },
      "source": [
        "for column in result.columns[2:]:\r\n",
        "    print(f\"Mean precision@5 for {column} is: {result.apply(lambda x: precision_at_k(x[column], x['actual'],  5), axis=1).mean()}\")"
      ],
      "execution_count": 67,
      "outputs": [
        {
          "output_type": "stream",
          "text": [
            "Mean precision@5 for random_recommendation is: 0.0002938295788442704\n",
            "Mean precision@5 for popular_recommendation is: 0.15523996082272082\n",
            "Mean precision@5 for itemitem is: 0.13692458374142857\n",
            "Mean precision@5 for cosine is: 0.13290891283055686\n",
            "Mean precision@5 for tfidf is: 0.1389813907933383\n",
            "Mean precision@5 for own_purchases is: 0.17969311132876015\n",
            "Mean precision@5 for itemitem_dummy_droped is: 0.07061704211557317\n",
            "Mean precision@5 for weighted_random_recommendation_by_sales_value is: 0.03046033300685615\n",
            "Mean precision@5 for weighted_random_recommendation_by_quantity is: 0.047404505386875975\n"
          ],
          "name": "stdout"
        }
      ]
    },
    {
      "cell_type": "markdown",
      "metadata": {
        "id": "_ylT9Ofg1q6R"
      },
      "source": [
        "Хуже всего работают случайные алгоритмы, но взвешенные оказываются относительно лучше полного рандома. Алгоритмы itemitem, cosine, tfidf - показали примерно одинаковую эффективность, но хуже бейзлайнов по популярности и собственным покупкам. Связываю это с тем, что данные бейзлайны завышают значение dummy-товара 999999, который мы и не будем рекомендовать."
      ]
    },
    {
      "cell_type": "markdown",
      "metadata": {
        "id": "qt2mqPG3uzGG"
      },
      "source": [
        "Вижу один из вариантов решения такой: выбирать алгоритмами 6 рекомендаций, а потом убирать от туда 999999. Так бы оставалось 5 валидных рекомендаций без dummy-товара. И на них же и сравнивать precision@k.\r\n",
        "\r\n",
        "Проверю гипотезу. Представим, что нужно было получить 4 рекомендации (чтобы не пересчитывать все алгоритмы). Для эксперимента я выкину 999999 из текущего файла рекомендаций и пересчитаю precision@4, чтобы посмотреть изменится ли относительное качество алгоритмов при таком подходе."
      ]
    },
    {
      "cell_type": "code",
      "metadata": {
        "id": "jLIh85MU-ayQ"
      },
      "source": [
        "result.to_csv(r'/content/drive/MyDrive/Colab Notebooks/recommender_systems/data/preds_new.csv', index=False)"
      ],
      "execution_count": 68,
      "outputs": []
    },
    {
      "cell_type": "code",
      "metadata": {
        "id": "mKq2b0Kzhq2z",
        "colab": {
          "base_uri": "https://localhost:8080/",
          "height": 629
        },
        "outputId": "8da16903-10ae-4b89-cf1d-0092a9f57c3f"
      },
      "source": [
        "result_4 = pd.read_csv(r'/content/drive/MyDrive/Colab Notebooks/recommender_systems/data/preds_new.csv')\r\n",
        "for a in result_4.columns[1:]:\r\n",
        "    result_4[a] =  result_4[a].map(lambda x: x[1:-1].split(', ')).apply(lambda x: list(map(int, x)))\r\n",
        "result_4.head()"
      ],
      "execution_count": 70,
      "outputs": [
        {
          "output_type": "execute_result",
          "data": {
            "text/html": [
              "<div>\n",
              "<style scoped>\n",
              "    .dataframe tbody tr th:only-of-type {\n",
              "        vertical-align: middle;\n",
              "    }\n",
              "\n",
              "    .dataframe tbody tr th {\n",
              "        vertical-align: top;\n",
              "    }\n",
              "\n",
              "    .dataframe thead th {\n",
              "        text-align: right;\n",
              "    }\n",
              "</style>\n",
              "<table border=\"1\" class=\"dataframe\">\n",
              "  <thead>\n",
              "    <tr style=\"text-align: right;\">\n",
              "      <th></th>\n",
              "      <th>user_id</th>\n",
              "      <th>actual</th>\n",
              "      <th>random_recommendation</th>\n",
              "      <th>popular_recommendation</th>\n",
              "      <th>itemitem</th>\n",
              "      <th>cosine</th>\n",
              "      <th>tfidf</th>\n",
              "      <th>own_purchases</th>\n",
              "      <th>itemitem_dummy_droped</th>\n",
              "      <th>weighted_random_recommendation_by_sales_value</th>\n",
              "      <th>weighted_random_recommendation_by_quantity</th>\n",
              "    </tr>\n",
              "  </thead>\n",
              "  <tbody>\n",
              "    <tr>\n",
              "      <th>0</th>\n",
              "      <td>1</td>\n",
              "      <td>[821867, 834484, 856942, 865456, 889248, 90795...</td>\n",
              "      <td>[15927063, 905162, 6034968, 10311367, 941944]</td>\n",
              "      <td>[6534178, 6533889, 1029743, 6534166, 1082185]</td>\n",
              "      <td>[999999, 1082185, 981760, 1127831, 995242]</td>\n",
              "      <td>[1082185, 999999, 981760, 1127831, 1098066]</td>\n",
              "      <td>[1082185, 981760, 1127831, 999999, 1098066]</td>\n",
              "      <td>[999999, 1082185, 1029743, 995785, 1004906]</td>\n",
              "      <td>[1082172, 981760, 1127825, 995242, 1097849]</td>\n",
              "      <td>[999999, 6633273, 6534178, 8090537, 827261]</td>\n",
              "      <td>[6534178, 6533889, 6544236, 6534166, 397896]</td>\n",
              "    </tr>\n",
              "    <tr>\n",
              "      <th>1</th>\n",
              "      <td>3</td>\n",
              "      <td>[835476, 851057, 872021, 878302, 879948, 90963...</td>\n",
              "      <td>[1122732, 983151, 6552927, 257927, 1074209]</td>\n",
              "      <td>[6534178, 6533889, 1029743, 6534166, 1082185]</td>\n",
              "      <td>[999999, 1082185, 981760, 1098066, 995242]</td>\n",
              "      <td>[1082185, 1098066, 981760, 999999, 826249]</td>\n",
              "      <td>[1082185, 981760, 1098066, 826249, 999999]</td>\n",
              "      <td>[999999, 1082185, 1098066, 6534178, 1127831]</td>\n",
              "      <td>[1082172, 981760, 1097849, 826249, 995242]</td>\n",
              "      <td>[999999, 960984, 1076738, 9245106, 882288]</td>\n",
              "      <td>[6534178, 480014, 6534166, 5668996, 6533889]</td>\n",
              "    </tr>\n",
              "    <tr>\n",
              "      <th>2</th>\n",
              "      <td>6</td>\n",
              "      <td>[920308, 926804, 946489, 1006718, 1017061, 107...</td>\n",
              "      <td>[969846, 866285, 10122659, 9485565, 6442626]</td>\n",
              "      <td>[6534178, 6533889, 1029743, 6534166, 1082185]</td>\n",
              "      <td>[999999, 1082185, 981760, 1127831, 995242]</td>\n",
              "      <td>[1082185, 999999, 981760, 1127831, 1098066]</td>\n",
              "      <td>[1082185, 981760, 1127831, 999999, 878996]</td>\n",
              "      <td>[999999, 1082185, 1029743, 6534178, 1127831]</td>\n",
              "      <td>[1082172, 981760, 1127825, 1097849, 995242]</td>\n",
              "      <td>[999999, 1062966, 883068, 1087916, 6534178]</td>\n",
              "      <td>[6534178, 6534166, 1388206, 9245106, 6533889]</td>\n",
              "    </tr>\n",
              "    <tr>\n",
              "      <th>3</th>\n",
              "      <td>7</td>\n",
              "      <td>[840386, 889774, 898068, 909714, 929067, 95347...</td>\n",
              "      <td>[5995778, 10311808, 7152900, 8069231, 1010481]</td>\n",
              "      <td>[6534178, 6533889, 1029743, 6534166, 1082185]</td>\n",
              "      <td>[999999, 1082185, 981760, 1127831, 995242]</td>\n",
              "      <td>[1082185, 981760, 999999, 1127831, 961554]</td>\n",
              "      <td>[1082185, 981760, 1127831, 999999, 961554]</td>\n",
              "      <td>[999999, 1082185, 1029743, 1127831, 995785]</td>\n",
              "      <td>[1082172, 981760, 1097849, 1127825, 995242]</td>\n",
              "      <td>[962229, 936355, 944836, 999999, 8067128]</td>\n",
              "      <td>[6534178, 6533889, 6534166, 5668996, 1426702]</td>\n",
              "    </tr>\n",
              "    <tr>\n",
              "      <th>4</th>\n",
              "      <td>8</td>\n",
              "      <td>[835098, 872137, 910439, 924610, 992977, 10412...</td>\n",
              "      <td>[1032838, 769086, 15828354, 1081434, 972437]</td>\n",
              "      <td>[6534178, 6533889, 1029743, 6534166, 1082185]</td>\n",
              "      <td>[999999, 1082185, 981760, 1127831, 1098066]</td>\n",
              "      <td>[1082185, 981760, 999999, 1098066, 826249]</td>\n",
              "      <td>[1082185, 981760, 999999, 1098066, 826249]</td>\n",
              "      <td>[999999, 1082185, 1029743, 1098066, 6534178]</td>\n",
              "      <td>[1082172, 981760, 1097849, 826249, 995242]</td>\n",
              "      <td>[999999, 6034648, 1058214, 978983, 849202]</td>\n",
              "      <td>[6534166, 6534178, 397896, 1404121, 1022003]</td>\n",
              "    </tr>\n",
              "  </tbody>\n",
              "</table>\n",
              "</div>"
            ],
            "text/plain": [
              "   user_id  ...     weighted_random_recommendation_by_quantity\n",
              "0        1  ...   [6534178, 6533889, 6544236, 6534166, 397896]\n",
              "1        3  ...   [6534178, 480014, 6534166, 5668996, 6533889]\n",
              "2        6  ...  [6534178, 6534166, 1388206, 9245106, 6533889]\n",
              "3        7  ...  [6534178, 6533889, 6534166, 5668996, 1426702]\n",
              "4        8  ...   [6534166, 6534178, 397896, 1404121, 1022003]\n",
              "\n",
              "[5 rows x 11 columns]"
            ]
          },
          "metadata": {
            "tags": []
          },
          "execution_count": 70
        }
      ]
    },
    {
      "cell_type": "code",
      "metadata": {
        "id": "66lLn0oPss_D"
      },
      "source": [
        "for column in result_4.columns[2:]:\r\n",
        "    result_4[column].apply(lambda x: x.pop(-1) if (999999 not in x) and (len(x) == 5) else x)\r\n",
        "    result_4[column].apply(lambda x: x.remove(999999) if 999999 in x else x)"
      ],
      "execution_count": 71,
      "outputs": []
    },
    {
      "cell_type": "code",
      "metadata": {
        "id": "9QuLUr_kheGt",
        "colab": {
          "base_uri": "https://localhost:8080/"
        },
        "outputId": "1568b289-2601-40c5-f25d-d7b5ef8bf53c"
      },
      "source": [
        "for column in result_4.columns[2:]:\r\n",
        "    print(f\"Mean precision@5 for {column} is: {result_4.apply(lambda x: precision_at_k(x[column], x['actual'],  4), axis=1).mean()}\")"
      ],
      "execution_count": 72,
      "outputs": [
        {
          "output_type": "stream",
          "text": [
            "Mean precision@5 for random_recommendation is: 0.0002448579823702253\n",
            "Mean precision@5 for popular_recommendation is: 0.10700293829578844\n",
            "Mean precision@5 for itemitem is: 0.17115572967678747\n",
            "Mean precision@5 for cosine is: 0.16613614103819785\n",
            "Mean precision@5 for tfidf is: 0.17115572967678747\n",
            "Mean precision@5 for own_purchases is: 0.22554080629301868\n"
          ],
          "name": "stdout"
        },
        {
          "output_type": "stream",
          "text": [
            "/usr/local/lib/python3.7/dist-packages/ipykernel_launcher.py:13: RuntimeWarning: invalid value encountered in long_scalars\n",
            "  del sys.path[0]\n"
          ],
          "name": "stderr"
        },
        {
          "output_type": "stream",
          "text": [
            "Mean precision@5 for itemitem_dummy_droped is: 0.0648873653281097\n",
            "Mean precision@5 for weighted_random_recommendation_by_sales_value is: 0.037830558276199806\n",
            "Mean precision@5 for weighted_random_recommendation_by_quantity is: 0.05754162585700294\n"
          ],
          "name": "stdout"
        }
      ]
    },
    {
      "cell_type": "markdown",
      "metadata": {
        "id": "m3N8O2owjb5P"
      },
      "source": [
        "Действительно, в итоге качество popular recomendation ухудшилось, т.к. мы убрали самый популярный dummy-товар. Алгоритмы, работающие на расстояниях, показали результат лучше всех бейзлайнов, кроме own_purchases.\r\n",
        "\r\n",
        "Это печально на первый взгляд :) \r\n",
        "\r\n",
        "Но значит ли это, что они хуже в данном кейсе? Скорее всего - нет. У нас датасет по продуктовому ритейлу. Для него характерны повторные покупки регулярных товаров, таких как хлеб, молоко, яйца, и т.п. Поэтому успех на тестовой выборке модели own_purchases только говорит о том, что пользователи верны своим предпочтениям и часть их продуктовой корзины повторяется. Наша же задача предложить им что-то новое, что увеличит чек и расширит продуктовый набор. Поэтому правильно будет смотреть качество моделей itemitem, cosine, tfidf уже после релиза."
      ]
    },
    {
      "cell_type": "markdown",
      "metadata": {
        "id": "igDU0j1cC8ZH"
      },
      "source": [
        "### Задание 3. Улучшение бейзлайнов и ItemItem\n",
        "\n",
        "- Попробуйте улучшить бейзлайны, считая их на топ-5000 товаров\n",
        "- Попробуйте улучшить разные варианты ItemItemRecommender, выбирая число соседей $K$.\n",
        "- Попробуйте стратегии ансамблирования изученных алгоритмов\n"
      ]
    },
    {
      "cell_type": "code",
      "metadata": {
        "id": "zYBR3cMPC8ZH",
        "colab": {
          "base_uri": "https://localhost:8080/",
          "height": 204
        },
        "outputId": "4356e721-b7a1-47f4-e937-2810508a50ab"
      },
      "source": [
        "popularity = data_train.groupby('item_id')['quantity'].sum().reset_index()\r\n",
        "popularity.rename(columns={'quantity': 'n_sold'}, inplace=True)\r\n",
        "\r\n",
        "popularity.head()"
      ],
      "execution_count": 74,
      "outputs": [
        {
          "output_type": "execute_result",
          "data": {
            "text/html": [
              "<div>\n",
              "<style scoped>\n",
              "    .dataframe tbody tr th:only-of-type {\n",
              "        vertical-align: middle;\n",
              "    }\n",
              "\n",
              "    .dataframe tbody tr th {\n",
              "        vertical-align: top;\n",
              "    }\n",
              "\n",
              "    .dataframe thead th {\n",
              "        text-align: right;\n",
              "    }\n",
              "</style>\n",
              "<table border=\"1\" class=\"dataframe\">\n",
              "  <thead>\n",
              "    <tr style=\"text-align: right;\">\n",
              "      <th></th>\n",
              "      <th>item_id</th>\n",
              "      <th>n_sold</th>\n",
              "    </tr>\n",
              "  </thead>\n",
              "  <tbody>\n",
              "    <tr>\n",
              "      <th>0</th>\n",
              "      <td>202291</td>\n",
              "      <td>35911</td>\n",
              "    </tr>\n",
              "    <tr>\n",
              "      <th>1</th>\n",
              "      <td>397896</td>\n",
              "      <td>1214994</td>\n",
              "    </tr>\n",
              "    <tr>\n",
              "      <th>2</th>\n",
              "      <td>420647</td>\n",
              "      <td>168661</td>\n",
              "    </tr>\n",
              "    <tr>\n",
              "      <th>3</th>\n",
              "      <td>480014</td>\n",
              "      <td>371107</td>\n",
              "    </tr>\n",
              "    <tr>\n",
              "      <th>4</th>\n",
              "      <td>545926</td>\n",
              "      <td>20134</td>\n",
              "    </tr>\n",
              "  </tbody>\n",
              "</table>\n",
              "</div>"
            ],
            "text/plain": [
              "   item_id   n_sold\n",
              "0   202291    35911\n",
              "1   397896  1214994\n",
              "2   420647   168661\n",
              "3   480014   371107\n",
              "4   545926    20134"
            ]
          },
          "metadata": {
            "tags": []
          },
          "execution_count": 74
        }
      ]
    },
    {
      "cell_type": "code",
      "metadata": {
        "id": "dcCB97PQzUzf",
        "colab": {
          "base_uri": "https://localhost:8080/"
        },
        "outputId": "baec7fd6-293c-4187-c2cd-fa9ff6ca01b6"
      },
      "source": [
        "top_5000 = popularity.sort_values('n_sold', ascending=False).head(5000).item_id.tolist()\r\n",
        "top_5000[:5]"
      ],
      "execution_count": 75,
      "outputs": [
        {
          "output_type": "execute_result",
          "data": {
            "text/plain": [
              "[6534178, 6533889, 6534166, 6544236, 1404121]"
            ]
          },
          "metadata": {
            "tags": []
          },
          "execution_count": 75
        }
      ]
    },
    {
      "cell_type": "code",
      "metadata": {
        "id": "BV6c0QVAz4oI"
      },
      "source": [
        "data_train_top5000_items = data_train.loc[data_train['item_id'].isin(top_5000), :]"
      ],
      "execution_count": 76,
      "outputs": []
    },
    {
      "cell_type": "code",
      "metadata": {
        "id": "68OzP2hp1vS3"
      },
      "source": [
        "def random_recommendation(items, n=5):\r\n",
        "    \"\"\"Случайные рекоммендации\"\"\"\r\n",
        "    \r\n",
        "    items = np.array(items)\r\n",
        "    recs = np.random.choice(items, size=n, replace=False)\r\n",
        "    \r\n",
        "    return recs.tolist()"
      ],
      "execution_count": 77,
      "outputs": []
    },
    {
      "cell_type": "code",
      "metadata": {
        "id": "ao63DFmN2KGb",
        "colab": {
          "base_uri": "https://localhost:8080/"
        },
        "outputId": "4ae21780-2a27-4253-99fc-4f896d2b772d"
      },
      "source": [
        "%%time\r\n",
        "\r\n",
        "items = data_train_top5000_items.item_id.unique()\r\n",
        "\r\n",
        "result['random_recommendation_top5000_items'] = result['user_id'].apply(lambda x: random_recommendation(items, n=5))"
      ],
      "execution_count": 78,
      "outputs": [
        {
          "output_type": "stream",
          "text": [
            "CPU times: user 267 ms, sys: 0 ns, total: 267 ms\n",
            "Wall time: 269 ms\n"
          ],
          "name": "stdout"
        }
      ]
    },
    {
      "cell_type": "code",
      "metadata": {
        "id": "WTqtu8IlJohZ"
      },
      "source": [
        "for column in result.columns[2:]:\r\n",
        "    print(f\"Mean precision@5 for {column} is: {result.apply(lambda x: precision_at_k(x[column], x['actual'],  5), axis=1).mean()}\")"
      ],
      "execution_count": null,
      "outputs": []
    },
    {
      "cell_type": "markdown",
      "metadata": {
        "id": "ZV2I25sDJphK"
      },
      "source": [
        "**Вывод:** Рандом на топ-5000 популярных товаров даёт качество чуть лучше, чем на всей выборке, что ожидаемо."
      ]
    },
    {
      "cell_type": "code",
      "metadata": {
        "id": "vlPL1vNpDRAY",
        "colab": {
          "base_uri": "https://localhost:8080/",
          "height": 100,
          "referenced_widgets": [
            "c6af945ddcad4f0e83364e4f3456761b",
            "7b0f2864eb7648aaa0107ad264dfae85",
            "46f53128363b4973a522e747eceb5264",
            "e659dfb498004dad8d79c28d9149665b",
            "32544635c3fb4eb6abc7768c8ca81fe6",
            "d7c14b9b4f89475a9c3212c26678fbed",
            "e6f0bfd388d745d383c75b6414fa28b1",
            "acf3512959aa4c94ace6d00f95bfa66a"
          ]
        },
        "outputId": "97e50e2e-5363-47b0-e68a-0f26737474e6"
      },
      "source": [
        "%%time\r\n",
        "\r\n",
        "model = ItemItemRecommender(K=10, num_threads=4) # K - кол-во билжайших соседей, по умолчанию используется 20, но мы ранее брали 5\r\n",
        "\r\n",
        "model.fit(csr_matrix(user_item_matrix).T.tocsr(),  # На вход item-user matrix\r\n",
        "          show_progress=True)\r\n",
        "\r\n",
        "result['itemitem_k_10'] = result['user_id'].\\\r\n",
        "    apply(lambda x: [id_to_itemid[rec[0]] for rec in \r\n",
        "                    model.recommend(userid=userid_to_id[x], \r\n",
        "                                    user_items=sparse_user_item,   # на вход user-item matrix\r\n",
        "                                    N=5, \r\n",
        "                                    filter_already_liked_items=False, \r\n",
        "                                    filter_items=None, \r\n",
        "                                    recalculate_user=True)])"
      ],
      "execution_count": 79,
      "outputs": [
        {
          "output_type": "display_data",
          "data": {
            "application/vnd.jupyter.widget-view+json": {
              "model_id": "c6af945ddcad4f0e83364e4f3456761b",
              "version_minor": 0,
              "version_major": 2
            },
            "text/plain": [
              "HBox(children=(FloatProgress(value=0.0, max=5001.0), HTML(value='')))"
            ]
          },
          "metadata": {
            "tags": []
          }
        },
        {
          "output_type": "stream",
          "text": [
            "\n",
            "CPU times: user 2.28 s, sys: 24 ms, total: 2.31 s\n",
            "Wall time: 1.77 s\n"
          ],
          "name": "stdout"
        }
      ]
    },
    {
      "cell_type": "code",
      "metadata": {
        "id": "Q9lFZzJKEKb3",
        "colab": {
          "base_uri": "https://localhost:8080/",
          "height": 100,
          "referenced_widgets": [
            "55ec8a764b0546cf924ba435a5b1937f",
            "4ad0d0e166414d908c68d68467a39338",
            "818d311971ef4f5daf7fc3941ad0c132",
            "7a5c37a620864ce082681d3c581330ff",
            "54541ac4f7e544d298f99a5e8095c6c4",
            "ea2398580ec6492f89ec70b93f12d7b8",
            "510cbaa7698e4a14b34016883c07bc15",
            "8bd28c83aad04f039f68b993966c7dd4"
          ]
        },
        "outputId": "7e1c0e7d-6318-4d55-eace-f0ec01372586"
      },
      "source": [
        "%%time\r\n",
        "\r\n",
        "model = ItemItemRecommender(K=20, num_threads=4) # K - кол-во билжайших соседей, по умолчанию используется 20, но мы ранее брали 5\r\n",
        "\r\n",
        "model.fit(csr_matrix(user_item_matrix).T.tocsr(),  # На вход item-user matrix\r\n",
        "          show_progress=True)\r\n",
        "\r\n",
        "result['itemitem_k_20'] = result['user_id'].\\\r\n",
        "    apply(lambda x: [id_to_itemid[rec[0]] for rec in \r\n",
        "                    model.recommend(userid=userid_to_id[x], \r\n",
        "                                    user_items=sparse_user_item,   # на вход user-item matrix\r\n",
        "                                    N=5, \r\n",
        "                                    filter_already_liked_items=False, \r\n",
        "                                    filter_items=None, \r\n",
        "                                    recalculate_user=True)])"
      ],
      "execution_count": 80,
      "outputs": [
        {
          "output_type": "display_data",
          "data": {
            "application/vnd.jupyter.widget-view+json": {
              "model_id": "55ec8a764b0546cf924ba435a5b1937f",
              "version_minor": 0,
              "version_major": 2
            },
            "text/plain": [
              "HBox(children=(FloatProgress(value=0.0, max=5001.0), HTML(value='')))"
            ]
          },
          "metadata": {
            "tags": []
          }
        },
        {
          "output_type": "stream",
          "text": [
            "\n",
            "CPU times: user 2.41 s, sys: 26.3 ms, total: 2.44 s\n",
            "Wall time: 1.8 s\n"
          ],
          "name": "stdout"
        }
      ]
    },
    {
      "cell_type": "code",
      "metadata": {
        "id": "al879T4xELDG",
        "colab": {
          "base_uri": "https://localhost:8080/",
          "height": 100,
          "referenced_widgets": [
            "8dfdecb16a1441fe9cc0a49c9a204e32",
            "94181747022b4faba21853c653c43151",
            "990b34771cc743fcb12bf56f0a6da02c",
            "2542442e3b9c4fa3a361d3f7ec9bcc24",
            "3e325803045d48ce847df011f5efc4ed",
            "2b7091f7261d478eb486e242f39a12ce",
            "28c463a1977d4e6b96cefc38a9e1c7fe",
            "903cabe6fbe54b84a6e5e8e8a1ecf5f0"
          ]
        },
        "outputId": "956e79c0-6c20-41f6-b16e-0776a31a44d3"
      },
      "source": [
        "%%time\r\n",
        "\r\n",
        "model = ItemItemRecommender(K=30, num_threads=4) # K - кол-во билжайших соседей, по умолчанию используется 20, но мы ранее брали 5\r\n",
        "\r\n",
        "model.fit(csr_matrix(user_item_matrix).T.tocsr(),  # На вход item-user matrix\r\n",
        "          show_progress=True)\r\n",
        "\r\n",
        "result['itemitem_k_30'] = result['user_id'].\\\r\n",
        "    apply(lambda x: [id_to_itemid[rec[0]] for rec in \r\n",
        "                    model.recommend(userid=userid_to_id[x], \r\n",
        "                                    user_items=sparse_user_item,   # на вход user-item matrix\r\n",
        "                                    N=5, \r\n",
        "                                    filter_already_liked_items=False, \r\n",
        "                                    filter_items=None, \r\n",
        "                                    recalculate_user=True)])"
      ],
      "execution_count": 81,
      "outputs": [
        {
          "output_type": "display_data",
          "data": {
            "application/vnd.jupyter.widget-view+json": {
              "model_id": "8dfdecb16a1441fe9cc0a49c9a204e32",
              "version_minor": 0,
              "version_major": 2
            },
            "text/plain": [
              "HBox(children=(FloatProgress(value=0.0, max=5001.0), HTML(value='')))"
            ]
          },
          "metadata": {
            "tags": []
          }
        },
        {
          "output_type": "stream",
          "text": [
            "\n",
            "CPU times: user 2.48 s, sys: 19.4 ms, total: 2.5 s\n",
            "Wall time: 1.81 s\n"
          ],
          "name": "stdout"
        }
      ]
    },
    {
      "cell_type": "code",
      "metadata": {
        "id": "_JCo00r2EWDo",
        "colab": {
          "base_uri": "https://localhost:8080/",
          "height": 100,
          "referenced_widgets": [
            "94ecae18613441e793b88ccd2e7819aa",
            "829994089698429d8d5a278a3daceef0",
            "3a396c6e54b54d00b47b964f2ad546dc",
            "d80a4a7ebe894842b26feb5e9920e119",
            "03c38dce33f842e785f7eb01a6361a73",
            "acaf9b99a77b439e865c61ff80f9d1a7",
            "bd125b3d0d194a3f94743061a22c23b6",
            "27574ee26cab40f89045fbae4f8077f0"
          ]
        },
        "outputId": "685157ee-af1d-43e8-83e4-250c25f9a240"
      },
      "source": [
        "%%time\r\n",
        "\r\n",
        "model = CosineRecommender(K=10, num_threads=4) # K - кол-во билжайших соседей, по умолчанию используется 20, но мы ранее брали 5\r\n",
        "\r\n",
        "model.fit(csr_matrix(user_item_matrix).T.tocsr(), \r\n",
        "          show_progress=True)\r\n",
        "\r\n",
        "result['cosine_k_10'] = result['user_id'].\\\r\n",
        "    apply(lambda x: [id_to_itemid[rec[0]] for rec in \r\n",
        "                    model.recommend(userid=userid_to_id[x], \r\n",
        "                                    user_items=sparse_user_item,   # на вход user-item matrix\r\n",
        "                                    N=5, \r\n",
        "                                    filter_already_liked_items=False, \r\n",
        "                                    filter_items=None, \r\n",
        "                                    recalculate_user=True)])"
      ],
      "execution_count": 82,
      "outputs": [
        {
          "output_type": "display_data",
          "data": {
            "application/vnd.jupyter.widget-view+json": {
              "model_id": "94ecae18613441e793b88ccd2e7819aa",
              "version_minor": 0,
              "version_major": 2
            },
            "text/plain": [
              "HBox(children=(FloatProgress(value=0.0, max=5001.0), HTML(value='')))"
            ]
          },
          "metadata": {
            "tags": []
          }
        },
        {
          "output_type": "stream",
          "text": [
            "\n",
            "CPU times: user 2.3 s, sys: 32.8 ms, total: 2.33 s\n",
            "Wall time: 1.77 s\n"
          ],
          "name": "stdout"
        }
      ]
    },
    {
      "cell_type": "code",
      "metadata": {
        "id": "_AOnZQXJEcLB",
        "colab": {
          "base_uri": "https://localhost:8080/",
          "height": 100,
          "referenced_widgets": [
            "ae16a459a963429b92f751eca9b1f60e",
            "197d3973a4154cc7ae5dd9f51c9c926a",
            "feb8f918cef044658d7ba57582bb8934",
            "f34c434dd54f47a0a8134600a2dab658",
            "8a1f096eadd2444fb7db0a32db90297c",
            "8d6b4d136b24435faf83779ee3b436c2",
            "531f357e9de1488daa799480ad72dd3b",
            "d6021ad8c8b64b36a44e8de8775def2c"
          ]
        },
        "outputId": "9b080eeb-b0e1-4aba-87cd-65d7043d2881"
      },
      "source": [
        "%%time\r\n",
        "\r\n",
        "model = CosineRecommender(K=20, num_threads=4) # K - кол-во билжайших соседей, по умолчанию используется 20, но мы ранее брали 5\r\n",
        "\r\n",
        "model.fit(csr_matrix(user_item_matrix).T.tocsr(), \r\n",
        "          show_progress=True)\r\n",
        "\r\n",
        "result['cosine_k_20'] = result['user_id'].\\\r\n",
        "    apply(lambda x: [id_to_itemid[rec[0]] for rec in \r\n",
        "                    model.recommend(userid=userid_to_id[x], \r\n",
        "                                    user_items=sparse_user_item,   # на вход user-item matrix\r\n",
        "                                    N=5, \r\n",
        "                                    filter_already_liked_items=False, \r\n",
        "                                    filter_items=None, \r\n",
        "                                    recalculate_user=True)])"
      ],
      "execution_count": 83,
      "outputs": [
        {
          "output_type": "display_data",
          "data": {
            "application/vnd.jupyter.widget-view+json": {
              "model_id": "ae16a459a963429b92f751eca9b1f60e",
              "version_minor": 0,
              "version_major": 2
            },
            "text/plain": [
              "HBox(children=(FloatProgress(value=0.0, max=5001.0), HTML(value='')))"
            ]
          },
          "metadata": {
            "tags": []
          }
        },
        {
          "output_type": "stream",
          "text": [
            "\n",
            "CPU times: user 2.4 s, sys: 36.8 ms, total: 2.44 s\n",
            "Wall time: 1.87 s\n"
          ],
          "name": "stdout"
        }
      ]
    },
    {
      "cell_type": "code",
      "metadata": {
        "id": "AK-rwyngEcOe",
        "colab": {
          "base_uri": "https://localhost:8080/",
          "height": 100,
          "referenced_widgets": [
            "1b9ddf9f18a34bbabdbf7b7ad7af40bf",
            "761aec9759de4b4ba7f167d9db283b99",
            "d14172ae0c4e454e830e24238549a043",
            "8a335696b1ba477a9a7e420980df2f7b",
            "eef0042c6b3d44bea8f3e411ae3316be",
            "bf2f1d67aa3544c6893b40e3d14fbdd9",
            "82d5733118fa4bb88c7572f08a4d86ab",
            "c6fafa407a424d8a88e0742835fc65fd"
          ]
        },
        "outputId": "b768cdde-9ab7-4206-d264-67689cfbe2fe"
      },
      "source": [
        "%%time\r\n",
        "\r\n",
        "model = CosineRecommender(K=30, num_threads=4) # K - кол-во билжайших соседей, по умолчанию используется 20, но мы ранее брали 5\r\n",
        "\r\n",
        "model.fit(csr_matrix(user_item_matrix).T.tocsr(), \r\n",
        "          show_progress=True)\r\n",
        "\r\n",
        "result['cosine_k_30'] = result['user_id'].\\\r\n",
        "    apply(lambda x: [id_to_itemid[rec[0]] for rec in \r\n",
        "                    model.recommend(userid=userid_to_id[x], \r\n",
        "                                    user_items=sparse_user_item,   # на вход user-item matrix\r\n",
        "                                    N=5, \r\n",
        "                                    filter_already_liked_items=False, \r\n",
        "                                    filter_items=None, \r\n",
        "                                    recalculate_user=True)])"
      ],
      "execution_count": 84,
      "outputs": [
        {
          "output_type": "display_data",
          "data": {
            "application/vnd.jupyter.widget-view+json": {
              "model_id": "1b9ddf9f18a34bbabdbf7b7ad7af40bf",
              "version_minor": 0,
              "version_major": 2
            },
            "text/plain": [
              "HBox(children=(FloatProgress(value=0.0, max=5001.0), HTML(value='')))"
            ]
          },
          "metadata": {
            "tags": []
          }
        },
        {
          "output_type": "stream",
          "text": [
            "\n",
            "CPU times: user 2.45 s, sys: 30.3 ms, total: 2.48 s\n",
            "Wall time: 1.87 s\n"
          ],
          "name": "stdout"
        }
      ]
    },
    {
      "cell_type": "code",
      "metadata": {
        "id": "dNJi73gkEcdT",
        "colab": {
          "base_uri": "https://localhost:8080/",
          "height": 100,
          "referenced_widgets": [
            "9787bd6ca33941ca998b406bb220b26f",
            "4a77859ac63244b19cf20c97a6a3eaa7",
            "27074cafcac148118ecacfbba79f5802",
            "537cee504b6f4592b948d78c8498cf98",
            "6b4b41c79a6342c099c6c65d2c3a0c8a",
            "03a0889a021b4151a02f88659e6d1541",
            "ef6e1d5cffe54f5aadbe3cff5568deab",
            "d1b2278b11e543e1bbccdf071bb53c82"
          ]
        },
        "outputId": "8c792cc1-1978-42fd-e76f-ac4f8a3273de"
      },
      "source": [
        "%%time\r\n",
        "\r\n",
        "model = TFIDFRecommender(K=10, num_threads=4) # K - кол-во билжайших соседей, по умолчанию используется 20, но мы ранее брали 5\r\n",
        "\r\n",
        "model.fit(csr_matrix(user_item_matrix).T.tocsr(), \r\n",
        "          show_progress=True)\r\n",
        "\r\n",
        "result['tfidf_k_10'] = result['user_id'].\\\r\n",
        "    apply(lambda x: [id_to_itemid[rec[0]] for rec in \r\n",
        "                    model.recommend(userid=userid_to_id[x], \r\n",
        "                                    user_items=sparse_user_item,   # на вход user-item matrix\r\n",
        "                                    N=5, \r\n",
        "                                    filter_already_liked_items=False, \r\n",
        "                                    filter_items=None, \r\n",
        "                                    recalculate_user=False)])"
      ],
      "execution_count": 85,
      "outputs": [
        {
          "output_type": "display_data",
          "data": {
            "application/vnd.jupyter.widget-view+json": {
              "model_id": "9787bd6ca33941ca998b406bb220b26f",
              "version_minor": 0,
              "version_major": 2
            },
            "text/plain": [
              "HBox(children=(FloatProgress(value=0.0, max=5001.0), HTML(value='')))"
            ]
          },
          "metadata": {
            "tags": []
          }
        },
        {
          "output_type": "stream",
          "text": [
            "\n",
            "CPU times: user 2.3 s, sys: 31.7 ms, total: 2.34 s\n",
            "Wall time: 1.72 s\n"
          ],
          "name": "stdout"
        }
      ]
    },
    {
      "cell_type": "code",
      "metadata": {
        "id": "w4Oaot7cEcgK",
        "colab": {
          "base_uri": "https://localhost:8080/",
          "height": 100,
          "referenced_widgets": [
            "cf6d81fab06844e896537c702055d3fa",
            "f2d43dd2ef70457fbd7706093cf540d6",
            "e738f1f3fbe44087a7ba7e6b757ac029",
            "b9b10d9b5f064629bd2a249a6d8b217c",
            "bec9081261c44cd295cb4f982eb1477f",
            "9b29e915ebde416c98fe34864c99e54b",
            "761b85d3c8c94b689545f252d7e01203",
            "8187492589d74f16b2d3a63c90f5dc46"
          ]
        },
        "outputId": "721dd6d0-9eb2-412f-ec5e-787c69e73d3b"
      },
      "source": [
        "%%time\r\n",
        "\r\n",
        "model = TFIDFRecommender(K=20, num_threads=4) # K - кол-во билжайших соседей, по умолчанию используется 20, но мы ранее брали 5\r\n",
        "\r\n",
        "model.fit(csr_matrix(user_item_matrix).T.tocsr(), \r\n",
        "          show_progress=True)\r\n",
        "\r\n",
        "result['tfidf_k_20'] = result['user_id'].\\\r\n",
        "    apply(lambda x: [id_to_itemid[rec[0]] for rec in \r\n",
        "                    model.recommend(userid=userid_to_id[x], \r\n",
        "                                    user_items=sparse_user_item,   # на вход user-item matrix\r\n",
        "                                    N=5, \r\n",
        "                                    filter_already_liked_items=False, \r\n",
        "                                    filter_items=None, \r\n",
        "                                    recalculate_user=False)])"
      ],
      "execution_count": 86,
      "outputs": [
        {
          "output_type": "display_data",
          "data": {
            "application/vnd.jupyter.widget-view+json": {
              "model_id": "cf6d81fab06844e896537c702055d3fa",
              "version_minor": 0,
              "version_major": 2
            },
            "text/plain": [
              "HBox(children=(FloatProgress(value=0.0, max=5001.0), HTML(value='')))"
            ]
          },
          "metadata": {
            "tags": []
          }
        },
        {
          "output_type": "stream",
          "text": [
            "\n",
            "CPU times: user 2.38 s, sys: 31.2 ms, total: 2.42 s\n",
            "Wall time: 1.82 s\n"
          ],
          "name": "stdout"
        }
      ]
    },
    {
      "cell_type": "code",
      "metadata": {
        "id": "jOd-Eo-LEcja",
        "colab": {
          "base_uri": "https://localhost:8080/",
          "height": 100,
          "referenced_widgets": [
            "e6ba3068825741a3b3bb77d9531e39ff",
            "491b93254aab4779960778c20c84f2c1",
            "dadf665718854d1eabe091fad47e3d43",
            "57fe1d7bdb414fb8be7b76a1d4d032e5",
            "829a3c3035d84ee59ac73d2606e56d81",
            "6e16903dab67441fb92601f4924fa498",
            "40e47645b08d44f399db079a59721ad3",
            "a49482c80ab74ffcbaf7b0da8cdf6974"
          ]
        },
        "outputId": "5dce5fae-3d8f-4862-b9ae-9e580718c145"
      },
      "source": [
        "%%time\r\n",
        "\r\n",
        "model = TFIDFRecommender(K=30, num_threads=4) # K - кол-во билжайших соседей, по умолчанию используется 20, но мы ранее брали 5\r\n",
        "\r\n",
        "model.fit(csr_matrix(user_item_matrix).T.tocsr(), \r\n",
        "          show_progress=True)\r\n",
        "\r\n",
        "result['tfidf_k_30'] = result['user_id'].\\\r\n",
        "    apply(lambda x: [id_to_itemid[rec[0]] for rec in \r\n",
        "                    model.recommend(userid=userid_to_id[x], \r\n",
        "                                    user_items=sparse_user_item,   # на вход user-item matrix\r\n",
        "                                    N=5, \r\n",
        "                                    filter_already_liked_items=False, \r\n",
        "                                    filter_items=None, \r\n",
        "                                    recalculate_user=False)])"
      ],
      "execution_count": 87,
      "outputs": [
        {
          "output_type": "display_data",
          "data": {
            "application/vnd.jupyter.widget-view+json": {
              "model_id": "e6ba3068825741a3b3bb77d9531e39ff",
              "version_minor": 0,
              "version_major": 2
            },
            "text/plain": [
              "HBox(children=(FloatProgress(value=0.0, max=5001.0), HTML(value='')))"
            ]
          },
          "metadata": {
            "tags": []
          }
        },
        {
          "output_type": "stream",
          "text": [
            "\n",
            "CPU times: user 2.45 s, sys: 29.3 ms, total: 2.48 s\n",
            "Wall time: 1.8 s\n"
          ],
          "name": "stdout"
        }
      ]
    },
    {
      "cell_type": "code",
      "metadata": {
        "id": "txhgbSWEFAs2",
        "colab": {
          "base_uri": "https://localhost:8080/"
        },
        "outputId": "66b62700-769c-4f26-eb54-4d948eabd4cc"
      },
      "source": [
        "for column in result.columns[2:]:\r\n",
        "    print(f\"Mean precision@5 for {column} is: {result.apply(lambda x: precision_at_k(x[column], x['actual'],  5), axis=1).mean()}\")"
      ],
      "execution_count": 88,
      "outputs": [
        {
          "output_type": "stream",
          "text": [
            "Mean precision@5 for random_recommendation is: 0.0002938295788442704\n",
            "Mean precision@5 for popular_recommendation is: 0.15523996082272082\n",
            "Mean precision@5 for itemitem is: 0.13692458374142857\n",
            "Mean precision@5 for cosine is: 0.13290891283055686\n",
            "Mean precision@5 for tfidf is: 0.1389813907933383\n",
            "Mean precision@5 for own_purchases is: 0.17969311132876015\n",
            "Mean precision@5 for itemitem_dummy_droped is: 0.07061704211557317\n",
            "Mean precision@5 for weighted_random_recommendation_by_sales_value is: 0.03046033300685615\n",
            "Mean precision@5 for weighted_random_recommendation_by_quantity is: 0.047404505386875975\n",
            "Mean precision@5 for random_recommendation_top5000_items is: 0.004897159647404504\n",
            "Mean precision@5 for itemitem_k_10 is: 0.15093046033300497\n",
            "Mean precision@5 for itemitem_k_20 is: 0.15259549461312247\n",
            "Mean precision@5 for itemitem_k_30 is: 0.14946131243878374\n",
            "Mean precision@5 for cosine_k_10 is: 0.1320274240940242\n",
            "Mean precision@5 for cosine_k_20 is: 0.1366307541625843\n",
            "Mean precision@5 for cosine_k_30 is: 0.13898139079333832\n",
            "Mean precision@5 for tfidf_k_10 is: 0.14152791380998855\n",
            "Mean precision@5 for tfidf_k_20 is: 0.14985308521057614\n",
            "Mean precision@5 for tfidf_k_30 is: 0.1506366307541607\n"
          ],
          "name": "stdout"
        }
      ]
    },
    {
      "cell_type": "markdown",
      "metadata": {
        "id": "X8rQOFobKasy"
      },
      "source": [
        "**Вывод:** подбор числа k-ближайших соседей позволяет сильно улучшить модели."
      ]
    },
    {
      "cell_type": "code",
      "metadata": {
        "colab": {
          "base_uri": "https://localhost:8080/",
          "height": 301
        },
        "id": "GP5LjRXWNVuj",
        "outputId": "347a0492-141c-4691-d20d-3eb87afb29c3"
      },
      "source": [
        "# Попробуем разные куски от разных типов рекомендаций\r\n",
        "result['popular'] = result['popular_recommendation'].apply(lambda x: x[:2])\r\n",
        "result['own'] = result['own_purchases'].apply(lambda x: x[2:])\r\n",
        "result['Popular_and_own'] = result['popular'] + result['own']\r\n",
        "result = result.drop(columns=['popular', 'own'])\r\n",
        "\r\n",
        "result['popular'] = result['popular_recommendation'].apply(lambda x: x[2:])\r\n",
        "result['own'] = result['own_purchases'].apply(lambda x: x[:2])\r\n",
        "result['Own_and_popular'] = result['own'] + result['popular']\r\n",
        "result = result.drop(columns=['own', 'popular'])\r\n",
        "\r\n",
        "result['ii_k20'] = result['itemitem_k_20'].apply(lambda x: x[:2])\r\n",
        "result['tf_k30'] = result['tfidf_k_30'].apply(lambda x: x[2:])\r\n",
        "result['ii_k20_tf_k30'] = result['ii_k20'] + result['tf_k30']\r\n",
        "result = result.drop(columns=['ii_k20', 'tf_k30'])\r\n",
        "\r\n",
        "result.head(2)"
      ],
      "execution_count": 107,
      "outputs": [
        {
          "output_type": "execute_result",
          "data": {
            "text/html": [
              "<div>\n",
              "<style scoped>\n",
              "    .dataframe tbody tr th:only-of-type {\n",
              "        vertical-align: middle;\n",
              "    }\n",
              "\n",
              "    .dataframe tbody tr th {\n",
              "        vertical-align: top;\n",
              "    }\n",
              "\n",
              "    .dataframe thead th {\n",
              "        text-align: right;\n",
              "    }\n",
              "</style>\n",
              "<table border=\"1\" class=\"dataframe\">\n",
              "  <thead>\n",
              "    <tr style=\"text-align: right;\">\n",
              "      <th></th>\n",
              "      <th>user_id</th>\n",
              "      <th>actual</th>\n",
              "      <th>random_recommendation</th>\n",
              "      <th>popular_recommendation</th>\n",
              "      <th>itemitem</th>\n",
              "      <th>cosine</th>\n",
              "      <th>tfidf</th>\n",
              "      <th>own_purchases</th>\n",
              "      <th>itemitem_dummy_droped</th>\n",
              "      <th>weighted_random_recommendation_by_sales_value</th>\n",
              "      <th>weighted_random_recommendation_by_quantity</th>\n",
              "      <th>random_recommendation_top5000_items</th>\n",
              "      <th>itemitem_k_10</th>\n",
              "      <th>itemitem_k_20</th>\n",
              "      <th>itemitem_k_30</th>\n",
              "      <th>cosine_k_10</th>\n",
              "      <th>cosine_k_20</th>\n",
              "      <th>cosine_k_30</th>\n",
              "      <th>tfidf_k_10</th>\n",
              "      <th>tfidf_k_20</th>\n",
              "      <th>tfidf_k_30</th>\n",
              "      <th>Popular_and_own</th>\n",
              "      <th>Own_and_popular</th>\n",
              "      <th>ii_k20_tf_k30</th>\n",
              "    </tr>\n",
              "  </thead>\n",
              "  <tbody>\n",
              "    <tr>\n",
              "      <th>0</th>\n",
              "      <td>1</td>\n",
              "      <td>[821867, 834484, 856942, 865456, 889248, 90795...</td>\n",
              "      <td>[15927063, 905162, 6034968, 10311367, 941944]</td>\n",
              "      <td>[6534178, 6533889, 1029743, 6534166, 1082185]</td>\n",
              "      <td>[999999, 1082185, 981760, 1127831, 995242]</td>\n",
              "      <td>[1082185, 999999, 981760, 1127831, 1098066]</td>\n",
              "      <td>[1082185, 981760, 1127831, 999999, 1098066]</td>\n",
              "      <td>[999999, 1082185, 1029743, 995785, 1004906]</td>\n",
              "      <td>[1082172, 981760, 1127825, 995242, 1097849]</td>\n",
              "      <td>[999999, 6633273, 6534178, 8090537, 827261]</td>\n",
              "      <td>[6534178, 6533889, 6544236, 6534166, 397896]</td>\n",
              "      <td>[863506, 10180324, 913144, 848669, 1082185]</td>\n",
              "      <td>[999999, 1082185, 981760, 995242, 840361]</td>\n",
              "      <td>[999999, 1082185, 981760, 995242, 840361]</td>\n",
              "      <td>[999999, 1082185, 981760, 995242, 1127831]</td>\n",
              "      <td>[1082185, 999999, 981760, 1127831, 961554]</td>\n",
              "      <td>[1082185, 999999, 981760, 1127831, 961554]</td>\n",
              "      <td>[1082185, 999999, 981760, 1127831, 961554]</td>\n",
              "      <td>[1082185, 981760, 1127831, 999999, 961554]</td>\n",
              "      <td>[1082185, 981760, 1127831, 999999, 840361]</td>\n",
              "      <td>[1082185, 981760, 1127831, 840361, 961554]</td>\n",
              "      <td>[6534178, 6533889, 1029743, 995785, 1004906]</td>\n",
              "      <td>[999999, 1082185, 1029743, 6534166, 1082185]</td>\n",
              "      <td>[999999, 1082185, 1127831, 840361, 961554]</td>\n",
              "    </tr>\n",
              "    <tr>\n",
              "      <th>1</th>\n",
              "      <td>3</td>\n",
              "      <td>[835476, 851057, 872021, 878302, 879948, 90963...</td>\n",
              "      <td>[1122732, 983151, 6552927, 257927, 1074209]</td>\n",
              "      <td>[6534178, 6533889, 1029743, 6534166, 1082185]</td>\n",
              "      <td>[999999, 1082185, 981760, 1098066, 995242]</td>\n",
              "      <td>[1082185, 1098066, 981760, 999999, 826249]</td>\n",
              "      <td>[1082185, 981760, 1098066, 826249, 999999]</td>\n",
              "      <td>[999999, 1082185, 1098066, 6534178, 1127831]</td>\n",
              "      <td>[1082172, 981760, 1097849, 826249, 995242]</td>\n",
              "      <td>[999999, 960984, 1076738, 9245106, 882288]</td>\n",
              "      <td>[6534178, 480014, 6534166, 5668996, 6533889]</td>\n",
              "      <td>[837579, 8119157, 907014, 1131312, 1051211]</td>\n",
              "      <td>[999999, 1082185, 981760, 1098066, 826249]</td>\n",
              "      <td>[999999, 1082185, 981760, 1098066, 826249]</td>\n",
              "      <td>[999999, 1082185, 981760, 1098066, 826249]</td>\n",
              "      <td>[1082185, 1098066, 981760, 999999, 826249]</td>\n",
              "      <td>[1082185, 1098066, 826249, 981760, 999999]</td>\n",
              "      <td>[1098066, 1082185, 826249, 981760, 999999]</td>\n",
              "      <td>[1082185, 1098066, 981760, 826249, 1044078]</td>\n",
              "      <td>[1082185, 981760, 826249, 1098066, 999999]</td>\n",
              "      <td>[1082185, 1098066, 826249, 981760, 1044078]</td>\n",
              "      <td>[6534178, 6533889, 1098066, 6534178, 1127831]</td>\n",
              "      <td>[999999, 1082185, 1029743, 6534166, 1082185]</td>\n",
              "      <td>[999999, 1082185, 826249, 981760, 1044078]</td>\n",
              "    </tr>\n",
              "  </tbody>\n",
              "</table>\n",
              "</div>"
            ],
            "text/plain": [
              "   user_id  ...                               ii_k20_tf_k30\n",
              "0        1  ...  [999999, 1082185, 1127831, 840361, 961554]\n",
              "1        3  ...  [999999, 1082185, 826249, 981760, 1044078]\n",
              "\n",
              "[2 rows x 24 columns]"
            ]
          },
          "metadata": {
            "tags": []
          },
          "execution_count": 107
        }
      ]
    },
    {
      "cell_type": "code",
      "metadata": {
        "colab": {
          "base_uri": "https://localhost:8080/"
        },
        "id": "jXKROedQdXwK",
        "outputId": "fc681e30-dab1-45f7-d0ea-935fbd3dc8bf"
      },
      "source": [
        "for column in result.columns[2:]:\r\n",
        "    print(f\"Mean precision@5 for {column} is: {result.apply(lambda x: precision_at_k(x[column], x['actual'],  5), axis=1).mean()}\")"
      ],
      "execution_count": 108,
      "outputs": [
        {
          "output_type": "stream",
          "text": [
            "Mean precision@5 for random_recommendation is: 0.0002938295788442704\n",
            "Mean precision@5 for popular_recommendation is: 0.15523996082272082\n",
            "Mean precision@5 for itemitem is: 0.13692458374142857\n",
            "Mean precision@5 for cosine is: 0.13290891283055686\n",
            "Mean precision@5 for tfidf is: 0.1389813907933383\n",
            "Mean precision@5 for own_purchases is: 0.17969311132876015\n",
            "Mean precision@5 for itemitem_dummy_droped is: 0.07061704211557317\n",
            "Mean precision@5 for weighted_random_recommendation_by_sales_value is: 0.03046033300685615\n",
            "Mean precision@5 for weighted_random_recommendation_by_quantity is: 0.047404505386875975\n",
            "Mean precision@5 for random_recommendation_top5000_items is: 0.004897159647404504\n",
            "Mean precision@5 for itemitem_k_10 is: 0.15093046033300497\n",
            "Mean precision@5 for itemitem_k_20 is: 0.15259549461312247\n",
            "Mean precision@5 for itemitem_k_30 is: 0.14946131243878374\n",
            "Mean precision@5 for cosine_k_10 is: 0.1320274240940242\n",
            "Mean precision@5 for cosine_k_20 is: 0.1366307541625843\n",
            "Mean precision@5 for cosine_k_30 is: 0.13898139079333832\n",
            "Mean precision@5 for tfidf_k_10 is: 0.14152791380998855\n",
            "Mean precision@5 for tfidf_k_20 is: 0.14985308521057614\n",
            "Mean precision@5 for tfidf_k_30 is: 0.1506366307541607\n",
            "Mean precision@5 for Popular_and_own is: 0.1131243878550432\n",
            "Mean precision@5 for Own_and_popular is: 0.11508325171400485\n",
            "Mean precision@5 for ii_k20_tf_k30 is: 0.12007835455435757\n"
          ],
          "name": "stdout"
        }
      ]
    },
    {
      "cell_type": "markdown",
      "metadata": {
        "id": "d4aKbmSQgBUP"
      },
      "source": [
        "**Вывод:** если так топроно брать куски разных решений, то качество получается хуже, чем у них в отдельности."
      ]
    },
    {
      "cell_type": "markdown",
      "metadata": {
        "id": "T62nr3IYaK5v"
      },
      "source": [
        "### Задание 4*. Улучшение детерминированных алгоритмов\n",
        "На семинаре мы рассматривали \n",
        "\n"
      ]
    },
    {
      "cell_type": "markdown",
      "metadata": {
        "id": "_fsOAsuLaK5v"
      },
      "source": [
        "Далее $U \\equiv N_i(u) $\n",
        "\n",
        "$$r_{u,i} =  \\frac{1}{S}\\sum\\limits_{v \\in U}\\operatorname{sim}(u,v)r_{v, i}$$\n",
        "$$ S = \\sum\\limits_{v \\in U} \\operatorname{sim}(u,v)$$\n",
        "\n",
        "Предлагается улучшить эту формулу и учесть средние предпочтения всех пользователей\n",
        "\n",
        "$$r_{u,i} = \\mu + \\bar{r_u} + \\frac{1}{S}\\sum\\limits_{v \\in U}\\operatorname{sim}(u,v)(r_{v, i}-\\bar{r_{v}} - \\mu)$$"
      ]
    },
    {
      "cell_type": "markdown",
      "metadata": {
        "id": "PjtZ2FThaK5v"
      },
      "source": [
        "Какие смысл имееют $ \\mu $ и $ \\bar{r_u}$ ?\n",
        "\n",
        "Реализуйте алгоритм, прогнозирующий рейтинги на основе данной формулы, на numpy (векторизованно!)\n",
        "\n",
        "В качестве схожести возьмите CosineSimilarity.\n",
        "\n",
        "Примените к user_item_matrix. В качестве рейтингов возьмите количество или стоимость купленного товара. \n",
        "Данный алгоритм предсказывает рейтинги. Как на основании предсказанных рейтингов предсказать факт покупки?\n",
        "\n",
        "Предложите вариант.\n",
        "Посчитайте accuracy@5 и сравните с алгоритмами, разобранными на вебинаре."
      ]
    }
  ]
}