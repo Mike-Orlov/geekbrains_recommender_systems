{
  "nbformat": 4,
  "nbformat_minor": 0,
  "metadata": {
    "kernelspec": {
      "display_name": "Python 3",
      "language": "python",
      "name": "python3"
    },
    "language_info": {
      "codemirror_mode": {
        "name": "ipython",
        "version": 3
      },
      "file_extension": ".py",
      "mimetype": "text/x-python",
      "name": "python",
      "nbconvert_exporter": "python",
      "pygments_lexer": "ipython3",
      "version": "3.6.5"
    },
    "colab": {
      "name": "hw_4.ipynb",
      "provenance": [],
      "collapsed_sections": []
    },
    "widgets": {
      "application/vnd.jupyter.widget-state+json": {
        "2a62faf92ec44fd593e5e016c5f51860": {
          "model_module": "@jupyter-widgets/controls",
          "model_name": "HBoxModel",
          "state": {
            "_view_name": "HBoxView",
            "_dom_classes": [],
            "_model_name": "HBoxModel",
            "_view_module": "@jupyter-widgets/controls",
            "_model_module_version": "1.5.0",
            "_view_count": null,
            "_view_module_version": "1.5.0",
            "box_style": "",
            "layout": "IPY_MODEL_a7356aecabe7427e8281c4a269cd73af",
            "_model_module": "@jupyter-widgets/controls",
            "children": [
              "IPY_MODEL_b5822e46d14544f5852c92c8f9406432",
              "IPY_MODEL_b39019d941b941c19584f4c875b376cc"
            ]
          }
        },
        "a7356aecabe7427e8281c4a269cd73af": {
          "model_module": "@jupyter-widgets/base",
          "model_name": "LayoutModel",
          "state": {
            "_view_name": "LayoutView",
            "grid_template_rows": null,
            "right": null,
            "justify_content": null,
            "_view_module": "@jupyter-widgets/base",
            "overflow": null,
            "_model_module_version": "1.2.0",
            "_view_count": null,
            "flex_flow": null,
            "width": null,
            "min_width": null,
            "border": null,
            "align_items": null,
            "bottom": null,
            "_model_module": "@jupyter-widgets/base",
            "top": null,
            "grid_column": null,
            "overflow_y": null,
            "overflow_x": null,
            "grid_auto_flow": null,
            "grid_area": null,
            "grid_template_columns": null,
            "flex": null,
            "_model_name": "LayoutModel",
            "justify_items": null,
            "grid_row": null,
            "max_height": null,
            "align_content": null,
            "visibility": null,
            "align_self": null,
            "height": null,
            "min_height": null,
            "padding": null,
            "grid_auto_rows": null,
            "grid_gap": null,
            "max_width": null,
            "order": null,
            "_view_module_version": "1.2.0",
            "grid_template_areas": null,
            "object_position": null,
            "object_fit": null,
            "grid_auto_columns": null,
            "margin": null,
            "display": null,
            "left": null
          }
        },
        "b5822e46d14544f5852c92c8f9406432": {
          "model_module": "@jupyter-widgets/controls",
          "model_name": "FloatProgressModel",
          "state": {
            "_view_name": "ProgressView",
            "style": "IPY_MODEL_b73cba5a2f6343a0a82468c1a9a47d4c",
            "_dom_classes": [],
            "description": "100%",
            "_model_name": "FloatProgressModel",
            "bar_style": "success",
            "max": 15,
            "_view_module": "@jupyter-widgets/controls",
            "_model_module_version": "1.5.0",
            "value": 15,
            "_view_count": null,
            "_view_module_version": "1.5.0",
            "orientation": "horizontal",
            "min": 0,
            "description_tooltip": null,
            "_model_module": "@jupyter-widgets/controls",
            "layout": "IPY_MODEL_64501011701a4edda5e73e25e9370c84"
          }
        },
        "b39019d941b941c19584f4c875b376cc": {
          "model_module": "@jupyter-widgets/controls",
          "model_name": "HTMLModel",
          "state": {
            "_view_name": "HTMLView",
            "style": "IPY_MODEL_27dd721ac215444986e178f6020bd8bd",
            "_dom_classes": [],
            "description": "",
            "_model_name": "HTMLModel",
            "placeholder": "​",
            "_view_module": "@jupyter-widgets/controls",
            "_model_module_version": "1.5.0",
            "value": " 15/15 [01:50&lt;00:00,  7.37s/it, loss=0.0303]",
            "_view_count": null,
            "_view_module_version": "1.5.0",
            "description_tooltip": null,
            "_model_module": "@jupyter-widgets/controls",
            "layout": "IPY_MODEL_1fd584a7505a42f38467cadc47979361"
          }
        },
        "b73cba5a2f6343a0a82468c1a9a47d4c": {
          "model_module": "@jupyter-widgets/controls",
          "model_name": "ProgressStyleModel",
          "state": {
            "_view_name": "StyleView",
            "_model_name": "ProgressStyleModel",
            "description_width": "initial",
            "_view_module": "@jupyter-widgets/base",
            "_model_module_version": "1.5.0",
            "_view_count": null,
            "_view_module_version": "1.2.0",
            "bar_color": null,
            "_model_module": "@jupyter-widgets/controls"
          }
        },
        "64501011701a4edda5e73e25e9370c84": {
          "model_module": "@jupyter-widgets/base",
          "model_name": "LayoutModel",
          "state": {
            "_view_name": "LayoutView",
            "grid_template_rows": null,
            "right": null,
            "justify_content": null,
            "_view_module": "@jupyter-widgets/base",
            "overflow": null,
            "_model_module_version": "1.2.0",
            "_view_count": null,
            "flex_flow": null,
            "width": null,
            "min_width": null,
            "border": null,
            "align_items": null,
            "bottom": null,
            "_model_module": "@jupyter-widgets/base",
            "top": null,
            "grid_column": null,
            "overflow_y": null,
            "overflow_x": null,
            "grid_auto_flow": null,
            "grid_area": null,
            "grid_template_columns": null,
            "flex": null,
            "_model_name": "LayoutModel",
            "justify_items": null,
            "grid_row": null,
            "max_height": null,
            "align_content": null,
            "visibility": null,
            "align_self": null,
            "height": null,
            "min_height": null,
            "padding": null,
            "grid_auto_rows": null,
            "grid_gap": null,
            "max_width": null,
            "order": null,
            "_view_module_version": "1.2.0",
            "grid_template_areas": null,
            "object_position": null,
            "object_fit": null,
            "grid_auto_columns": null,
            "margin": null,
            "display": null,
            "left": null
          }
        },
        "27dd721ac215444986e178f6020bd8bd": {
          "model_module": "@jupyter-widgets/controls",
          "model_name": "DescriptionStyleModel",
          "state": {
            "_view_name": "StyleView",
            "_model_name": "DescriptionStyleModel",
            "description_width": "",
            "_view_module": "@jupyter-widgets/base",
            "_model_module_version": "1.5.0",
            "_view_count": null,
            "_view_module_version": "1.2.0",
            "_model_module": "@jupyter-widgets/controls"
          }
        },
        "1fd584a7505a42f38467cadc47979361": {
          "model_module": "@jupyter-widgets/base",
          "model_name": "LayoutModel",
          "state": {
            "_view_name": "LayoutView",
            "grid_template_rows": null,
            "right": null,
            "justify_content": null,
            "_view_module": "@jupyter-widgets/base",
            "overflow": null,
            "_model_module_version": "1.2.0",
            "_view_count": null,
            "flex_flow": null,
            "width": null,
            "min_width": null,
            "border": null,
            "align_items": null,
            "bottom": null,
            "_model_module": "@jupyter-widgets/base",
            "top": null,
            "grid_column": null,
            "overflow_y": null,
            "overflow_x": null,
            "grid_auto_flow": null,
            "grid_area": null,
            "grid_template_columns": null,
            "flex": null,
            "_model_name": "LayoutModel",
            "justify_items": null,
            "grid_row": null,
            "max_height": null,
            "align_content": null,
            "visibility": null,
            "align_self": null,
            "height": null,
            "min_height": null,
            "padding": null,
            "grid_auto_rows": null,
            "grid_gap": null,
            "max_width": null,
            "order": null,
            "_view_module_version": "1.2.0",
            "grid_template_areas": null,
            "object_position": null,
            "object_fit": null,
            "grid_auto_columns": null,
            "margin": null,
            "display": null,
            "left": null
          }
        },
        "16d97de359a34f47bf607161d7d2bb28": {
          "model_module": "@jupyter-widgets/controls",
          "model_name": "HBoxModel",
          "state": {
            "_view_name": "HBoxView",
            "_dom_classes": [],
            "_model_name": "HBoxModel",
            "_view_module": "@jupyter-widgets/controls",
            "_model_module_version": "1.5.0",
            "_view_count": null,
            "_view_module_version": "1.5.0",
            "box_style": "",
            "layout": "IPY_MODEL_398cd055b3a34c8e85745e6cebc040f3",
            "_model_module": "@jupyter-widgets/controls",
            "children": [
              "IPY_MODEL_8e2dfcf987054198b3912566ca0de913",
              "IPY_MODEL_b3921110a94d41469f58d67c81db26c2"
            ]
          }
        },
        "398cd055b3a34c8e85745e6cebc040f3": {
          "model_module": "@jupyter-widgets/base",
          "model_name": "LayoutModel",
          "state": {
            "_view_name": "LayoutView",
            "grid_template_rows": null,
            "right": null,
            "justify_content": null,
            "_view_module": "@jupyter-widgets/base",
            "overflow": null,
            "_model_module_version": "1.2.0",
            "_view_count": null,
            "flex_flow": null,
            "width": null,
            "min_width": null,
            "border": null,
            "align_items": null,
            "bottom": null,
            "_model_module": "@jupyter-widgets/base",
            "top": null,
            "grid_column": null,
            "overflow_y": null,
            "overflow_x": null,
            "grid_auto_flow": null,
            "grid_area": null,
            "grid_template_columns": null,
            "flex": null,
            "_model_name": "LayoutModel",
            "justify_items": null,
            "grid_row": null,
            "max_height": null,
            "align_content": null,
            "visibility": null,
            "align_self": null,
            "height": null,
            "min_height": null,
            "padding": null,
            "grid_auto_rows": null,
            "grid_gap": null,
            "max_width": null,
            "order": null,
            "_view_module_version": "1.2.0",
            "grid_template_areas": null,
            "object_position": null,
            "object_fit": null,
            "grid_auto_columns": null,
            "margin": null,
            "display": null,
            "left": null
          }
        },
        "8e2dfcf987054198b3912566ca0de913": {
          "model_module": "@jupyter-widgets/controls",
          "model_name": "FloatProgressModel",
          "state": {
            "_view_name": "ProgressView",
            "style": "IPY_MODEL_af591da74b7846a9bbeb64f5628d853d",
            "_dom_classes": [],
            "description": "100%",
            "_model_name": "FloatProgressModel",
            "bar_style": "success",
            "max": 2690,
            "_view_module": "@jupyter-widgets/controls",
            "_model_module_version": "1.5.0",
            "value": 2690,
            "_view_count": null,
            "_view_module_version": "1.5.0",
            "orientation": "horizontal",
            "min": 0,
            "description_tooltip": null,
            "_model_module": "@jupyter-widgets/controls",
            "layout": "IPY_MODEL_d181911fbfd3424f9591fb7e1fb9758d"
          }
        },
        "b3921110a94d41469f58d67c81db26c2": {
          "model_module": "@jupyter-widgets/controls",
          "model_name": "HTMLModel",
          "state": {
            "_view_name": "HTMLView",
            "style": "IPY_MODEL_5621e80a9e39474aa75de4836ebb479e",
            "_dom_classes": [],
            "description": "",
            "_model_name": "HTMLModel",
            "placeholder": "​",
            "_view_module": "@jupyter-widgets/controls",
            "_model_module_version": "1.5.0",
            "value": " 2690/2690 [00:00&lt;00:00, 22921.79it/s]",
            "_view_count": null,
            "_view_module_version": "1.5.0",
            "description_tooltip": null,
            "_model_module": "@jupyter-widgets/controls",
            "layout": "IPY_MODEL_07841753603d4de4ab0c9ccae8c5dfb4"
          }
        },
        "af591da74b7846a9bbeb64f5628d853d": {
          "model_module": "@jupyter-widgets/controls",
          "model_name": "ProgressStyleModel",
          "state": {
            "_view_name": "StyleView",
            "_model_name": "ProgressStyleModel",
            "description_width": "initial",
            "_view_module": "@jupyter-widgets/base",
            "_model_module_version": "1.5.0",
            "_view_count": null,
            "_view_module_version": "1.2.0",
            "bar_color": null,
            "_model_module": "@jupyter-widgets/controls"
          }
        },
        "d181911fbfd3424f9591fb7e1fb9758d": {
          "model_module": "@jupyter-widgets/base",
          "model_name": "LayoutModel",
          "state": {
            "_view_name": "LayoutView",
            "grid_template_rows": null,
            "right": null,
            "justify_content": null,
            "_view_module": "@jupyter-widgets/base",
            "overflow": null,
            "_model_module_version": "1.2.0",
            "_view_count": null,
            "flex_flow": null,
            "width": null,
            "min_width": null,
            "border": null,
            "align_items": null,
            "bottom": null,
            "_model_module": "@jupyter-widgets/base",
            "top": null,
            "grid_column": null,
            "overflow_y": null,
            "overflow_x": null,
            "grid_auto_flow": null,
            "grid_area": null,
            "grid_template_columns": null,
            "flex": null,
            "_model_name": "LayoutModel",
            "justify_items": null,
            "grid_row": null,
            "max_height": null,
            "align_content": null,
            "visibility": null,
            "align_self": null,
            "height": null,
            "min_height": null,
            "padding": null,
            "grid_auto_rows": null,
            "grid_gap": null,
            "max_width": null,
            "order": null,
            "_view_module_version": "1.2.0",
            "grid_template_areas": null,
            "object_position": null,
            "object_fit": null,
            "grid_auto_columns": null,
            "margin": null,
            "display": null,
            "left": null
          }
        },
        "5621e80a9e39474aa75de4836ebb479e": {
          "model_module": "@jupyter-widgets/controls",
          "model_name": "DescriptionStyleModel",
          "state": {
            "_view_name": "StyleView",
            "_model_name": "DescriptionStyleModel",
            "description_width": "",
            "_view_module": "@jupyter-widgets/base",
            "_model_module_version": "1.5.0",
            "_view_count": null,
            "_view_module_version": "1.2.0",
            "_model_module": "@jupyter-widgets/controls"
          }
        },
        "07841753603d4de4ab0c9ccae8c5dfb4": {
          "model_module": "@jupyter-widgets/base",
          "model_name": "LayoutModel",
          "state": {
            "_view_name": "LayoutView",
            "grid_template_rows": null,
            "right": null,
            "justify_content": null,
            "_view_module": "@jupyter-widgets/base",
            "overflow": null,
            "_model_module_version": "1.2.0",
            "_view_count": null,
            "flex_flow": null,
            "width": null,
            "min_width": null,
            "border": null,
            "align_items": null,
            "bottom": null,
            "_model_module": "@jupyter-widgets/base",
            "top": null,
            "grid_column": null,
            "overflow_y": null,
            "overflow_x": null,
            "grid_auto_flow": null,
            "grid_area": null,
            "grid_template_columns": null,
            "flex": null,
            "_model_name": "LayoutModel",
            "justify_items": null,
            "grid_row": null,
            "max_height": null,
            "align_content": null,
            "visibility": null,
            "align_self": null,
            "height": null,
            "min_height": null,
            "padding": null,
            "grid_auto_rows": null,
            "grid_gap": null,
            "max_width": null,
            "order": null,
            "_view_module_version": "1.2.0",
            "grid_template_areas": null,
            "object_position": null,
            "object_fit": null,
            "grid_auto_columns": null,
            "margin": null,
            "display": null,
            "left": null
          }
        },
        "52f7ce407720430ebdaeb132df4b5485": {
          "model_module": "@jupyter-widgets/controls",
          "model_name": "HBoxModel",
          "state": {
            "_view_name": "HBoxView",
            "_dom_classes": [],
            "_model_name": "HBoxModel",
            "_view_module": "@jupyter-widgets/controls",
            "_model_module_version": "1.5.0",
            "_view_count": null,
            "_view_module_version": "1.5.0",
            "box_style": "",
            "layout": "IPY_MODEL_cdb2560b66f54d87bc719dbaf8abf225",
            "_model_module": "@jupyter-widgets/controls",
            "children": [
              "IPY_MODEL_5e824c459f1041a984f3820b504f284d",
              "IPY_MODEL_4559e4e3a3f7452e97668fa0908f1022"
            ]
          }
        },
        "cdb2560b66f54d87bc719dbaf8abf225": {
          "model_module": "@jupyter-widgets/base",
          "model_name": "LayoutModel",
          "state": {
            "_view_name": "LayoutView",
            "grid_template_rows": null,
            "right": null,
            "justify_content": null,
            "_view_module": "@jupyter-widgets/base",
            "overflow": null,
            "_model_module_version": "1.2.0",
            "_view_count": null,
            "flex_flow": null,
            "width": null,
            "min_width": null,
            "border": null,
            "align_items": null,
            "bottom": null,
            "_model_module": "@jupyter-widgets/base",
            "top": null,
            "grid_column": null,
            "overflow_y": null,
            "overflow_x": null,
            "grid_auto_flow": null,
            "grid_area": null,
            "grid_template_columns": null,
            "flex": null,
            "_model_name": "LayoutModel",
            "justify_items": null,
            "grid_row": null,
            "max_height": null,
            "align_content": null,
            "visibility": null,
            "align_self": null,
            "height": null,
            "min_height": null,
            "padding": null,
            "grid_auto_rows": null,
            "grid_gap": null,
            "max_width": null,
            "order": null,
            "_view_module_version": "1.2.0",
            "grid_template_areas": null,
            "object_position": null,
            "object_fit": null,
            "grid_auto_columns": null,
            "margin": null,
            "display": null,
            "left": null
          }
        },
        "5e824c459f1041a984f3820b504f284d": {
          "model_module": "@jupyter-widgets/controls",
          "model_name": "FloatProgressModel",
          "state": {
            "_view_name": "ProgressView",
            "style": "IPY_MODEL_842071d08ab34a28aee548863c4417f4",
            "_dom_classes": [],
            "description": "100%",
            "_model_name": "FloatProgressModel",
            "bar_style": "success",
            "max": 15,
            "_view_module": "@jupyter-widgets/controls",
            "_model_module_version": "1.5.0",
            "value": 15,
            "_view_count": null,
            "_view_module_version": "1.5.0",
            "orientation": "horizontal",
            "min": 0,
            "description_tooltip": null,
            "_model_module": "@jupyter-widgets/controls",
            "layout": "IPY_MODEL_9dd9dfbe5e154308bd6510238bd41bce"
          }
        },
        "4559e4e3a3f7452e97668fa0908f1022": {
          "model_module": "@jupyter-widgets/controls",
          "model_name": "HTMLModel",
          "state": {
            "_view_name": "HTMLView",
            "style": "IPY_MODEL_e7637306c1c4440da1381afe2ca61dd1",
            "_dom_classes": [],
            "description": "",
            "_model_name": "HTMLModel",
            "placeholder": "​",
            "_view_module": "@jupyter-widgets/controls",
            "_model_module_version": "1.5.0",
            "value": " 15/15 [01:03&lt;00:00,  4.23s/it]",
            "_view_count": null,
            "_view_module_version": "1.5.0",
            "description_tooltip": null,
            "_model_module": "@jupyter-widgets/controls",
            "layout": "IPY_MODEL_d4c6511c110444a59640beaf51c02ab6"
          }
        },
        "842071d08ab34a28aee548863c4417f4": {
          "model_module": "@jupyter-widgets/controls",
          "model_name": "ProgressStyleModel",
          "state": {
            "_view_name": "StyleView",
            "_model_name": "ProgressStyleModel",
            "description_width": "initial",
            "_view_module": "@jupyter-widgets/base",
            "_model_module_version": "1.5.0",
            "_view_count": null,
            "_view_module_version": "1.2.0",
            "bar_color": null,
            "_model_module": "@jupyter-widgets/controls"
          }
        },
        "9dd9dfbe5e154308bd6510238bd41bce": {
          "model_module": "@jupyter-widgets/base",
          "model_name": "LayoutModel",
          "state": {
            "_view_name": "LayoutView",
            "grid_template_rows": null,
            "right": null,
            "justify_content": null,
            "_view_module": "@jupyter-widgets/base",
            "overflow": null,
            "_model_module_version": "1.2.0",
            "_view_count": null,
            "flex_flow": null,
            "width": null,
            "min_width": null,
            "border": null,
            "align_items": null,
            "bottom": null,
            "_model_module": "@jupyter-widgets/base",
            "top": null,
            "grid_column": null,
            "overflow_y": null,
            "overflow_x": null,
            "grid_auto_flow": null,
            "grid_area": null,
            "grid_template_columns": null,
            "flex": null,
            "_model_name": "LayoutModel",
            "justify_items": null,
            "grid_row": null,
            "max_height": null,
            "align_content": null,
            "visibility": null,
            "align_self": null,
            "height": null,
            "min_height": null,
            "padding": null,
            "grid_auto_rows": null,
            "grid_gap": null,
            "max_width": null,
            "order": null,
            "_view_module_version": "1.2.0",
            "grid_template_areas": null,
            "object_position": null,
            "object_fit": null,
            "grid_auto_columns": null,
            "margin": null,
            "display": null,
            "left": null
          }
        },
        "e7637306c1c4440da1381afe2ca61dd1": {
          "model_module": "@jupyter-widgets/controls",
          "model_name": "DescriptionStyleModel",
          "state": {
            "_view_name": "StyleView",
            "_model_name": "DescriptionStyleModel",
            "description_width": "",
            "_view_module": "@jupyter-widgets/base",
            "_model_module_version": "1.5.0",
            "_view_count": null,
            "_view_module_version": "1.2.0",
            "_model_module": "@jupyter-widgets/controls"
          }
        },
        "d4c6511c110444a59640beaf51c02ab6": {
          "model_module": "@jupyter-widgets/base",
          "model_name": "LayoutModel",
          "state": {
            "_view_name": "LayoutView",
            "grid_template_rows": null,
            "right": null,
            "justify_content": null,
            "_view_module": "@jupyter-widgets/base",
            "overflow": null,
            "_model_module_version": "1.2.0",
            "_view_count": null,
            "flex_flow": null,
            "width": null,
            "min_width": null,
            "border": null,
            "align_items": null,
            "bottom": null,
            "_model_module": "@jupyter-widgets/base",
            "top": null,
            "grid_column": null,
            "overflow_y": null,
            "overflow_x": null,
            "grid_auto_flow": null,
            "grid_area": null,
            "grid_template_columns": null,
            "flex": null,
            "_model_name": "LayoutModel",
            "justify_items": null,
            "grid_row": null,
            "max_height": null,
            "align_content": null,
            "visibility": null,
            "align_self": null,
            "height": null,
            "min_height": null,
            "padding": null,
            "grid_auto_rows": null,
            "grid_gap": null,
            "max_width": null,
            "order": null,
            "_view_module_version": "1.2.0",
            "grid_template_areas": null,
            "object_position": null,
            "object_fit": null,
            "grid_auto_columns": null,
            "margin": null,
            "display": null,
            "left": null
          }
        },
        "78b3028e1ad449ba94e7b493f95274cd": {
          "model_module": "@jupyter-widgets/controls",
          "model_name": "HBoxModel",
          "state": {
            "_view_name": "HBoxView",
            "_dom_classes": [],
            "_model_name": "HBoxModel",
            "_view_module": "@jupyter-widgets/controls",
            "_model_module_version": "1.5.0",
            "_view_count": null,
            "_view_module_version": "1.5.0",
            "box_style": "",
            "layout": "IPY_MODEL_f9e2975bf39943acbee66dc476043fa4",
            "_model_module": "@jupyter-widgets/controls",
            "children": [
              "IPY_MODEL_a22701af8ce044cfb288cde8bc2f2aa4",
              "IPY_MODEL_5c419026541c482e98d4c7817bb7be5f"
            ]
          }
        },
        "f9e2975bf39943acbee66dc476043fa4": {
          "model_module": "@jupyter-widgets/base",
          "model_name": "LayoutModel",
          "state": {
            "_view_name": "LayoutView",
            "grid_template_rows": null,
            "right": null,
            "justify_content": null,
            "_view_module": "@jupyter-widgets/base",
            "overflow": null,
            "_model_module_version": "1.2.0",
            "_view_count": null,
            "flex_flow": null,
            "width": null,
            "min_width": null,
            "border": null,
            "align_items": null,
            "bottom": null,
            "_model_module": "@jupyter-widgets/base",
            "top": null,
            "grid_column": null,
            "overflow_y": null,
            "overflow_x": null,
            "grid_auto_flow": null,
            "grid_area": null,
            "grid_template_columns": null,
            "flex": null,
            "_model_name": "LayoutModel",
            "justify_items": null,
            "grid_row": null,
            "max_height": null,
            "align_content": null,
            "visibility": null,
            "align_self": null,
            "height": null,
            "min_height": null,
            "padding": null,
            "grid_auto_rows": null,
            "grid_gap": null,
            "max_width": null,
            "order": null,
            "_view_module_version": "1.2.0",
            "grid_template_areas": null,
            "object_position": null,
            "object_fit": null,
            "grid_auto_columns": null,
            "margin": null,
            "display": null,
            "left": null
          }
        },
        "a22701af8ce044cfb288cde8bc2f2aa4": {
          "model_module": "@jupyter-widgets/controls",
          "model_name": "FloatProgressModel",
          "state": {
            "_view_name": "ProgressView",
            "style": "IPY_MODEL_7e5ee8fe59a04d869367a654c4b5e005",
            "_dom_classes": [],
            "description": "100%",
            "_model_name": "FloatProgressModel",
            "bar_style": "success",
            "max": 2500,
            "_view_module": "@jupyter-widgets/controls",
            "_model_module_version": "1.5.0",
            "value": 2500,
            "_view_count": null,
            "_view_module_version": "1.5.0",
            "orientation": "horizontal",
            "min": 0,
            "description_tooltip": null,
            "_model_module": "@jupyter-widgets/controls",
            "layout": "IPY_MODEL_07a7c809420649c589acaf5c73f5a91b"
          }
        },
        "5c419026541c482e98d4c7817bb7be5f": {
          "model_module": "@jupyter-widgets/controls",
          "model_name": "HTMLModel",
          "state": {
            "_view_name": "HTMLView",
            "style": "IPY_MODEL_6b57f18e22ca4c289ff9eed61be3fec7",
            "_dom_classes": [],
            "description": "",
            "_model_name": "HTMLModel",
            "placeholder": "​",
            "_view_module": "@jupyter-widgets/controls",
            "_model_module_version": "1.5.0",
            "value": " 2500/2500 [00:01&lt;00:00, 1653.66it/s]",
            "_view_count": null,
            "_view_module_version": "1.5.0",
            "description_tooltip": null,
            "_model_module": "@jupyter-widgets/controls",
            "layout": "IPY_MODEL_6eecd2c0e9114d44a0c6dd6e6fe4691c"
          }
        },
        "7e5ee8fe59a04d869367a654c4b5e005": {
          "model_module": "@jupyter-widgets/controls",
          "model_name": "ProgressStyleModel",
          "state": {
            "_view_name": "StyleView",
            "_model_name": "ProgressStyleModel",
            "description_width": "initial",
            "_view_module": "@jupyter-widgets/base",
            "_model_module_version": "1.5.0",
            "_view_count": null,
            "_view_module_version": "1.2.0",
            "bar_color": null,
            "_model_module": "@jupyter-widgets/controls"
          }
        },
        "07a7c809420649c589acaf5c73f5a91b": {
          "model_module": "@jupyter-widgets/base",
          "model_name": "LayoutModel",
          "state": {
            "_view_name": "LayoutView",
            "grid_template_rows": null,
            "right": null,
            "justify_content": null,
            "_view_module": "@jupyter-widgets/base",
            "overflow": null,
            "_model_module_version": "1.2.0",
            "_view_count": null,
            "flex_flow": null,
            "width": null,
            "min_width": null,
            "border": null,
            "align_items": null,
            "bottom": null,
            "_model_module": "@jupyter-widgets/base",
            "top": null,
            "grid_column": null,
            "overflow_y": null,
            "overflow_x": null,
            "grid_auto_flow": null,
            "grid_area": null,
            "grid_template_columns": null,
            "flex": null,
            "_model_name": "LayoutModel",
            "justify_items": null,
            "grid_row": null,
            "max_height": null,
            "align_content": null,
            "visibility": null,
            "align_self": null,
            "height": null,
            "min_height": null,
            "padding": null,
            "grid_auto_rows": null,
            "grid_gap": null,
            "max_width": null,
            "order": null,
            "_view_module_version": "1.2.0",
            "grid_template_areas": null,
            "object_position": null,
            "object_fit": null,
            "grid_auto_columns": null,
            "margin": null,
            "display": null,
            "left": null
          }
        },
        "6b57f18e22ca4c289ff9eed61be3fec7": {
          "model_module": "@jupyter-widgets/controls",
          "model_name": "DescriptionStyleModel",
          "state": {
            "_view_name": "StyleView",
            "_model_name": "DescriptionStyleModel",
            "description_width": "",
            "_view_module": "@jupyter-widgets/base",
            "_model_module_version": "1.5.0",
            "_view_count": null,
            "_view_module_version": "1.2.0",
            "_model_module": "@jupyter-widgets/controls"
          }
        },
        "6eecd2c0e9114d44a0c6dd6e6fe4691c": {
          "model_module": "@jupyter-widgets/base",
          "model_name": "LayoutModel",
          "state": {
            "_view_name": "LayoutView",
            "grid_template_rows": null,
            "right": null,
            "justify_content": null,
            "_view_module": "@jupyter-widgets/base",
            "overflow": null,
            "_model_module_version": "1.2.0",
            "_view_count": null,
            "flex_flow": null,
            "width": null,
            "min_width": null,
            "border": null,
            "align_items": null,
            "bottom": null,
            "_model_module": "@jupyter-widgets/base",
            "top": null,
            "grid_column": null,
            "overflow_y": null,
            "overflow_x": null,
            "grid_auto_flow": null,
            "grid_area": null,
            "grid_template_columns": null,
            "flex": null,
            "_model_name": "LayoutModel",
            "justify_items": null,
            "grid_row": null,
            "max_height": null,
            "align_content": null,
            "visibility": null,
            "align_self": null,
            "height": null,
            "min_height": null,
            "padding": null,
            "grid_auto_rows": null,
            "grid_gap": null,
            "max_width": null,
            "order": null,
            "_view_module_version": "1.2.0",
            "grid_template_areas": null,
            "object_position": null,
            "object_fit": null,
            "grid_auto_columns": null,
            "margin": null,
            "display": null,
            "left": null
          }
        }
      }
    }
  },
  "cells": [
    {
      "cell_type": "markdown",
      "metadata": {
        "id": "fBFyeH6XDlXu"
      },
      "source": [
        "# Вебинар 5. Домашнее задание"
      ]
    },
    {
      "cell_type": "markdown",
      "metadata": {
        "id": "HpPpZPeUDlX1"
      },
      "source": [
        "Само домашнее задание нахожится в конце ноутбука"
      ]
    },
    {
      "cell_type": "markdown",
      "metadata": {
        "id": "90FBaT6WDlX1"
      },
      "source": [
        "---"
      ]
    },
    {
      "cell_type": "code",
      "metadata": {
        "colab": {
          "base_uri": "https://localhost:8080/"
        },
        "id": "baQLlnF4hNk1",
        "outputId": "b11953cb-ac6e-4460-8fdd-8bf680c45292"
      },
      "source": [
        "!pip install implicit"
      ],
      "execution_count": 1,
      "outputs": [
        {
          "output_type": "stream",
          "text": [
            "Collecting implicit\n",
            "\u001b[?25l  Downloading https://files.pythonhosted.org/packages/bc/07/c0121884722d16e2c5beeb815f6b84b41cbf22e738e4075f1475be2791bc/implicit-0.4.4.tar.gz (1.1MB)\n",
            "\r\u001b[K     |▎                               | 10kB 10.8MB/s eta 0:00:01\r\u001b[K     |▋                               | 20kB 15.4MB/s eta 0:00:01\r\u001b[K     |▉                               | 30kB 12.8MB/s eta 0:00:01\r\u001b[K     |█▏                              | 40kB 10.0MB/s eta 0:00:01\r\u001b[K     |█▌                              | 51kB 7.2MB/s eta 0:00:01\r\u001b[K     |█▊                              | 61kB 6.7MB/s eta 0:00:01\r\u001b[K     |██                              | 71kB 6.8MB/s eta 0:00:01\r\u001b[K     |██▍                             | 81kB 7.5MB/s eta 0:00:01\r\u001b[K     |██▋                             | 92kB 7.9MB/s eta 0:00:01\r\u001b[K     |███                             | 102kB 8.0MB/s eta 0:00:01\r\u001b[K     |███▎                            | 112kB 8.0MB/s eta 0:00:01\r\u001b[K     |███▌                            | 122kB 8.0MB/s eta 0:00:01\r\u001b[K     |███▉                            | 133kB 8.0MB/s eta 0:00:01\r\u001b[K     |████▏                           | 143kB 8.0MB/s eta 0:00:01\r\u001b[K     |████▍                           | 153kB 8.0MB/s eta 0:00:01\r\u001b[K     |████▊                           | 163kB 8.0MB/s eta 0:00:01\r\u001b[K     |█████                           | 174kB 8.0MB/s eta 0:00:01\r\u001b[K     |█████▎                          | 184kB 8.0MB/s eta 0:00:01\r\u001b[K     |█████▋                          | 194kB 8.0MB/s eta 0:00:01\r\u001b[K     |██████                          | 204kB 8.0MB/s eta 0:00:01\r\u001b[K     |██████▏                         | 215kB 8.0MB/s eta 0:00:01\r\u001b[K     |██████▌                         | 225kB 8.0MB/s eta 0:00:01\r\u001b[K     |██████▉                         | 235kB 8.0MB/s eta 0:00:01\r\u001b[K     |███████                         | 245kB 8.0MB/s eta 0:00:01\r\u001b[K     |███████▍                        | 256kB 8.0MB/s eta 0:00:01\r\u001b[K     |███████▊                        | 266kB 8.0MB/s eta 0:00:01\r\u001b[K     |████████                        | 276kB 8.0MB/s eta 0:00:01\r\u001b[K     |████████▎                       | 286kB 8.0MB/s eta 0:00:01\r\u001b[K     |████████▋                       | 296kB 8.0MB/s eta 0:00:01\r\u001b[K     |████████▉                       | 307kB 8.0MB/s eta 0:00:01\r\u001b[K     |█████████▏                      | 317kB 8.0MB/s eta 0:00:01\r\u001b[K     |█████████▌                      | 327kB 8.0MB/s eta 0:00:01\r\u001b[K     |█████████▊                      | 337kB 8.0MB/s eta 0:00:01\r\u001b[K     |██████████                      | 348kB 8.0MB/s eta 0:00:01\r\u001b[K     |██████████▍                     | 358kB 8.0MB/s eta 0:00:01\r\u001b[K     |██████████▋                     | 368kB 8.0MB/s eta 0:00:01\r\u001b[K     |███████████                     | 378kB 8.0MB/s eta 0:00:01\r\u001b[K     |███████████▏                    | 389kB 8.0MB/s eta 0:00:01\r\u001b[K     |███████████▌                    | 399kB 8.0MB/s eta 0:00:01\r\u001b[K     |███████████▉                    | 409kB 8.0MB/s eta 0:00:01\r\u001b[K     |████████████                    | 419kB 8.0MB/s eta 0:00:01\r\u001b[K     |████████████▍                   | 430kB 8.0MB/s eta 0:00:01\r\u001b[K     |████████████▊                   | 440kB 8.0MB/s eta 0:00:01\r\u001b[K     |█████████████                   | 450kB 8.0MB/s eta 0:00:01\r\u001b[K     |█████████████▎                  | 460kB 8.0MB/s eta 0:00:01\r\u001b[K     |█████████████▋                  | 471kB 8.0MB/s eta 0:00:01\r\u001b[K     |█████████████▉                  | 481kB 8.0MB/s eta 0:00:01\r\u001b[K     |██████████████▏                 | 491kB 8.0MB/s eta 0:00:01\r\u001b[K     |██████████████▌                 | 501kB 8.0MB/s eta 0:00:01\r\u001b[K     |██████████████▊                 | 512kB 8.0MB/s eta 0:00:01\r\u001b[K     |███████████████                 | 522kB 8.0MB/s eta 0:00:01\r\u001b[K     |███████████████▍                | 532kB 8.0MB/s eta 0:00:01\r\u001b[K     |███████████████▋                | 542kB 8.0MB/s eta 0:00:01\r\u001b[K     |████████████████                | 552kB 8.0MB/s eta 0:00:01\r\u001b[K     |████████████████▎               | 563kB 8.0MB/s eta 0:00:01\r\u001b[K     |████████████████▌               | 573kB 8.0MB/s eta 0:00:01\r\u001b[K     |████████████████▉               | 583kB 8.0MB/s eta 0:00:01\r\u001b[K     |█████████████████▏              | 593kB 8.0MB/s eta 0:00:01\r\u001b[K     |█████████████████▍              | 604kB 8.0MB/s eta 0:00:01\r\u001b[K     |█████████████████▊              | 614kB 8.0MB/s eta 0:00:01\r\u001b[K     |██████████████████              | 624kB 8.0MB/s eta 0:00:01\r\u001b[K     |██████████████████▎             | 634kB 8.0MB/s eta 0:00:01\r\u001b[K     |██████████████████▋             | 645kB 8.0MB/s eta 0:00:01\r\u001b[K     |███████████████████             | 655kB 8.0MB/s eta 0:00:01\r\u001b[K     |███████████████████▏            | 665kB 8.0MB/s eta 0:00:01\r\u001b[K     |███████████████████▌            | 675kB 8.0MB/s eta 0:00:01\r\u001b[K     |███████████████████▉            | 686kB 8.0MB/s eta 0:00:01\r\u001b[K     |████████████████████            | 696kB 8.0MB/s eta 0:00:01\r\u001b[K     |████████████████████▍           | 706kB 8.0MB/s eta 0:00:01\r\u001b[K     |████████████████████▊           | 716kB 8.0MB/s eta 0:00:01\r\u001b[K     |█████████████████████           | 727kB 8.0MB/s eta 0:00:01\r\u001b[K     |█████████████████████▎          | 737kB 8.0MB/s eta 0:00:01\r\u001b[K     |█████████████████████▋          | 747kB 8.0MB/s eta 0:00:01\r\u001b[K     |█████████████████████▉          | 757kB 8.0MB/s eta 0:00:01\r\u001b[K     |██████████████████████▏         | 768kB 8.0MB/s eta 0:00:01\r\u001b[K     |██████████████████████▍         | 778kB 8.0MB/s eta 0:00:01\r\u001b[K     |██████████████████████▊         | 788kB 8.0MB/s eta 0:00:01\r\u001b[K     |███████████████████████         | 798kB 8.0MB/s eta 0:00:01\r\u001b[K     |███████████████████████▎        | 808kB 8.0MB/s eta 0:00:01\r\u001b[K     |███████████████████████▋        | 819kB 8.0MB/s eta 0:00:01\r\u001b[K     |████████████████████████        | 829kB 8.0MB/s eta 0:00:01\r\u001b[K     |████████████████████████▏       | 839kB 8.0MB/s eta 0:00:01\r\u001b[K     |████████████████████████▌       | 849kB 8.0MB/s eta 0:00:01\r\u001b[K     |████████████████████████▉       | 860kB 8.0MB/s eta 0:00:01\r\u001b[K     |█████████████████████████       | 870kB 8.0MB/s eta 0:00:01\r\u001b[K     |█████████████████████████▍      | 880kB 8.0MB/s eta 0:00:01\r\u001b[K     |█████████████████████████▊      | 890kB 8.0MB/s eta 0:00:01\r\u001b[K     |██████████████████████████      | 901kB 8.0MB/s eta 0:00:01\r\u001b[K     |██████████████████████████▎     | 911kB 8.0MB/s eta 0:00:01\r\u001b[K     |██████████████████████████▋     | 921kB 8.0MB/s eta 0:00:01\r\u001b[K     |██████████████████████████▉     | 931kB 8.0MB/s eta 0:00:01\r\u001b[K     |███████████████████████████▏    | 942kB 8.0MB/s eta 0:00:01\r\u001b[K     |███████████████████████████▌    | 952kB 8.0MB/s eta 0:00:01\r\u001b[K     |███████████████████████████▊    | 962kB 8.0MB/s eta 0:00:01\r\u001b[K     |████████████████████████████    | 972kB 8.0MB/s eta 0:00:01\r\u001b[K     |████████████████████████████▍   | 983kB 8.0MB/s eta 0:00:01\r\u001b[K     |████████████████████████████▋   | 993kB 8.0MB/s eta 0:00:01\r\u001b[K     |█████████████████████████████   | 1.0MB 8.0MB/s eta 0:00:01\r\u001b[K     |█████████████████████████████▎  | 1.0MB 8.0MB/s eta 0:00:01\r\u001b[K     |█████████████████████████████▌  | 1.0MB 8.0MB/s eta 0:00:01\r\u001b[K     |█████████████████████████████▉  | 1.0MB 8.0MB/s eta 0:00:01\r\u001b[K     |██████████████████████████████▏ | 1.0MB 8.0MB/s eta 0:00:01\r\u001b[K     |██████████████████████████████▍ | 1.1MB 8.0MB/s eta 0:00:01\r\u001b[K     |██████████████████████████████▊ | 1.1MB 8.0MB/s eta 0:00:01\r\u001b[K     |███████████████████████████████ | 1.1MB 8.0MB/s eta 0:00:01\r\u001b[K     |███████████████████████████████▎| 1.1MB 8.0MB/s eta 0:00:01\r\u001b[K     |███████████████████████████████▋| 1.1MB 8.0MB/s eta 0:00:01\r\u001b[K     |████████████████████████████████| 1.1MB 8.0MB/s eta 0:00:01\r\u001b[K     |████████████████████████████████| 1.1MB 8.0MB/s \n",
            "\u001b[?25hRequirement already satisfied: numpy in /usr/local/lib/python3.7/dist-packages (from implicit) (1.19.5)\n",
            "Requirement already satisfied: scipy>=0.16 in /usr/local/lib/python3.7/dist-packages (from implicit) (1.4.1)\n",
            "Requirement already satisfied: tqdm>=4.27 in /usr/local/lib/python3.7/dist-packages (from implicit) (4.41.1)\n",
            "Building wheels for collected packages: implicit\n",
            "  Building wheel for implicit (setup.py) ... \u001b[?25l\u001b[?25hdone\n",
            "  Created wheel for implicit: filename=implicit-0.4.4-cp37-cp37m-linux_x86_64.whl size=3406412 sha256=6216542d69c2ef31f0b576c8cd633201920a4e91eb69e20921fd00dc63a46af6\n",
            "  Stored in directory: /root/.cache/pip/wheels/bf/d4/ec/fd4f622fcbefb7521f149905295b2c26adecb23af38aa28217\n",
            "Successfully built implicit\n",
            "Installing collected packages: implicit\n",
            "Successfully installed implicit-0.4.4\n"
          ],
          "name": "stdout"
        }
      ]
    },
    {
      "cell_type": "code",
      "metadata": {
        "colab": {
          "base_uri": "https://localhost:8080/"
        },
        "id": "6Ekqto31hOm6",
        "outputId": "73c3734f-64c0-4b21-991e-33ed0164ade3"
      },
      "source": [
        "from google.colab import drive\r\n",
        "drive.mount('/content/drive')"
      ],
      "execution_count": 2,
      "outputs": [
        {
          "output_type": "stream",
          "text": [
            "Mounted at /content/drive\n"
          ],
          "name": "stdout"
        }
      ]
    },
    {
      "cell_type": "code",
      "metadata": {
        "colab": {
          "base_uri": "https://localhost:8080/"
        },
        "id": "y0WPZwPV5GUT",
        "outputId": "4e7a5bad-1a33-4779-be57-6682ee46f4be"
      },
      "source": [
        "!ls /content/drive/MyDrive/Colab\\ Notebooks/recommender_systems/data/src/*.py"
      ],
      "execution_count": 3,
      "outputs": [
        {
          "output_type": "stream",
          "text": [
            "'/content/drive/MyDrive/Colab Notebooks/recommender_systems/data/src/check_colab.py'\n",
            "'/content/drive/MyDrive/Colab Notebooks/recommender_systems/data/src/__init__.py'\n",
            "'/content/drive/MyDrive/Colab Notebooks/recommender_systems/data/src/metrics.py'\n",
            "'/content/drive/MyDrive/Colab Notebooks/recommender_systems/data/src/recommenders.py'\n",
            "'/content/drive/MyDrive/Colab Notebooks/recommender_systems/data/src/utils.py'\n"
          ],
          "name": "stdout"
        }
      ]
    },
    {
      "cell_type": "code",
      "metadata": {
        "colab": {
          "base_uri": "https://localhost:8080/"
        },
        "id": "tPSOOLVDCEpT",
        "outputId": "4094046d-8073-4dd9-e365-bb50164e9edc"
      },
      "source": [
        "import sys\r\n",
        "sys.path.append(r'/content/drive/MyDrive/Colab Notebooks/recommender_systems/data')\r\n",
        "sys.path"
      ],
      "execution_count": 4,
      "outputs": [
        {
          "output_type": "execute_result",
          "data": {
            "text/plain": [
              "['',\n",
              " '/content',\n",
              " '/env/python',\n",
              " '/usr/lib/python37.zip',\n",
              " '/usr/lib/python3.7',\n",
              " '/usr/lib/python3.7/lib-dynload',\n",
              " '/usr/local/lib/python3.7/dist-packages',\n",
              " '/usr/lib/python3/dist-packages',\n",
              " '/usr/local/lib/python3.7/dist-packages/IPython/extensions',\n",
              " '/root/.ipython',\n",
              " '/content/drive/MyDrive/Colab Notebooks/recommender_systems/data']"
            ]
          },
          "metadata": {
            "tags": []
          },
          "execution_count": 4
        }
      ]
    },
    {
      "cell_type": "code",
      "metadata": {
        "colab": {
          "base_uri": "https://localhost:8080/"
        },
        "id": "veVy7Z5ACP9I",
        "outputId": "412fdcc0-605d-4bb1-d7ac-fc1b24db8041"
      },
      "source": [
        "from src.check_colab import check\r\n",
        "check()"
      ],
      "execution_count": 5,
      "outputs": [
        {
          "output_type": "stream",
          "text": [
            "We are cool\n"
          ],
          "name": "stdout"
        }
      ]
    },
    {
      "cell_type": "code",
      "metadata": {
        "id": "_pQ0OupjAY5H"
      },
      "source": [
        "#!cat '/content/drive/MyDrive/Colab\\ Notebooks/recommender_systems/data/src/metrics.py'"
      ],
      "execution_count": 6,
      "outputs": []
    },
    {
      "cell_type": "code",
      "metadata": {
        "id": "pN2APXF3DlX2"
      },
      "source": [
        "import pandas as pd\n",
        "import numpy as np\n",
        "import matplotlib.pyplot as plt\n",
        "%matplotlib inline\n",
        "\n",
        "# Для работы с матрицами\n",
        "from scipy.sparse import csr_matrix\n",
        "\n",
        "# Матричная факторизация\n",
        "from implicit.als import AlternatingLeastSquares\n",
        "from implicit.nearest_neighbours import ItemItemRecommender  # нужен для одного трюка\n",
        "from implicit.nearest_neighbours import bm25_weight, tfidf_weight\n",
        "\n",
        "# Функции из 1-ого вебинара\n",
        "import os, sys\n",
        "\n",
        "module_path = os.path.abspath(os.path.join(os.pardir))\n",
        "if module_path not in sys.path:\n",
        "    sys.path.append(module_path)\n",
        "    \n",
        "from src.metrics import precision_at_k, recall_at_k\n",
        "from src.utils import prefilter_items"
      ],
      "execution_count": 7,
      "outputs": []
    },
    {
      "cell_type": "code",
      "metadata": {
        "id": "Z5xDBVTyDlX3",
        "colab": {
          "base_uri": "https://localhost:8080/",
          "height": 111
        },
        "outputId": "cec01c00-bbc5-4487-fbc8-6eebef0bb6e0"
      },
      "source": [
        "data = pd.read_csv(r'/content/drive/MyDrive/Colab Notebooks/recommender_systems/data/retail_train.csv')\n",
        "\n",
        "data.columns = [col.lower() for col in data.columns]\n",
        "data.rename(columns={'household_key': 'user_id',\n",
        "                    'product_id': 'item_id'},\n",
        "           inplace=True)\n",
        "\n",
        "\n",
        "test_size_weeks = 3\n",
        "\n",
        "data_train = data[data['week_no'] < data['week_no'].max() - test_size_weeks]\n",
        "data_test = data[data['week_no'] >= data['week_no'].max() - test_size_weeks]\n",
        "\n",
        "data_train.head(2)"
      ],
      "execution_count": 8,
      "outputs": [
        {
          "output_type": "execute_result",
          "data": {
            "text/html": [
              "<div>\n",
              "<style scoped>\n",
              "    .dataframe tbody tr th:only-of-type {\n",
              "        vertical-align: middle;\n",
              "    }\n",
              "\n",
              "    .dataframe tbody tr th {\n",
              "        vertical-align: top;\n",
              "    }\n",
              "\n",
              "    .dataframe thead th {\n",
              "        text-align: right;\n",
              "    }\n",
              "</style>\n",
              "<table border=\"1\" class=\"dataframe\">\n",
              "  <thead>\n",
              "    <tr style=\"text-align: right;\">\n",
              "      <th></th>\n",
              "      <th>user_id</th>\n",
              "      <th>basket_id</th>\n",
              "      <th>day</th>\n",
              "      <th>item_id</th>\n",
              "      <th>quantity</th>\n",
              "      <th>sales_value</th>\n",
              "      <th>store_id</th>\n",
              "      <th>retail_disc</th>\n",
              "      <th>trans_time</th>\n",
              "      <th>week_no</th>\n",
              "      <th>coupon_disc</th>\n",
              "      <th>coupon_match_disc</th>\n",
              "    </tr>\n",
              "  </thead>\n",
              "  <tbody>\n",
              "    <tr>\n",
              "      <th>0</th>\n",
              "      <td>2375</td>\n",
              "      <td>26984851472</td>\n",
              "      <td>1</td>\n",
              "      <td>1004906</td>\n",
              "      <td>1</td>\n",
              "      <td>1.39</td>\n",
              "      <td>364</td>\n",
              "      <td>-0.6</td>\n",
              "      <td>1631</td>\n",
              "      <td>1</td>\n",
              "      <td>0.0</td>\n",
              "      <td>0.0</td>\n",
              "    </tr>\n",
              "    <tr>\n",
              "      <th>1</th>\n",
              "      <td>2375</td>\n",
              "      <td>26984851472</td>\n",
              "      <td>1</td>\n",
              "      <td>1033142</td>\n",
              "      <td>1</td>\n",
              "      <td>0.82</td>\n",
              "      <td>364</td>\n",
              "      <td>0.0</td>\n",
              "      <td>1631</td>\n",
              "      <td>1</td>\n",
              "      <td>0.0</td>\n",
              "      <td>0.0</td>\n",
              "    </tr>\n",
              "  </tbody>\n",
              "</table>\n",
              "</div>"
            ],
            "text/plain": [
              "   user_id    basket_id  day  ...  week_no  coupon_disc  coupon_match_disc\n",
              "0     2375  26984851472    1  ...        1          0.0                0.0\n",
              "1     2375  26984851472    1  ...        1          0.0                0.0\n",
              "\n",
              "[2 rows x 12 columns]"
            ]
          },
          "metadata": {
            "tags": []
          },
          "execution_count": 8
        }
      ]
    },
    {
      "cell_type": "code",
      "metadata": {
        "id": "hgo68xtgDlX4",
        "colab": {
          "base_uri": "https://localhost:8080/",
          "height": 111
        },
        "outputId": "ec6c077d-2bb9-459c-f848-9e6b995aad09"
      },
      "source": [
        "item_features = pd.read_csv(r'/content/drive/MyDrive/Colab Notebooks/recommender_systems/data/product.csv')\n",
        "item_features.columns = [col.lower() for col in item_features.columns]\n",
        "item_features.rename(columns={'product_id': 'item_id'}, inplace=True)\n",
        "\n",
        "item_features.head(2)"
      ],
      "execution_count": 9,
      "outputs": [
        {
          "output_type": "execute_result",
          "data": {
            "text/html": [
              "<div>\n",
              "<style scoped>\n",
              "    .dataframe tbody tr th:only-of-type {\n",
              "        vertical-align: middle;\n",
              "    }\n",
              "\n",
              "    .dataframe tbody tr th {\n",
              "        vertical-align: top;\n",
              "    }\n",
              "\n",
              "    .dataframe thead th {\n",
              "        text-align: right;\n",
              "    }\n",
              "</style>\n",
              "<table border=\"1\" class=\"dataframe\">\n",
              "  <thead>\n",
              "    <tr style=\"text-align: right;\">\n",
              "      <th></th>\n",
              "      <th>item_id</th>\n",
              "      <th>manufacturer</th>\n",
              "      <th>department</th>\n",
              "      <th>brand</th>\n",
              "      <th>commodity_desc</th>\n",
              "      <th>sub_commodity_desc</th>\n",
              "      <th>curr_size_of_product</th>\n",
              "    </tr>\n",
              "  </thead>\n",
              "  <tbody>\n",
              "    <tr>\n",
              "      <th>0</th>\n",
              "      <td>25671</td>\n",
              "      <td>2</td>\n",
              "      <td>GROCERY</td>\n",
              "      <td>National</td>\n",
              "      <td>FRZN ICE</td>\n",
              "      <td>ICE - CRUSHED/CUBED</td>\n",
              "      <td>22 LB</td>\n",
              "    </tr>\n",
              "    <tr>\n",
              "      <th>1</th>\n",
              "      <td>26081</td>\n",
              "      <td>2</td>\n",
              "      <td>MISC. TRANS.</td>\n",
              "      <td>National</td>\n",
              "      <td>NO COMMODITY DESCRIPTION</td>\n",
              "      <td>NO SUBCOMMODITY DESCRIPTION</td>\n",
              "      <td></td>\n",
              "    </tr>\n",
              "  </tbody>\n",
              "</table>\n",
              "</div>"
            ],
            "text/plain": [
              "   item_id  manufacturer  ...           sub_commodity_desc curr_size_of_product\n",
              "0    25671             2  ...          ICE - CRUSHED/CUBED                22 LB\n",
              "1    26081             2  ...  NO SUBCOMMODITY DESCRIPTION                     \n",
              "\n",
              "[2 rows x 7 columns]"
            ]
          },
          "metadata": {
            "tags": []
          },
          "execution_count": 9
        }
      ]
    },
    {
      "cell_type": "code",
      "metadata": {
        "id": "NG2tCvhUDlX4",
        "colab": {
          "base_uri": "https://localhost:8080/",
          "height": 111
        },
        "outputId": "ae8f127e-8a3e-4273-f00d-03d8da563982"
      },
      "source": [
        "result = data_test.groupby('user_id')['item_id'].unique().reset_index()\n",
        "result.columns=['user_id', 'actual']\n",
        "result.head(2)"
      ],
      "execution_count": 45,
      "outputs": [
        {
          "output_type": "execute_result",
          "data": {
            "text/html": [
              "<div>\n",
              "<style scoped>\n",
              "    .dataframe tbody tr th:only-of-type {\n",
              "        vertical-align: middle;\n",
              "    }\n",
              "\n",
              "    .dataframe tbody tr th {\n",
              "        vertical-align: top;\n",
              "    }\n",
              "\n",
              "    .dataframe thead th {\n",
              "        text-align: right;\n",
              "    }\n",
              "</style>\n",
              "<table border=\"1\" class=\"dataframe\">\n",
              "  <thead>\n",
              "    <tr style=\"text-align: right;\">\n",
              "      <th></th>\n",
              "      <th>user_id</th>\n",
              "      <th>actual</th>\n",
              "    </tr>\n",
              "  </thead>\n",
              "  <tbody>\n",
              "    <tr>\n",
              "      <th>0</th>\n",
              "      <td>1</td>\n",
              "      <td>[821867, 834484, 856942, 865456, 889248, 90795...</td>\n",
              "    </tr>\n",
              "    <tr>\n",
              "      <th>1</th>\n",
              "      <td>3</td>\n",
              "      <td>[835476, 851057, 872021, 878302, 879948, 90963...</td>\n",
              "    </tr>\n",
              "  </tbody>\n",
              "</table>\n",
              "</div>"
            ],
            "text/plain": [
              "   user_id                                             actual\n",
              "0        1  [821867, 834484, 856942, 865456, 889248, 90795...\n",
              "1        3  [835476, 851057, 872021, 878302, 879948, 90963..."
            ]
          },
          "metadata": {
            "tags": []
          },
          "execution_count": 45
        }
      ]
    },
    {
      "cell_type": "code",
      "metadata": {
        "id": "Vj8YPsasDlX5",
        "colab": {
          "base_uri": "https://localhost:8080/"
        },
        "outputId": "5b309bc7-68c1-4dc2-d951-f7a0b9ba801f"
      },
      "source": [
        "n_items_before = data_train['item_id'].nunique()\n",
        "\n",
        "data_train = prefilter_items(data_train, item_features)\n",
        "\n",
        "n_items_after = data_train['item_id'].nunique()\n",
        "print('Decreased # items from {} to {}'.format(n_items_before, n_items_after))"
      ],
      "execution_count": 11,
      "outputs": [
        {
          "output_type": "stream",
          "text": [
            "/usr/local/lib/python3.7/dist-packages/pandas/core/indexing.py:1763: SettingWithCopyWarning: \n",
            "A value is trying to be set on a copy of a slice from a DataFrame.\n",
            "Try using .loc[row_indexer,col_indexer] = value instead\n",
            "\n",
            "See the caveats in the documentation: https://pandas.pydata.org/pandas-docs/stable/user_guide/indexing.html#returning-a-view-versus-a-copy\n",
            "  isetter(loc, value)\n",
            "/usr/local/lib/python3.7/dist-packages/pandas/core/indexing.py:1763: SettingWithCopyWarning: \n",
            "A value is trying to be set on a copy of a slice from a DataFrame.\n",
            "Try using .loc[row_indexer,col_indexer] = value instead\n",
            "\n",
            "See the caveats in the documentation: https://pandas.pydata.org/pandas-docs/stable/user_guide/indexing.html#returning-a-view-versus-a-copy\n",
            "  isetter(loc, value)\n"
          ],
          "name": "stderr"
        },
        {
          "output_type": "stream",
          "text": [
            "Decreased # items from 86865 to 2690\n"
          ],
          "name": "stdout"
        }
      ]
    },
    {
      "cell_type": "code",
      "metadata": {
        "id": "JWcEiqGsDlX5",
        "colab": {
          "base_uri": "https://localhost:8080/",
          "height": 222
        },
        "outputId": "3331ecb1-84e4-46c3-98fc-a9acd17f3531"
      },
      "source": [
        "user_item_matrix = pd.pivot_table(data_train, \n",
        "                                  index='user_id', columns='item_id', \n",
        "                                  values='quantity', # Можно пробоват ьдругие варианты\n",
        "                                  aggfunc='count', \n",
        "                                  fill_value=0\n",
        "                                 )\n",
        "\n",
        "user_item_matrix = user_item_matrix.astype(float) # необходимый тип матрицы для implicit\n",
        "\n",
        "user_item_matrix.head(3)"
      ],
      "execution_count": 12,
      "outputs": [
        {
          "output_type": "execute_result",
          "data": {
            "text/html": [
              "<div>\n",
              "<style scoped>\n",
              "    .dataframe tbody tr th:only-of-type {\n",
              "        vertical-align: middle;\n",
              "    }\n",
              "\n",
              "    .dataframe tbody tr th {\n",
              "        vertical-align: top;\n",
              "    }\n",
              "\n",
              "    .dataframe thead th {\n",
              "        text-align: right;\n",
              "    }\n",
              "</style>\n",
              "<table border=\"1\" class=\"dataframe\">\n",
              "  <thead>\n",
              "    <tr style=\"text-align: right;\">\n",
              "      <th>item_id</th>\n",
              "      <th>202291</th>\n",
              "      <th>420647</th>\n",
              "      <th>545926</th>\n",
              "      <th>707683</th>\n",
              "      <th>819063</th>\n",
              "      <th>819227</th>\n",
              "      <th>819255</th>\n",
              "      <th>819304</th>\n",
              "      <th>819308</th>\n",
              "      <th>819330</th>\n",
              "      <th>819518</th>\n",
              "      <th>819594</th>\n",
              "      <th>819765</th>\n",
              "      <th>819840</th>\n",
              "      <th>819845</th>\n",
              "      <th>819927</th>\n",
              "      <th>819978</th>\n",
              "      <th>820082</th>\n",
              "      <th>820122</th>\n",
              "      <th>820165</th>\n",
              "      <th>820301</th>\n",
              "      <th>820321</th>\n",
              "      <th>820486</th>\n",
              "      <th>820518</th>\n",
              "      <th>820701</th>\n",
              "      <th>821025</th>\n",
              "      <th>821083</th>\n",
              "      <th>821209</th>\n",
              "      <th>821562</th>\n",
              "      <th>821735</th>\n",
              "      <th>821976</th>\n",
              "      <th>822049</th>\n",
              "      <th>822140</th>\n",
              "      <th>822241</th>\n",
              "      <th>822346</th>\n",
              "      <th>822407</th>\n",
              "      <th>822517</th>\n",
              "      <th>822524</th>\n",
              "      <th>822739</th>\n",
              "      <th>822936</th>\n",
              "      <th>...</th>\n",
              "      <th>12810464</th>\n",
              "      <th>12811532</th>\n",
              "      <th>12812261</th>\n",
              "      <th>12946027</th>\n",
              "      <th>12949590</th>\n",
              "      <th>12949855</th>\n",
              "      <th>12987975</th>\n",
              "      <th>12988031</th>\n",
              "      <th>13003092</th>\n",
              "      <th>13008334</th>\n",
              "      <th>13071902</th>\n",
              "      <th>13072850</th>\n",
              "      <th>13095132</th>\n",
              "      <th>13095134</th>\n",
              "      <th>13115493</th>\n",
              "      <th>13115501</th>\n",
              "      <th>13115548</th>\n",
              "      <th>13115937</th>\n",
              "      <th>13189726</th>\n",
              "      <th>13210025</th>\n",
              "      <th>13381584</th>\n",
              "      <th>13416351</th>\n",
              "      <th>13506200</th>\n",
              "      <th>13511457</th>\n",
              "      <th>13511722</th>\n",
              "      <th>13512965</th>\n",
              "      <th>13672065</th>\n",
              "      <th>13841744</th>\n",
              "      <th>13877192</th>\n",
              "      <th>13987135</th>\n",
              "      <th>14077333</th>\n",
              "      <th>14106445</th>\n",
              "      <th>15452677</th>\n",
              "      <th>15596488</th>\n",
              "      <th>15596515</th>\n",
              "      <th>15831255</th>\n",
              "      <th>15926844</th>\n",
              "      <th>15926886</th>\n",
              "      <th>15927403</th>\n",
              "      <th>15927850</th>\n",
              "    </tr>\n",
              "    <tr>\n",
              "      <th>user_id</th>\n",
              "      <th></th>\n",
              "      <th></th>\n",
              "      <th></th>\n",
              "      <th></th>\n",
              "      <th></th>\n",
              "      <th></th>\n",
              "      <th></th>\n",
              "      <th></th>\n",
              "      <th></th>\n",
              "      <th></th>\n",
              "      <th></th>\n",
              "      <th></th>\n",
              "      <th></th>\n",
              "      <th></th>\n",
              "      <th></th>\n",
              "      <th></th>\n",
              "      <th></th>\n",
              "      <th></th>\n",
              "      <th></th>\n",
              "      <th></th>\n",
              "      <th></th>\n",
              "      <th></th>\n",
              "      <th></th>\n",
              "      <th></th>\n",
              "      <th></th>\n",
              "      <th></th>\n",
              "      <th></th>\n",
              "      <th></th>\n",
              "      <th></th>\n",
              "      <th></th>\n",
              "      <th></th>\n",
              "      <th></th>\n",
              "      <th></th>\n",
              "      <th></th>\n",
              "      <th></th>\n",
              "      <th></th>\n",
              "      <th></th>\n",
              "      <th></th>\n",
              "      <th></th>\n",
              "      <th></th>\n",
              "      <th></th>\n",
              "      <th></th>\n",
              "      <th></th>\n",
              "      <th></th>\n",
              "      <th></th>\n",
              "      <th></th>\n",
              "      <th></th>\n",
              "      <th></th>\n",
              "      <th></th>\n",
              "      <th></th>\n",
              "      <th></th>\n",
              "      <th></th>\n",
              "      <th></th>\n",
              "      <th></th>\n",
              "      <th></th>\n",
              "      <th></th>\n",
              "      <th></th>\n",
              "      <th></th>\n",
              "      <th></th>\n",
              "      <th></th>\n",
              "      <th></th>\n",
              "      <th></th>\n",
              "      <th></th>\n",
              "      <th></th>\n",
              "      <th></th>\n",
              "      <th></th>\n",
              "      <th></th>\n",
              "      <th></th>\n",
              "      <th></th>\n",
              "      <th></th>\n",
              "      <th></th>\n",
              "      <th></th>\n",
              "      <th></th>\n",
              "      <th></th>\n",
              "      <th></th>\n",
              "      <th></th>\n",
              "      <th></th>\n",
              "      <th></th>\n",
              "      <th></th>\n",
              "      <th></th>\n",
              "      <th></th>\n",
              "    </tr>\n",
              "  </thead>\n",
              "  <tbody>\n",
              "    <tr>\n",
              "      <th>1</th>\n",
              "      <td>0.0</td>\n",
              "      <td>0.0</td>\n",
              "      <td>0.0</td>\n",
              "      <td>0.0</td>\n",
              "      <td>0.0</td>\n",
              "      <td>0.0</td>\n",
              "      <td>0.0</td>\n",
              "      <td>0.0</td>\n",
              "      <td>0.0</td>\n",
              "      <td>0.0</td>\n",
              "      <td>0.0</td>\n",
              "      <td>0.0</td>\n",
              "      <td>0.0</td>\n",
              "      <td>0.0</td>\n",
              "      <td>0.0</td>\n",
              "      <td>0.0</td>\n",
              "      <td>0.0</td>\n",
              "      <td>0.0</td>\n",
              "      <td>0.0</td>\n",
              "      <td>0.0</td>\n",
              "      <td>0.0</td>\n",
              "      <td>0.0</td>\n",
              "      <td>0.0</td>\n",
              "      <td>0.0</td>\n",
              "      <td>0.0</td>\n",
              "      <td>0.0</td>\n",
              "      <td>0.0</td>\n",
              "      <td>0.0</td>\n",
              "      <td>0.0</td>\n",
              "      <td>0.0</td>\n",
              "      <td>0.0</td>\n",
              "      <td>0.0</td>\n",
              "      <td>0.0</td>\n",
              "      <td>0.0</td>\n",
              "      <td>0.0</td>\n",
              "      <td>0.0</td>\n",
              "      <td>0.0</td>\n",
              "      <td>0.0</td>\n",
              "      <td>0.0</td>\n",
              "      <td>0.0</td>\n",
              "      <td>...</td>\n",
              "      <td>0.0</td>\n",
              "      <td>0.0</td>\n",
              "      <td>0.0</td>\n",
              "      <td>0.0</td>\n",
              "      <td>0.0</td>\n",
              "      <td>0.0</td>\n",
              "      <td>0.0</td>\n",
              "      <td>0.0</td>\n",
              "      <td>0.0</td>\n",
              "      <td>0.0</td>\n",
              "      <td>0.0</td>\n",
              "      <td>0.0</td>\n",
              "      <td>0.0</td>\n",
              "      <td>0.0</td>\n",
              "      <td>0.0</td>\n",
              "      <td>0.0</td>\n",
              "      <td>0.0</td>\n",
              "      <td>0.0</td>\n",
              "      <td>0.0</td>\n",
              "      <td>0.0</td>\n",
              "      <td>0.0</td>\n",
              "      <td>0.0</td>\n",
              "      <td>0.0</td>\n",
              "      <td>0.0</td>\n",
              "      <td>0.0</td>\n",
              "      <td>0.0</td>\n",
              "      <td>0.0</td>\n",
              "      <td>0.0</td>\n",
              "      <td>0.0</td>\n",
              "      <td>0.0</td>\n",
              "      <td>0.0</td>\n",
              "      <td>0.0</td>\n",
              "      <td>0.0</td>\n",
              "      <td>0.0</td>\n",
              "      <td>0.0</td>\n",
              "      <td>0.0</td>\n",
              "      <td>0.0</td>\n",
              "      <td>0.0</td>\n",
              "      <td>0.0</td>\n",
              "      <td>0.0</td>\n",
              "    </tr>\n",
              "    <tr>\n",
              "      <th>2</th>\n",
              "      <td>0.0</td>\n",
              "      <td>0.0</td>\n",
              "      <td>0.0</td>\n",
              "      <td>0.0</td>\n",
              "      <td>0.0</td>\n",
              "      <td>0.0</td>\n",
              "      <td>0.0</td>\n",
              "      <td>0.0</td>\n",
              "      <td>0.0</td>\n",
              "      <td>0.0</td>\n",
              "      <td>0.0</td>\n",
              "      <td>0.0</td>\n",
              "      <td>0.0</td>\n",
              "      <td>0.0</td>\n",
              "      <td>0.0</td>\n",
              "      <td>0.0</td>\n",
              "      <td>0.0</td>\n",
              "      <td>0.0</td>\n",
              "      <td>0.0</td>\n",
              "      <td>0.0</td>\n",
              "      <td>0.0</td>\n",
              "      <td>0.0</td>\n",
              "      <td>0.0</td>\n",
              "      <td>0.0</td>\n",
              "      <td>0.0</td>\n",
              "      <td>0.0</td>\n",
              "      <td>0.0</td>\n",
              "      <td>0.0</td>\n",
              "      <td>0.0</td>\n",
              "      <td>0.0</td>\n",
              "      <td>0.0</td>\n",
              "      <td>0.0</td>\n",
              "      <td>0.0</td>\n",
              "      <td>0.0</td>\n",
              "      <td>0.0</td>\n",
              "      <td>0.0</td>\n",
              "      <td>0.0</td>\n",
              "      <td>0.0</td>\n",
              "      <td>0.0</td>\n",
              "      <td>0.0</td>\n",
              "      <td>...</td>\n",
              "      <td>0.0</td>\n",
              "      <td>0.0</td>\n",
              "      <td>0.0</td>\n",
              "      <td>0.0</td>\n",
              "      <td>0.0</td>\n",
              "      <td>0.0</td>\n",
              "      <td>0.0</td>\n",
              "      <td>0.0</td>\n",
              "      <td>0.0</td>\n",
              "      <td>0.0</td>\n",
              "      <td>0.0</td>\n",
              "      <td>0.0</td>\n",
              "      <td>0.0</td>\n",
              "      <td>0.0</td>\n",
              "      <td>0.0</td>\n",
              "      <td>0.0</td>\n",
              "      <td>0.0</td>\n",
              "      <td>0.0</td>\n",
              "      <td>0.0</td>\n",
              "      <td>0.0</td>\n",
              "      <td>0.0</td>\n",
              "      <td>0.0</td>\n",
              "      <td>0.0</td>\n",
              "      <td>0.0</td>\n",
              "      <td>0.0</td>\n",
              "      <td>0.0</td>\n",
              "      <td>0.0</td>\n",
              "      <td>0.0</td>\n",
              "      <td>0.0</td>\n",
              "      <td>0.0</td>\n",
              "      <td>0.0</td>\n",
              "      <td>0.0</td>\n",
              "      <td>0.0</td>\n",
              "      <td>0.0</td>\n",
              "      <td>0.0</td>\n",
              "      <td>0.0</td>\n",
              "      <td>0.0</td>\n",
              "      <td>0.0</td>\n",
              "      <td>0.0</td>\n",
              "      <td>0.0</td>\n",
              "    </tr>\n",
              "    <tr>\n",
              "      <th>3</th>\n",
              "      <td>0.0</td>\n",
              "      <td>0.0</td>\n",
              "      <td>0.0</td>\n",
              "      <td>0.0</td>\n",
              "      <td>0.0</td>\n",
              "      <td>0.0</td>\n",
              "      <td>0.0</td>\n",
              "      <td>0.0</td>\n",
              "      <td>0.0</td>\n",
              "      <td>0.0</td>\n",
              "      <td>0.0</td>\n",
              "      <td>0.0</td>\n",
              "      <td>0.0</td>\n",
              "      <td>0.0</td>\n",
              "      <td>0.0</td>\n",
              "      <td>0.0</td>\n",
              "      <td>0.0</td>\n",
              "      <td>0.0</td>\n",
              "      <td>0.0</td>\n",
              "      <td>0.0</td>\n",
              "      <td>0.0</td>\n",
              "      <td>0.0</td>\n",
              "      <td>0.0</td>\n",
              "      <td>0.0</td>\n",
              "      <td>0.0</td>\n",
              "      <td>0.0</td>\n",
              "      <td>0.0</td>\n",
              "      <td>0.0</td>\n",
              "      <td>0.0</td>\n",
              "      <td>0.0</td>\n",
              "      <td>0.0</td>\n",
              "      <td>0.0</td>\n",
              "      <td>0.0</td>\n",
              "      <td>0.0</td>\n",
              "      <td>0.0</td>\n",
              "      <td>2.0</td>\n",
              "      <td>0.0</td>\n",
              "      <td>0.0</td>\n",
              "      <td>0.0</td>\n",
              "      <td>0.0</td>\n",
              "      <td>...</td>\n",
              "      <td>0.0</td>\n",
              "      <td>0.0</td>\n",
              "      <td>0.0</td>\n",
              "      <td>0.0</td>\n",
              "      <td>0.0</td>\n",
              "      <td>0.0</td>\n",
              "      <td>0.0</td>\n",
              "      <td>0.0</td>\n",
              "      <td>0.0</td>\n",
              "      <td>0.0</td>\n",
              "      <td>0.0</td>\n",
              "      <td>0.0</td>\n",
              "      <td>0.0</td>\n",
              "      <td>0.0</td>\n",
              "      <td>0.0</td>\n",
              "      <td>0.0</td>\n",
              "      <td>0.0</td>\n",
              "      <td>0.0</td>\n",
              "      <td>0.0</td>\n",
              "      <td>0.0</td>\n",
              "      <td>0.0</td>\n",
              "      <td>0.0</td>\n",
              "      <td>0.0</td>\n",
              "      <td>0.0</td>\n",
              "      <td>0.0</td>\n",
              "      <td>0.0</td>\n",
              "      <td>0.0</td>\n",
              "      <td>0.0</td>\n",
              "      <td>0.0</td>\n",
              "      <td>0.0</td>\n",
              "      <td>0.0</td>\n",
              "      <td>0.0</td>\n",
              "      <td>0.0</td>\n",
              "      <td>0.0</td>\n",
              "      <td>0.0</td>\n",
              "      <td>0.0</td>\n",
              "      <td>0.0</td>\n",
              "      <td>0.0</td>\n",
              "      <td>0.0</td>\n",
              "      <td>0.0</td>\n",
              "    </tr>\n",
              "  </tbody>\n",
              "</table>\n",
              "<p>3 rows × 2690 columns</p>\n",
              "</div>"
            ],
            "text/plain": [
              "item_id  202291    420647    545926    ...  15926886  15927403  15927850\n",
              "user_id                                ...                              \n",
              "1             0.0       0.0       0.0  ...       0.0       0.0       0.0\n",
              "2             0.0       0.0       0.0  ...       0.0       0.0       0.0\n",
              "3             0.0       0.0       0.0  ...       0.0       0.0       0.0\n",
              "\n",
              "[3 rows x 2690 columns]"
            ]
          },
          "metadata": {
            "tags": []
          },
          "execution_count": 12
        }
      ]
    },
    {
      "cell_type": "code",
      "metadata": {
        "colab": {
          "base_uri": "https://localhost:8080/"
        },
        "id": "sZmbnPpUQRTe",
        "outputId": "83e1be22-8274-40e1-b3fc-0c29fd97ccc4"
      },
      "source": [
        "user_item_matrix.shape"
      ],
      "execution_count": 13,
      "outputs": [
        {
          "output_type": "execute_result",
          "data": {
            "text/plain": [
              "(2499, 2690)"
            ]
          },
          "metadata": {
            "tags": []
          },
          "execution_count": 13
        }
      ]
    },
    {
      "cell_type": "code",
      "metadata": {
        "id": "qa23_mgDDlX6"
      },
      "source": [
        "userids = user_item_matrix.index.values\n",
        "itemids = user_item_matrix.columns.values\n",
        "\n",
        "matrix_userids = np.arange(len(userids))\n",
        "matrix_itemids = np.arange(len(itemids))\n",
        "\n",
        "id_to_itemid = dict(zip(matrix_itemids, itemids))\n",
        "id_to_userid = dict(zip(matrix_userids, userids))\n",
        "\n",
        "itemid_to_id = dict(zip(itemids, matrix_itemids))\n",
        "userid_to_id = dict(zip(userids, matrix_userids))"
      ],
      "execution_count": 14,
      "outputs": []
    },
    {
      "cell_type": "code",
      "metadata": {
        "id": "AFywCEtWDlX6"
      },
      "source": [
        "user_item_matrix = bm25_weight(user_item_matrix.T).T  # Применяется к item-user матрице !"
      ],
      "execution_count": 15,
      "outputs": []
    },
    {
      "cell_type": "code",
      "metadata": {
        "id": "SBChT1WDDlX7",
        "colab": {
          "base_uri": "https://localhost:8080/",
          "height": 117,
          "referenced_widgets": [
            "2a62faf92ec44fd593e5e016c5f51860",
            "a7356aecabe7427e8281c4a269cd73af",
            "b5822e46d14544f5852c92c8f9406432",
            "b39019d941b941c19584f4c875b376cc",
            "b73cba5a2f6343a0a82468c1a9a47d4c",
            "64501011701a4edda5e73e25e9370c84",
            "27dd721ac215444986e178f6020bd8bd",
            "1fd584a7505a42f38467cadc47979361"
          ]
        },
        "outputId": "c7b368d5-d845-4448-d9ca-974a5eae588d"
      },
      "source": [
        "%%time\n",
        "\n",
        "model = AlternatingLeastSquares(factors=20, \n",
        "                                regularization=0.001,\n",
        "                                iterations=15, \n",
        "                                calculate_training_loss=True,\n",
        "                                use_gpu=False, \n",
        "                                num_threads=4)\n",
        "\n",
        "model.fit(csr_matrix(user_item_matrix).T.tocsr(),  # На вход item-user matrix\n",
        "          show_progress=True)"
      ],
      "execution_count": 16,
      "outputs": [
        {
          "output_type": "stream",
          "text": [
            "WARNING:root:OpenBLAS detected. Its highly recommend to set the environment variable 'export OPENBLAS_NUM_THREADS=1' to disable its internal multithreading\n"
          ],
          "name": "stderr"
        },
        {
          "output_type": "display_data",
          "data": {
            "application/vnd.jupyter.widget-view+json": {
              "model_id": "2a62faf92ec44fd593e5e016c5f51860",
              "version_minor": 0,
              "version_major": 2
            },
            "text/plain": [
              "HBox(children=(FloatProgress(value=0.0, max=15.0), HTML(value='')))"
            ]
          },
          "metadata": {
            "tags": []
          }
        },
        {
          "output_type": "stream",
          "text": [
            "\n",
            "CPU times: user 51 s, sys: 2min 45s, total: 3min 36s\n",
            "Wall time: 1min 50s\n"
          ],
          "name": "stdout"
        }
      ]
    },
    {
      "cell_type": "markdown",
      "metadata": {
        "id": "nck_F5HlDlX7"
      },
      "source": [
        "-----"
      ]
    },
    {
      "cell_type": "markdown",
      "metadata": {
        "id": "EhXHP_aBDlX7"
      },
      "source": [
        "# Домашнее задание"
      ]
    },
    {
      "cell_type": "markdown",
      "metadata": {
        "id": "xBD4i9TYDlX8"
      },
      "source": [
        "1. Изучите структуру модуля src\n",
        "2. Перенесите функции prefilter_items и postfilter_items в модуль src.utils.py\n",
        "3. Реализуйте функции get_similar_items_recommendation, get_similar_users_recommendation (они разбирались на вебинаре) и переместите в src.utils.py.  \n",
        "postfilter можно пока оставить пустой (или как-то бороться с товаром 999999) - на Ваше усмотрение.  \n",
        "В prefilter нужно реализовать закомментированные ограничения.\n",
        "4. Создайте модуль src.recommenders.py. Напишите код для класса ниже и положите его в src.recommenders.py  \n",
        "get_similar_items_recommendation и get_similar_users_recommendation - реализуйте их в качетсве методов класса.  \n",
        "Посчитайте с помощью них рекоменадции и найдите precision@5\n",
        "5. Проверьте, что все модули корректно импортируются\n",
        "6. Если вы еще не прочитали [статью](https://habr.com/ru/company/hh/blog/347276/) о рекомендательных системах и поиске в hh.ru, то обязательно прочитайте\n",
        "\n",
        "**Внимание!** модуль для вашего удобства - дополняйте его теми функциями, которые Вам пригодятся.  \n",
        "Формальное задание только на prefiletr_items "
      ]
    },
    {
      "cell_type": "code",
      "metadata": {
        "id": "MOV8CwjGDlX8"
      },
      "source": [
        "def prefilter_items(data_train, item_features):\n",
        "    # Оставим только 5000 самых популярных товаров\n",
        "    popularity = data_train.groupby('item_id')['quantity'].sum().reset_index()\n",
        "    popularity.rename(columns={'quantity': 'n_sold'}, inplace=True)\n",
        "    top_5000 = popularity.sort_values('n_sold', ascending=False).head(5000).item_id.tolist()\n",
        "    #добавим, чтобы не потерять юзеров\n",
        "    data_train.loc[~data_train['item_id'].isin(top_5000), 'item_id'] = 999999 \n",
        "     \n",
        "    # Уберем самые популярные\n",
        "    top_corrected = top_5000[10:]\n",
        "    \n",
        "    # Уберем самые непопулярные\n",
        "    top_corrected = top_corrected[:-10]\n",
        "    data_train.loc[~data_train['item_id'].isin(top_corrected), 'item_id'] = 999999 \n",
        "    \n",
        "    # Уберем товары, которые не продавались за последние 12 месяцев (это примерно 52 недели)\n",
        "    data_train.loc[data_train['week_no'] < data_train['week_no'].max() - 52, 'item_id'] = 999999  # Оставляю продажи после 39 недели\n",
        "    \n",
        "    # Уберем не интересные для рекоммендаций категории (department)\n",
        "    data_train_dep = pd.merge(data_train, item_features[['item_id', 'department']], how='left', on=\"item_id\")\n",
        "    bad_departments = ['KIOSK-GAS']\n",
        "    for dept in bad_departments:\n",
        "        data_train_dep.loc[data_train_dep['department'] == dept, 'item_id'] = 999999\n",
        "    data_train = data_train_dep.drop(columns=['department'])\n",
        "\n",
        "    # Уберем слишком дешевые товары (на них не заработаем). 1 покупка из рассылок стоит 60 руб.\n",
        "    data_train.loc[data_train['sales_value'] < 6, 'item_id'] = 999999\n",
        "    \n",
        "    # Уберем слишком дорогие товары\n",
        "    data_train.loc[data_train['sales_value'] > 500, 'item_id'] = 999999\n",
        "\n",
        "    return data_train\n",
        "\n",
        "def postfilter_items():\n",
        "    pass"
      ],
      "execution_count": 17,
      "outputs": []
    },
    {
      "cell_type": "code",
      "metadata": {
        "id": "pP2XqjtVWUk4"
      },
      "source": [
        "popularity = data_train.groupby(['user_id', 'item_id'])['quantity'].count().reset_index()\r\n",
        "popularity.sort_values('quantity', ascending=False, inplace=True)  # \"Популярность\" по кол-ву покупок\r\n",
        "\r\n",
        "item_filter = 999999\r\n",
        "if item_filter:\r\n",
        "    popularity = popularity[popularity['item_id'] != item_filter]  # item_filter = 999999, dummy item\r\n",
        "\r\n",
        "popularity = popularity.groupby('user_id')"
      ],
      "execution_count": 103,
      "outputs": []
    },
    {
      "cell_type": "code",
      "metadata": {
        "colab": {
          "base_uri": "https://localhost:8080/",
          "height": 66,
          "referenced_widgets": [
            "16d97de359a34f47bf607161d7d2bb28",
            "398cd055b3a34c8e85745e6cebc040f3",
            "8e2dfcf987054198b3912566ca0de913",
            "b3921110a94d41469f58d67c81db26c2",
            "af591da74b7846a9bbeb64f5628d853d",
            "d181911fbfd3424f9591fb7e1fb9758d",
            "5621e80a9e39474aa75de4836ebb479e",
            "07841753603d4de4ab0c9ccae8c5dfb4"
          ]
        },
        "id": "gxma20QnleiD",
        "outputId": "b2b19e09-dab3-4824-bbea-25d1a0f20d99"
      },
      "source": [
        "own = ItemItemRecommender(K=1, num_threads=4) # K - кол-во билжайших соседей\r\n",
        "\r\n",
        "own.fit(csr_matrix(user_item_matrix).T.tocsr(), \r\n",
        "          show_progress=True)"
      ],
      "execution_count": 19,
      "outputs": [
        {
          "output_type": "display_data",
          "data": {
            "application/vnd.jupyter.widget-view+json": {
              "model_id": "16d97de359a34f47bf607161d7d2bb28",
              "version_minor": 0,
              "version_major": 2
            },
            "text/plain": [
              "HBox(children=(FloatProgress(value=0.0, max=2690.0), HTML(value='')))"
            ]
          },
          "metadata": {
            "tags": []
          }
        },
        {
          "output_type": "stream",
          "text": [
            "\n"
          ],
          "name": "stdout"
        }
      ]
    },
    {
      "cell_type": "code",
      "metadata": {
        "id": "UClIHs0xDlX9"
      },
      "source": [
        "def get_rec(model, x):\n",
        "\n",
        "    recs = model.similar_items(itemid_to_id[x], N=3)\n",
        "    top_rec = recs[1][0] if id_to_itemid[recs[1][0]] != 999999 else recs[2][0]\n",
        "\n",
        "    return id_to_itemid[top_rec]\n",
        "\n",
        "def get_recommendations(user, model, sparse_user_item, N=5):\n",
        "    \"\"\"Рекомендуем топ-N товаров\"\"\"\n",
        "    res = [id_to_itemid[rec[0]] for rec in \n",
        "                    model.recommend(userid=userid_to_id[user], \n",
        "                                    user_items=sparse_user_item,   # на вход user-item matrix\n",
        "                                    N=N, \n",
        "                                    filter_already_liked_items=False, \n",
        "                                    filter_items=[itemid_to_id[999999]],  # !!! Используем фильтр\n",
        "                                    recalculate_user=True)]\n",
        "    return res\n",
        "\n",
        "def get_similar_items_recommendation(user, model, N=5):\n",
        "    \"\"\"Рекомендуем товары, похожие на топ-N купленных юзером товаров\"\"\"\n",
        "\n",
        "    popularity_n_items = popularity.head(N)  # Оставляем первые N самых \"популярных\" товаров\n",
        "    res = popularity_n_items[popularity_n_items['user_id'] == user]['item_id'].apply(lambda x: get_rec(model, x))  # Результат для конкретного юзера\n",
        "\n",
        "    res = res.tolist()\n",
        "\n",
        "    #  Пока закостылю, надо подумать, при user=10 только 1 рекомендация\n",
        "    if len(res) < N:\n",
        "        for i in range(N - len(res)):\n",
        "            res.append(999999)\n",
        "   \n",
        "    return res\n",
        "\n",
        "def get_similar_users_recommendation(user, model, N=5):\n",
        "    \"\"\"Рекомендуем топ-N товаров, среди купленных похожими юзерами\"\"\"\n",
        "    \n",
        "    res = []\n",
        "    try:\n",
        "        for matrix_userid in model.similar_users(userid_to_id[user], N=N+1):\n",
        "            if matrix_userid[0] != userid_to_id[user]:\n",
        "                if len(get_recommendations(user=id_to_userid[matrix_userid[0]], model=own, sparse_user_item=csr_matrix(user_item_matrix).T.tocsr(), N=1)) != 0:\n",
        "                    res.append(get_recommendations(user=id_to_userid[matrix_userid[0]], model=own, sparse_user_item=csr_matrix(user_item_matrix).T.tocsr(), N=1)[0])\n",
        "                else:\n",
        "                    res.append(999999)\n",
        "    except:\n",
        "        res = [999999 for i in range(N)]  # Потом поправлю, ошибка для user=2325 KeyError, запусти userid_to_id[2325]\n",
        "\n",
        "    res = res[:N] if len(res) > N else res  # См. 102 - 6 рекомендаций\n",
        "\n",
        "    return res"
      ],
      "execution_count": 274,
      "outputs": []
    },
    {
      "cell_type": "markdown",
      "metadata": {
        "id": "ctv3JOa0zFrf"
      },
      "source": [
        "Проверим ниже работу функций get_similar_items_recommendation и get_similar_users_recommendation"
      ]
    },
    {
      "cell_type": "code",
      "metadata": {
        "colab": {
          "base_uri": "https://localhost:8080/"
        },
        "id": "EkGziAaGby55",
        "outputId": "2616cda0-2fe4-4343-94df-ea9ef2f744ff"
      },
      "source": [
        "get_similar_items_recommendation(user=10, model=model, N=5)"
      ],
      "execution_count": 273,
      "outputs": [
        {
          "output_type": "execute_result",
          "data": {
            "text/plain": [
              "[1013928, 999999, 999999, 999999, 999999]"
            ]
          },
          "metadata": {
            "tags": []
          },
          "execution_count": 273
        }
      ]
    },
    {
      "cell_type": "code",
      "metadata": {
        "colab": {
          "base_uri": "https://localhost:8080/"
        },
        "id": "---u3xYawh3w",
        "outputId": "3531bdf9-4a13-4869-c21b-4f7551101633"
      },
      "source": [
        "get_similar_users_recommendation(user=102, model=model, N=5)"
      ],
      "execution_count": 249,
      "outputs": [
        {
          "output_type": "execute_result",
          "data": {
            "text/plain": [
              "[10344585, 1135044, 967461, 6533681, 896613]"
            ]
          },
          "metadata": {
            "tags": []
          },
          "execution_count": 249
        }
      ]
    },
    {
      "cell_type": "code",
      "metadata": {
        "id": "e9dQ1lzsDlX9"
      },
      "source": [
        "import pandas as pd\n",
        "import numpy as np\n",
        "\n",
        "# Для работы с матрицами\n",
        "from scipy.sparse import csr_matrix\n",
        "\n",
        "# Матричная факторизация\n",
        "from implicit.als import AlternatingLeastSquares\n",
        "from implicit.nearest_neighbours import ItemItemRecommender  # нужен для одного трюка\n",
        "from implicit.nearest_neighbours import bm25_weight, tfidf_weight\n",
        "\n",
        "\n",
        "class MainRecommender:\n",
        "    \"\"\"Рекоммендации, которые можно получить из ALS\n",
        "    \n",
        "    Input\n",
        "    -----\n",
        "    user_item_matrix: pd.DataFrame\n",
        "        Матрица взаимодействий user-item\n",
        "    \"\"\"\n",
        "\n",
        "    def __init__(self, data, item_features, weighting=True):\n",
        "        \n",
        "        # your_code. Это не обязательная часть. Но если вам удобно что-либо посчитать тут - можно это сделать\n",
        "        data = self.prefilter_items(data, item_features)\n",
        "\n",
        "        # predefined code\n",
        "        self.user_item_matrix = self.prepare_matrix(data)  # pd.DataFrame\n",
        "        self.id_to_itemid, self.id_to_userid, self.itemid_to_id, self.userid_to_id = self.prepare_dicts(self.user_item_matrix)\n",
        "        \n",
        "        if weighting:\n",
        "            self.user_item_matrix = bm25_weight(self.user_item_matrix.T).T \n",
        "        \n",
        "        self.model = self.fit(self.user_item_matrix)\n",
        "        self.own_recommender = self.fit_own_recommender(self.user_item_matrix)\n",
        "\n",
        "        # вынес сюда группировку, чтобы не делать её каждый раз при вызове метода get_similar_items_recommendation\n",
        "        self.popularity = data.groupby(['user_id', 'item_id'])['quantity'].count().reset_index()\n",
        "        self.popularity.sort_values('quantity', ascending=False, inplace=True)  # \"Популярность\" по кол-ву покупок\n",
        "\n",
        "        item_filter = 999999\n",
        "        if item_filter:\n",
        "            self.popularity = self.popularity[self.popularity['item_id'] != item_filter]  # item_filter = 999999, dummy item\n",
        "        self.popularity = self.popularity.groupby('user_id')  # Заранее сгруппируем по юзерам\n",
        "\n",
        "    @staticmethod\n",
        "    def prefilter_items(data_train, item_features):\n",
        "        # Оставим только 5000 самых популярных товаров\n",
        "        popularity = data_train.groupby('item_id')['quantity'].sum().reset_index()\n",
        "        popularity.rename(columns={'quantity': 'n_sold'}, inplace=True)\n",
        "        top_5000 = popularity.sort_values('n_sold', ascending=False).head(5000).item_id.tolist()\n",
        "        #добавим, чтобы не потерять юзеров\n",
        "        data_train.loc[~data_train['item_id'].isin(top_5000), 'item_id'] = 999999 \n",
        "        \n",
        "        # Уберем самые популярные\n",
        "        top_corrected = top_5000[10:]\n",
        "        \n",
        "        # Уберем самые непопулярные\n",
        "        top_corrected = top_corrected[:-10]\n",
        "        data_train.loc[~data_train['item_id'].isin(top_corrected), 'item_id'] = 999999 \n",
        "        \n",
        "        # Уберем товары, которые не продавались за последние 12 месяцев (это примерно 52 недели)\n",
        "        data_train.loc[data_train['week_no'] < data_train['week_no'].max() - 52, 'item_id'] = 999999  # Оставляю продажи после 39 недели\n",
        "        \n",
        "        # Уберем не интересные для рекоммендаций категории (department)\n",
        "        data_train_dep = pd.merge(data_train, item_features[['item_id', 'department']], how='left', on=\"item_id\")\n",
        "        bad_departments = ['KIOSK-GAS']\n",
        "        for dept in bad_departments:\n",
        "            data_train_dep.loc[data_train_dep['department'] == dept, 'item_id'] = 999999\n",
        "        data_train = data_train_dep.drop(columns=['department'])\n",
        "\n",
        "        # Уберем слишком дешевые товары (на них не заработаем). 1 покупка из рассылок стоит 60 руб.\n",
        "        data_train.loc[data_train['sales_value'] < 6, 'item_id'] = 999999\n",
        "        \n",
        "        # Уберем слишком дорогие товары\n",
        "        data_train.loc[data_train['sales_value'] > 500, 'item_id'] = 999999\n",
        "\n",
        "        return data_train\n",
        "\n",
        "    @staticmethod\n",
        "    def postfilter_items():\n",
        "        pass\n",
        "\n",
        "    @staticmethod\n",
        "    def prepare_matrix(data):\n",
        "        \n",
        "        user_item_matrix = pd.pivot_table(data, \n",
        "                                  index='user_id', columns='item_id', \n",
        "                                  values='quantity', # Можно пробовать другие варианты\n",
        "                                  aggfunc='count', \n",
        "                                  fill_value=0\n",
        "                                 )\n",
        "\n",
        "        user_item_matrix = user_item_matrix.astype(float) # необходимый тип матрицы для implicit\n",
        "        \n",
        "        return user_item_matrix\n",
        "    \n",
        "    @staticmethod\n",
        "    def prepare_dicts(user_item_matrix):\n",
        "        \"\"\"Подготавливает вспомогательные словари\"\"\"\n",
        "        \n",
        "        userids = user_item_matrix.index.values\n",
        "        itemids = user_item_matrix.columns.values\n",
        "\n",
        "        matrix_userids = np.arange(len(userids))\n",
        "        matrix_itemids = np.arange(len(itemids))\n",
        "\n",
        "        id_to_itemid = dict(zip(matrix_itemids, itemids))\n",
        "        id_to_userid = dict(zip(matrix_userids, userids))\n",
        "\n",
        "        itemid_to_id = dict(zip(itemids, matrix_itemids))\n",
        "        userid_to_id = dict(zip(userids, matrix_userids))\n",
        "        \n",
        "        return id_to_itemid, id_to_userid, itemid_to_id, userid_to_id\n",
        "\n",
        "    @staticmethod\n",
        "    def fit_own_recommender(user_item_matrix):\n",
        "        \"\"\"Обучает модель, которая рекомендует товары, среди товаров, купленных юзером\"\"\"\n",
        "    \n",
        "        own_recommender = ItemItemRecommender(K=1, num_threads=4)\n",
        "        own_recommender.fit(csr_matrix(user_item_matrix).T.tocsr())\n",
        "        \n",
        "        return own_recommender\n",
        "    \n",
        "    @staticmethod\n",
        "    def fit(user_item_matrix, n_factors=20, regularization=0.001, iterations=15, num_threads=4):\n",
        "        \"\"\"Обучает ALS\"\"\"\n",
        "        \n",
        "        model = AlternatingLeastSquares(factors=n_factors, \n",
        "                                             regularization=regularization,\n",
        "                                             iterations=iterations,\n",
        "                                             use_gpu=False,  \n",
        "                                             num_threads=num_threads)\n",
        "        model.fit(csr_matrix(user_item_matrix).T.tocsr())\n",
        "        \n",
        "        return model\n",
        "\n",
        "    @staticmethod\n",
        "    def get_rec(model, x):\n",
        "        '''Рекомендует 1 наиболее похожий item'''\n",
        "\n",
        "        recs = model.similar_items(itemid_to_id[x], N=3)\n",
        "        top_rec = recs[1][0] if id_to_itemid[recs[1][0]] != 999999 else recs[2][0]  # Фильтрую dummy item 999999, для этого выше N=3, чтобы был альтернативный вариант\n",
        "\n",
        "        return id_to_itemid[top_rec]\n",
        "\n",
        "    @staticmethod\n",
        "    def get_recommendations(user, model, sparse_user_item, N=5):\n",
        "        \"\"\"Рекомендуем топ-N товаров\"\"\"\n",
        "        res = [id_to_itemid[rec[0]] for rec in \n",
        "                        model.recommend(userid=userid_to_id[user], \n",
        "                                        user_items=sparse_user_item,   # на вход user-item matrix\n",
        "                                        N=N, \n",
        "                                        filter_already_liked_items=False, \n",
        "                                        filter_items=[itemid_to_id[999999]],  # !!! Используем фильтр\n",
        "                                        recalculate_user=True)]\n",
        "        return res\n",
        "\n",
        "    def get_similar_items_recommendation(self, user, N=5):\n",
        "        \"\"\"Рекомендуем товары, похожие на топ-N купленных юзером товаров\"\"\"\n",
        "\n",
        "        self.popularity_n_items = self.popularity.head(N)  # Оставляем первые N самых \"популярных\" товаров\n",
        "\n",
        "        try:\n",
        "            res = self.popularity_n_items[self.popularity_n_items['user_id'] == user]['item_id'].apply(lambda x: get_rec(self.model, x))  # Результат для конкретного юзера\n",
        "\n",
        "            res = res.tolist()\n",
        "\n",
        "            #  Пока закостылю, надо подумать, при user=10 только 1 рекомендация\n",
        "            if len(res) < N:\n",
        "                for i in range(N - len(res)):\n",
        "                    res.append(999999)\n",
        "        except:\n",
        "            res = [999999 for i in range(N)]  # Потом поправлю, ошибка для user=2325 KeyError, запусти userid_to_id[2325]\n",
        "\n",
        "        assert len(res) == N, 'Количество рекомендаций != {}'.format(N)\n",
        "        return res\n",
        "    \n",
        "    def get_similar_users_recommendation(self, user, N=5):\n",
        "        \"\"\"Рекомендуем топ-N товаров, среди купленных похожими юзерами\"\"\"\n",
        "\n",
        "        res = []\n",
        "        try:\n",
        "            for matrix_userid in model.similar_users(userid_to_id[user], N=N+1):\n",
        "                if matrix_userid[0] != userid_to_id[user]:\n",
        "                    if len(get_recommendations(user=id_to_userid[matrix_userid[0]], model=own, sparse_user_item=csr_matrix(user_item_matrix).T.tocsr(), N=1)) != 0:\n",
        "                        res.append(get_recommendations(user=id_to_userid[matrix_userid[0]], model=own, sparse_user_item=csr_matrix(user_item_matrix).T.tocsr(), N=1)[0])\n",
        "                    else:\n",
        "                        res.append(999999)\n",
        "        except:\n",
        "            res = [999999 for i in range(N)]  # Потом поправлю, ошибка для user=2325 KeyError, запусти userid_to_id[2325]\n",
        "\n",
        "        res = res[:N] if len(res) > N else res  # См. 102 - 6 рекомендаций\n",
        "\n",
        "        assert len(res) == N, 'Количество рекомендаций != {}'.format(N)\n",
        "        return res"
      ],
      "execution_count": 300,
      "outputs": []
    },
    {
      "cell_type": "markdown",
      "metadata": {
        "id": "kSUf6t62DlX-"
      },
      "source": [
        "----"
      ]
    },
    {
      "cell_type": "markdown",
      "metadata": {
        "id": "sSTu8_AwDlX_"
      },
      "source": [
        "Проверка, что все работает"
      ]
    },
    {
      "cell_type": "code",
      "metadata": {
        "id": "T4vY4JeNDlX_"
      },
      "source": [
        "from src.metrics import precision_at_k, recall_at_k\n",
        "from src.utils import prefilter_items\n",
        "from src.recommenders import MainRecommender\n",
        "\n"
      ],
      "execution_count": 24,
      "outputs": []
    },
    {
      "cell_type": "code",
      "metadata": {
        "id": "GILNqlUiDlYA",
        "colab": {
          "base_uri": "https://localhost:8080/",
          "height": 115,
          "referenced_widgets": [
            "52f7ce407720430ebdaeb132df4b5485",
            "cdb2560b66f54d87bc719dbaf8abf225",
            "5e824c459f1041a984f3820b504f284d",
            "4559e4e3a3f7452e97668fa0908f1022",
            "842071d08ab34a28aee548863c4417f4",
            "9dd9dfbe5e154308bd6510238bd41bce",
            "e7637306c1c4440da1381afe2ca61dd1",
            "d4c6511c110444a59640beaf51c02ab6",
            "78b3028e1ad449ba94e7b493f95274cd",
            "f9e2975bf39943acbee66dc476043fa4",
            "a22701af8ce044cfb288cde8bc2f2aa4",
            "5c419026541c482e98d4c7817bb7be5f",
            "7e5ee8fe59a04d869367a654c4b5e005",
            "07a7c809420649c589acaf5c73f5a91b",
            "6b57f18e22ca4c289ff9eed61be3fec7",
            "6eecd2c0e9114d44a0c6dd6e6fe4691c"
          ]
        },
        "outputId": "429c6372-6637-4176-d6d7-b915eda5f999"
      },
      "source": [
        "my_recomender = MainRecommender(data_train, item_features)"
      ],
      "execution_count": 301,
      "outputs": [
        {
          "output_type": "display_data",
          "data": {
            "application/vnd.jupyter.widget-view+json": {
              "model_id": "52f7ce407720430ebdaeb132df4b5485",
              "version_minor": 0,
              "version_major": 2
            },
            "text/plain": [
              "HBox(children=(FloatProgress(value=0.0, max=15.0), HTML(value='')))"
            ]
          },
          "metadata": {
            "tags": []
          }
        },
        {
          "output_type": "stream",
          "text": [
            "\n"
          ],
          "name": "stdout"
        },
        {
          "output_type": "display_data",
          "data": {
            "application/vnd.jupyter.widget-view+json": {
              "model_id": "78b3028e1ad449ba94e7b493f95274cd",
              "version_minor": 0,
              "version_major": 2
            },
            "text/plain": [
              "HBox(children=(FloatProgress(value=0.0, max=2500.0), HTML(value='')))"
            ]
          },
          "metadata": {
            "tags": []
          }
        },
        {
          "output_type": "stream",
          "text": [
            "\n"
          ],
          "name": "stdout"
        }
      ]
    },
    {
      "cell_type": "code",
      "metadata": {
        "colab": {
          "base_uri": "https://localhost:8080/"
        },
        "id": "s6ZkPUIhE6hQ",
        "outputId": "a1421134-9940-4295-d668-80752f73398c"
      },
      "source": [
        "my_recomender.get_similar_items_recommendation(2500, N=5)"
      ],
      "execution_count": 296,
      "outputs": [
        {
          "output_type": "execute_result",
          "data": {
            "text/plain": [
              "[1137346, 6039592, 990897, 1046957, 8203451]"
            ]
          },
          "metadata": {
            "tags": []
          },
          "execution_count": 296
        }
      ]
    },
    {
      "cell_type": "code",
      "metadata": {
        "colab": {
          "base_uri": "https://localhost:8080/"
        },
        "id": "BufCTV03GleU",
        "outputId": "654f7b39-151c-40ff-b081-5018fbc5b55f"
      },
      "source": [
        "my_recomender.get_similar_users_recommendation(10, N=5)"
      ],
      "execution_count": 290,
      "outputs": [
        {
          "output_type": "execute_result",
          "data": {
            "text/plain": [
              "[1048257, 972665, 904105, 880150, 1127758]"
            ]
          },
          "metadata": {
            "tags": []
          },
          "execution_count": 290
        }
      ]
    },
    {
      "cell_type": "code",
      "metadata": {
        "id": "8vlxYh73Hwq_"
      },
      "source": [
        "result['similar_items'] = result['user_id'].apply(lambda x: my_recomender.get_similar_items_recommendation(x, N=5))"
      ],
      "execution_count": 303,
      "outputs": []
    },
    {
      "cell_type": "code",
      "metadata": {
        "colab": {
          "base_uri": "https://localhost:8080/"
        },
        "id": "R8ghF_6TH8Hq",
        "outputId": "a43a71dc-94f5-4713-ba4b-7de305a8e69d"
      },
      "source": [
        "result.apply(lambda row: precision_at_k(row['similar_items'], row['actual']), axis=1).mean()"
      ],
      "execution_count": 304,
      "outputs": [
        {
          "output_type": "execute_result",
          "data": {
            "text/plain": [
              "0.006170421155729671"
            ]
          },
          "metadata": {
            "tags": []
          },
          "execution_count": 304
        }
      ]
    },
    {
      "cell_type": "code",
      "metadata": {
        "id": "NzNN3Wb7LBI6"
      },
      "source": [
        "result['similar_users'] = result['user_id'].apply(lambda x: my_recomender.get_similar_users_recommendation(x, N=5))"
      ],
      "execution_count": 278,
      "outputs": []
    },
    {
      "cell_type": "code",
      "metadata": {
        "colab": {
          "base_uri": "https://localhost:8080/"
        },
        "id": "1ikFLnmjLIZx",
        "outputId": "0344ddd1-7836-4a2d-c475-7f0514742e84"
      },
      "source": [
        "result.apply(lambda row: precision_at_k(row['similar_users'], row['actual']), axis=1).mean()"
      ],
      "execution_count": 279,
      "outputs": [
        {
          "output_type": "execute_result",
          "data": {
            "text/plain": [
              "0.010088148873653262"
            ]
          },
          "metadata": {
            "tags": []
          },
          "execution_count": 279
        }
      ]
    },
    {
      "cell_type": "markdown",
      "metadata": {
        "id": "EfNlufK2hFeU"
      },
      "source": [
        "Качество получилось очень низкое, но это ожидаемо, т.к. мы не предсказывали вероятные покупки, а предлагали пользователю новый опыт. Поэтому precision метрика на тестовой выборке не отражает бизнес эффект от таких рекомендаций."
      ]
    },
    {
      "cell_type": "code",
      "metadata": {
        "id": "TDqhDHIEhr9i"
      },
      "source": [
        ""
      ],
      "execution_count": null,
      "outputs": []
    }
  ]
}