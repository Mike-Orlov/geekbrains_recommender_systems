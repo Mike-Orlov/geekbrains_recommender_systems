{
 "cells": [
  {
   "cell_type": "markdown",
   "metadata": {},
   "source": [
    "1. Сравните метрики hit_rate@k, precision@k.   \n",
    "Какую метрику использовать предпочтительно и почему?  \n",
    "Приведите пример 2-3 задач (опишите, что является клиентом, что товаром), в которой более уместно использовать метрику hit_rate?"
   ]
  },
  {
   "cell_type": "markdown",
   "metadata": {},
   "source": [
    "**Ответ.** Предпочтительнее обычно precision@k. Потому что нам хочется знать не только сам факт взаимодействия, а какой % рекомендованых товаров юзер купил. Также precision@k даёт в принципе больше информации, ведь зная precision@k мы автоматически знаем значение hit_rate@k, а наоборот так не работает.\n",
    "<br><br>\n",
    "hit_rate@k уместно использовать при k=1 или при k>1, когда нам важен только факт взаимодействия. \n",
    "<br>\n",
    "Примеры:<br>\n",
    "А) В письме e-mail-рассылки с \"горящими турами\". Клиент - постоянный покупатель, товар - спецпредложение. Т.к. он вряд ли будет брать более 1 тура за раз, то нас интересует, что он купит любой из предложенных.\n",
    "<br>\n",
    "Б) По такой же логике можно привести в пример краткосрочную аренду на Booking. Клиент - пользователь, товар - различные апартаменты. Как правило из всей подборки будет забронирован какой-то один вариант."
   ]
  },
  {
   "cell_type": "markdown",
   "metadata": {},
   "source": [
    "2. В метрике NDCG@k мы используем логарифм в знаменателе. Как Вы думаете, почему именно логарифм? Какую функцию можно использовать вместо логарифма? Привидите пример метрик/подходов к предобработке данных/функций ошибок в ML, где также в  логарифм.\n",
    "\n"
   ]
  },
  {
   "cell_type": "markdown",
   "metadata": {},
   "source": [
    "**Ответ**. Логарифм используется для плавного снижения веса, т.е. значимости в зависимости от позиции. При этом функция логарифма обладает таким свойством, что скорость снижения веса сначала максимальная и далее снижается. Можно использовать также логарифмы по разным основаниям. Из других функций - линейная функция ($x$), степенная функция ($x^2$) или экспонента ($e^x$), но веса будут снижаться не так плавно.<br>\n",
    "Логарифм мы уже встречали в log loss и ещё он есть в TF-IDF"
   ]
  },
  {
   "cell_type": "markdown",
   "metadata": {},
   "source": [
    "3. Какие еще метрики (Вы можете вспомнить уже пройденные Вами или посмотреть в интернете) могут использоваться для рекомендательных систем (приведите примеры метрики **и чем являются интеракции**, чтобы она могла быть использована)."
   ]
  },
  {
   "cell_type": "markdown",
   "metadata": {},
   "source": [
    "**Ответ.** Т.к. можно посчитать Presicion и Recall, то полагаю можно и вычислить AUC PR и также F1-Measure. Интеракции должны быть явными - лайки, простановка рейтинга и т.п. Также есть метрики - Spearman Correlation, Fraction of Concordance Pairs.\n",
    "\n",
    "Ещё нужно отметить, что некоторые метрики считаются только на бинарных значениях - это, например, все метрики в основе которых presicion/recall.\n",
    "\n",
    "Есть модели учитывающие последовательный просмотр рекомендаций и вероятность, что пользователь в какой-то момент не продолжит смотреть дальше - каскадные метрики. Особенно ярко такое поведение проявляется в поисковой выдаче Google/Yandex и т.п. Примеры метрик - Expected reciprocal rank (ERR), PFound."
   ]
  },
  {
   "cell_type": "markdown",
   "metadata": {},
   "source": [
    "4. bought = [1, 3, 5, 7, 9, 11]  \n",
    "recommended = [2, 5, 7, 4, 11, 9, 8, 10, 12, 3]  \n",
    "Посчитайте на этих данных pr@8, rec@8, AP@8, NDCG@8, MRR@8,  \n",
    "Сначала поссчитайет \"руками\", а затем подтвердите рассчеты с помощью функций (некоторые были на семинаре, некоторые нужно будут написать самостоятельно)\n",
    "\n",
    "IDCG должен считаться для всех 8 позиций рекомендаций"
   ]
  },
  {
   "cell_type": "markdown",
   "metadata": {},
   "source": [
    "**Пример выполнения 4го задания**\n",
    "\n",
    "MSE на  \n",
    "$y = [0, 2]$  \n",
    "$y_{pred} = [1, 2]$\n",
    "\n",
    "MSE = $0.5*((0 - 1)^2 + (2-2)^2) = 0.5$ "
   ]
  },
  {
   "cell_type": "code",
   "execution_count": 46,
   "metadata": {},
   "outputs": [
    {
     "data": {
      "text/plain": [
       "0.5"
      ]
     },
     "execution_count": 46,
     "metadata": {},
     "output_type": "execute_result"
    }
   ],
   "source": [
    "import numpy as np\n",
    "((np.array([0, 2]) - np.array([1, 2]))**2).mean()"
   ]
  },
  {
   "cell_type": "code",
   "execution_count": 47,
   "metadata": {},
   "outputs": [],
   "source": [
    "bought = np.array([1, 3, 5, 7, 9, 11])\n",
    "recommended = np.array([2, 5, 7, 4, 11, 9, 8, 10, 12, 3])"
   ]
  },
  {
   "cell_type": "code",
   "execution_count": 48,
   "metadata": {},
   "outputs": [],
   "source": [
    "def precision_at_k(recommended_list, bought_list, k=5):\n",
    "    \n",
    "    recommended_list = recommended_list[:k]\n",
    "    \n",
    "    flags = np.isin(recommended_list, bought_list)\n",
    "    precision = flags.sum() / len(recommended_list)\n",
    "    \n",
    "    return precision\n",
    "\n",
    "def ap_k(recommended_list, bought_list, k=5):\n",
    "    \n",
    "    recommended_list = recommended_list[:k]\n",
    "    \n",
    "    flags = np.isin(recommended_list, bought_list)\n",
    "    \n",
    "    if sum(flags) == 0:\n",
    "        return 0\n",
    "    \n",
    "    sum_ = 0\n",
    "    for i in range(1, k+1): \n",
    "        if flags[i-1] == True:\n",
    "            p_k = precision_at_k(recommended_list, bought_list, k=i)\n",
    "            sum_ += p_k\n",
    "            \n",
    "    result = sum_ / len(flags)\n",
    "    \n",
    "    return result\n",
    "\n",
    "def recall_at_k(recommended_list, bought_list, k=5):\n",
    "    \n",
    "    recommended_list = recommended_list[:k]\n",
    "    \n",
    "    flags = np.isin(bought_list, recommended_list)\n",
    "    \n",
    "    recall = flags.sum() / len(bought_list)\n",
    "    \n",
    "    return recall\n",
    "\n",
    "def reciprocal_rank(recommended_list, bought_list, k=5):\n",
    "    \n",
    "    recommended_list = recommended_list[:k]\n",
    "    ranks = 0\n",
    "    for i, item_rec in enumerate(recommended_list):\n",
    "        for item_bought in bought_list:\n",
    "            if item_rec == item_bought:\n",
    "                ranks += 1 / (i+1)\n",
    "                \n",
    "    return ranks / len(recommended_list)\n",
    "\n",
    "def normalized_discounted_cumulative_gain(recommended_list, bought_list, k=5):\n",
    "    \n",
    "    dcg, idcg = 0, 0\n",
    "    dcg_list = []\n",
    "    idcg_list = []\n",
    "    recommended_list = recommended_list[:k]\n",
    "    \n",
    "    flags = np.isin(recommended_list, bought_list)\n",
    "    \n",
    "    for i in range(len(flags)):\n",
    "        if i == 0:\n",
    "            dcg_list.append(flags[i]/1)\n",
    "            idcg_list.append(1/1)\n",
    "        else:\n",
    "            dcg_list.append(flags[i]/np.log2(i+1))\n",
    "            idcg_list.append(1/np.log2(i+1))\n",
    "    \n",
    "    return np.mean(np.array(dcg_list)) / np.mean(np.array(idcg_list))"
   ]
  },
  {
   "cell_type": "markdown",
   "metadata": {},
   "source": [
    "$recommended@8 = [2, 5, 7, 4, 11, 9, 8, 10]$  \n",
    "$bought = [1, 3, 5, 7, 9, 11]$\n",
    "\n",
    "$recommended_{mask} = [0, 1, 1, 0, 1, 1, 0, 0]$ \n",
    "<br>\n",
    "$pr@8 = 4 / 8 = 0.5$"
   ]
  },
  {
   "cell_type": "code",
   "execution_count": 49,
   "metadata": {},
   "outputs": [
    {
     "data": {
      "text/plain": [
       "0.5"
      ]
     },
     "execution_count": 49,
     "metadata": {},
     "output_type": "execute_result"
    }
   ],
   "source": [
    "# pr@8\n",
    "precision_at_k(recommended, bought, k=8)"
   ]
  },
  {
   "cell_type": "markdown",
   "metadata": {},
   "source": [
    "$recommended@8 = [2, 5, 7, 4, 11, 9, 8, 10]$  \n",
    "$bought = [1, 3, 5, 7, 9, 11]$\n",
    "\n",
    "$recommended_{mask} = [0, 1, 1, 0, 1, 1, 0, 0]$ \n",
    "<br>\n",
    "$pr@2 = 1 / 2$<br>\n",
    "$pr@3 = 2 / 3$<br>\n",
    "$pr@5 = 3 / 5$<br>\n",
    "$pr@6 = 4 / 6 = 2 / 3$<br>\n",
    "$AP@8 = (1/2 + 2/3 + 3/5 + 2/3) / 8 = 0.3041666666666667$"
   ]
  },
  {
   "cell_type": "code",
   "execution_count": 50,
   "metadata": {},
   "outputs": [
    {
     "data": {
      "text/plain": [
       "0.30416666666666664"
      ]
     },
     "execution_count": 50,
     "metadata": {},
     "output_type": "execute_result"
    }
   ],
   "source": [
    "# AP@8\n",
    "ap_k(recommended, bought, k=8)"
   ]
  },
  {
   "cell_type": "markdown",
   "metadata": {},
   "source": [
    "$recommended@8 = [2, 5, 7, 4, 11, 9, 8, 10]$  \n",
    "$bought = [1, 3, 5, 7, 9, 11]$\n",
    "\n",
    "$bought_{mask} = [0, 0, 1, 1, 1, 1]$ \n",
    "<br>\n",
    "$rec@8 = 4 / 6 = 0.66(6)$"
   ]
  },
  {
   "cell_type": "code",
   "execution_count": 51,
   "metadata": {},
   "outputs": [
    {
     "data": {
      "text/plain": [
       "0.6666666666666666"
      ]
     },
     "execution_count": 51,
     "metadata": {},
     "output_type": "execute_result"
    }
   ],
   "source": [
    "# rec@8\n",
    "recall_at_k(recommended, bought, k=8)"
   ]
  },
  {
   "cell_type": "markdown",
   "metadata": {},
   "source": [
    "$recommended@8 = [2, 5, 7, 4, 11, 9, 8, 10]$  \n",
    "$bought = [1, 3, 5, 7, 9, 11]$\n",
    "\n",
    "$recommended_{mask} = [0, 1, 1, 0, 1, 1, 0, 0]$ \n",
    "<br>\n",
    "$rec@8 = 1/8 * (1/2 + 1/3 + 1/5 + 1/6) = 0.15$"
   ]
  },
  {
   "cell_type": "code",
   "execution_count": 52,
   "metadata": {},
   "outputs": [
    {
     "data": {
      "text/plain": [
       "0.15"
      ]
     },
     "execution_count": 52,
     "metadata": {},
     "output_type": "execute_result"
    }
   ],
   "source": [
    "# MRR@8\n",
    "reciprocal_rank(recommended, bought, k=8)"
   ]
  },
  {
   "cell_type": "markdown",
   "metadata": {},
   "source": [
    "$recommended@8 = [2, 5, 7, 4, 11, 9, 8, 10]$  \n",
    "$bought = [1, 3, 5, 7, 9, 11]$\n",
    "\n",
    "$recommended_{mask} = [0, 1, 1, 0, 1, 1, 0, 0]$ \n",
    "\n",
    "$DCG@8 = \\frac{1}{8}*(0 / 1 + 1 / log_{2}(2) + 1 / log_{2}(3) + 0 / log_{2}(4) + 1 / log_{2}(5) + 1 / log_{2}(6) + 0 / log_{2}(7) + 0 / log_{2}(8))$  \n",
    "$ideal DCG@8 = \\frac{1}{8}*(1 / 1 + 1 / log_{2}(2) + 1 / log_{2}(3) + 1 / log_{2}(4) + 1 / log_{2}(5) + 1 / log_{2}(6) + 1 / log_{2}(7) + 1 / log_{2}(8))$  \n",
    "\n",
    "$NDCG = \\frac{DCG}{ideal DCG}$"
   ]
  },
  {
   "cell_type": "code",
   "execution_count": 54,
   "metadata": {},
   "outputs": [
    {
     "data": {
      "text/plain": [
       "0.527912744563727"
      ]
     },
     "execution_count": 54,
     "metadata": {},
     "output_type": "execute_result"
    }
   ],
   "source": [
    "# NDCG@8\n",
    "normalized_discounted_cumulative_gain(recommended, bought, k=8)"
   ]
  }
 ],
 "metadata": {
  "kernelspec": {
   "display_name": "Python 3",
   "language": "python",
   "name": "python3"
  },
  "language_info": {
   "codemirror_mode": {
    "name": "ipython",
    "version": 3
   },
   "file_extension": ".py",
   "mimetype": "text/x-python",
   "name": "python",
   "nbconvert_exporter": "python",
   "pygments_lexer": "ipython3",
   "version": "3.7.2"
  }
 },
 "nbformat": 4,
 "nbformat_minor": 2
}
