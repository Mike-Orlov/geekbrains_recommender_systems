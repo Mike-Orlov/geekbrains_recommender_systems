{
  "nbformat": 4,
  "nbformat_minor": 0,
  "metadata": {
    "kernelspec": {
      "display_name": "Python 3",
      "language": "python",
      "name": "python3"
    },
    "language_info": {
      "codemirror_mode": {
        "name": "ipython",
        "version": 3
      },
      "file_extension": ".py",
      "mimetype": "text/x-python",
      "name": "python",
      "nbconvert_exporter": "python",
      "pygments_lexer": "ipython3",
      "version": "3.6.5"
    },
    "colab": {
      "name": "hw_webinar_6.ipynb",
      "provenance": [],
      "collapsed_sections": []
    },
    "accelerator": "GPU",
    "widgets": {
      "application/vnd.jupyter.widget-state+json": {
        "9d2aebd5e31147e0ae7fa7d2710c6ccc": {
          "model_module": "@jupyter-widgets/controls",
          "model_name": "HBoxModel",
          "state": {
            "_view_name": "HBoxView",
            "_dom_classes": [],
            "_model_name": "HBoxModel",
            "_view_module": "@jupyter-widgets/controls",
            "_model_module_version": "1.5.0",
            "_view_count": null,
            "_view_module_version": "1.5.0",
            "box_style": "",
            "layout": "IPY_MODEL_34cb3dc3d3d54e778a6cff738de259a6",
            "_model_module": "@jupyter-widgets/controls",
            "children": [
              "IPY_MODEL_35dfae261a5c4057b51c196952fdcc9c",
              "IPY_MODEL_82e2cda46e10407286cb077e8d72a854"
            ]
          }
        },
        "34cb3dc3d3d54e778a6cff738de259a6": {
          "model_module": "@jupyter-widgets/base",
          "model_name": "LayoutModel",
          "state": {
            "_view_name": "LayoutView",
            "grid_template_rows": null,
            "right": null,
            "justify_content": null,
            "_view_module": "@jupyter-widgets/base",
            "overflow": null,
            "_model_module_version": "1.2.0",
            "_view_count": null,
            "flex_flow": null,
            "width": null,
            "min_width": null,
            "border": null,
            "align_items": null,
            "bottom": null,
            "_model_module": "@jupyter-widgets/base",
            "top": null,
            "grid_column": null,
            "overflow_y": null,
            "overflow_x": null,
            "grid_auto_flow": null,
            "grid_area": null,
            "grid_template_columns": null,
            "flex": null,
            "_model_name": "LayoutModel",
            "justify_items": null,
            "grid_row": null,
            "max_height": null,
            "align_content": null,
            "visibility": null,
            "align_self": null,
            "height": null,
            "min_height": null,
            "padding": null,
            "grid_auto_rows": null,
            "grid_gap": null,
            "max_width": null,
            "order": null,
            "_view_module_version": "1.2.0",
            "grid_template_areas": null,
            "object_position": null,
            "object_fit": null,
            "grid_auto_columns": null,
            "margin": null,
            "display": null,
            "left": null
          }
        },
        "35dfae261a5c4057b51c196952fdcc9c": {
          "model_module": "@jupyter-widgets/controls",
          "model_name": "FloatProgressModel",
          "state": {
            "_view_name": "ProgressView",
            "style": "IPY_MODEL_0b9743c313734bb0bb9562de4ddd7c7a",
            "_dom_classes": [],
            "description": "100%",
            "_model_name": "FloatProgressModel",
            "bar_style": "success",
            "max": 15,
            "_view_module": "@jupyter-widgets/controls",
            "_model_module_version": "1.5.0",
            "value": 15,
            "_view_count": null,
            "_view_module_version": "1.5.0",
            "orientation": "horizontal",
            "min": 0,
            "description_tooltip": null,
            "_model_module": "@jupyter-widgets/controls",
            "layout": "IPY_MODEL_25272fc083dc4bebb278e5bc7bcb112f"
          }
        },
        "82e2cda46e10407286cb077e8d72a854": {
          "model_module": "@jupyter-widgets/controls",
          "model_name": "HTMLModel",
          "state": {
            "_view_name": "HTMLView",
            "style": "IPY_MODEL_104f52e456f84b2ca5dde98a6a6b2bfd",
            "_dom_classes": [],
            "description": "",
            "_model_name": "HTMLModel",
            "placeholder": "​",
            "_view_module": "@jupyter-widgets/controls",
            "_model_module_version": "1.5.0",
            "value": " 15/15 [00:00&lt;00:00, 46.83it/s]",
            "_view_count": null,
            "_view_module_version": "1.5.0",
            "description_tooltip": null,
            "_model_module": "@jupyter-widgets/controls",
            "layout": "IPY_MODEL_5b67af9d18c54b58a287d8a379e33627"
          }
        },
        "0b9743c313734bb0bb9562de4ddd7c7a": {
          "model_module": "@jupyter-widgets/controls",
          "model_name": "ProgressStyleModel",
          "state": {
            "_view_name": "StyleView",
            "_model_name": "ProgressStyleModel",
            "description_width": "initial",
            "_view_module": "@jupyter-widgets/base",
            "_model_module_version": "1.5.0",
            "_view_count": null,
            "_view_module_version": "1.2.0",
            "bar_color": null,
            "_model_module": "@jupyter-widgets/controls"
          }
        },
        "25272fc083dc4bebb278e5bc7bcb112f": {
          "model_module": "@jupyter-widgets/base",
          "model_name": "LayoutModel",
          "state": {
            "_view_name": "LayoutView",
            "grid_template_rows": null,
            "right": null,
            "justify_content": null,
            "_view_module": "@jupyter-widgets/base",
            "overflow": null,
            "_model_module_version": "1.2.0",
            "_view_count": null,
            "flex_flow": null,
            "width": null,
            "min_width": null,
            "border": null,
            "align_items": null,
            "bottom": null,
            "_model_module": "@jupyter-widgets/base",
            "top": null,
            "grid_column": null,
            "overflow_y": null,
            "overflow_x": null,
            "grid_auto_flow": null,
            "grid_area": null,
            "grid_template_columns": null,
            "flex": null,
            "_model_name": "LayoutModel",
            "justify_items": null,
            "grid_row": null,
            "max_height": null,
            "align_content": null,
            "visibility": null,
            "align_self": null,
            "height": null,
            "min_height": null,
            "padding": null,
            "grid_auto_rows": null,
            "grid_gap": null,
            "max_width": null,
            "order": null,
            "_view_module_version": "1.2.0",
            "grid_template_areas": null,
            "object_position": null,
            "object_fit": null,
            "grid_auto_columns": null,
            "margin": null,
            "display": null,
            "left": null
          }
        },
        "104f52e456f84b2ca5dde98a6a6b2bfd": {
          "model_module": "@jupyter-widgets/controls",
          "model_name": "DescriptionStyleModel",
          "state": {
            "_view_name": "StyleView",
            "_model_name": "DescriptionStyleModel",
            "description_width": "",
            "_view_module": "@jupyter-widgets/base",
            "_model_module_version": "1.5.0",
            "_view_count": null,
            "_view_module_version": "1.2.0",
            "_model_module": "@jupyter-widgets/controls"
          }
        },
        "5b67af9d18c54b58a287d8a379e33627": {
          "model_module": "@jupyter-widgets/base",
          "model_name": "LayoutModel",
          "state": {
            "_view_name": "LayoutView",
            "grid_template_rows": null,
            "right": null,
            "justify_content": null,
            "_view_module": "@jupyter-widgets/base",
            "overflow": null,
            "_model_module_version": "1.2.0",
            "_view_count": null,
            "flex_flow": null,
            "width": null,
            "min_width": null,
            "border": null,
            "align_items": null,
            "bottom": null,
            "_model_module": "@jupyter-widgets/base",
            "top": null,
            "grid_column": null,
            "overflow_y": null,
            "overflow_x": null,
            "grid_auto_flow": null,
            "grid_area": null,
            "grid_template_columns": null,
            "flex": null,
            "_model_name": "LayoutModel",
            "justify_items": null,
            "grid_row": null,
            "max_height": null,
            "align_content": null,
            "visibility": null,
            "align_self": null,
            "height": null,
            "min_height": null,
            "padding": null,
            "grid_auto_rows": null,
            "grid_gap": null,
            "max_width": null,
            "order": null,
            "_view_module_version": "1.2.0",
            "grid_template_areas": null,
            "object_position": null,
            "object_fit": null,
            "grid_auto_columns": null,
            "margin": null,
            "display": null,
            "left": null
          }
        },
        "2a01937cd8ad4aceb81a34bd7b65b7ee": {
          "model_module": "@jupyter-widgets/controls",
          "model_name": "HBoxModel",
          "state": {
            "_view_name": "HBoxView",
            "_dom_classes": [],
            "_model_name": "HBoxModel",
            "_view_module": "@jupyter-widgets/controls",
            "_model_module_version": "1.5.0",
            "_view_count": null,
            "_view_module_version": "1.5.0",
            "box_style": "",
            "layout": "IPY_MODEL_4d2201886c4b4886b54e8ba442a50192",
            "_model_module": "@jupyter-widgets/controls",
            "children": [
              "IPY_MODEL_214a7b3098124fc19467a2ac787802dd",
              "IPY_MODEL_1a9d500af5dd4fd88e55015a9536fb3b"
            ]
          }
        },
        "4d2201886c4b4886b54e8ba442a50192": {
          "model_module": "@jupyter-widgets/base",
          "model_name": "LayoutModel",
          "state": {
            "_view_name": "LayoutView",
            "grid_template_rows": null,
            "right": null,
            "justify_content": null,
            "_view_module": "@jupyter-widgets/base",
            "overflow": null,
            "_model_module_version": "1.2.0",
            "_view_count": null,
            "flex_flow": null,
            "width": null,
            "min_width": null,
            "border": null,
            "align_items": null,
            "bottom": null,
            "_model_module": "@jupyter-widgets/base",
            "top": null,
            "grid_column": null,
            "overflow_y": null,
            "overflow_x": null,
            "grid_auto_flow": null,
            "grid_area": null,
            "grid_template_columns": null,
            "flex": null,
            "_model_name": "LayoutModel",
            "justify_items": null,
            "grid_row": null,
            "max_height": null,
            "align_content": null,
            "visibility": null,
            "align_self": null,
            "height": null,
            "min_height": null,
            "padding": null,
            "grid_auto_rows": null,
            "grid_gap": null,
            "max_width": null,
            "order": null,
            "_view_module_version": "1.2.0",
            "grid_template_areas": null,
            "object_position": null,
            "object_fit": null,
            "grid_auto_columns": null,
            "margin": null,
            "display": null,
            "left": null
          }
        },
        "214a7b3098124fc19467a2ac787802dd": {
          "model_module": "@jupyter-widgets/controls",
          "model_name": "FloatProgressModel",
          "state": {
            "_view_name": "ProgressView",
            "style": "IPY_MODEL_5540e2e30dbe4222ac1e9502be3f6938",
            "_dom_classes": [],
            "description": "100%",
            "_model_name": "FloatProgressModel",
            "bar_style": "success",
            "max": 5001,
            "_view_module": "@jupyter-widgets/controls",
            "_model_module_version": "1.5.0",
            "value": 5001,
            "_view_count": null,
            "_view_module_version": "1.5.0",
            "orientation": "horizontal",
            "min": 0,
            "description_tooltip": null,
            "_model_module": "@jupyter-widgets/controls",
            "layout": "IPY_MODEL_ffa39e82c70b41ec81d840db06505056"
          }
        },
        "1a9d500af5dd4fd88e55015a9536fb3b": {
          "model_module": "@jupyter-widgets/controls",
          "model_name": "HTMLModel",
          "state": {
            "_view_name": "HTMLView",
            "style": "IPY_MODEL_cacbe6d7e9ed4833baf8458e50efadd1",
            "_dom_classes": [],
            "description": "",
            "_model_name": "HTMLModel",
            "placeholder": "​",
            "_view_module": "@jupyter-widgets/controls",
            "_model_module_version": "1.5.0",
            "value": " 5001/5001 [00:06&lt;00:00, 722.49it/s]",
            "_view_count": null,
            "_view_module_version": "1.5.0",
            "description_tooltip": null,
            "_model_module": "@jupyter-widgets/controls",
            "layout": "IPY_MODEL_d7a2366e3dd841cdaf9a2cc4717357b8"
          }
        },
        "5540e2e30dbe4222ac1e9502be3f6938": {
          "model_module": "@jupyter-widgets/controls",
          "model_name": "ProgressStyleModel",
          "state": {
            "_view_name": "StyleView",
            "_model_name": "ProgressStyleModel",
            "description_width": "initial",
            "_view_module": "@jupyter-widgets/base",
            "_model_module_version": "1.5.0",
            "_view_count": null,
            "_view_module_version": "1.2.0",
            "bar_color": null,
            "_model_module": "@jupyter-widgets/controls"
          }
        },
        "ffa39e82c70b41ec81d840db06505056": {
          "model_module": "@jupyter-widgets/base",
          "model_name": "LayoutModel",
          "state": {
            "_view_name": "LayoutView",
            "grid_template_rows": null,
            "right": null,
            "justify_content": null,
            "_view_module": "@jupyter-widgets/base",
            "overflow": null,
            "_model_module_version": "1.2.0",
            "_view_count": null,
            "flex_flow": null,
            "width": null,
            "min_width": null,
            "border": null,
            "align_items": null,
            "bottom": null,
            "_model_module": "@jupyter-widgets/base",
            "top": null,
            "grid_column": null,
            "overflow_y": null,
            "overflow_x": null,
            "grid_auto_flow": null,
            "grid_area": null,
            "grid_template_columns": null,
            "flex": null,
            "_model_name": "LayoutModel",
            "justify_items": null,
            "grid_row": null,
            "max_height": null,
            "align_content": null,
            "visibility": null,
            "align_self": null,
            "height": null,
            "min_height": null,
            "padding": null,
            "grid_auto_rows": null,
            "grid_gap": null,
            "max_width": null,
            "order": null,
            "_view_module_version": "1.2.0",
            "grid_template_areas": null,
            "object_position": null,
            "object_fit": null,
            "grid_auto_columns": null,
            "margin": null,
            "display": null,
            "left": null
          }
        },
        "cacbe6d7e9ed4833baf8458e50efadd1": {
          "model_module": "@jupyter-widgets/controls",
          "model_name": "DescriptionStyleModel",
          "state": {
            "_view_name": "StyleView",
            "_model_name": "DescriptionStyleModel",
            "description_width": "",
            "_view_module": "@jupyter-widgets/base",
            "_model_module_version": "1.5.0",
            "_view_count": null,
            "_view_module_version": "1.2.0",
            "_model_module": "@jupyter-widgets/controls"
          }
        },
        "d7a2366e3dd841cdaf9a2cc4717357b8": {
          "model_module": "@jupyter-widgets/base",
          "model_name": "LayoutModel",
          "state": {
            "_view_name": "LayoutView",
            "grid_template_rows": null,
            "right": null,
            "justify_content": null,
            "_view_module": "@jupyter-widgets/base",
            "overflow": null,
            "_model_module_version": "1.2.0",
            "_view_count": null,
            "flex_flow": null,
            "width": null,
            "min_width": null,
            "border": null,
            "align_items": null,
            "bottom": null,
            "_model_module": "@jupyter-widgets/base",
            "top": null,
            "grid_column": null,
            "overflow_y": null,
            "overflow_x": null,
            "grid_auto_flow": null,
            "grid_area": null,
            "grid_template_columns": null,
            "flex": null,
            "_model_name": "LayoutModel",
            "justify_items": null,
            "grid_row": null,
            "max_height": null,
            "align_content": null,
            "visibility": null,
            "align_self": null,
            "height": null,
            "min_height": null,
            "padding": null,
            "grid_auto_rows": null,
            "grid_gap": null,
            "max_width": null,
            "order": null,
            "_view_module_version": "1.2.0",
            "grid_template_areas": null,
            "object_position": null,
            "object_fit": null,
            "grid_auto_columns": null,
            "margin": null,
            "display": null,
            "left": null
          }
        }
      }
    }
  },
  "cells": [
    {
      "cell_type": "markdown",
      "metadata": {
        "id": "Q8PTe8Nk83We"
      },
      "source": [
        "# Вебинар 6. Двухуровневые модели рекомендаций\n"
      ]
    },
    {
      "cell_type": "code",
      "metadata": {
        "colab": {
          "base_uri": "https://localhost:8080/"
        },
        "id": "ZTXr8AwleRxB",
        "outputId": "2e8e6af6-a673-442e-90fd-49b147a39502"
      },
      "source": [
        "!pip install implicit"
      ],
      "execution_count": null,
      "outputs": [
        {
          "output_type": "stream",
          "text": [
            "Requirement already satisfied: implicit in /usr/local/lib/python3.7/dist-packages (0.4.4)\n",
            "Requirement already satisfied: tqdm>=4.27 in /usr/local/lib/python3.7/dist-packages (from implicit) (4.41.1)\n",
            "Requirement already satisfied: scipy>=0.16 in /usr/local/lib/python3.7/dist-packages (from implicit) (1.4.1)\n",
            "Requirement already satisfied: numpy in /usr/local/lib/python3.7/dist-packages (from implicit) (1.19.5)\n"
          ],
          "name": "stdout"
        }
      ]
    },
    {
      "cell_type": "code",
      "metadata": {
        "colab": {
          "base_uri": "https://localhost:8080/"
        },
        "id": "AIeyg0EmeiOx",
        "outputId": "89f61776-d18e-4ab2-e7d6-4499eb812fa8"
      },
      "source": [
        "from google.colab import drive\n",
        "drive.mount('/content/drive')"
      ],
      "execution_count": null,
      "outputs": [
        {
          "output_type": "stream",
          "text": [
            "Drive already mounted at /content/drive; to attempt to forcibly remount, call drive.mount(\"/content/drive\", force_remount=True).\n"
          ],
          "name": "stdout"
        }
      ]
    },
    {
      "cell_type": "code",
      "metadata": {
        "colab": {
          "base_uri": "https://localhost:8080/"
        },
        "id": "YgxRUIa0eksg",
        "outputId": "71c75522-45a2-40f1-ad12-7d20511758a5"
      },
      "source": [
        "!ls /content/drive/MyDrive/Colab\\ Notebooks/recommender_systems/data/src/*.py"
      ],
      "execution_count": null,
      "outputs": [
        {
          "output_type": "stream",
          "text": [
            "'/content/drive/MyDrive/Colab Notebooks/recommender_systems/data/src/check_colab.py'\n",
            "'/content/drive/MyDrive/Colab Notebooks/recommender_systems/data/src/__init__.py'\n",
            "'/content/drive/MyDrive/Colab Notebooks/recommender_systems/data/src/metrics_gb.py'\n",
            "'/content/drive/MyDrive/Colab Notebooks/recommender_systems/data/src/metrics.py'\n",
            "'/content/drive/MyDrive/Colab Notebooks/recommender_systems/data/src/recommenders_gb.py'\n",
            "'/content/drive/MyDrive/Colab Notebooks/recommender_systems/data/src/recommenders.py'\n",
            "'/content/drive/MyDrive/Colab Notebooks/recommender_systems/data/src/utils_gb.py'\n",
            "'/content/drive/MyDrive/Colab Notebooks/recommender_systems/data/src/utils.py'\n"
          ],
          "name": "stdout"
        }
      ]
    },
    {
      "cell_type": "code",
      "metadata": {
        "colab": {
          "base_uri": "https://localhost:8080/"
        },
        "id": "eLbazZxbephO",
        "outputId": "7a60b4f9-ff22-4b76-fa5a-bc5262e7942f"
      },
      "source": [
        "import sys\n",
        "sys.path.append(r'/content/drive/MyDrive/Colab Notebooks/recommender_systems/data')\n",
        "sys.path"
      ],
      "execution_count": null,
      "outputs": [
        {
          "output_type": "execute_result",
          "data": {
            "text/plain": [
              "['',\n",
              " '/content',\n",
              " '/env/python',\n",
              " '/usr/lib/python37.zip',\n",
              " '/usr/lib/python3.7',\n",
              " '/usr/lib/python3.7/lib-dynload',\n",
              " '/usr/local/lib/python3.7/dist-packages',\n",
              " '/usr/lib/python3/dist-packages',\n",
              " '/usr/local/lib/python3.7/dist-packages/IPython/extensions',\n",
              " '/root/.ipython',\n",
              " '/content/drive/MyDrive/Colab Notebooks/recommender_systems/data']"
            ]
          },
          "metadata": {
            "tags": []
          },
          "execution_count": 4
        }
      ]
    },
    {
      "cell_type": "code",
      "metadata": {
        "colab": {
          "base_uri": "https://localhost:8080/"
        },
        "id": "6gpWW_l1esAW",
        "outputId": "6d45ae2f-6278-44cd-9457-79dad19b6095"
      },
      "source": [
        "from src.check_colab import check\n",
        "check()"
      ],
      "execution_count": null,
      "outputs": [
        {
          "output_type": "stream",
          "text": [
            "We are cool\n"
          ],
          "name": "stdout"
        }
      ]
    },
    {
      "cell_type": "code",
      "metadata": {
        "id": "Rku0SVw083Wj"
      },
      "source": [
        "import pandas as pd\n",
        "import numpy as np\n",
        "import matplotlib.pyplot as plt\n",
        "%matplotlib inline\n",
        "\n",
        "# Для работы с матрицами\n",
        "from scipy.sparse import csr_matrix\n",
        "\n",
        "# Матричная факторизация\n",
        "from implicit import als\n",
        "\n",
        "# Модель второго уровня\n",
        "from lightgbm import LGBMClassifier\n",
        "\n",
        "import os, sys\n",
        "module_path = os.path.abspath(os.path.join(os.pardir))\n",
        "if module_path not in sys.path:\n",
        "    sys.path.append(module_path)\n",
        "\n",
        "# Написанные нами функции\n",
        "from src.metrics_gb import precision_at_k, recall_at_k\n",
        "from src.utils_gb import prefilter_items\n",
        "from src.recommenders_gb import MainRecommender"
      ],
      "execution_count": null,
      "outputs": []
    },
    {
      "cell_type": "code",
      "metadata": {
        "id": "IVmvXTeY83Wl",
        "colab": {
          "base_uri": "https://localhost:8080/",
          "height": 111
        },
        "outputId": "3b1c307c-9662-4535-c9ae-41ac4ffcadee"
      },
      "source": [
        "# На timeline разбивка train-test усложнится, в train - будет 2 этапа\n",
        "# -- ALS -- | -- Бустинг -- | -- Test -- \n",
        "# Обучаем ALS - получим таблицу с user-item и фичами, а таргетами для каждого user-item из этого результата будут данные с этапа Бустинга на train'не  ---> \n",
        "# Обучаем Бустинг - Бустинг изучает закономерности почему ALS ошибается или угадывает --->\n",
        "# Потом ALS прогоняем через весь весь train полностью и так обучаем его на всех данных --->\n",
        "# И потом уже обученным ранее Бустингом делаем предикт на этих данных\n",
        "\n",
        "data = pd.read_csv(r'/content/drive/MyDrive/Colab Notebooks/recommender_systems/data/retail_train.csv')\n",
        "item_features = pd.read_csv(r'/content/drive/MyDrive/Colab Notebooks/recommender_systems/data/product.csv')\n",
        "user_features = pd.read_csv(r'/content/drive/MyDrive/Colab Notebooks/recommender_systems/data/hh_demographic.csv')\n",
        "\n",
        "# column processing\n",
        "item_features.columns = [col.lower() for col in item_features.columns]\n",
        "user_features.columns = [col.lower() for col in user_features.columns]\n",
        "\n",
        "item_features.rename(columns={'product_id': 'item_id'}, inplace=True)\n",
        "user_features.rename(columns={'household_key': 'user_id'}, inplace=True)\n",
        "\n",
        "\n",
        "# Важна схема обучения и валидации! (см. выше по моделям)\n",
        "# -- давние покупки -- | -- 6 недель -- | -- 3 недель -- \n",
        "# подобрать размер 2-ого датасета (6 недель) можно эмпирически (\"правило локтя\" - когда излом на графике) --> learning curve (зависимость метрики recall@k от размера датасета)\n",
        "# логично, что чем больше период, тем больше будет recall@k\n",
        "val_lvl_1_size_weeks = 6\n",
        "val_lvl_2_size_weeks = 3\n",
        "\n",
        "data_train_lvl_1 = data[data['week_no'] < data['week_no'].max() - (val_lvl_1_size_weeks + val_lvl_2_size_weeks)]  # Здесь учиться ALS\n",
        "data_val_lvl_1 = data[(data['week_no'] >= data['week_no'].max() - (val_lvl_1_size_weeks + val_lvl_2_size_weeks)) &  # Здесь ALS делает предсказания\n",
        "                      (data['week_no'] < data['week_no'].max() - (val_lvl_2_size_weeks))]\n",
        "\n",
        "data_train_lvl_2 = data_val_lvl_1.copy()  # Для наглядности. Далее мы добавим изменения, и они будут отличаться  # Здесь учится Бустинг\n",
        "data_val_lvl_2 = data[data['week_no'] >= data['week_no'].max() - val_lvl_2_size_weeks]  # Здесь Бустинг делает предсказания\n",
        "\n",
        "data_train_lvl_1.head(2)"
      ],
      "execution_count": null,
      "outputs": [
        {
          "output_type": "execute_result",
          "data": {
            "text/html": [
              "<div>\n",
              "<style scoped>\n",
              "    .dataframe tbody tr th:only-of-type {\n",
              "        vertical-align: middle;\n",
              "    }\n",
              "\n",
              "    .dataframe tbody tr th {\n",
              "        vertical-align: top;\n",
              "    }\n",
              "\n",
              "    .dataframe thead th {\n",
              "        text-align: right;\n",
              "    }\n",
              "</style>\n",
              "<table border=\"1\" class=\"dataframe\">\n",
              "  <thead>\n",
              "    <tr style=\"text-align: right;\">\n",
              "      <th></th>\n",
              "      <th>user_id</th>\n",
              "      <th>basket_id</th>\n",
              "      <th>day</th>\n",
              "      <th>item_id</th>\n",
              "      <th>quantity</th>\n",
              "      <th>sales_value</th>\n",
              "      <th>store_id</th>\n",
              "      <th>retail_disc</th>\n",
              "      <th>trans_time</th>\n",
              "      <th>week_no</th>\n",
              "      <th>coupon_disc</th>\n",
              "      <th>coupon_match_disc</th>\n",
              "    </tr>\n",
              "  </thead>\n",
              "  <tbody>\n",
              "    <tr>\n",
              "      <th>0</th>\n",
              "      <td>2375</td>\n",
              "      <td>26984851472</td>\n",
              "      <td>1</td>\n",
              "      <td>1004906</td>\n",
              "      <td>1</td>\n",
              "      <td>1.39</td>\n",
              "      <td>364</td>\n",
              "      <td>-0.6</td>\n",
              "      <td>1631</td>\n",
              "      <td>1</td>\n",
              "      <td>0.0</td>\n",
              "      <td>0.0</td>\n",
              "    </tr>\n",
              "    <tr>\n",
              "      <th>1</th>\n",
              "      <td>2375</td>\n",
              "      <td>26984851472</td>\n",
              "      <td>1</td>\n",
              "      <td>1033142</td>\n",
              "      <td>1</td>\n",
              "      <td>0.82</td>\n",
              "      <td>364</td>\n",
              "      <td>0.0</td>\n",
              "      <td>1631</td>\n",
              "      <td>1</td>\n",
              "      <td>0.0</td>\n",
              "      <td>0.0</td>\n",
              "    </tr>\n",
              "  </tbody>\n",
              "</table>\n",
              "</div>"
            ],
            "text/plain": [
              "   user_id    basket_id  day  ...  week_no  coupon_disc  coupon_match_disc\n",
              "0     2375  26984851472    1  ...        1          0.0                0.0\n",
              "1     2375  26984851472    1  ...        1          0.0                0.0\n",
              "\n",
              "[2 rows x 12 columns]"
            ]
          },
          "metadata": {
            "tags": []
          },
          "execution_count": 7
        }
      ]
    },
    {
      "cell_type": "code",
      "metadata": {
        "id": "EkiFHwRY83Wn",
        "colab": {
          "base_uri": "https://localhost:8080/"
        },
        "outputId": "e978d97e-3ff1-4943-a19e-aedb15922252"
      },
      "source": [
        "n_items_before = data_train_lvl_1['item_id'].nunique()\n",
        "\n",
        "#параметры функции могут отличаться\n",
        "data_train_lvl_1 = prefilter_items(data_train_lvl_1, item_features=item_features, take_n_popular=5000)\n",
        "\n",
        "\n",
        "n_items_after = data_train_lvl_1['item_id'].nunique()\n",
        "print('Decreased # items from {} to {}'.format(n_items_before, n_items_after))"
      ],
      "execution_count": null,
      "outputs": [
        {
          "output_type": "stream",
          "text": [
            "Decreased # items from 83685 to 5001\n"
          ],
          "name": "stdout"
        }
      ]
    },
    {
      "cell_type": "code",
      "metadata": {
        "id": "H12F4Lyg83Wn",
        "colab": {
          "base_uri": "https://localhost:8080/",
          "height": 149,
          "referenced_widgets": [
            "9d2aebd5e31147e0ae7fa7d2710c6ccc",
            "34cb3dc3d3d54e778a6cff738de259a6",
            "35dfae261a5c4057b51c196952fdcc9c",
            "82e2cda46e10407286cb077e8d72a854",
            "0b9743c313734bb0bb9562de4ddd7c7a",
            "25272fc083dc4bebb278e5bc7bcb112f",
            "104f52e456f84b2ca5dde98a6a6b2bfd",
            "5b67af9d18c54b58a287d8a379e33627",
            "2a01937cd8ad4aceb81a34bd7b65b7ee",
            "4d2201886c4b4886b54e8ba442a50192",
            "214a7b3098124fc19467a2ac787802dd",
            "1a9d500af5dd4fd88e55015a9536fb3b",
            "5540e2e30dbe4222ac1e9502be3f6938",
            "ffa39e82c70b41ec81d840db06505056",
            "cacbe6d7e9ed4833baf8458e50efadd1",
            "d7a2366e3dd841cdaf9a2cc4717357b8"
          ]
        },
        "outputId": "258f3834-d8bd-4d27-8c44-08549d6569e7"
      },
      "source": [
        "recommender = MainRecommender(data_train_lvl_1)"
      ],
      "execution_count": null,
      "outputs": [
        {
          "output_type": "stream",
          "text": [
            "GPU training requires factor size to be a multiple of 32. Increasing factors from 20 to 32.\n",
            "WARNING:root:OpenBLAS detected. Its highly recommend to set the environment variable 'export OPENBLAS_NUM_THREADS=1' to disable its internal multithreading\n"
          ],
          "name": "stderr"
        },
        {
          "output_type": "display_data",
          "data": {
            "application/vnd.jupyter.widget-view+json": {
              "model_id": "9d2aebd5e31147e0ae7fa7d2710c6ccc",
              "version_minor": 0,
              "version_major": 2
            },
            "text/plain": [
              "HBox(children=(FloatProgress(value=0.0, max=15.0), HTML(value='')))"
            ]
          },
          "metadata": {
            "tags": []
          }
        },
        {
          "output_type": "stream",
          "text": [
            "\n"
          ],
          "name": "stdout"
        },
        {
          "output_type": "display_data",
          "data": {
            "application/vnd.jupyter.widget-view+json": {
              "model_id": "2a01937cd8ad4aceb81a34bd7b65b7ee",
              "version_minor": 0,
              "version_major": 2
            },
            "text/plain": [
              "HBox(children=(FloatProgress(value=0.0, max=5001.0), HTML(value='')))"
            ]
          },
          "metadata": {
            "tags": []
          }
        },
        {
          "output_type": "stream",
          "text": [
            "\n"
          ],
          "name": "stdout"
        }
      ]
    },
    {
      "cell_type": "markdown",
      "metadata": {
        "id": "E8A2BX0W83Wp"
      },
      "source": [
        "### Задание 1\n",
        "\n",
        "A) Попробуйте различные варианты генерации кандидатов. Какие из них дают наибольший recall@k ?\n",
        "- Пока пробуем отобрать 50 кандидатов (k=50)\n",
        "- Качество измеряем на data_val_lvl_1: следующие 6 недель после трейна\n",
        "\n",
        "Дают ли own recommendtions + top-popular лучший recall?  \n",
        "\n",
        "B)* Как зависит recall@k от k? Постройте для одной схемы генерации кандидатов эту зависимость для k = {20, 50, 100, 200, 500}  \n",
        "C)* Исходя из прошлого вопроса, как вы думаете, какое значение k является наиболее разумным?\n"
      ]
    },
    {
      "cell_type": "code",
      "metadata": {
        "id": "7968Mjl_83Wp",
        "colab": {
          "base_uri": "https://localhost:8080/",
          "height": 111
        },
        "outputId": "6ae2d902-2069-4e73-b650-7a4f21083983"
      },
      "source": [
        "result_lvl_1 = data_val_lvl_1.groupby('user_id')['item_id'].unique().reset_index()\n",
        "result_lvl_1.columns=['user_id', 'actual']\n",
        "result_lvl_1.head(2)"
      ],
      "execution_count": null,
      "outputs": [
        {
          "output_type": "execute_result",
          "data": {
            "text/html": [
              "<div>\n",
              "<style scoped>\n",
              "    .dataframe tbody tr th:only-of-type {\n",
              "        vertical-align: middle;\n",
              "    }\n",
              "\n",
              "    .dataframe tbody tr th {\n",
              "        vertical-align: top;\n",
              "    }\n",
              "\n",
              "    .dataframe thead th {\n",
              "        text-align: right;\n",
              "    }\n",
              "</style>\n",
              "<table border=\"1\" class=\"dataframe\">\n",
              "  <thead>\n",
              "    <tr style=\"text-align: right;\">\n",
              "      <th></th>\n",
              "      <th>user_id</th>\n",
              "      <th>actual</th>\n",
              "    </tr>\n",
              "  </thead>\n",
              "  <tbody>\n",
              "    <tr>\n",
              "      <th>0</th>\n",
              "      <td>1</td>\n",
              "      <td>[853529, 865456, 867607, 872137, 874905, 87524...</td>\n",
              "    </tr>\n",
              "    <tr>\n",
              "      <th>1</th>\n",
              "      <td>2</td>\n",
              "      <td>[15830248, 838136, 839656, 861272, 866211, 870...</td>\n",
              "    </tr>\n",
              "  </tbody>\n",
              "</table>\n",
              "</div>"
            ],
            "text/plain": [
              "   user_id                                             actual\n",
              "0        1  [853529, 865456, 867607, 872137, 874905, 87524...\n",
              "1        2  [15830248, 838136, 839656, 861272, 866211, 870..."
            ]
          },
          "metadata": {
            "tags": []
          },
          "execution_count": 10
        }
      ]
    },
    {
      "cell_type": "code",
      "metadata": {
        "id": "yAlN7ApvDD6b"
      },
      "source": [
        "users_lvl_2 = pd.DataFrame(data_train_lvl_2['user_id'].unique())\n",
        "users_lvl_2.columns = ['user_id']\n",
        "\n",
        "# Пока только warm start\n",
        "# Т.е. только для юзеров, кто был на этапе -- давние покупки --, но на -- 6 недель -- могли появиться новые (они не попали в обучение ALS).\n",
        "train_users = data_train_lvl_1['user_id'].unique()\n",
        "users_lvl_2 = users_lvl_2[users_lvl_2['user_id'].isin(train_users)]"
      ],
      "execution_count": null,
      "outputs": []
    },
    {
      "cell_type": "code",
      "metadata": {
        "id": "6MqakG5SGT0f"
      },
      "source": [
        "users_lvl_2['candidates_own_recommendations'] = users_lvl_2['user_id'].apply(lambda x: recommender.get_own_recommendations(x, N=50))\n",
        "users_lvl_2['candidates_als_recommendations'] = users_lvl_2['user_id'].apply(lambda x: recommender.get_als_recommendations(x, N=50))\n",
        "users_lvl_2['candidates_similar_items_recommendation'] = users_lvl_2['user_id'].apply(lambda x: recommender.get_similar_items_recommendation(x, N=50))\n",
        "users_lvl_2['candidates_similar_users_recommendation'] = users_lvl_2['user_id'].apply(lambda x: recommender.get_similar_users_recommendation(x, N=50))"
      ],
      "execution_count": null,
      "outputs": []
    },
    {
      "cell_type": "code",
      "metadata": {
        "colab": {
          "base_uri": "https://localhost:8080/",
          "height": 111
        },
        "id": "UMJOa-DIWmde",
        "outputId": "1b543c07-f51f-46a1-b731-f028e02e0596"
      },
      "source": [
        "result_lvl_1_to_check = pd.merge(result_lvl_1, users_lvl_2, how='inner', on=\"user_id\")\n",
        "result_lvl_1_to_check.head(2)"
      ],
      "execution_count": null,
      "outputs": [
        {
          "output_type": "execute_result",
          "data": {
            "text/html": [
              "<div>\n",
              "<style scoped>\n",
              "    .dataframe tbody tr th:only-of-type {\n",
              "        vertical-align: middle;\n",
              "    }\n",
              "\n",
              "    .dataframe tbody tr th {\n",
              "        vertical-align: top;\n",
              "    }\n",
              "\n",
              "    .dataframe thead th {\n",
              "        text-align: right;\n",
              "    }\n",
              "</style>\n",
              "<table border=\"1\" class=\"dataframe\">\n",
              "  <thead>\n",
              "    <tr style=\"text-align: right;\">\n",
              "      <th></th>\n",
              "      <th>user_id</th>\n",
              "      <th>actual</th>\n",
              "      <th>candidates_own_recommendations</th>\n",
              "      <th>candidates_als_recommendations</th>\n",
              "      <th>candidates_similar_items_recommendation</th>\n",
              "      <th>candidates_similar_users_recommendation</th>\n",
              "    </tr>\n",
              "  </thead>\n",
              "  <tbody>\n",
              "    <tr>\n",
              "      <th>0</th>\n",
              "      <td>1</td>\n",
              "      <td>[853529, 865456, 867607, 872137, 874905, 87524...</td>\n",
              "      <td>[856942, 9297615, 5577022, 877391, 9655212, 88...</td>\n",
              "      <td>[898121, 1094924, 12352201, 856942, 1037332, 9...</td>\n",
              "      <td>[5567876, 826597, 9297615, 5577022, 9803207, 9...</td>\n",
              "      <td>[5564850, 1123106, 949257, 9831557, 928749, 89...</td>\n",
              "    </tr>\n",
              "    <tr>\n",
              "      <th>1</th>\n",
              "      <td>2</td>\n",
              "      <td>[15830248, 838136, 839656, 861272, 866211, 870...</td>\n",
              "      <td>[911974, 1076580, 1103898, 5567582, 1056620, 9...</td>\n",
              "      <td>[5569230, 1021324, 6534480, 1106523, 1092835, ...</td>\n",
              "      <td>[8090537, 5569845, 1044078, 985999, 880888, 81...</td>\n",
              "      <td>[1059080, 1091090, 1065017, 963542, 5570513, 9...</td>\n",
              "    </tr>\n",
              "  </tbody>\n",
              "</table>\n",
              "</div>"
            ],
            "text/plain": [
              "   user_id  ...            candidates_similar_users_recommendation\n",
              "0        1  ...  [5564850, 1123106, 949257, 9831557, 928749, 89...\n",
              "1        2  ...  [1059080, 1091090, 1065017, 963542, 5570513, 9...\n",
              "\n",
              "[2 rows x 6 columns]"
            ]
          },
          "metadata": {
            "tags": []
          },
          "execution_count": 13
        }
      ]
    },
    {
      "cell_type": "code",
      "metadata": {
        "colab": {
          "base_uri": "https://localhost:8080/"
        },
        "id": "ng66EScMbI2A",
        "outputId": "228a81dd-461b-4d63-82e1-54a480ba0419"
      },
      "source": [
        "for variant in result_lvl_1_to_check.columns[2:6]:\n",
        "    print(f\"{variant}: {result_lvl_1_to_check.apply(lambda row: recall_at_k(row[variant], row['actual'], k=50), axis=1).mean()}\")"
      ],
      "execution_count": null,
      "outputs": [
        {
          "output_type": "stream",
          "text": [
            "candidates_own_recommendations: 0.06525657038145175\n",
            "candidates_als_recommendations: 0.0531781264516024\n",
            "candidates_similar_items_recommendation: 0.03826015883494981\n",
            "candidates_similar_users_recommendation: 0.007525584289615495\n"
          ],
          "name": "stdout"
        }
      ]
    },
    {
      "cell_type": "markdown",
      "metadata": {
        "id": "wJfyR5S1ZPl4"
      },
      "source": [
        "Получается что own_recomendations дают лучший результат по recall@50, но я и ранее замечал, что на этом датасете есть такая характерная особенность. Видимо это связано с частыми повторными покупками. Но в бизнесе такой бейзлайн, если использовать только его не привнесет никакой вариативности для клиента и не стимулирует новый опыт."
      ]
    },
    {
      "cell_type": "code",
      "metadata": {
        "id": "aPUIXQfmbyhd"
      },
      "source": [
        "k_values = [5, 20, 50, 100, 200, 500]\n",
        "for value in k_values:\n",
        "    result_lvl_1_to_check[f'candidates_als_k_{value}'] = result_lvl_1_to_check['user_id'].apply(lambda x: recommender.get_als_recommendations(x, N=value))"
      ],
      "execution_count": null,
      "outputs": []
    },
    {
      "cell_type": "code",
      "metadata": {
        "colab": {
          "base_uri": "https://localhost:8080/"
        },
        "id": "z6ytvwTEcmqd",
        "outputId": "6a1ff982-6c98-4ad4-f6f4-d95a43f9b37c"
      },
      "source": [
        "i=0\n",
        "recall_values = []\n",
        "for variant in result_lvl_1_to_check.columns[6:]:\n",
        "    res = result_lvl_1_to_check.apply(lambda row: recall_at_k(row[variant], row['actual'], k=k_values[i]), axis=1).mean()\n",
        "    print(f\"{variant}: {res}\")\n",
        "    recall_values.append(res)\n",
        "    i += 1"
      ],
      "execution_count": null,
      "outputs": [
        {
          "output_type": "stream",
          "text": [
            "candidates_als_k_5: 0.014597363941925737\n",
            "candidates_als_k_20: 0.032465515921888476\n",
            "candidates_als_k_50: 0.0531781264516024\n",
            "candidates_als_k_100: 0.07664119536401587\n",
            "candidates_als_k_200: 0.10473354335148621\n",
            "candidates_als_k_500: 0.15259906650822708\n"
          ],
          "name": "stdout"
        }
      ]
    },
    {
      "cell_type": "code",
      "metadata": {
        "colab": {
          "base_uri": "https://localhost:8080/",
          "height": 514
        },
        "id": "pF0f-ws0iRrP",
        "outputId": "0e1cc024-411f-4ec7-ecd0-788b107dbc18"
      },
      "source": [
        "plt.rcParams['figure.figsize'] = 5, 8\n",
        "\n",
        "plt.plot(k_values, recall_values)\n",
        "\n",
        "plt.xlabel('Значение k - число предсказаний 1 уровня')\n",
        "plt.ylabel('Recall@k')\n",
        "\n",
        "plt.legend()\n",
        "plt.grid()\n",
        "\n",
        "plt.show()"
      ],
      "execution_count": null,
      "outputs": [
        {
          "output_type": "stream",
          "text": [
            "WARNING:matplotlib.legend:No handles with labels found to put in legend.\n"
          ],
          "name": "stderr"
        },
        {
          "output_type": "display_data",
          "data": {
            "image/png": "[encoded data removed]",
            "text/plain": [
              "<Figure size 360x576 with 1 Axes>"
            ]
          },
          "metadata": {
            "tags": [],
            "needs_background": "light"
          }
        }
      ]
    },
    {
      "cell_type": "markdown",
      "metadata": {
        "id": "LfjViWj-hXQi"
      },
      "source": [
        "Видим, что recall@k растет при росте k - это следует из того, что чем больше мы охватываем позиций, тем больше шанс \"зацепить\" в выборку покупки юзера. Думаю, если следовать эмпирическому \"правилу локтя\", то хороший выбор будет взять k=200. В этой точке происходит самый крутой излом графика."
      ]
    },
    {
      "cell_type": "markdown",
      "metadata": {
        "id": "hg4S9XKb83Wq"
      },
      "source": [
        "### Задание 2.\n",
        "\n",
        "Обучите модель 2-ого уровня, при этом:\n",
        "    - Добавьте минимум по 2 фичи для юзера, товара и пары юзер-товар\n",
        "    - Измерьте отдельно precision@5 модели 1-ого уровня и двухуровневой модели на data_val_lvl_2\n",
        "    - Вырос ли precision@5 при использовании двухуровневой модели?"
      ]
    },
    {
      "cell_type": "code",
      "metadata": {
        "id": "7eumMA4h83Wq"
      },
      "source": [
        "df = pd.DataFrame({'user_id':users_lvl_2.user_id.values.repeat(len(users_lvl_2.candidates_als_recommendations[0])),\n",
        "                 'item_id':np.concatenate(users_lvl_2.candidates_als_recommendations.values)})"
      ],
      "execution_count": null,
      "outputs": []
    },
    {
      "cell_type": "code",
      "metadata": {
        "colab": {
          "base_uri": "https://localhost:8080/",
          "height": 204
        },
        "id": "EwxooncsHLYR",
        "outputId": "0b913bd3-8c0e-41ff-f5d4-c165ffb12ea5"
      },
      "source": [
        "df.head()"
      ],
      "execution_count": null,
      "outputs": [
        {
          "output_type": "execute_result",
          "data": {
            "text/html": [
              "<div>\n",
              "<style scoped>\n",
              "    .dataframe tbody tr th:only-of-type {\n",
              "        vertical-align: middle;\n",
              "    }\n",
              "\n",
              "    .dataframe tbody tr th {\n",
              "        vertical-align: top;\n",
              "    }\n",
              "\n",
              "    .dataframe thead th {\n",
              "        text-align: right;\n",
              "    }\n",
              "</style>\n",
              "<table border=\"1\" class=\"dataframe\">\n",
              "  <thead>\n",
              "    <tr style=\"text-align: right;\">\n",
              "      <th></th>\n",
              "      <th>user_id</th>\n",
              "      <th>item_id</th>\n",
              "    </tr>\n",
              "  </thead>\n",
              "  <tbody>\n",
              "    <tr>\n",
              "      <th>0</th>\n",
              "      <td>2070</td>\n",
              "      <td>5569374</td>\n",
              "    </tr>\n",
              "    <tr>\n",
              "      <th>1</th>\n",
              "      <td>2070</td>\n",
              "      <td>970866</td>\n",
              "    </tr>\n",
              "    <tr>\n",
              "      <th>2</th>\n",
              "      <td>2070</td>\n",
              "      <td>5569471</td>\n",
              "    </tr>\n",
              "    <tr>\n",
              "      <th>3</th>\n",
              "      <td>2070</td>\n",
              "      <td>8177622</td>\n",
              "    </tr>\n",
              "    <tr>\n",
              "      <th>4</th>\n",
              "      <td>2070</td>\n",
              "      <td>6533608</td>\n",
              "    </tr>\n",
              "  </tbody>\n",
              "</table>\n",
              "</div>"
            ],
            "text/plain": [
              "   user_id  item_id\n",
              "0     2070  5569374\n",
              "1     2070   970866\n",
              "2     2070  5569471\n",
              "3     2070  8177622\n",
              "4     2070  6533608"
            ]
          },
          "metadata": {
            "tags": []
          },
          "execution_count": 342
        }
      ]
    },
    {
      "cell_type": "code",
      "metadata": {
        "id": "cd25nMTCIfL0"
      },
      "source": [
        "targets_lvl_2 = data_train_lvl_2[['user_id', 'item_id']].copy()\n",
        "targets_lvl_2['target'] = 1  # тут только покупки \n",
        "\n",
        "targets_lvl_2 = df.merge(targets_lvl_2, on=['user_id', 'item_id'], how='left')  # Получается таргеты будут заполнены только там, где были истинные покупки, а в остальные строки merge поставит None\n",
        "\n",
        "targets_lvl_2['target'].fillna(0, inplace= True)  # Обработаем эти None (см. ниже результат в таблице)"
      ],
      "execution_count": null,
      "outputs": []
    },
    {
      "cell_type": "code",
      "metadata": {
        "colab": {
          "base_uri": "https://localhost:8080/"
        },
        "id": "l18IU7NdIj2f",
        "outputId": "65e8dcdb-a7c3-49ec-dd71-1b2e79817e40"
      },
      "source": [
        "targets_lvl_2['target'].mean()"
      ],
      "execution_count": null,
      "outputs": [
        {
          "output_type": "execute_result",
          "data": {
            "text/plain": [
              "0.09311038832683427"
            ]
          },
          "metadata": {
            "tags": []
          },
          "execution_count": 344
        }
      ]
    },
    {
      "cell_type": "code",
      "metadata": {
        "colab": {
          "base_uri": "https://localhost:8080/",
          "height": 1000
        },
        "id": "rZmA0u57Imb0",
        "outputId": "78066939-9919-4e16-ab3e-016156775a1c"
      },
      "source": [
        "targets_lvl_2.head(50)  # Получилось напротив каждой пары user-item стоит 0 или 1 (Y)\n",
        "# Но нужно ещё добавить фичи (X)"
      ],
      "execution_count": null,
      "outputs": [
        {
          "output_type": "execute_result",
          "data": {
            "text/html": [
              "<div>\n",
              "<style scoped>\n",
              "    .dataframe tbody tr th:only-of-type {\n",
              "        vertical-align: middle;\n",
              "    }\n",
              "\n",
              "    .dataframe tbody tr th {\n",
              "        vertical-align: top;\n",
              "    }\n",
              "\n",
              "    .dataframe thead th {\n",
              "        text-align: right;\n",
              "    }\n",
              "</style>\n",
              "<table border=\"1\" class=\"dataframe\">\n",
              "  <thead>\n",
              "    <tr style=\"text-align: right;\">\n",
              "      <th></th>\n",
              "      <th>user_id</th>\n",
              "      <th>item_id</th>\n",
              "      <th>target</th>\n",
              "    </tr>\n",
              "  </thead>\n",
              "  <tbody>\n",
              "    <tr>\n",
              "      <th>0</th>\n",
              "      <td>2070</td>\n",
              "      <td>5569374</td>\n",
              "      <td>0.0</td>\n",
              "    </tr>\n",
              "    <tr>\n",
              "      <th>1</th>\n",
              "      <td>2070</td>\n",
              "      <td>970866</td>\n",
              "      <td>0.0</td>\n",
              "    </tr>\n",
              "    <tr>\n",
              "      <th>2</th>\n",
              "      <td>2070</td>\n",
              "      <td>5569471</td>\n",
              "      <td>0.0</td>\n",
              "    </tr>\n",
              "    <tr>\n",
              "      <th>3</th>\n",
              "      <td>2070</td>\n",
              "      <td>8177622</td>\n",
              "      <td>0.0</td>\n",
              "    </tr>\n",
              "    <tr>\n",
              "      <th>4</th>\n",
              "      <td>2070</td>\n",
              "      <td>6533608</td>\n",
              "      <td>0.0</td>\n",
              "    </tr>\n",
              "    <tr>\n",
              "      <th>5</th>\n",
              "      <td>2070</td>\n",
              "      <td>865456</td>\n",
              "      <td>1.0</td>\n",
              "    </tr>\n",
              "    <tr>\n",
              "      <th>6</th>\n",
              "      <td>2070</td>\n",
              "      <td>878442</td>\n",
              "      <td>0.0</td>\n",
              "    </tr>\n",
              "    <tr>\n",
              "      <th>7</th>\n",
              "      <td>2070</td>\n",
              "      <td>10198378</td>\n",
              "      <td>0.0</td>\n",
              "    </tr>\n",
              "    <tr>\n",
              "      <th>8</th>\n",
              "      <td>2070</td>\n",
              "      <td>9362429</td>\n",
              "      <td>0.0</td>\n",
              "    </tr>\n",
              "    <tr>\n",
              "      <th>9</th>\n",
              "      <td>2070</td>\n",
              "      <td>917033</td>\n",
              "      <td>0.0</td>\n",
              "    </tr>\n",
              "    <tr>\n",
              "      <th>10</th>\n",
              "      <td>2070</td>\n",
              "      <td>1053016</td>\n",
              "      <td>0.0</td>\n",
              "    </tr>\n",
              "    <tr>\n",
              "      <th>11</th>\n",
              "      <td>2070</td>\n",
              "      <td>899624</td>\n",
              "      <td>1.0</td>\n",
              "    </tr>\n",
              "    <tr>\n",
              "      <th>12</th>\n",
              "      <td>2070</td>\n",
              "      <td>1029743</td>\n",
              "      <td>0.0</td>\n",
              "    </tr>\n",
              "    <tr>\n",
              "      <th>13</th>\n",
              "      <td>2070</td>\n",
              "      <td>1016800</td>\n",
              "      <td>0.0</td>\n",
              "    </tr>\n",
              "    <tr>\n",
              "      <th>14</th>\n",
              "      <td>2070</td>\n",
              "      <td>954966</td>\n",
              "      <td>0.0</td>\n",
              "    </tr>\n",
              "    <tr>\n",
              "      <th>15</th>\n",
              "      <td>2070</td>\n",
              "      <td>832442</td>\n",
              "      <td>0.0</td>\n",
              "    </tr>\n",
              "    <tr>\n",
              "      <th>16</th>\n",
              "      <td>2070</td>\n",
              "      <td>6533362</td>\n",
              "      <td>0.0</td>\n",
              "    </tr>\n",
              "    <tr>\n",
              "      <th>17</th>\n",
              "      <td>2070</td>\n",
              "      <td>1050741</td>\n",
              "      <td>0.0</td>\n",
              "    </tr>\n",
              "    <tr>\n",
              "      <th>18</th>\n",
              "      <td>2070</td>\n",
              "      <td>12731517</td>\n",
              "      <td>0.0</td>\n",
              "    </tr>\n",
              "    <tr>\n",
              "      <th>19</th>\n",
              "      <td>2070</td>\n",
              "      <td>12810391</td>\n",
              "      <td>1.0</td>\n",
              "    </tr>\n",
              "    <tr>\n",
              "      <th>20</th>\n",
              "      <td>2070</td>\n",
              "      <td>899459</td>\n",
              "      <td>0.0</td>\n",
              "    </tr>\n",
              "    <tr>\n",
              "      <th>21</th>\n",
              "      <td>2070</td>\n",
              "      <td>825170</td>\n",
              "      <td>0.0</td>\n",
              "    </tr>\n",
              "    <tr>\n",
              "      <th>22</th>\n",
              "      <td>2070</td>\n",
              "      <td>1046545</td>\n",
              "      <td>0.0</td>\n",
              "    </tr>\n",
              "    <tr>\n",
              "      <th>23</th>\n",
              "      <td>2070</td>\n",
              "      <td>10308345</td>\n",
              "      <td>0.0</td>\n",
              "    </tr>\n",
              "    <tr>\n",
              "      <th>24</th>\n",
              "      <td>2070</td>\n",
              "      <td>1102416</td>\n",
              "      <td>0.0</td>\n",
              "    </tr>\n",
              "    <tr>\n",
              "      <th>25</th>\n",
              "      <td>2070</td>\n",
              "      <td>983584</td>\n",
              "      <td>0.0</td>\n",
              "    </tr>\n",
              "    <tr>\n",
              "      <th>26</th>\n",
              "      <td>2070</td>\n",
              "      <td>1105426</td>\n",
              "      <td>0.0</td>\n",
              "    </tr>\n",
              "    <tr>\n",
              "      <th>27</th>\n",
              "      <td>2070</td>\n",
              "      <td>1030318</td>\n",
              "      <td>0.0</td>\n",
              "    </tr>\n",
              "    <tr>\n",
              "      <th>28</th>\n",
              "      <td>2070</td>\n",
              "      <td>1082955</td>\n",
              "      <td>1.0</td>\n",
              "    </tr>\n",
              "    <tr>\n",
              "      <th>29</th>\n",
              "      <td>2070</td>\n",
              "      <td>935770</td>\n",
              "      <td>0.0</td>\n",
              "    </tr>\n",
              "    <tr>\n",
              "      <th>30</th>\n",
              "      <td>2070</td>\n",
              "      <td>823704</td>\n",
              "      <td>0.0</td>\n",
              "    </tr>\n",
              "    <tr>\n",
              "      <th>31</th>\n",
              "      <td>2070</td>\n",
              "      <td>1038692</td>\n",
              "      <td>0.0</td>\n",
              "    </tr>\n",
              "    <tr>\n",
              "      <th>32</th>\n",
              "      <td>2070</td>\n",
              "      <td>1051323</td>\n",
              "      <td>0.0</td>\n",
              "    </tr>\n",
              "    <tr>\n",
              "      <th>33</th>\n",
              "      <td>2070</td>\n",
              "      <td>6534030</td>\n",
              "      <td>0.0</td>\n",
              "    </tr>\n",
              "    <tr>\n",
              "      <th>34</th>\n",
              "      <td>2070</td>\n",
              "      <td>5585510</td>\n",
              "      <td>0.0</td>\n",
              "    </tr>\n",
              "    <tr>\n",
              "      <th>35</th>\n",
              "      <td>2070</td>\n",
              "      <td>935993</td>\n",
              "      <td>0.0</td>\n",
              "    </tr>\n",
              "    <tr>\n",
              "      <th>36</th>\n",
              "      <td>2070</td>\n",
              "      <td>944588</td>\n",
              "      <td>0.0</td>\n",
              "    </tr>\n",
              "    <tr>\n",
              "      <th>37</th>\n",
              "      <td>2070</td>\n",
              "      <td>855626</td>\n",
              "      <td>0.0</td>\n",
              "    </tr>\n",
              "    <tr>\n",
              "      <th>38</th>\n",
              "      <td>2070</td>\n",
              "      <td>9836195</td>\n",
              "      <td>0.0</td>\n",
              "    </tr>\n",
              "    <tr>\n",
              "      <th>39</th>\n",
              "      <td>2070</td>\n",
              "      <td>1106271</td>\n",
              "      <td>0.0</td>\n",
              "    </tr>\n",
              "    <tr>\n",
              "      <th>40</th>\n",
              "      <td>2070</td>\n",
              "      <td>846502</td>\n",
              "      <td>0.0</td>\n",
              "    </tr>\n",
              "    <tr>\n",
              "      <th>41</th>\n",
              "      <td>2070</td>\n",
              "      <td>963971</td>\n",
              "      <td>0.0</td>\n",
              "    </tr>\n",
              "    <tr>\n",
              "      <th>42</th>\n",
              "      <td>2070</td>\n",
              "      <td>908130</td>\n",
              "      <td>0.0</td>\n",
              "    </tr>\n",
              "    <tr>\n",
              "      <th>43</th>\n",
              "      <td>2070</td>\n",
              "      <td>1092937</td>\n",
              "      <td>1.0</td>\n",
              "    </tr>\n",
              "    <tr>\n",
              "      <th>44</th>\n",
              "      <td>2070</td>\n",
              "      <td>1092937</td>\n",
              "      <td>1.0</td>\n",
              "    </tr>\n",
              "    <tr>\n",
              "      <th>45</th>\n",
              "      <td>2070</td>\n",
              "      <td>9469110</td>\n",
              "      <td>0.0</td>\n",
              "    </tr>\n",
              "    <tr>\n",
              "      <th>46</th>\n",
              "      <td>2070</td>\n",
              "      <td>893018</td>\n",
              "      <td>0.0</td>\n",
              "    </tr>\n",
              "    <tr>\n",
              "      <th>47</th>\n",
              "      <td>2070</td>\n",
              "      <td>957951</td>\n",
              "      <td>0.0</td>\n",
              "    </tr>\n",
              "    <tr>\n",
              "      <th>48</th>\n",
              "      <td>2070</td>\n",
              "      <td>5567502</td>\n",
              "      <td>0.0</td>\n",
              "    </tr>\n",
              "    <tr>\n",
              "      <th>49</th>\n",
              "      <td>2070</td>\n",
              "      <td>6463826</td>\n",
              "      <td>0.0</td>\n",
              "    </tr>\n",
              "  </tbody>\n",
              "</table>\n",
              "</div>"
            ],
            "text/plain": [
              "    user_id   item_id  target\n",
              "0      2070   5569374     0.0\n",
              "1      2070    970866     0.0\n",
              "2      2070   5569471     0.0\n",
              "3      2070   8177622     0.0\n",
              "4      2070   6533608     0.0\n",
              "5      2070    865456     1.0\n",
              "6      2070    878442     0.0\n",
              "7      2070  10198378     0.0\n",
              "8      2070   9362429     0.0\n",
              "9      2070    917033     0.0\n",
              "10     2070   1053016     0.0\n",
              "11     2070    899624     1.0\n",
              "12     2070   1029743     0.0\n",
              "13     2070   1016800     0.0\n",
              "14     2070    954966     0.0\n",
              "15     2070    832442     0.0\n",
              "16     2070   6533362     0.0\n",
              "17     2070   1050741     0.0\n",
              "18     2070  12731517     0.0\n",
              "19     2070  12810391     1.0\n",
              "20     2070    899459     0.0\n",
              "21     2070    825170     0.0\n",
              "22     2070   1046545     0.0\n",
              "23     2070  10308345     0.0\n",
              "24     2070   1102416     0.0\n",
              "25     2070    983584     0.0\n",
              "26     2070   1105426     0.0\n",
              "27     2070   1030318     0.0\n",
              "28     2070   1082955     1.0\n",
              "29     2070    935770     0.0\n",
              "30     2070    823704     0.0\n",
              "31     2070   1038692     0.0\n",
              "32     2070   1051323     0.0\n",
              "33     2070   6534030     0.0\n",
              "34     2070   5585510     0.0\n",
              "35     2070    935993     0.0\n",
              "36     2070    944588     0.0\n",
              "37     2070    855626     0.0\n",
              "38     2070   9836195     0.0\n",
              "39     2070   1106271     0.0\n",
              "40     2070    846502     0.0\n",
              "41     2070    963971     0.0\n",
              "42     2070    908130     0.0\n",
              "43     2070   1092937     1.0\n",
              "44     2070   1092937     1.0\n",
              "45     2070   9469110     0.0\n",
              "46     2070    893018     0.0\n",
              "47     2070    957951     0.0\n",
              "48     2070   5567502     0.0\n",
              "49     2070   6463826     0.0"
            ]
          },
          "metadata": {
            "tags": []
          },
          "execution_count": 345
        }
      ]
    },
    {
      "cell_type": "code",
      "metadata": {
        "colab": {
          "base_uri": "https://localhost:8080/",
          "height": 111
        },
        "id": "xHpaWy5cIuNP",
        "outputId": "e89afd64-bc38-4b02-9c63-7fb5699c7c7e"
      },
      "source": [
        "item_features.head(2)"
      ],
      "execution_count": null,
      "outputs": [
        {
          "output_type": "execute_result",
          "data": {
            "text/html": [
              "<div>\n",
              "<style scoped>\n",
              "    .dataframe tbody tr th:only-of-type {\n",
              "        vertical-align: middle;\n",
              "    }\n",
              "\n",
              "    .dataframe tbody tr th {\n",
              "        vertical-align: top;\n",
              "    }\n",
              "\n",
              "    .dataframe thead th {\n",
              "        text-align: right;\n",
              "    }\n",
              "</style>\n",
              "<table border=\"1\" class=\"dataframe\">\n",
              "  <thead>\n",
              "    <tr style=\"text-align: right;\">\n",
              "      <th></th>\n",
              "      <th>item_id</th>\n",
              "      <th>manufacturer</th>\n",
              "      <th>department</th>\n",
              "      <th>brand</th>\n",
              "      <th>commodity_desc</th>\n",
              "      <th>sub_commodity_desc</th>\n",
              "      <th>curr_size_of_product</th>\n",
              "    </tr>\n",
              "  </thead>\n",
              "  <tbody>\n",
              "    <tr>\n",
              "      <th>0</th>\n",
              "      <td>25671</td>\n",
              "      <td>2</td>\n",
              "      <td>GROCERY</td>\n",
              "      <td>National</td>\n",
              "      <td>FRZN ICE</td>\n",
              "      <td>ICE - CRUSHED/CUBED</td>\n",
              "      <td>22 LB</td>\n",
              "    </tr>\n",
              "    <tr>\n",
              "      <th>1</th>\n",
              "      <td>26081</td>\n",
              "      <td>2</td>\n",
              "      <td>MISC. TRANS.</td>\n",
              "      <td>National</td>\n",
              "      <td>NO COMMODITY DESCRIPTION</td>\n",
              "      <td>NO SUBCOMMODITY DESCRIPTION</td>\n",
              "      <td></td>\n",
              "    </tr>\n",
              "  </tbody>\n",
              "</table>\n",
              "</div>"
            ],
            "text/plain": [
              "   item_id  manufacturer  ...           sub_commodity_desc curr_size_of_product\n",
              "0    25671             2  ...          ICE - CRUSHED/CUBED                22 LB\n",
              "1    26081             2  ...  NO SUBCOMMODITY DESCRIPTION                     \n",
              "\n",
              "[2 rows x 7 columns]"
            ]
          },
          "metadata": {
            "tags": []
          },
          "execution_count": 346
        }
      ]
    },
    {
      "cell_type": "code",
      "metadata": {
        "colab": {
          "base_uri": "https://localhost:8080/",
          "height": 111
        },
        "id": "rV9Xb377I5tB",
        "outputId": "7a0ce461-b034-45a1-e1cd-175f771b08c8"
      },
      "source": [
        "user_features.head(2)"
      ],
      "execution_count": null,
      "outputs": [
        {
          "output_type": "execute_result",
          "data": {
            "text/html": [
              "<div>\n",
              "<style scoped>\n",
              "    .dataframe tbody tr th:only-of-type {\n",
              "        vertical-align: middle;\n",
              "    }\n",
              "\n",
              "    .dataframe tbody tr th {\n",
              "        vertical-align: top;\n",
              "    }\n",
              "\n",
              "    .dataframe thead th {\n",
              "        text-align: right;\n",
              "    }\n",
              "</style>\n",
              "<table border=\"1\" class=\"dataframe\">\n",
              "  <thead>\n",
              "    <tr style=\"text-align: right;\">\n",
              "      <th></th>\n",
              "      <th>age_desc</th>\n",
              "      <th>marital_status_code</th>\n",
              "      <th>income_desc</th>\n",
              "      <th>homeowner_desc</th>\n",
              "      <th>hh_comp_desc</th>\n",
              "      <th>household_size_desc</th>\n",
              "      <th>kid_category_desc</th>\n",
              "      <th>user_id</th>\n",
              "    </tr>\n",
              "  </thead>\n",
              "  <tbody>\n",
              "    <tr>\n",
              "      <th>0</th>\n",
              "      <td>65+</td>\n",
              "      <td>A</td>\n",
              "      <td>35-49K</td>\n",
              "      <td>Homeowner</td>\n",
              "      <td>2 Adults No Kids</td>\n",
              "      <td>2</td>\n",
              "      <td>None/Unknown</td>\n",
              "      <td>1</td>\n",
              "    </tr>\n",
              "    <tr>\n",
              "      <th>1</th>\n",
              "      <td>45-54</td>\n",
              "      <td>A</td>\n",
              "      <td>50-74K</td>\n",
              "      <td>Homeowner</td>\n",
              "      <td>2 Adults No Kids</td>\n",
              "      <td>2</td>\n",
              "      <td>None/Unknown</td>\n",
              "      <td>7</td>\n",
              "    </tr>\n",
              "  </tbody>\n",
              "</table>\n",
              "</div>"
            ],
            "text/plain": [
              "  age_desc marital_status_code  ... kid_category_desc user_id\n",
              "0      65+                   A  ...      None/Unknown       1\n",
              "1    45-54                   A  ...      None/Unknown       7\n",
              "\n",
              "[2 rows x 8 columns]"
            ]
          },
          "metadata": {
            "tags": []
          },
          "execution_count": 347
        }
      ]
    },
    {
      "cell_type": "code",
      "metadata": {
        "colab": {
          "base_uri": "https://localhost:8080/",
          "height": 165
        },
        "id": "PsAl0l8ING6o",
        "outputId": "e857d9c2-4dda-4f50-86ac-9a273bdf3700"
      },
      "source": [
        "targets_lvl_2 = targets_lvl_2.merge(item_features, on='item_id', how='left')\n",
        "targets_lvl_2 = targets_lvl_2.merge(user_features, on='user_id', how='left')\n",
        "\n",
        "targets_lvl_2.head(2)  # Если не делать feature-engeneering, то можно для начала просто конкатенировать все имеющиеся фичи"
      ],
      "execution_count": null,
      "outputs": [
        {
          "output_type": "execute_result",
          "data": {
            "text/html": [
              "<div>\n",
              "<style scoped>\n",
              "    .dataframe tbody tr th:only-of-type {\n",
              "        vertical-align: middle;\n",
              "    }\n",
              "\n",
              "    .dataframe tbody tr th {\n",
              "        vertical-align: top;\n",
              "    }\n",
              "\n",
              "    .dataframe thead th {\n",
              "        text-align: right;\n",
              "    }\n",
              "</style>\n",
              "<table border=\"1\" class=\"dataframe\">\n",
              "  <thead>\n",
              "    <tr style=\"text-align: right;\">\n",
              "      <th></th>\n",
              "      <th>user_id</th>\n",
              "      <th>item_id</th>\n",
              "      <th>target</th>\n",
              "      <th>manufacturer</th>\n",
              "      <th>department</th>\n",
              "      <th>brand</th>\n",
              "      <th>commodity_desc</th>\n",
              "      <th>sub_commodity_desc</th>\n",
              "      <th>curr_size_of_product</th>\n",
              "      <th>age_desc</th>\n",
              "      <th>marital_status_code</th>\n",
              "      <th>income_desc</th>\n",
              "      <th>homeowner_desc</th>\n",
              "      <th>hh_comp_desc</th>\n",
              "      <th>household_size_desc</th>\n",
              "      <th>kid_category_desc</th>\n",
              "    </tr>\n",
              "  </thead>\n",
              "  <tbody>\n",
              "    <tr>\n",
              "      <th>0</th>\n",
              "      <td>2070</td>\n",
              "      <td>5569374</td>\n",
              "      <td>0.0</td>\n",
              "      <td>1208</td>\n",
              "      <td>GROCERY</td>\n",
              "      <td>National</td>\n",
              "      <td>SOFT DRINKS</td>\n",
              "      <td>SOFT DRINKS 12/18&amp;15PK CAN CAR</td>\n",
              "      <td>12 OZ</td>\n",
              "      <td>45-54</td>\n",
              "      <td>U</td>\n",
              "      <td>50-74K</td>\n",
              "      <td>Unknown</td>\n",
              "      <td>Unknown</td>\n",
              "      <td>1</td>\n",
              "      <td>None/Unknown</td>\n",
              "    </tr>\n",
              "    <tr>\n",
              "      <th>1</th>\n",
              "      <td>2070</td>\n",
              "      <td>970866</td>\n",
              "      <td>0.0</td>\n",
              "      <td>5612</td>\n",
              "      <td>GROCERY</td>\n",
              "      <td>National</td>\n",
              "      <td>SUGARS/SWEETNERS</td>\n",
              "      <td>SWEETENERS</td>\n",
              "      <td>9.7 OZ</td>\n",
              "      <td>45-54</td>\n",
              "      <td>U</td>\n",
              "      <td>50-74K</td>\n",
              "      <td>Unknown</td>\n",
              "      <td>Unknown</td>\n",
              "      <td>1</td>\n",
              "      <td>None/Unknown</td>\n",
              "    </tr>\n",
              "  </tbody>\n",
              "</table>\n",
              "</div>"
            ],
            "text/plain": [
              "   user_id  item_id  target  ...  hh_comp_desc household_size_desc kid_category_desc\n",
              "0     2070  5569374     0.0  ...       Unknown                   1      None/Unknown\n",
              "1     2070   970866     0.0  ...       Unknown                   1      None/Unknown\n",
              "\n",
              "[2 rows x 16 columns]"
            ]
          },
          "metadata": {
            "tags": []
          },
          "execution_count": 348
        }
      ]
    },
    {
      "cell_type": "markdown",
      "metadata": {
        "id": "Y_LFBaCXNUju"
      },
      "source": [
        "**Фичи user_id:**<br>\n",
        "    - Средний чек<br>\n",
        "    - Средняя сумма покупки 1 товара в каждой категории<br>\n",
        "    - Кол-во покупок в каждой категории<br>\n",
        "    - Частотность покупок раз в месяц<br>\n",
        "    - Долю покупок в выходные<br>\n",
        "    - Долю покупок утром, днем, вечером<br>\n",
        "<br>\n",
        "**Фичи item_id**:<br>\n",
        "    - Кол-во покупок в неделю<br>\n",
        "    - Среднее ол-во покупок 1 товара в категории в неделю<br>\n",
        "    - Кол-во покупок в неделю / Среднее кол-во покупок 1 товара в категории в неделю<br>\n",
        "    - Цена (Можно посчитать из retil_train.csv)<br>\n",
        "    - Цена / Средняя цена товара в категории<br>\n",
        "<br>\n",
        "**Фичи пары user_id - item_id** (кстати, могли бы быть и весами в нашем ALS!)<br>\n",
        "    - Средняя сумма покупки 1 товара в каждой категории (берем категорию item_id)) - Цена item_id<br>\n",
        "    - Кол-во покупок юзером конкретной категории в неделю - Среднее кол-во покупок всеми юзерами конкретной категории в неделю<br>\n",
        "    - Кол-во покупок юзером конкретной категории в неделю / Среднее кол-во покупок всеми юзерами конкретной категории в неделю<br>"
      ]
    },
    {
      "cell_type": "code",
      "metadata": {
        "colab": {
          "base_uri": "https://localhost:8080/",
          "height": 357
        },
        "id": "lQIogQ1wRmnt",
        "outputId": "b482c27e-4d94-4449-bc72-db546d350f9a"
      },
      "source": [
        "data_merged = pd.merge(data, item_features[['item_id', 'department', 'commodity_desc']], how='left', on=\"item_id\")\n",
        "data_merged = pd.merge(data_merged, user_features, how='left', on=\"user_id\")\n",
        "data_merged.tail(6)"
      ],
      "execution_count": null,
      "outputs": [
        {
          "output_type": "execute_result",
          "data": {
            "text/html": [
              "<div>\n",
              "<style scoped>\n",
              "    .dataframe tbody tr th:only-of-type {\n",
              "        vertical-align: middle;\n",
              "    }\n",
              "\n",
              "    .dataframe tbody tr th {\n",
              "        vertical-align: top;\n",
              "    }\n",
              "\n",
              "    .dataframe thead th {\n",
              "        text-align: right;\n",
              "    }\n",
              "</style>\n",
              "<table border=\"1\" class=\"dataframe\">\n",
              "  <thead>\n",
              "    <tr style=\"text-align: right;\">\n",
              "      <th></th>\n",
              "      <th>user_id</th>\n",
              "      <th>basket_id</th>\n",
              "      <th>day</th>\n",
              "      <th>item_id</th>\n",
              "      <th>quantity</th>\n",
              "      <th>sales_value</th>\n",
              "      <th>store_id</th>\n",
              "      <th>retail_disc</th>\n",
              "      <th>trans_time</th>\n",
              "      <th>week_no</th>\n",
              "      <th>coupon_disc</th>\n",
              "      <th>coupon_match_disc</th>\n",
              "      <th>department</th>\n",
              "      <th>commodity_desc</th>\n",
              "      <th>age_desc</th>\n",
              "      <th>marital_status_code</th>\n",
              "      <th>income_desc</th>\n",
              "      <th>homeowner_desc</th>\n",
              "      <th>hh_comp_desc</th>\n",
              "      <th>household_size_desc</th>\n",
              "      <th>kid_category_desc</th>\n",
              "    </tr>\n",
              "  </thead>\n",
              "  <tbody>\n",
              "    <tr>\n",
              "      <th>2396798</th>\n",
              "      <td>1613</td>\n",
              "      <td>41655820646</td>\n",
              "      <td>663</td>\n",
              "      <td>15712538</td>\n",
              "      <td>1</td>\n",
              "      <td>2.99</td>\n",
              "      <td>3262</td>\n",
              "      <td>-0.16</td>\n",
              "      <td>1231</td>\n",
              "      <td>95</td>\n",
              "      <td>0.0</td>\n",
              "      <td>0.0</td>\n",
              "      <td>GROCERY</td>\n",
              "      <td>YOGURT</td>\n",
              "      <td>NaN</td>\n",
              "      <td>NaN</td>\n",
              "      <td>NaN</td>\n",
              "      <td>NaN</td>\n",
              "      <td>NaN</td>\n",
              "      <td>NaN</td>\n",
              "      <td>NaN</td>\n",
              "    </tr>\n",
              "    <tr>\n",
              "      <th>2396799</th>\n",
              "      <td>1613</td>\n",
              "      <td>41655820646</td>\n",
              "      <td>663</td>\n",
              "      <td>16102849</td>\n",
              "      <td>1</td>\n",
              "      <td>2.00</td>\n",
              "      <td>3262</td>\n",
              "      <td>-1.15</td>\n",
              "      <td>1231</td>\n",
              "      <td>95</td>\n",
              "      <td>0.0</td>\n",
              "      <td>0.0</td>\n",
              "      <td>GROCERY</td>\n",
              "      <td>FRZN MEAT/MEAT DINNERS</td>\n",
              "      <td>NaN</td>\n",
              "      <td>NaN</td>\n",
              "      <td>NaN</td>\n",
              "      <td>NaN</td>\n",
              "      <td>NaN</td>\n",
              "      <td>NaN</td>\n",
              "      <td>NaN</td>\n",
              "    </tr>\n",
              "    <tr>\n",
              "      <th>2396800</th>\n",
              "      <td>1001</td>\n",
              "      <td>41655829421</td>\n",
              "      <td>663</td>\n",
              "      <td>13217063</td>\n",
              "      <td>1</td>\n",
              "      <td>1.69</td>\n",
              "      <td>3131</td>\n",
              "      <td>0.00</td>\n",
              "      <td>2231</td>\n",
              "      <td>95</td>\n",
              "      <td>0.0</td>\n",
              "      <td>0.0</td>\n",
              "      <td>GROCERY</td>\n",
              "      <td>ICE CREAM/MILK/SHERBTS</td>\n",
              "      <td>45-54</td>\n",
              "      <td>U</td>\n",
              "      <td>50-74K</td>\n",
              "      <td>Homeowner</td>\n",
              "      <td>Unknown</td>\n",
              "      <td>1</td>\n",
              "      <td>None/Unknown</td>\n",
              "    </tr>\n",
              "    <tr>\n",
              "      <th>2396801</th>\n",
              "      <td>1001</td>\n",
              "      <td>41655829421</td>\n",
              "      <td>663</td>\n",
              "      <td>13217800</td>\n",
              "      <td>1</td>\n",
              "      <td>1.69</td>\n",
              "      <td>3131</td>\n",
              "      <td>0.00</td>\n",
              "      <td>2231</td>\n",
              "      <td>95</td>\n",
              "      <td>0.0</td>\n",
              "      <td>0.0</td>\n",
              "      <td>GROCERY</td>\n",
              "      <td>ICE CREAM/MILK/SHERBTS</td>\n",
              "      <td>45-54</td>\n",
              "      <td>U</td>\n",
              "      <td>50-74K</td>\n",
              "      <td>Homeowner</td>\n",
              "      <td>Unknown</td>\n",
              "      <td>1</td>\n",
              "      <td>None/Unknown</td>\n",
              "    </tr>\n",
              "    <tr>\n",
              "      <th>2396802</th>\n",
              "      <td>1167</td>\n",
              "      <td>41656790510</td>\n",
              "      <td>663</td>\n",
              "      <td>6410462</td>\n",
              "      <td>22451</td>\n",
              "      <td>43.98</td>\n",
              "      <td>3385</td>\n",
              "      <td>-0.65</td>\n",
              "      <td>1059</td>\n",
              "      <td>95</td>\n",
              "      <td>0.0</td>\n",
              "      <td>0.0</td>\n",
              "      <td>KIOSK-GAS</td>\n",
              "      <td>COUPON/MISC ITEMS</td>\n",
              "      <td>35-44</td>\n",
              "      <td>U</td>\n",
              "      <td>50-74K</td>\n",
              "      <td>Homeowner</td>\n",
              "      <td>2 Adults Kids</td>\n",
              "      <td>4</td>\n",
              "      <td>2</td>\n",
              "    </tr>\n",
              "    <tr>\n",
              "      <th>2396803</th>\n",
              "      <td>1167</td>\n",
              "      <td>41656790510</td>\n",
              "      <td>663</td>\n",
              "      <td>6430664</td>\n",
              "      <td>1</td>\n",
              "      <td>8.00</td>\n",
              "      <td>3385</td>\n",
              "      <td>0.00</td>\n",
              "      <td>1059</td>\n",
              "      <td>95</td>\n",
              "      <td>0.0</td>\n",
              "      <td>0.0</td>\n",
              "      <td>MISC SALES TRAN</td>\n",
              "      <td>COUPON/MISC ITEMS</td>\n",
              "      <td>35-44</td>\n",
              "      <td>U</td>\n",
              "      <td>50-74K</td>\n",
              "      <td>Homeowner</td>\n",
              "      <td>2 Adults Kids</td>\n",
              "      <td>4</td>\n",
              "      <td>2</td>\n",
              "    </tr>\n",
              "  </tbody>\n",
              "</table>\n",
              "</div>"
            ],
            "text/plain": [
              "         user_id    basket_id  ...  household_size_desc  kid_category_desc\n",
              "2396798     1613  41655820646  ...                  NaN                NaN\n",
              "2396799     1613  41655820646  ...                  NaN                NaN\n",
              "2396800     1001  41655829421  ...                    1       None/Unknown\n",
              "2396801     1001  41655829421  ...                    1       None/Unknown\n",
              "2396802     1167  41656790510  ...                    4                  2\n",
              "2396803     1167  41656790510  ...                    4                  2\n",
              "\n",
              "[6 rows x 21 columns]"
            ]
          },
          "metadata": {
            "tags": []
          },
          "execution_count": 305
        }
      ]
    },
    {
      "cell_type": "markdown",
      "metadata": {
        "id": "T2qx_zY3uFRJ"
      },
      "source": [
        "Цена / Средняя цена товара в категории"
      ]
    },
    {
      "cell_type": "code",
      "metadata": {
        "colab": {
          "base_uri": "https://localhost:8080/",
          "height": 204
        },
        "id": "oxekjWPluHZ0",
        "outputId": "858375e5-5bd7-4683-aaf6-cd5ccac60e49"
      },
      "source": [
        "mean_sales_value_in_department = data_merged.groupby(['department'], as_index=False).agg({'sales_value':'mean'})\\\n",
        "                       .rename(columns={'sales_value':'mean_sales_value_in_department'})\n",
        "data_merged = data_merged.merge(mean_sales_value_in_department, on='department', how='left')\n",
        "mean_sales_value_in_department.head()"
      ],
      "execution_count": null,
      "outputs": [
        {
          "output_type": "execute_result",
          "data": {
            "text/html": [
              "<div>\n",
              "<style scoped>\n",
              "    .dataframe tbody tr th:only-of-type {\n",
              "        vertical-align: middle;\n",
              "    }\n",
              "\n",
              "    .dataframe tbody tr th {\n",
              "        vertical-align: top;\n",
              "    }\n",
              "\n",
              "    .dataframe thead th {\n",
              "        text-align: right;\n",
              "    }\n",
              "</style>\n",
              "<table border=\"1\" class=\"dataframe\">\n",
              "  <thead>\n",
              "    <tr style=\"text-align: right;\">\n",
              "      <th></th>\n",
              "      <th>department</th>\n",
              "      <th>mean_sales_value_in_department</th>\n",
              "    </tr>\n",
              "  </thead>\n",
              "  <tbody>\n",
              "    <tr>\n",
              "      <th>0</th>\n",
              "      <td></td>\n",
              "      <td>0.000000</td>\n",
              "    </tr>\n",
              "    <tr>\n",
              "      <th>1</th>\n",
              "      <td>AUTOMOTIVE</td>\n",
              "      <td>7.381186</td>\n",
              "    </tr>\n",
              "    <tr>\n",
              "      <th>2</th>\n",
              "      <td>CHARITABLE CONT</td>\n",
              "      <td>3.870000</td>\n",
              "    </tr>\n",
              "    <tr>\n",
              "      <th>3</th>\n",
              "      <td>CHEF SHOPPE</td>\n",
              "      <td>2.915234</td>\n",
              "    </tr>\n",
              "    <tr>\n",
              "      <th>4</th>\n",
              "      <td>CNTRL/STORE SUP</td>\n",
              "      <td>2.335714</td>\n",
              "    </tr>\n",
              "  </tbody>\n",
              "</table>\n",
              "</div>"
            ],
            "text/plain": [
              "        department  mean_sales_value_in_department\n",
              "0                                         0.000000\n",
              "1       AUTOMOTIVE                        7.381186\n",
              "2  CHARITABLE CONT                        3.870000\n",
              "3      CHEF SHOPPE                        2.915234\n",
              "4  CNTRL/STORE SUP                        2.335714"
            ]
          },
          "metadata": {
            "tags": []
          },
          "execution_count": 306
        }
      ]
    },
    {
      "cell_type": "code",
      "metadata": {
        "id": "fhb__QbFBCL6"
      },
      "source": [
        "data_merged['item_value_div_mean_sales_value_in_department'] = data_merged['sales_value'] / data_merged['mean_sales_value_in_department']\n",
        "average_item_value_div_mean_sales_value_in_department = data_merged[['item_value_div_mean_sales_value_in_department', 'user_id', 'item_id']].groupby(['user_id', 'item_id'], as_index=False).agg({'item_value_div_mean_sales_value_in_department':'mean'})"
      ],
      "execution_count": null,
      "outputs": []
    },
    {
      "cell_type": "code",
      "metadata": {
        "colab": {
          "base_uri": "https://localhost:8080/",
          "height": 230
        },
        "id": "vEQnU6VzCfP2",
        "outputId": "283060c3-5b51-4fb4-b8c4-f881e7267ff5"
      },
      "source": [
        "targets_lvl_2 = targets_lvl_2.merge(average_item_value_div_mean_sales_value_in_department, on=['user_id', 'item_id'], how='left')\n",
        "targets_lvl_2.head(3)"
      ],
      "execution_count": null,
      "outputs": [
        {
          "output_type": "execute_result",
          "data": {
            "text/html": [
              "<div>\n",
              "<style scoped>\n",
              "    .dataframe tbody tr th:only-of-type {\n",
              "        vertical-align: middle;\n",
              "    }\n",
              "\n",
              "    .dataframe tbody tr th {\n",
              "        vertical-align: top;\n",
              "    }\n",
              "\n",
              "    .dataframe thead th {\n",
              "        text-align: right;\n",
              "    }\n",
              "</style>\n",
              "<table border=\"1\" class=\"dataframe\">\n",
              "  <thead>\n",
              "    <tr style=\"text-align: right;\">\n",
              "      <th></th>\n",
              "      <th>user_id</th>\n",
              "      <th>item_id</th>\n",
              "      <th>target</th>\n",
              "      <th>manufacturer</th>\n",
              "      <th>department</th>\n",
              "      <th>brand</th>\n",
              "      <th>commodity_desc</th>\n",
              "      <th>sub_commodity_desc</th>\n",
              "      <th>curr_size_of_product</th>\n",
              "      <th>age_desc</th>\n",
              "      <th>marital_status_code</th>\n",
              "      <th>income_desc</th>\n",
              "      <th>homeowner_desc</th>\n",
              "      <th>hh_comp_desc</th>\n",
              "      <th>household_size_desc</th>\n",
              "      <th>kid_category_desc</th>\n",
              "      <th>item_value_div_mean_sales_value_in_department</th>\n",
              "    </tr>\n",
              "  </thead>\n",
              "  <tbody>\n",
              "    <tr>\n",
              "      <th>0</th>\n",
              "      <td>2070</td>\n",
              "      <td>5569374</td>\n",
              "      <td>0.0</td>\n",
              "      <td>1208</td>\n",
              "      <td>GROCERY</td>\n",
              "      <td>National</td>\n",
              "      <td>SOFT DRINKS</td>\n",
              "      <td>SOFT DRINKS 12/18&amp;15PK CAN CAR</td>\n",
              "      <td>12 OZ</td>\n",
              "      <td>45-54</td>\n",
              "      <td>U</td>\n",
              "      <td>50-74K</td>\n",
              "      <td>Unknown</td>\n",
              "      <td>Unknown</td>\n",
              "      <td>1</td>\n",
              "      <td>None/Unknown</td>\n",
              "      <td>1.674525</td>\n",
              "    </tr>\n",
              "    <tr>\n",
              "      <th>1</th>\n",
              "      <td>2070</td>\n",
              "      <td>970866</td>\n",
              "      <td>0.0</td>\n",
              "      <td>5612</td>\n",
              "      <td>GROCERY</td>\n",
              "      <td>National</td>\n",
              "      <td>SUGARS/SWEETNERS</td>\n",
              "      <td>SWEETENERS</td>\n",
              "      <td>9.7 OZ</td>\n",
              "      <td>45-54</td>\n",
              "      <td>U</td>\n",
              "      <td>50-74K</td>\n",
              "      <td>Unknown</td>\n",
              "      <td>Unknown</td>\n",
              "      <td>1</td>\n",
              "      <td>None/Unknown</td>\n",
              "      <td>3.018577</td>\n",
              "    </tr>\n",
              "    <tr>\n",
              "      <th>2</th>\n",
              "      <td>2070</td>\n",
              "      <td>5569471</td>\n",
              "      <td>0.0</td>\n",
              "      <td>1208</td>\n",
              "      <td>GROCERY</td>\n",
              "      <td>National</td>\n",
              "      <td>SOFT DRINKS</td>\n",
              "      <td>SOFT DRINKS 12/18&amp;15PK CAN CAR</td>\n",
              "      <td>12 OZ</td>\n",
              "      <td>45-54</td>\n",
              "      <td>U</td>\n",
              "      <td>50-74K</td>\n",
              "      <td>Unknown</td>\n",
              "      <td>Unknown</td>\n",
              "      <td>1</td>\n",
              "      <td>None/Unknown</td>\n",
              "      <td>7.052751</td>\n",
              "    </tr>\n",
              "  </tbody>\n",
              "</table>\n",
              "</div>"
            ],
            "text/plain": [
              "   user_id  ...  item_value_div_mean_sales_value_in_department\n",
              "0     2070  ...                                       1.674525\n",
              "1     2070  ...                                       3.018577\n",
              "2     2070  ...                                       7.052751\n",
              "\n",
              "[3 rows x 17 columns]"
            ]
          },
          "metadata": {
            "tags": []
          },
          "execution_count": 308
        }
      ]
    },
    {
      "cell_type": "markdown",
      "metadata": {
        "id": "1fALIB38rUjt"
      },
      "source": [
        "Кол-во покупок в неделю"
      ]
    },
    {
      "cell_type": "code",
      "metadata": {
        "colab": {
          "base_uri": "https://localhost:8080/",
          "height": 204
        },
        "id": "i642aLJCrXUG",
        "outputId": "48c9665f-3833-4fee-cbb7-9e05efc88f77"
      },
      "source": [
        "purchases_count_in_week = data_merged.groupby(['item_id', 'week_no'], as_index=False).agg({'sales_value':'count'})\\\n",
        "                       .rename(columns={'sales_value':'purchases_count_in_week'})\n",
        "purchases_count_in_week.head()"
      ],
      "execution_count": null,
      "outputs": [
        {
          "output_type": "execute_result",
          "data": {
            "text/html": [
              "<div>\n",
              "<style scoped>\n",
              "    .dataframe tbody tr th:only-of-type {\n",
              "        vertical-align: middle;\n",
              "    }\n",
              "\n",
              "    .dataframe tbody tr th {\n",
              "        vertical-align: top;\n",
              "    }\n",
              "\n",
              "    .dataframe thead th {\n",
              "        text-align: right;\n",
              "    }\n",
              "</style>\n",
              "<table border=\"1\" class=\"dataframe\">\n",
              "  <thead>\n",
              "    <tr style=\"text-align: right;\">\n",
              "      <th></th>\n",
              "      <th>item_id</th>\n",
              "      <th>week_no</th>\n",
              "      <th>purchases_count_in_week</th>\n",
              "    </tr>\n",
              "  </thead>\n",
              "  <tbody>\n",
              "    <tr>\n",
              "      <th>0</th>\n",
              "      <td>25671</td>\n",
              "      <td>23</td>\n",
              "      <td>1</td>\n",
              "    </tr>\n",
              "    <tr>\n",
              "      <th>1</th>\n",
              "      <td>25671</td>\n",
              "      <td>36</td>\n",
              "      <td>1</td>\n",
              "    </tr>\n",
              "    <tr>\n",
              "      <th>2</th>\n",
              "      <td>25671</td>\n",
              "      <td>59</td>\n",
              "      <td>1</td>\n",
              "    </tr>\n",
              "    <tr>\n",
              "      <th>3</th>\n",
              "      <td>26081</td>\n",
              "      <td>36</td>\n",
              "      <td>1</td>\n",
              "    </tr>\n",
              "    <tr>\n",
              "      <th>4</th>\n",
              "      <td>26093</td>\n",
              "      <td>66</td>\n",
              "      <td>1</td>\n",
              "    </tr>\n",
              "  </tbody>\n",
              "</table>\n",
              "</div>"
            ],
            "text/plain": [
              "   item_id  week_no  purchases_count_in_week\n",
              "0    25671       23                        1\n",
              "1    25671       36                        1\n",
              "2    25671       59                        1\n",
              "3    26081       36                        1\n",
              "4    26093       66                        1"
            ]
          },
          "metadata": {
            "tags": []
          },
          "execution_count": 309
        }
      ]
    },
    {
      "cell_type": "code",
      "metadata": {
        "colab": {
          "base_uri": "https://localhost:8080/",
          "height": 204
        },
        "id": "8yWxIjAsr7kY",
        "outputId": "0814afbd-cede-436e-fc29-00a371ea2309"
      },
      "source": [
        "mean_purchases_count_in_week = purchases_count_in_week.groupby(['item_id'], as_index=False).agg({'purchases_count_in_week':'mean'})\\\n",
        "                       .rename(columns={'purchases_count_in_week':'mean_purchases_count_in_week'})\n",
        "mean_purchases_count_in_week.sort_values(['mean_purchases_count_in_week'],ascending=False).head()"
      ],
      "execution_count": null,
      "outputs": [
        {
          "output_type": "execute_result",
          "data": {
            "text/html": [
              "<div>\n",
              "<style scoped>\n",
              "    .dataframe tbody tr th:only-of-type {\n",
              "        vertical-align: middle;\n",
              "    }\n",
              "\n",
              "    .dataframe tbody tr th {\n",
              "        vertical-align: top;\n",
              "    }\n",
              "\n",
              "    .dataframe thead th {\n",
              "        text-align: right;\n",
              "    }\n",
              "</style>\n",
              "<table border=\"1\" class=\"dataframe\">\n",
              "  <thead>\n",
              "    <tr style=\"text-align: right;\">\n",
              "      <th></th>\n",
              "      <th>item_id</th>\n",
              "      <th>mean_purchases_count_in_week</th>\n",
              "    </tr>\n",
              "  </thead>\n",
              "  <tbody>\n",
              "    <tr>\n",
              "      <th>35054</th>\n",
              "      <td>1082185</td>\n",
              "      <td>288.021053</td>\n",
              "    </tr>\n",
              "    <tr>\n",
              "      <th>56233</th>\n",
              "      <td>6534178</td>\n",
              "      <td>195.361702</td>\n",
              "    </tr>\n",
              "    <tr>\n",
              "      <th>29195</th>\n",
              "      <td>1029743</td>\n",
              "      <td>141.631579</td>\n",
              "    </tr>\n",
              "    <tr>\n",
              "      <th>25333</th>\n",
              "      <td>995242</td>\n",
              "      <td>119.968421</td>\n",
              "    </tr>\n",
              "    <tr>\n",
              "      <th>37719</th>\n",
              "      <td>1106523</td>\n",
              "      <td>96.578947</td>\n",
              "    </tr>\n",
              "  </tbody>\n",
              "</table>\n",
              "</div>"
            ],
            "text/plain": [
              "       item_id  mean_purchases_count_in_week\n",
              "35054  1082185                    288.021053\n",
              "56233  6534178                    195.361702\n",
              "29195  1029743                    141.631579\n",
              "25333   995242                    119.968421\n",
              "37719  1106523                     96.578947"
            ]
          },
          "metadata": {
            "tags": []
          },
          "execution_count": 310
        }
      ]
    },
    {
      "cell_type": "code",
      "metadata": {
        "colab": {
          "base_uri": "https://localhost:8080/",
          "height": 230
        },
        "id": "NwAFVI5eECNH",
        "outputId": "1b96c604-dfe0-4441-cf86-41cd93f586d1"
      },
      "source": [
        "targets_lvl_2 = targets_lvl_2.merge(mean_purchases_count_in_week, on='item_id', how='left')\n",
        "targets_lvl_2.head(3)"
      ],
      "execution_count": null,
      "outputs": [
        {
          "output_type": "execute_result",
          "data": {
            "text/html": [
              "<div>\n",
              "<style scoped>\n",
              "    .dataframe tbody tr th:only-of-type {\n",
              "        vertical-align: middle;\n",
              "    }\n",
              "\n",
              "    .dataframe tbody tr th {\n",
              "        vertical-align: top;\n",
              "    }\n",
              "\n",
              "    .dataframe thead th {\n",
              "        text-align: right;\n",
              "    }\n",
              "</style>\n",
              "<table border=\"1\" class=\"dataframe\">\n",
              "  <thead>\n",
              "    <tr style=\"text-align: right;\">\n",
              "      <th></th>\n",
              "      <th>user_id</th>\n",
              "      <th>item_id</th>\n",
              "      <th>target</th>\n",
              "      <th>manufacturer</th>\n",
              "      <th>department</th>\n",
              "      <th>brand</th>\n",
              "      <th>commodity_desc</th>\n",
              "      <th>sub_commodity_desc</th>\n",
              "      <th>curr_size_of_product</th>\n",
              "      <th>age_desc</th>\n",
              "      <th>marital_status_code</th>\n",
              "      <th>income_desc</th>\n",
              "      <th>homeowner_desc</th>\n",
              "      <th>hh_comp_desc</th>\n",
              "      <th>household_size_desc</th>\n",
              "      <th>kid_category_desc</th>\n",
              "      <th>item_value_div_mean_sales_value_in_department</th>\n",
              "      <th>mean_purchases_count_in_week</th>\n",
              "    </tr>\n",
              "  </thead>\n",
              "  <tbody>\n",
              "    <tr>\n",
              "      <th>0</th>\n",
              "      <td>2070</td>\n",
              "      <td>5569374</td>\n",
              "      <td>0.0</td>\n",
              "      <td>1208</td>\n",
              "      <td>GROCERY</td>\n",
              "      <td>National</td>\n",
              "      <td>SOFT DRINKS</td>\n",
              "      <td>SOFT DRINKS 12/18&amp;15PK CAN CAR</td>\n",
              "      <td>12 OZ</td>\n",
              "      <td>45-54</td>\n",
              "      <td>U</td>\n",
              "      <td>50-74K</td>\n",
              "      <td>Unknown</td>\n",
              "      <td>Unknown</td>\n",
              "      <td>1</td>\n",
              "      <td>None/Unknown</td>\n",
              "      <td>1.674525</td>\n",
              "      <td>8.712766</td>\n",
              "    </tr>\n",
              "    <tr>\n",
              "      <th>1</th>\n",
              "      <td>2070</td>\n",
              "      <td>970866</td>\n",
              "      <td>0.0</td>\n",
              "      <td>5612</td>\n",
              "      <td>GROCERY</td>\n",
              "      <td>National</td>\n",
              "      <td>SUGARS/SWEETNERS</td>\n",
              "      <td>SWEETENERS</td>\n",
              "      <td>9.7 OZ</td>\n",
              "      <td>45-54</td>\n",
              "      <td>U</td>\n",
              "      <td>50-74K</td>\n",
              "      <td>Unknown</td>\n",
              "      <td>Unknown</td>\n",
              "      <td>1</td>\n",
              "      <td>None/Unknown</td>\n",
              "      <td>3.018577</td>\n",
              "      <td>2.025316</td>\n",
              "    </tr>\n",
              "    <tr>\n",
              "      <th>2</th>\n",
              "      <td>2070</td>\n",
              "      <td>5569471</td>\n",
              "      <td>0.0</td>\n",
              "      <td>1208</td>\n",
              "      <td>GROCERY</td>\n",
              "      <td>National</td>\n",
              "      <td>SOFT DRINKS</td>\n",
              "      <td>SOFT DRINKS 12/18&amp;15PK CAN CAR</td>\n",
              "      <td>12 OZ</td>\n",
              "      <td>45-54</td>\n",
              "      <td>U</td>\n",
              "      <td>50-74K</td>\n",
              "      <td>Unknown</td>\n",
              "      <td>Unknown</td>\n",
              "      <td>1</td>\n",
              "      <td>None/Unknown</td>\n",
              "      <td>7.052751</td>\n",
              "      <td>21.904255</td>\n",
              "    </tr>\n",
              "  </tbody>\n",
              "</table>\n",
              "</div>"
            ],
            "text/plain": [
              "   user_id  ...  mean_purchases_count_in_week\n",
              "0     2070  ...                      8.712766\n",
              "1     2070  ...                      2.025316\n",
              "2     2070  ...                     21.904255\n",
              "\n",
              "[3 rows x 18 columns]"
            ]
          },
          "metadata": {
            "tags": []
          },
          "execution_count": 311
        }
      ]
    },
    {
      "cell_type": "markdown",
      "metadata": {
        "id": "dTP3oXDRWXeg"
      },
      "source": [
        "Частотность покупок раз в месяц"
      ]
    },
    {
      "cell_type": "code",
      "metadata": {
        "colab": {
          "base_uri": "https://localhost:8080/",
          "height": 204
        },
        "id": "S96PgCsUWYo4",
        "outputId": "38e80509-4f7f-4855-ccc3-5afa6956023f"
      },
      "source": [
        "sales_value_on_week = data_merged.groupby(['user_id', 'week_no'], as_index=False).agg({'sales_value':'sum'})\\\n",
        "                       .rename(columns={'sales_value':'sales_value_on_week'})\n",
        "sales_value_on_week.head()"
      ],
      "execution_count": null,
      "outputs": [
        {
          "output_type": "execute_result",
          "data": {
            "text/html": [
              "<div>\n",
              "<style scoped>\n",
              "    .dataframe tbody tr th:only-of-type {\n",
              "        vertical-align: middle;\n",
              "    }\n",
              "\n",
              "    .dataframe tbody tr th {\n",
              "        vertical-align: top;\n",
              "    }\n",
              "\n",
              "    .dataframe thead th {\n",
              "        text-align: right;\n",
              "    }\n",
              "</style>\n",
              "<table border=\"1\" class=\"dataframe\">\n",
              "  <thead>\n",
              "    <tr style=\"text-align: right;\">\n",
              "      <th></th>\n",
              "      <th>user_id</th>\n",
              "      <th>week_no</th>\n",
              "      <th>sales_value_on_week</th>\n",
              "    </tr>\n",
              "  </thead>\n",
              "  <tbody>\n",
              "    <tr>\n",
              "      <th>0</th>\n",
              "      <td>1</td>\n",
              "      <td>8</td>\n",
              "      <td>78.66</td>\n",
              "    </tr>\n",
              "    <tr>\n",
              "      <th>1</th>\n",
              "      <td>1</td>\n",
              "      <td>10</td>\n",
              "      <td>41.10</td>\n",
              "    </tr>\n",
              "    <tr>\n",
              "      <th>2</th>\n",
              "      <td>1</td>\n",
              "      <td>13</td>\n",
              "      <td>26.90</td>\n",
              "    </tr>\n",
              "    <tr>\n",
              "      <th>3</th>\n",
              "      <td>1</td>\n",
              "      <td>14</td>\n",
              "      <td>63.43</td>\n",
              "    </tr>\n",
              "    <tr>\n",
              "      <th>4</th>\n",
              "      <td>1</td>\n",
              "      <td>15</td>\n",
              "      <td>53.45</td>\n",
              "    </tr>\n",
              "  </tbody>\n",
              "</table>\n",
              "</div>"
            ],
            "text/plain": [
              "   user_id  week_no  sales_value_on_week\n",
              "0        1        8                78.66\n",
              "1        1       10                41.10\n",
              "2        1       13                26.90\n",
              "3        1       14                63.43\n",
              "4        1       15                53.45"
            ]
          },
          "metadata": {
            "tags": []
          },
          "execution_count": 312
        }
      ]
    },
    {
      "cell_type": "code",
      "metadata": {
        "colab": {
          "base_uri": "https://localhost:8080/"
        },
        "id": "DAIbExl5bTAJ",
        "outputId": "774932ef-e7b1-4e47-f02c-8eb338687af3"
      },
      "source": [
        "len(data_merged.week_no.unique())  # Всего недель"
      ],
      "execution_count": null,
      "outputs": [
        {
          "output_type": "execute_result",
          "data": {
            "text/plain": [
              "95"
            ]
          },
          "metadata": {
            "tags": []
          },
          "execution_count": 313
        }
      ]
    },
    {
      "cell_type": "code",
      "metadata": {
        "colab": {
          "base_uri": "https://localhost:8080/",
          "height": 204
        },
        "id": "qiGBKIQ3X7Ow",
        "outputId": "cad27089-dfbe-4f8c-d922-804564f3b6b7"
      },
      "source": [
        "week_quantity_on_user = sales_value_on_week.groupby(['user_id'], as_index=False).agg({'week_no':'count'})\\\n",
        "                       .rename(columns={'week_no':'week_quantity_on_user'})\n",
        "week_quantity_on_user.head()"
      ],
      "execution_count": null,
      "outputs": [
        {
          "output_type": "execute_result",
          "data": {
            "text/html": [
              "<div>\n",
              "<style scoped>\n",
              "    .dataframe tbody tr th:only-of-type {\n",
              "        vertical-align: middle;\n",
              "    }\n",
              "\n",
              "    .dataframe tbody tr th {\n",
              "        vertical-align: top;\n",
              "    }\n",
              "\n",
              "    .dataframe thead th {\n",
              "        text-align: right;\n",
              "    }\n",
              "</style>\n",
              "<table border=\"1\" class=\"dataframe\">\n",
              "  <thead>\n",
              "    <tr style=\"text-align: right;\">\n",
              "      <th></th>\n",
              "      <th>user_id</th>\n",
              "      <th>week_quantity_on_user</th>\n",
              "    </tr>\n",
              "  </thead>\n",
              "  <tbody>\n",
              "    <tr>\n",
              "      <th>0</th>\n",
              "      <td>1</td>\n",
              "      <td>64</td>\n",
              "    </tr>\n",
              "    <tr>\n",
              "      <th>1</th>\n",
              "      <td>2</td>\n",
              "      <td>34</td>\n",
              "    </tr>\n",
              "    <tr>\n",
              "      <th>2</th>\n",
              "      <td>3</td>\n",
              "      <td>35</td>\n",
              "    </tr>\n",
              "    <tr>\n",
              "      <th>3</th>\n",
              "      <td>4</td>\n",
              "      <td>26</td>\n",
              "    </tr>\n",
              "    <tr>\n",
              "      <th>4</th>\n",
              "      <td>5</td>\n",
              "      <td>25</td>\n",
              "    </tr>\n",
              "  </tbody>\n",
              "</table>\n",
              "</div>"
            ],
            "text/plain": [
              "   user_id  week_quantity_on_user\n",
              "0        1                     64\n",
              "1        2                     34\n",
              "2        3                     35\n",
              "3        4                     26\n",
              "4        5                     25"
            ]
          },
          "metadata": {
            "tags": []
          },
          "execution_count": 314
        }
      ]
    },
    {
      "cell_type": "code",
      "metadata": {
        "colab": {
          "base_uri": "https://localhost:8080/",
          "height": 204
        },
        "id": "BJ41DrhwnHJz",
        "outputId": "65bc4557-937b-4387-8680-b2daead24e42"
      },
      "source": [
        "week_quantity_on_user['purchases_frequency_in_a_month'] = week_quantity_on_user['week_quantity_on_user'] / len(data_merged.week_no.unique()) * 4\n",
        "week_quantity_on_user.head()"
      ],
      "execution_count": null,
      "outputs": [
        {
          "output_type": "execute_result",
          "data": {
            "text/html": [
              "<div>\n",
              "<style scoped>\n",
              "    .dataframe tbody tr th:only-of-type {\n",
              "        vertical-align: middle;\n",
              "    }\n",
              "\n",
              "    .dataframe tbody tr th {\n",
              "        vertical-align: top;\n",
              "    }\n",
              "\n",
              "    .dataframe thead th {\n",
              "        text-align: right;\n",
              "    }\n",
              "</style>\n",
              "<table border=\"1\" class=\"dataframe\">\n",
              "  <thead>\n",
              "    <tr style=\"text-align: right;\">\n",
              "      <th></th>\n",
              "      <th>user_id</th>\n",
              "      <th>week_quantity_on_user</th>\n",
              "      <th>purchases_frequency_in_a_month</th>\n",
              "    </tr>\n",
              "  </thead>\n",
              "  <tbody>\n",
              "    <tr>\n",
              "      <th>0</th>\n",
              "      <td>1</td>\n",
              "      <td>64</td>\n",
              "      <td>2.694737</td>\n",
              "    </tr>\n",
              "    <tr>\n",
              "      <th>1</th>\n",
              "      <td>2</td>\n",
              "      <td>34</td>\n",
              "      <td>1.431579</td>\n",
              "    </tr>\n",
              "    <tr>\n",
              "      <th>2</th>\n",
              "      <td>3</td>\n",
              "      <td>35</td>\n",
              "      <td>1.473684</td>\n",
              "    </tr>\n",
              "    <tr>\n",
              "      <th>3</th>\n",
              "      <td>4</td>\n",
              "      <td>26</td>\n",
              "      <td>1.094737</td>\n",
              "    </tr>\n",
              "    <tr>\n",
              "      <th>4</th>\n",
              "      <td>5</td>\n",
              "      <td>25</td>\n",
              "      <td>1.052632</td>\n",
              "    </tr>\n",
              "  </tbody>\n",
              "</table>\n",
              "</div>"
            ],
            "text/plain": [
              "   user_id  week_quantity_on_user  purchases_frequency_in_a_month\n",
              "0        1                     64                        2.694737\n",
              "1        2                     34                        1.431579\n",
              "2        3                     35                        1.473684\n",
              "3        4                     26                        1.094737\n",
              "4        5                     25                        1.052632"
            ]
          },
          "metadata": {
            "tags": []
          },
          "execution_count": 315
        }
      ]
    },
    {
      "cell_type": "code",
      "metadata": {
        "colab": {
          "base_uri": "https://localhost:8080/",
          "height": 230
        },
        "id": "oa2P6rc8EqrX",
        "outputId": "fc1051ca-469e-47d7-9620-f378005452b0"
      },
      "source": [
        "targets_lvl_2 = targets_lvl_2.merge(week_quantity_on_user[['user_id', 'purchases_frequency_in_a_month']], on='user_id', how='left')\n",
        "targets_lvl_2.head(3)"
      ],
      "execution_count": null,
      "outputs": [
        {
          "output_type": "execute_result",
          "data": {
            "text/html": [
              "<div>\n",
              "<style scoped>\n",
              "    .dataframe tbody tr th:only-of-type {\n",
              "        vertical-align: middle;\n",
              "    }\n",
              "\n",
              "    .dataframe tbody tr th {\n",
              "        vertical-align: top;\n",
              "    }\n",
              "\n",
              "    .dataframe thead th {\n",
              "        text-align: right;\n",
              "    }\n",
              "</style>\n",
              "<table border=\"1\" class=\"dataframe\">\n",
              "  <thead>\n",
              "    <tr style=\"text-align: right;\">\n",
              "      <th></th>\n",
              "      <th>user_id</th>\n",
              "      <th>item_id</th>\n",
              "      <th>target</th>\n",
              "      <th>manufacturer</th>\n",
              "      <th>department</th>\n",
              "      <th>brand</th>\n",
              "      <th>commodity_desc</th>\n",
              "      <th>sub_commodity_desc</th>\n",
              "      <th>curr_size_of_product</th>\n",
              "      <th>age_desc</th>\n",
              "      <th>marital_status_code</th>\n",
              "      <th>income_desc</th>\n",
              "      <th>homeowner_desc</th>\n",
              "      <th>hh_comp_desc</th>\n",
              "      <th>household_size_desc</th>\n",
              "      <th>kid_category_desc</th>\n",
              "      <th>item_value_div_mean_sales_value_in_department</th>\n",
              "      <th>mean_purchases_count_in_week</th>\n",
              "      <th>purchases_frequency_in_a_month</th>\n",
              "    </tr>\n",
              "  </thead>\n",
              "  <tbody>\n",
              "    <tr>\n",
              "      <th>0</th>\n",
              "      <td>2070</td>\n",
              "      <td>5569374</td>\n",
              "      <td>0.0</td>\n",
              "      <td>1208</td>\n",
              "      <td>GROCERY</td>\n",
              "      <td>National</td>\n",
              "      <td>SOFT DRINKS</td>\n",
              "      <td>SOFT DRINKS 12/18&amp;15PK CAN CAR</td>\n",
              "      <td>12 OZ</td>\n",
              "      <td>45-54</td>\n",
              "      <td>U</td>\n",
              "      <td>50-74K</td>\n",
              "      <td>Unknown</td>\n",
              "      <td>Unknown</td>\n",
              "      <td>1</td>\n",
              "      <td>None/Unknown</td>\n",
              "      <td>1.674525</td>\n",
              "      <td>8.712766</td>\n",
              "      <td>3.452632</td>\n",
              "    </tr>\n",
              "    <tr>\n",
              "      <th>1</th>\n",
              "      <td>2070</td>\n",
              "      <td>970866</td>\n",
              "      <td>0.0</td>\n",
              "      <td>5612</td>\n",
              "      <td>GROCERY</td>\n",
              "      <td>National</td>\n",
              "      <td>SUGARS/SWEETNERS</td>\n",
              "      <td>SWEETENERS</td>\n",
              "      <td>9.7 OZ</td>\n",
              "      <td>45-54</td>\n",
              "      <td>U</td>\n",
              "      <td>50-74K</td>\n",
              "      <td>Unknown</td>\n",
              "      <td>Unknown</td>\n",
              "      <td>1</td>\n",
              "      <td>None/Unknown</td>\n",
              "      <td>3.018577</td>\n",
              "      <td>2.025316</td>\n",
              "      <td>3.452632</td>\n",
              "    </tr>\n",
              "    <tr>\n",
              "      <th>2</th>\n",
              "      <td>2070</td>\n",
              "      <td>5569471</td>\n",
              "      <td>0.0</td>\n",
              "      <td>1208</td>\n",
              "      <td>GROCERY</td>\n",
              "      <td>National</td>\n",
              "      <td>SOFT DRINKS</td>\n",
              "      <td>SOFT DRINKS 12/18&amp;15PK CAN CAR</td>\n",
              "      <td>12 OZ</td>\n",
              "      <td>45-54</td>\n",
              "      <td>U</td>\n",
              "      <td>50-74K</td>\n",
              "      <td>Unknown</td>\n",
              "      <td>Unknown</td>\n",
              "      <td>1</td>\n",
              "      <td>None/Unknown</td>\n",
              "      <td>7.052751</td>\n",
              "      <td>21.904255</td>\n",
              "      <td>3.452632</td>\n",
              "    </tr>\n",
              "  </tbody>\n",
              "</table>\n",
              "</div>"
            ],
            "text/plain": [
              "   user_id  ...  purchases_frequency_in_a_month\n",
              "0     2070  ...                        3.452632\n",
              "1     2070  ...                        3.452632\n",
              "2     2070  ...                        3.452632\n",
              "\n",
              "[3 rows x 19 columns]"
            ]
          },
          "metadata": {
            "tags": []
          },
          "execution_count": 316
        }
      ]
    },
    {
      "cell_type": "markdown",
      "metadata": {
        "id": "TOkD4P9uT6Si"
      },
      "source": [
        "Средний чек"
      ]
    },
    {
      "cell_type": "code",
      "metadata": {
        "colab": {
          "base_uri": "https://localhost:8080/",
          "height": 204
        },
        "id": "iHOfLkmVNJRQ",
        "outputId": "3a6ee8aa-c508-4b8e-b83f-91f33dfbed51"
      },
      "source": [
        "sales_value_on_basket = data_merged.groupby(['user_id', 'basket_id'], as_index=False).agg({'sales_value':'sum'})\\\n",
        "                       .rename(columns={'sales_value':'sales_value_on_basket'})\n",
        "sales_value_on_basket.head()"
      ],
      "execution_count": null,
      "outputs": [
        {
          "output_type": "execute_result",
          "data": {
            "text/html": [
              "<div>\n",
              "<style scoped>\n",
              "    .dataframe tbody tr th:only-of-type {\n",
              "        vertical-align: middle;\n",
              "    }\n",
              "\n",
              "    .dataframe tbody tr th {\n",
              "        vertical-align: top;\n",
              "    }\n",
              "\n",
              "    .dataframe thead th {\n",
              "        text-align: right;\n",
              "    }\n",
              "</style>\n",
              "<table border=\"1\" class=\"dataframe\">\n",
              "  <thead>\n",
              "    <tr style=\"text-align: right;\">\n",
              "      <th></th>\n",
              "      <th>user_id</th>\n",
              "      <th>basket_id</th>\n",
              "      <th>sales_value_on_basket</th>\n",
              "    </tr>\n",
              "  </thead>\n",
              "  <tbody>\n",
              "    <tr>\n",
              "      <th>0</th>\n",
              "      <td>1</td>\n",
              "      <td>27601281299</td>\n",
              "      <td>78.66</td>\n",
              "    </tr>\n",
              "    <tr>\n",
              "      <th>1</th>\n",
              "      <td>1</td>\n",
              "      <td>27774192959</td>\n",
              "      <td>41.10</td>\n",
              "    </tr>\n",
              "    <tr>\n",
              "      <th>2</th>\n",
              "      <td>1</td>\n",
              "      <td>28024266849</td>\n",
              "      <td>26.90</td>\n",
              "    </tr>\n",
              "    <tr>\n",
              "      <th>3</th>\n",
              "      <td>1</td>\n",
              "      <td>28106322445</td>\n",
              "      <td>63.43</td>\n",
              "    </tr>\n",
              "    <tr>\n",
              "      <th>4</th>\n",
              "      <td>1</td>\n",
              "      <td>28235481967</td>\n",
              "      <td>53.45</td>\n",
              "    </tr>\n",
              "  </tbody>\n",
              "</table>\n",
              "</div>"
            ],
            "text/plain": [
              "   user_id    basket_id  sales_value_on_basket\n",
              "0        1  27601281299                  78.66\n",
              "1        1  27774192959                  41.10\n",
              "2        1  28024266849                  26.90\n",
              "3        1  28106322445                  63.43\n",
              "4        1  28235481967                  53.45"
            ]
          },
          "metadata": {
            "tags": []
          },
          "execution_count": 317
        }
      ]
    },
    {
      "cell_type": "code",
      "metadata": {
        "colab": {
          "base_uri": "https://localhost:8080/",
          "height": 204
        },
        "id": "ZXxdW8GFT_Po",
        "outputId": "099f6017-0277-41f0-cd95-538dbd571531"
      },
      "source": [
        "average_check = sales_value_on_basket.groupby(['user_id'], as_index=False).agg({'sales_value_on_basket':'mean'})\\\n",
        "                       .rename(columns={'sales_value_on_basket':'average_check'})\n",
        "average_check.head()"
      ],
      "execution_count": null,
      "outputs": [
        {
          "output_type": "execute_result",
          "data": {
            "text/html": [
              "<div>\n",
              "<style scoped>\n",
              "    .dataframe tbody tr th:only-of-type {\n",
              "        vertical-align: middle;\n",
              "    }\n",
              "\n",
              "    .dataframe tbody tr th {\n",
              "        vertical-align: top;\n",
              "    }\n",
              "\n",
              "    .dataframe thead th {\n",
              "        text-align: right;\n",
              "    }\n",
              "</style>\n",
              "<table border=\"1\" class=\"dataframe\">\n",
              "  <thead>\n",
              "    <tr style=\"text-align: right;\">\n",
              "      <th></th>\n",
              "      <th>user_id</th>\n",
              "      <th>average_check</th>\n",
              "    </tr>\n",
              "  </thead>\n",
              "  <tbody>\n",
              "    <tr>\n",
              "      <th>0</th>\n",
              "      <td>1</td>\n",
              "      <td>50.125443</td>\n",
              "    </tr>\n",
              "    <tr>\n",
              "      <th>1</th>\n",
              "      <td>2</td>\n",
              "      <td>41.442045</td>\n",
              "    </tr>\n",
              "    <tr>\n",
              "      <th>2</th>\n",
              "      <td>3</td>\n",
              "      <td>57.651111</td>\n",
              "    </tr>\n",
              "    <tr>\n",
              "      <th>3</th>\n",
              "      <td>4</td>\n",
              "      <td>40.003667</td>\n",
              "    </tr>\n",
              "    <tr>\n",
              "      <th>4</th>\n",
              "      <td>5</td>\n",
              "      <td>19.712895</td>\n",
              "    </tr>\n",
              "  </tbody>\n",
              "</table>\n",
              "</div>"
            ],
            "text/plain": [
              "   user_id  average_check\n",
              "0        1      50.125443\n",
              "1        2      41.442045\n",
              "2        3      57.651111\n",
              "3        4      40.003667\n",
              "4        5      19.712895"
            ]
          },
          "metadata": {
            "tags": []
          },
          "execution_count": 318
        }
      ]
    },
    {
      "cell_type": "code",
      "metadata": {
        "colab": {
          "base_uri": "https://localhost:8080/",
          "height": 230
        },
        "id": "c5XRHRP1E-Q9",
        "outputId": "e5b16ed4-356a-417c-f822-c05f82c7f73f"
      },
      "source": [
        "targets_lvl_2 = targets_lvl_2.merge(average_check, on='user_id', how='left')\n",
        "targets_lvl_2.head(3)"
      ],
      "execution_count": null,
      "outputs": [
        {
          "output_type": "execute_result",
          "data": {
            "text/html": [
              "<div>\n",
              "<style scoped>\n",
              "    .dataframe tbody tr th:only-of-type {\n",
              "        vertical-align: middle;\n",
              "    }\n",
              "\n",
              "    .dataframe tbody tr th {\n",
              "        vertical-align: top;\n",
              "    }\n",
              "\n",
              "    .dataframe thead th {\n",
              "        text-align: right;\n",
              "    }\n",
              "</style>\n",
              "<table border=\"1\" class=\"dataframe\">\n",
              "  <thead>\n",
              "    <tr style=\"text-align: right;\">\n",
              "      <th></th>\n",
              "      <th>user_id</th>\n",
              "      <th>item_id</th>\n",
              "      <th>target</th>\n",
              "      <th>manufacturer</th>\n",
              "      <th>department</th>\n",
              "      <th>brand</th>\n",
              "      <th>commodity_desc</th>\n",
              "      <th>sub_commodity_desc</th>\n",
              "      <th>curr_size_of_product</th>\n",
              "      <th>age_desc</th>\n",
              "      <th>marital_status_code</th>\n",
              "      <th>income_desc</th>\n",
              "      <th>homeowner_desc</th>\n",
              "      <th>hh_comp_desc</th>\n",
              "      <th>household_size_desc</th>\n",
              "      <th>kid_category_desc</th>\n",
              "      <th>item_value_div_mean_sales_value_in_department</th>\n",
              "      <th>mean_purchases_count_in_week</th>\n",
              "      <th>purchases_frequency_in_a_month</th>\n",
              "      <th>average_check</th>\n",
              "    </tr>\n",
              "  </thead>\n",
              "  <tbody>\n",
              "    <tr>\n",
              "      <th>0</th>\n",
              "      <td>2070</td>\n",
              "      <td>5569374</td>\n",
              "      <td>0.0</td>\n",
              "      <td>1208</td>\n",
              "      <td>GROCERY</td>\n",
              "      <td>National</td>\n",
              "      <td>SOFT DRINKS</td>\n",
              "      <td>SOFT DRINKS 12/18&amp;15PK CAN CAR</td>\n",
              "      <td>12 OZ</td>\n",
              "      <td>45-54</td>\n",
              "      <td>U</td>\n",
              "      <td>50-74K</td>\n",
              "      <td>Unknown</td>\n",
              "      <td>Unknown</td>\n",
              "      <td>1</td>\n",
              "      <td>None/Unknown</td>\n",
              "      <td>1.674525</td>\n",
              "      <td>8.712766</td>\n",
              "      <td>3.452632</td>\n",
              "      <td>12.92937</td>\n",
              "    </tr>\n",
              "    <tr>\n",
              "      <th>1</th>\n",
              "      <td>2070</td>\n",
              "      <td>970866</td>\n",
              "      <td>0.0</td>\n",
              "      <td>5612</td>\n",
              "      <td>GROCERY</td>\n",
              "      <td>National</td>\n",
              "      <td>SUGARS/SWEETNERS</td>\n",
              "      <td>SWEETENERS</td>\n",
              "      <td>9.7 OZ</td>\n",
              "      <td>45-54</td>\n",
              "      <td>U</td>\n",
              "      <td>50-74K</td>\n",
              "      <td>Unknown</td>\n",
              "      <td>Unknown</td>\n",
              "      <td>1</td>\n",
              "      <td>None/Unknown</td>\n",
              "      <td>3.018577</td>\n",
              "      <td>2.025316</td>\n",
              "      <td>3.452632</td>\n",
              "      <td>12.92937</td>\n",
              "    </tr>\n",
              "    <tr>\n",
              "      <th>2</th>\n",
              "      <td>2070</td>\n",
              "      <td>5569471</td>\n",
              "      <td>0.0</td>\n",
              "      <td>1208</td>\n",
              "      <td>GROCERY</td>\n",
              "      <td>National</td>\n",
              "      <td>SOFT DRINKS</td>\n",
              "      <td>SOFT DRINKS 12/18&amp;15PK CAN CAR</td>\n",
              "      <td>12 OZ</td>\n",
              "      <td>45-54</td>\n",
              "      <td>U</td>\n",
              "      <td>50-74K</td>\n",
              "      <td>Unknown</td>\n",
              "      <td>Unknown</td>\n",
              "      <td>1</td>\n",
              "      <td>None/Unknown</td>\n",
              "      <td>7.052751</td>\n",
              "      <td>21.904255</td>\n",
              "      <td>3.452632</td>\n",
              "      <td>12.92937</td>\n",
              "    </tr>\n",
              "  </tbody>\n",
              "</table>\n",
              "</div>"
            ],
            "text/plain": [
              "   user_id  item_id  ...  purchases_frequency_in_a_month  average_check\n",
              "0     2070  5569374  ...                        3.452632       12.92937\n",
              "1     2070   970866  ...                        3.452632       12.92937\n",
              "2     2070  5569471  ...                        3.452632       12.92937\n",
              "\n",
              "[3 rows x 20 columns]"
            ]
          },
          "metadata": {
            "tags": []
          },
          "execution_count": 319
        }
      ]
    },
    {
      "cell_type": "markdown",
      "metadata": {
        "id": "V7OLMRvPUQb4"
      },
      "source": [
        "Кол-во покупок юзером конкретной категории в неделю / Среднее кол-во покупок всеми юзерами конкретной категории в неделю"
      ]
    },
    {
      "cell_type": "code",
      "metadata": {
        "colab": {
          "base_uri": "https://localhost:8080/",
          "height": 204
        },
        "id": "qNoCr1ORUS2K",
        "outputId": "b8fb3aba-6526-4780-8977-01f913361c59"
      },
      "source": [
        "purchases_in_dept_by_user = data_merged.groupby(['user_id', 'department'], as_index=False).agg({'sales_value':'count'})\\\n",
        "                       .rename(columns={'sales_value':'purchases_in_dept_by_user'})\n",
        "purchases_in_dept_by_user.head()"
      ],
      "execution_count": null,
      "outputs": [
        {
          "output_type": "execute_result",
          "data": {
            "text/html": [
              "<div>\n",
              "<style scoped>\n",
              "    .dataframe tbody tr th:only-of-type {\n",
              "        vertical-align: middle;\n",
              "    }\n",
              "\n",
              "    .dataframe tbody tr th {\n",
              "        vertical-align: top;\n",
              "    }\n",
              "\n",
              "    .dataframe thead th {\n",
              "        text-align: right;\n",
              "    }\n",
              "</style>\n",
              "<table border=\"1\" class=\"dataframe\">\n",
              "  <thead>\n",
              "    <tr style=\"text-align: right;\">\n",
              "      <th></th>\n",
              "      <th>user_id</th>\n",
              "      <th>department</th>\n",
              "      <th>purchases_in_dept_by_user</th>\n",
              "    </tr>\n",
              "  </thead>\n",
              "  <tbody>\n",
              "    <tr>\n",
              "      <th>0</th>\n",
              "      <td>1</td>\n",
              "      <td></td>\n",
              "      <td>12</td>\n",
              "    </tr>\n",
              "    <tr>\n",
              "      <th>1</th>\n",
              "      <td>1</td>\n",
              "      <td>DELI</td>\n",
              "      <td>58</td>\n",
              "    </tr>\n",
              "    <tr>\n",
              "      <th>2</th>\n",
              "      <td>1</td>\n",
              "      <td>DRUG GM</td>\n",
              "      <td>149</td>\n",
              "    </tr>\n",
              "    <tr>\n",
              "      <th>3</th>\n",
              "      <td>1</td>\n",
              "      <td>FLORAL</td>\n",
              "      <td>1</td>\n",
              "    </tr>\n",
              "    <tr>\n",
              "      <th>4</th>\n",
              "      <td>1</td>\n",
              "      <td>GROCERY</td>\n",
              "      <td>1064</td>\n",
              "    </tr>\n",
              "  </tbody>\n",
              "</table>\n",
              "</div>"
            ],
            "text/plain": [
              "   user_id department  purchases_in_dept_by_user\n",
              "0        1                                    12\n",
              "1        1       DELI                         58\n",
              "2        1    DRUG GM                        149\n",
              "3        1     FLORAL                          1\n",
              "4        1    GROCERY                       1064"
            ]
          },
          "metadata": {
            "tags": []
          },
          "execution_count": 320
        }
      ]
    },
    {
      "cell_type": "code",
      "metadata": {
        "colab": {
          "base_uri": "https://localhost:8080/",
          "height": 204
        },
        "id": "nWGu6lNNt4Tt",
        "outputId": "f15c88ce-fe1f-438e-e9bb-3676aad78e28"
      },
      "source": [
        "week_count = data_merged.groupby(['user_id'], as_index=False)['week_no'].nunique().rename(columns={'week_no':'week_count'})\n",
        "week_count.head()"
      ],
      "execution_count": null,
      "outputs": [
        {
          "output_type": "execute_result",
          "data": {
            "text/html": [
              "<div>\n",
              "<style scoped>\n",
              "    .dataframe tbody tr th:only-of-type {\n",
              "        vertical-align: middle;\n",
              "    }\n",
              "\n",
              "    .dataframe tbody tr th {\n",
              "        vertical-align: top;\n",
              "    }\n",
              "\n",
              "    .dataframe thead th {\n",
              "        text-align: right;\n",
              "    }\n",
              "</style>\n",
              "<table border=\"1\" class=\"dataframe\">\n",
              "  <thead>\n",
              "    <tr style=\"text-align: right;\">\n",
              "      <th></th>\n",
              "      <th>user_id</th>\n",
              "      <th>week_count</th>\n",
              "    </tr>\n",
              "  </thead>\n",
              "  <tbody>\n",
              "    <tr>\n",
              "      <th>0</th>\n",
              "      <td>1</td>\n",
              "      <td>64</td>\n",
              "    </tr>\n",
              "    <tr>\n",
              "      <th>1</th>\n",
              "      <td>2</td>\n",
              "      <td>34</td>\n",
              "    </tr>\n",
              "    <tr>\n",
              "      <th>2</th>\n",
              "      <td>3</td>\n",
              "      <td>35</td>\n",
              "    </tr>\n",
              "    <tr>\n",
              "      <th>3</th>\n",
              "      <td>4</td>\n",
              "      <td>26</td>\n",
              "    </tr>\n",
              "    <tr>\n",
              "      <th>4</th>\n",
              "      <td>5</td>\n",
              "      <td>25</td>\n",
              "    </tr>\n",
              "  </tbody>\n",
              "</table>\n",
              "</div>"
            ],
            "text/plain": [
              "   user_id  week_count\n",
              "0        1          64\n",
              "1        2          34\n",
              "2        3          35\n",
              "3        4          26\n",
              "4        5          25"
            ]
          },
          "metadata": {
            "tags": []
          },
          "execution_count": 321
        }
      ]
    },
    {
      "cell_type": "code",
      "metadata": {
        "colab": {
          "base_uri": "https://localhost:8080/",
          "height": 204
        },
        "id": "OwR2e9Yn3PQL",
        "outputId": "b509af40-4d76-43c9-cb25-e1197434776d"
      },
      "source": [
        "purchases_in_dept_by_user_in_week = purchases_in_dept_by_user.merge(week_count, how='left', on=\"user_id\")\n",
        "purchases_in_dept_by_user_in_week['purchases_in_dept_by_user_in_week'] = purchases_in_dept_by_user_in_week['purchases_in_dept_by_user'] / purchases_in_dept_by_user_in_week['week_count']\n",
        "purchases_in_dept_by_user_in_week.head()"
      ],
      "execution_count": null,
      "outputs": [
        {
          "output_type": "execute_result",
          "data": {
            "text/html": [
              "<div>\n",
              "<style scoped>\n",
              "    .dataframe tbody tr th:only-of-type {\n",
              "        vertical-align: middle;\n",
              "    }\n",
              "\n",
              "    .dataframe tbody tr th {\n",
              "        vertical-align: top;\n",
              "    }\n",
              "\n",
              "    .dataframe thead th {\n",
              "        text-align: right;\n",
              "    }\n",
              "</style>\n",
              "<table border=\"1\" class=\"dataframe\">\n",
              "  <thead>\n",
              "    <tr style=\"text-align: right;\">\n",
              "      <th></th>\n",
              "      <th>user_id</th>\n",
              "      <th>department</th>\n",
              "      <th>purchases_in_dept_by_user</th>\n",
              "      <th>week_count</th>\n",
              "      <th>purchases_in_dept_by_user_in_week</th>\n",
              "    </tr>\n",
              "  </thead>\n",
              "  <tbody>\n",
              "    <tr>\n",
              "      <th>0</th>\n",
              "      <td>1</td>\n",
              "      <td></td>\n",
              "      <td>12</td>\n",
              "      <td>64</td>\n",
              "      <td>0.187500</td>\n",
              "    </tr>\n",
              "    <tr>\n",
              "      <th>1</th>\n",
              "      <td>1</td>\n",
              "      <td>DELI</td>\n",
              "      <td>58</td>\n",
              "      <td>64</td>\n",
              "      <td>0.906250</td>\n",
              "    </tr>\n",
              "    <tr>\n",
              "      <th>2</th>\n",
              "      <td>1</td>\n",
              "      <td>DRUG GM</td>\n",
              "      <td>149</td>\n",
              "      <td>64</td>\n",
              "      <td>2.328125</td>\n",
              "    </tr>\n",
              "    <tr>\n",
              "      <th>3</th>\n",
              "      <td>1</td>\n",
              "      <td>FLORAL</td>\n",
              "      <td>1</td>\n",
              "      <td>64</td>\n",
              "      <td>0.015625</td>\n",
              "    </tr>\n",
              "    <tr>\n",
              "      <th>4</th>\n",
              "      <td>1</td>\n",
              "      <td>GROCERY</td>\n",
              "      <td>1064</td>\n",
              "      <td>64</td>\n",
              "      <td>16.625000</td>\n",
              "    </tr>\n",
              "  </tbody>\n",
              "</table>\n",
              "</div>"
            ],
            "text/plain": [
              "   user_id department  ...  week_count  purchases_in_dept_by_user_in_week\n",
              "0        1             ...          64                           0.187500\n",
              "1        1       DELI  ...          64                           0.906250\n",
              "2        1    DRUG GM  ...          64                           2.328125\n",
              "3        1     FLORAL  ...          64                           0.015625\n",
              "4        1    GROCERY  ...          64                          16.625000\n",
              "\n",
              "[5 rows x 5 columns]"
            ]
          },
          "metadata": {
            "tags": []
          },
          "execution_count": 322
        }
      ]
    },
    {
      "cell_type": "code",
      "metadata": {
        "colab": {
          "base_uri": "https://localhost:8080/",
          "height": 204
        },
        "id": "atNwkLzW4Yi1",
        "outputId": "67ab5f8d-cdfe-4c88-a6e5-b40197e8ad50"
      },
      "source": [
        "purchases_in_dept_all = data_merged.groupby(['department'], as_index=False).agg({'sales_value':'count'})\\\n",
        "                       .rename(columns={'sales_value':'purchases_in_dept_all'})\n",
        "purchases_in_dept_all['purchases_in_dept_all_in_week'] = purchases_in_dept_all['purchases_in_dept_all'] / len(data_merged.week_no.unique())\n",
        "purchases_in_dept_all.head()"
      ],
      "execution_count": null,
      "outputs": [
        {
          "output_type": "execute_result",
          "data": {
            "text/html": [
              "<div>\n",
              "<style scoped>\n",
              "    .dataframe tbody tr th:only-of-type {\n",
              "        vertical-align: middle;\n",
              "    }\n",
              "\n",
              "    .dataframe tbody tr th {\n",
              "        vertical-align: top;\n",
              "    }\n",
              "\n",
              "    .dataframe thead th {\n",
              "        text-align: right;\n",
              "    }\n",
              "</style>\n",
              "<table border=\"1\" class=\"dataframe\">\n",
              "  <thead>\n",
              "    <tr style=\"text-align: right;\">\n",
              "      <th></th>\n",
              "      <th>department</th>\n",
              "      <th>purchases_in_dept_all</th>\n",
              "      <th>purchases_in_dept_all_in_week</th>\n",
              "    </tr>\n",
              "  </thead>\n",
              "  <tbody>\n",
              "    <tr>\n",
              "      <th>0</th>\n",
              "      <td></td>\n",
              "      <td>7210</td>\n",
              "      <td>75.894737</td>\n",
              "    </tr>\n",
              "    <tr>\n",
              "      <th>1</th>\n",
              "      <td>AUTOMOTIVE</td>\n",
              "      <td>59</td>\n",
              "      <td>0.621053</td>\n",
              "    </tr>\n",
              "    <tr>\n",
              "      <th>2</th>\n",
              "      <td>CHARITABLE CONT</td>\n",
              "      <td>2</td>\n",
              "      <td>0.021053</td>\n",
              "    </tr>\n",
              "    <tr>\n",
              "      <th>3</th>\n",
              "      <td>CHEF SHOPPE</td>\n",
              "      <td>661</td>\n",
              "      <td>6.957895</td>\n",
              "    </tr>\n",
              "    <tr>\n",
              "      <th>4</th>\n",
              "      <td>CNTRL/STORE SUP</td>\n",
              "      <td>21</td>\n",
              "      <td>0.221053</td>\n",
              "    </tr>\n",
              "  </tbody>\n",
              "</table>\n",
              "</div>"
            ],
            "text/plain": [
              "        department  purchases_in_dept_all  purchases_in_dept_all_in_week\n",
              "0                                    7210                      75.894737\n",
              "1       AUTOMOTIVE                     59                       0.621053\n",
              "2  CHARITABLE CONT                      2                       0.021053\n",
              "3      CHEF SHOPPE                    661                       6.957895\n",
              "4  CNTRL/STORE SUP                     21                       0.221053"
            ]
          },
          "metadata": {
            "tags": []
          },
          "execution_count": 323
        }
      ]
    },
    {
      "cell_type": "code",
      "metadata": {
        "id": "J3oLjoXGFws1"
      },
      "source": [
        "relatively_purchases_in_dept_by_user = purchases_in_dept_by_user_in_week.merge(purchases_in_dept_all, on='department')\n",
        "relatively_purchases_in_dept_by_user['relatively_purchases_in_dept_by_user'] = relatively_purchases_in_dept_by_user['purchases_in_dept_by_user_in_week'] / relatively_purchases_in_dept_by_user['purchases_in_dept_all_in_week']"
      ],
      "execution_count": null,
      "outputs": []
    },
    {
      "cell_type": "code",
      "metadata": {
        "colab": {
          "base_uri": "https://localhost:8080/",
          "height": 292
        },
        "id": "sD3pa2iQFr8_",
        "outputId": "d9e6a02a-dd46-4118-a70f-915135763f49"
      },
      "source": [
        "targets_lvl_2 = targets_lvl_2.merge(relatively_purchases_in_dept_by_user[['user_id', 'department','relatively_purchases_in_dept_by_user']], on=['user_id', 'department'], how='left')\n",
        "targets_lvl_2.tail()"
      ],
      "execution_count": null,
      "outputs": [
        {
          "output_type": "execute_result",
          "data": {
            "text/html": [
              "<div>\n",
              "<style scoped>\n",
              "    .dataframe tbody tr th:only-of-type {\n",
              "        vertical-align: middle;\n",
              "    }\n",
              "\n",
              "    .dataframe tbody tr th {\n",
              "        vertical-align: top;\n",
              "    }\n",
              "\n",
              "    .dataframe thead th {\n",
              "        text-align: right;\n",
              "    }\n",
              "</style>\n",
              "<table border=\"1\" class=\"dataframe\">\n",
              "  <thead>\n",
              "    <tr style=\"text-align: right;\">\n",
              "      <th></th>\n",
              "      <th>user_id</th>\n",
              "      <th>item_id</th>\n",
              "      <th>target</th>\n",
              "      <th>manufacturer</th>\n",
              "      <th>department</th>\n",
              "      <th>brand</th>\n",
              "      <th>commodity_desc</th>\n",
              "      <th>sub_commodity_desc</th>\n",
              "      <th>curr_size_of_product</th>\n",
              "      <th>age_desc</th>\n",
              "      <th>marital_status_code</th>\n",
              "      <th>income_desc</th>\n",
              "      <th>homeowner_desc</th>\n",
              "      <th>hh_comp_desc</th>\n",
              "      <th>household_size_desc</th>\n",
              "      <th>kid_category_desc</th>\n",
              "      <th>item_value_div_mean_sales_value_in_department</th>\n",
              "      <th>mean_purchases_count_in_week</th>\n",
              "      <th>purchases_frequency_in_a_month</th>\n",
              "      <th>average_check</th>\n",
              "      <th>relatively_purchases_in_dept_by_user</th>\n",
              "    </tr>\n",
              "  </thead>\n",
              "  <tbody>\n",
              "    <tr>\n",
              "      <th>111293</th>\n",
              "      <td>1745</td>\n",
              "      <td>869322</td>\n",
              "      <td>0.0</td>\n",
              "      <td>69</td>\n",
              "      <td>GROCERY</td>\n",
              "      <td>Private</td>\n",
              "      <td>ICE CREAM/MILK/SHERBTS</td>\n",
              "      <td>PAILS</td>\n",
              "      <td>4 QT</td>\n",
              "      <td>45-54</td>\n",
              "      <td>A</td>\n",
              "      <td>Under 15K</td>\n",
              "      <td>Unknown</td>\n",
              "      <td>Single Male</td>\n",
              "      <td>2</td>\n",
              "      <td>None/Unknown</td>\n",
              "      <td>NaN</td>\n",
              "      <td>1.618182</td>\n",
              "      <td>2.905263</td>\n",
              "      <td>20.311933</td>\n",
              "      <td>0.000585</td>\n",
              "    </tr>\n",
              "    <tr>\n",
              "      <th>111294</th>\n",
              "      <td>1745</td>\n",
              "      <td>1075765</td>\n",
              "      <td>0.0</td>\n",
              "      <td>93</td>\n",
              "      <td>MEAT-PCKGD</td>\n",
              "      <td>National</td>\n",
              "      <td>DINNER SAUSAGE</td>\n",
              "      <td>SMOKED/COOKED</td>\n",
              "      <td>3LB</td>\n",
              "      <td>45-54</td>\n",
              "      <td>A</td>\n",
              "      <td>Under 15K</td>\n",
              "      <td>Unknown</td>\n",
              "      <td>Single Male</td>\n",
              "      <td>2</td>\n",
              "      <td>None/Unknown</td>\n",
              "      <td>NaN</td>\n",
              "      <td>1.428571</td>\n",
              "      <td>2.905263</td>\n",
              "      <td>20.311933</td>\n",
              "      <td>0.001088</td>\n",
              "    </tr>\n",
              "    <tr>\n",
              "      <th>111295</th>\n",
              "      <td>1745</td>\n",
              "      <td>910673</td>\n",
              "      <td>0.0</td>\n",
              "      <td>397</td>\n",
              "      <td>MEAT-PCKGD</td>\n",
              "      <td>National</td>\n",
              "      <td>MEAT - MISC</td>\n",
              "      <td>WINGS (IQF)</td>\n",
              "      <td>40 OZ</td>\n",
              "      <td>45-54</td>\n",
              "      <td>A</td>\n",
              "      <td>Under 15K</td>\n",
              "      <td>Unknown</td>\n",
              "      <td>Single Male</td>\n",
              "      <td>2</td>\n",
              "      <td>None/Unknown</td>\n",
              "      <td>NaN</td>\n",
              "      <td>5.175824</td>\n",
              "      <td>2.905263</td>\n",
              "      <td>20.311933</td>\n",
              "      <td>0.001088</td>\n",
              "    </tr>\n",
              "    <tr>\n",
              "      <th>111296</th>\n",
              "      <td>1745</td>\n",
              "      <td>1093413</td>\n",
              "      <td>0.0</td>\n",
              "      <td>3886</td>\n",
              "      <td>DELI</td>\n",
              "      <td>National</td>\n",
              "      <td>DELI MEATS</td>\n",
              "      <td>MEAT: TURKEY BULK</td>\n",
              "      <td></td>\n",
              "      <td>45-54</td>\n",
              "      <td>A</td>\n",
              "      <td>Under 15K</td>\n",
              "      <td>Unknown</td>\n",
              "      <td>Single Male</td>\n",
              "      <td>2</td>\n",
              "      <td>None/Unknown</td>\n",
              "      <td>NaN</td>\n",
              "      <td>4.282609</td>\n",
              "      <td>2.905263</td>\n",
              "      <td>20.311933</td>\n",
              "      <td>0.000213</td>\n",
              "    </tr>\n",
              "    <tr>\n",
              "      <th>111297</th>\n",
              "      <td>1745</td>\n",
              "      <td>995628</td>\n",
              "      <td>0.0</td>\n",
              "      <td>1755</td>\n",
              "      <td>GROCERY</td>\n",
              "      <td>National</td>\n",
              "      <td>FROZEN PIZZA</td>\n",
              "      <td>PIZZA/TRADITIONAL</td>\n",
              "      <td>21.8 OZ</td>\n",
              "      <td>45-54</td>\n",
              "      <td>A</td>\n",
              "      <td>Under 15K</td>\n",
              "      <td>Unknown</td>\n",
              "      <td>Single Male</td>\n",
              "      <td>2</td>\n",
              "      <td>None/Unknown</td>\n",
              "      <td>1.933461</td>\n",
              "      <td>4.075758</td>\n",
              "      <td>2.905263</td>\n",
              "      <td>20.311933</td>\n",
              "      <td>0.000585</td>\n",
              "    </tr>\n",
              "  </tbody>\n",
              "</table>\n",
              "</div>"
            ],
            "text/plain": [
              "        user_id  item_id  ...  average_check  relatively_purchases_in_dept_by_user\n",
              "111293     1745   869322  ...      20.311933                              0.000585\n",
              "111294     1745  1075765  ...      20.311933                              0.001088\n",
              "111295     1745   910673  ...      20.311933                              0.001088\n",
              "111296     1745  1093413  ...      20.311933                              0.000213\n",
              "111297     1745   995628  ...      20.311933                              0.000585\n",
              "\n",
              "[5 rows x 21 columns]"
            ]
          },
          "metadata": {
            "tags": []
          },
          "execution_count": 325
        }
      ]
    },
    {
      "cell_type": "markdown",
      "metadata": {
        "id": "BzDbEVdA1dDi"
      },
      "source": [
        "Средняя сумма покупки 1 товара в каждой категории (берем категорию item_id)) - Цена item_id (пара item-user)"
      ]
    },
    {
      "cell_type": "code",
      "metadata": {
        "id": "Kz4ehl1S1ihm",
        "colab": {
          "base_uri": "https://localhost:8080/",
          "height": 204
        },
        "outputId": "42c512d7-c282-4159-c5b0-d1b87dc57ecb"
      },
      "source": [
        "mean_sales_value_in_dept = data_merged.groupby(['department'], as_index=False).agg({'sales_value':'mean'})\\\n",
        "                       .rename(columns={'sales_value':'mean_sales_value_in_dept'})\n",
        "mean_sales_value_in_dept.head()"
      ],
      "execution_count": null,
      "outputs": [
        {
          "output_type": "execute_result",
          "data": {
            "text/html": [
              "<div>\n",
              "<style scoped>\n",
              "    .dataframe tbody tr th:only-of-type {\n",
              "        vertical-align: middle;\n",
              "    }\n",
              "\n",
              "    .dataframe tbody tr th {\n",
              "        vertical-align: top;\n",
              "    }\n",
              "\n",
              "    .dataframe thead th {\n",
              "        text-align: right;\n",
              "    }\n",
              "</style>\n",
              "<table border=\"1\" class=\"dataframe\">\n",
              "  <thead>\n",
              "    <tr style=\"text-align: right;\">\n",
              "      <th></th>\n",
              "      <th>department</th>\n",
              "      <th>mean_sales_value_in_dept</th>\n",
              "    </tr>\n",
              "  </thead>\n",
              "  <tbody>\n",
              "    <tr>\n",
              "      <th>0</th>\n",
              "      <td></td>\n",
              "      <td>0.000000</td>\n",
              "    </tr>\n",
              "    <tr>\n",
              "      <th>1</th>\n",
              "      <td>AUTOMOTIVE</td>\n",
              "      <td>7.381186</td>\n",
              "    </tr>\n",
              "    <tr>\n",
              "      <th>2</th>\n",
              "      <td>CHARITABLE CONT</td>\n",
              "      <td>3.870000</td>\n",
              "    </tr>\n",
              "    <tr>\n",
              "      <th>3</th>\n",
              "      <td>CHEF SHOPPE</td>\n",
              "      <td>2.915234</td>\n",
              "    </tr>\n",
              "    <tr>\n",
              "      <th>4</th>\n",
              "      <td>CNTRL/STORE SUP</td>\n",
              "      <td>2.335714</td>\n",
              "    </tr>\n",
              "  </tbody>\n",
              "</table>\n",
              "</div>"
            ],
            "text/plain": [
              "        department  mean_sales_value_in_dept\n",
              "0                                   0.000000\n",
              "1       AUTOMOTIVE                  7.381186\n",
              "2  CHARITABLE CONT                  3.870000\n",
              "3      CHEF SHOPPE                  2.915234\n",
              "4  CNTRL/STORE SUP                  2.335714"
            ]
          },
          "metadata": {
            "tags": []
          },
          "execution_count": 326
        }
      ]
    },
    {
      "cell_type": "code",
      "metadata": {
        "id": "NBBFkqm1LCqS"
      },
      "source": [
        "data_merged = data_merged.merge(mean_sales_value_in_dept, on='department', how='left')\n",
        "data_merged['mean_sales_value_in_dept_subtract_sales_value'] = data_merged['mean_sales_value_in_dept'] - data_merged['sales_value']"
      ],
      "execution_count": null,
      "outputs": []
    },
    {
      "cell_type": "code",
      "metadata": {
        "id": "FnYlFzsziLjA"
      },
      "source": [
        "mean_sales_value_in_dept_subtract_sales_value = data_merged[['user_id', 'item_id', 'mean_sales_value_in_dept_subtract_sales_value']].groupby(['user_id', 'item_id'], as_index=False).agg({'mean_sales_value_in_dept_subtract_sales_value':'mean'})"
      ],
      "execution_count": null,
      "outputs": []
    },
    {
      "cell_type": "code",
      "metadata": {
        "colab": {
          "base_uri": "https://localhost:8080/",
          "height": 292
        },
        "id": "qyRSK4qSOwcR",
        "outputId": "8bcc5539-f7af-4a80-ed98-1de756ca3dd4"
      },
      "source": [
        "targets_lvl_2 = targets_lvl_2.merge(mean_sales_value_in_dept_subtract_sales_value, on=['user_id', 'item_id'], how='left')\n",
        "targets_lvl_2.tail()"
      ],
      "execution_count": null,
      "outputs": [
        {
          "output_type": "execute_result",
          "data": {
            "text/html": [
              "<div>\n",
              "<style scoped>\n",
              "    .dataframe tbody tr th:only-of-type {\n",
              "        vertical-align: middle;\n",
              "    }\n",
              "\n",
              "    .dataframe tbody tr th {\n",
              "        vertical-align: top;\n",
              "    }\n",
              "\n",
              "    .dataframe thead th {\n",
              "        text-align: right;\n",
              "    }\n",
              "</style>\n",
              "<table border=\"1\" class=\"dataframe\">\n",
              "  <thead>\n",
              "    <tr style=\"text-align: right;\">\n",
              "      <th></th>\n",
              "      <th>user_id</th>\n",
              "      <th>item_id</th>\n",
              "      <th>target</th>\n",
              "      <th>manufacturer</th>\n",
              "      <th>department</th>\n",
              "      <th>brand</th>\n",
              "      <th>commodity_desc</th>\n",
              "      <th>sub_commodity_desc</th>\n",
              "      <th>curr_size_of_product</th>\n",
              "      <th>age_desc</th>\n",
              "      <th>marital_status_code</th>\n",
              "      <th>income_desc</th>\n",
              "      <th>homeowner_desc</th>\n",
              "      <th>hh_comp_desc</th>\n",
              "      <th>household_size_desc</th>\n",
              "      <th>kid_category_desc</th>\n",
              "      <th>item_value_div_mean_sales_value_in_department</th>\n",
              "      <th>mean_purchases_count_in_week</th>\n",
              "      <th>purchases_frequency_in_a_month</th>\n",
              "      <th>average_check</th>\n",
              "      <th>relatively_purchases_in_dept_by_user</th>\n",
              "      <th>mean_sales_value_in_dept_subtract_sales_value</th>\n",
              "    </tr>\n",
              "  </thead>\n",
              "  <tbody>\n",
              "    <tr>\n",
              "      <th>111293</th>\n",
              "      <td>1745</td>\n",
              "      <td>869322</td>\n",
              "      <td>0.0</td>\n",
              "      <td>69</td>\n",
              "      <td>GROCERY</td>\n",
              "      <td>Private</td>\n",
              "      <td>ICE CREAM/MILK/SHERBTS</td>\n",
              "      <td>PAILS</td>\n",
              "      <td>4 QT</td>\n",
              "      <td>45-54</td>\n",
              "      <td>A</td>\n",
              "      <td>Under 15K</td>\n",
              "      <td>Unknown</td>\n",
              "      <td>Single Male</td>\n",
              "      <td>2</td>\n",
              "      <td>None/Unknown</td>\n",
              "      <td>NaN</td>\n",
              "      <td>1.618182</td>\n",
              "      <td>2.905263</td>\n",
              "      <td>20.311933</td>\n",
              "      <td>0.000585</td>\n",
              "      <td>NaN</td>\n",
              "    </tr>\n",
              "    <tr>\n",
              "      <th>111294</th>\n",
              "      <td>1745</td>\n",
              "      <td>1075765</td>\n",
              "      <td>0.0</td>\n",
              "      <td>93</td>\n",
              "      <td>MEAT-PCKGD</td>\n",
              "      <td>National</td>\n",
              "      <td>DINNER SAUSAGE</td>\n",
              "      <td>SMOKED/COOKED</td>\n",
              "      <td>3LB</td>\n",
              "      <td>45-54</td>\n",
              "      <td>A</td>\n",
              "      <td>Under 15K</td>\n",
              "      <td>Unknown</td>\n",
              "      <td>Single Male</td>\n",
              "      <td>2</td>\n",
              "      <td>None/Unknown</td>\n",
              "      <td>NaN</td>\n",
              "      <td>1.428571</td>\n",
              "      <td>2.905263</td>\n",
              "      <td>20.311933</td>\n",
              "      <td>0.001088</td>\n",
              "      <td>NaN</td>\n",
              "    </tr>\n",
              "    <tr>\n",
              "      <th>111295</th>\n",
              "      <td>1745</td>\n",
              "      <td>910673</td>\n",
              "      <td>0.0</td>\n",
              "      <td>397</td>\n",
              "      <td>MEAT-PCKGD</td>\n",
              "      <td>National</td>\n",
              "      <td>MEAT - MISC</td>\n",
              "      <td>WINGS (IQF)</td>\n",
              "      <td>40 OZ</td>\n",
              "      <td>45-54</td>\n",
              "      <td>A</td>\n",
              "      <td>Under 15K</td>\n",
              "      <td>Unknown</td>\n",
              "      <td>Single Male</td>\n",
              "      <td>2</td>\n",
              "      <td>None/Unknown</td>\n",
              "      <td>NaN</td>\n",
              "      <td>5.175824</td>\n",
              "      <td>2.905263</td>\n",
              "      <td>20.311933</td>\n",
              "      <td>0.001088</td>\n",
              "      <td>NaN</td>\n",
              "    </tr>\n",
              "    <tr>\n",
              "      <th>111296</th>\n",
              "      <td>1745</td>\n",
              "      <td>1093413</td>\n",
              "      <td>0.0</td>\n",
              "      <td>3886</td>\n",
              "      <td>DELI</td>\n",
              "      <td>National</td>\n",
              "      <td>DELI MEATS</td>\n",
              "      <td>MEAT: TURKEY BULK</td>\n",
              "      <td></td>\n",
              "      <td>45-54</td>\n",
              "      <td>A</td>\n",
              "      <td>Under 15K</td>\n",
              "      <td>Unknown</td>\n",
              "      <td>Single Male</td>\n",
              "      <td>2</td>\n",
              "      <td>None/Unknown</td>\n",
              "      <td>NaN</td>\n",
              "      <td>4.282609</td>\n",
              "      <td>2.905263</td>\n",
              "      <td>20.311933</td>\n",
              "      <td>0.000213</td>\n",
              "      <td>NaN</td>\n",
              "    </tr>\n",
              "    <tr>\n",
              "      <th>111297</th>\n",
              "      <td>1745</td>\n",
              "      <td>995628</td>\n",
              "      <td>0.0</td>\n",
              "      <td>1755</td>\n",
              "      <td>GROCERY</td>\n",
              "      <td>National</td>\n",
              "      <td>FROZEN PIZZA</td>\n",
              "      <td>PIZZA/TRADITIONAL</td>\n",
              "      <td>21.8 OZ</td>\n",
              "      <td>45-54</td>\n",
              "      <td>A</td>\n",
              "      <td>Under 15K</td>\n",
              "      <td>Unknown</td>\n",
              "      <td>Single Male</td>\n",
              "      <td>2</td>\n",
              "      <td>None/Unknown</td>\n",
              "      <td>1.933461</td>\n",
              "      <td>4.075758</td>\n",
              "      <td>2.905263</td>\n",
              "      <td>20.311933</td>\n",
              "      <td>0.000585</td>\n",
              "      <td>-2.316199</td>\n",
              "    </tr>\n",
              "  </tbody>\n",
              "</table>\n",
              "</div>"
            ],
            "text/plain": [
              "        user_id  ...  mean_sales_value_in_dept_subtract_sales_value\n",
              "111293     1745  ...                                            NaN\n",
              "111294     1745  ...                                            NaN\n",
              "111295     1745  ...                                            NaN\n",
              "111296     1745  ...                                            NaN\n",
              "111297     1745  ...                                      -2.316199\n",
              "\n",
              "[5 rows x 22 columns]"
            ]
          },
          "metadata": {
            "tags": []
          },
          "execution_count": 329
        }
      ]
    },
    {
      "cell_type": "markdown",
      "metadata": {
        "id": "JtqIzcTqkwlq"
      },
      "source": [
        "Проверка"
      ]
    },
    {
      "cell_type": "code",
      "metadata": {
        "colab": {
          "base_uri": "https://localhost:8080/"
        },
        "id": "XE_JwORMkopk",
        "outputId": "da044759-18b8-4af4-c3b4-804e8e92f19a"
      },
      "source": [
        "targets_lvl_2['target'].shape"
      ],
      "execution_count": null,
      "outputs": [
        {
          "output_type": "execute_result",
          "data": {
            "text/plain": [
              "(111298,)"
            ]
          },
          "metadata": {
            "tags": []
          },
          "execution_count": 330
        }
      ]
    },
    {
      "cell_type": "code",
      "metadata": {
        "colab": {
          "base_uri": "https://localhost:8080/"
        },
        "id": "Q1oyURW6kvdr",
        "outputId": "5bbba222-6032-4f58-d7bc-83af15a1ce4a"
      },
      "source": [
        "targets_lvl_2['target'].mean()"
      ],
      "execution_count": null,
      "outputs": [
        {
          "output_type": "execute_result",
          "data": {
            "text/plain": [
              "0.09311038832683427"
            ]
          },
          "metadata": {
            "tags": []
          },
          "execution_count": 331
        }
      ]
    },
    {
      "cell_type": "markdown",
      "metadata": {
        "id": "dywz41XITtzE"
      },
      "source": [
        "#### Обучение"
      ]
    },
    {
      "cell_type": "code",
      "metadata": {
        "id": "lvhKapY5TJei"
      },
      "source": [
        "X_train = targets_lvl_2.drop('target', axis=1)\n",
        "y_train = targets_lvl_2[['target']]"
      ],
      "execution_count": null,
      "outputs": []
    },
    {
      "cell_type": "code",
      "metadata": {
        "colab": {
          "base_uri": "https://localhost:8080/"
        },
        "id": "OgfaRfVCTNBK",
        "outputId": "6f858930-4b1a-4366-fac4-c8d327ba2b22"
      },
      "source": [
        "cat_feats = X_train.columns[2:-6].tolist()\n",
        "X_train[cat_feats] = X_train[cat_feats].astype('category')\n",
        "\n",
        "cat_feats  # Иногда по ошибке сюда закидывают не категориальные фичи - так не нужно. Иначе бустинг эти, например, непрерывные величины обработает не корректно"
      ],
      "execution_count": null,
      "outputs": [
        {
          "output_type": "execute_result",
          "data": {
            "text/plain": [
              "['manufacturer',\n",
              " 'department',\n",
              " 'brand',\n",
              " 'commodity_desc',\n",
              " 'sub_commodity_desc',\n",
              " 'curr_size_of_product',\n",
              " 'age_desc',\n",
              " 'marital_status_code',\n",
              " 'income_desc',\n",
              " 'homeowner_desc',\n",
              " 'hh_comp_desc',\n",
              " 'household_size_desc',\n",
              " 'kid_category_desc']"
            ]
          },
          "metadata": {
            "tags": []
          },
          "execution_count": 333
        }
      ]
    },
    {
      "cell_type": "code",
      "metadata": {
        "colab": {
          "base_uri": "https://localhost:8080/"
        },
        "id": "EdGkVYniTStZ",
        "outputId": "515c33e6-164a-49a6-8094-03b7b275ea8d"
      },
      "source": [
        "y_train.mean() # Какая доля правильно предсказанных ответов получилась"
      ],
      "execution_count": null,
      "outputs": [
        {
          "output_type": "execute_result",
          "data": {
            "text/plain": [
              "target    0.09311\n",
              "dtype: float64"
            ]
          },
          "metadata": {
            "tags": []
          },
          "execution_count": 334
        }
      ]
    },
    {
      "cell_type": "code",
      "metadata": {
        "colab": {
          "base_uri": "https://localhost:8080/"
        },
        "id": "7qLjf--RXr1t",
        "outputId": "409e87da-fe1c-4cdd-97ef-889227014a08"
      },
      "source": [
        "lgb = LGBMClassifier(objective='binary', max_depth=7, categorical_column=cat_feats)\n",
        "lgb.fit(X_train, y_train)\n",
        "\n",
        "train_preds = lgb.predict_proba(X_train)"
      ],
      "execution_count": null,
      "outputs": [
        {
          "output_type": "stream",
          "text": [
            "/usr/local/lib/python3.7/dist-packages/sklearn/preprocessing/_label.py:235: DataConversionWarning: A column-vector y was passed when a 1d array was expected. Please change the shape of y to (n_samples, ), for example using ravel().\n",
            "  y = column_or_1d(y, warn=True)\n",
            "/usr/local/lib/python3.7/dist-packages/sklearn/preprocessing/_label.py:268: DataConversionWarning: A column-vector y was passed when a 1d array was expected. Please change the shape of y to (n_samples, ), for example using ravel().\n",
            "  y = column_or_1d(y, warn=True)\n",
            "/usr/local/lib/python3.7/dist-packages/lightgbm/basic.py:762: UserWarning: categorical_feature in param dict is overridden.\n",
            "  warnings.warn('categorical_feature in param dict is overridden.')\n"
          ],
          "name": "stderr"
        }
      ]
    },
    {
      "cell_type": "code",
      "metadata": {
        "colab": {
          "base_uri": "https://localhost:8080/"
        },
        "id": "CAEsPSM5lysg",
        "outputId": "cd38bf9f-135c-4602-b6f1-8c0211d75b68"
      },
      "source": [
        "lgb.classes_"
      ],
      "execution_count": null,
      "outputs": [
        {
          "output_type": "execute_result",
          "data": {
            "text/plain": [
              "array([0., 1.])"
            ]
          },
          "metadata": {
            "tags": []
          },
          "execution_count": 245
        }
      ]
    },
    {
      "cell_type": "code",
      "metadata": {
        "colab": {
          "base_uri": "https://localhost:8080/"
        },
        "id": "RGXk-CfVYE_M",
        "outputId": "e50ffa9b-5ad3-47bf-e7e7-fd245fad1069"
      },
      "source": [
        "train_preds[:, 1]  # Вероятности покупки"
      ],
      "execution_count": null,
      "outputs": [
        {
          "output_type": "execute_result",
          "data": {
            "text/plain": [
              "array([2.00169752e-01, 1.44558695e-01, 1.94322950e-01, ...,\n",
              "       5.18072700e-05, 4.41159392e-05, 4.00673283e-01])"
            ]
          },
          "metadata": {
            "tags": []
          },
          "execution_count": 252
        }
      ]
    },
    {
      "cell_type": "code",
      "metadata": {
        "colab": {
          "base_uri": "https://localhost:8080/",
          "height": 204
        },
        "id": "vVUwTPtFoBZ4",
        "outputId": "fa0b08da-c0c5-4f95-aa8d-7551e5ff823a"
      },
      "source": [
        "target_probas = pd.DataFrame(data=train_preds[:, 1], columns=['target_probas'])\n",
        "target_probas.head()"
      ],
      "execution_count": null,
      "outputs": [
        {
          "output_type": "execute_result",
          "data": {
            "text/html": [
              "<div>\n",
              "<style scoped>\n",
              "    .dataframe tbody tr th:only-of-type {\n",
              "        vertical-align: middle;\n",
              "    }\n",
              "\n",
              "    .dataframe tbody tr th {\n",
              "        vertical-align: top;\n",
              "    }\n",
              "\n",
              "    .dataframe thead th {\n",
              "        text-align: right;\n",
              "    }\n",
              "</style>\n",
              "<table border=\"1\" class=\"dataframe\">\n",
              "  <thead>\n",
              "    <tr style=\"text-align: right;\">\n",
              "      <th></th>\n",
              "      <th>target_probas</th>\n",
              "    </tr>\n",
              "  </thead>\n",
              "  <tbody>\n",
              "    <tr>\n",
              "      <th>0</th>\n",
              "      <td>0.200170</td>\n",
              "    </tr>\n",
              "    <tr>\n",
              "      <th>1</th>\n",
              "      <td>0.144559</td>\n",
              "    </tr>\n",
              "    <tr>\n",
              "      <th>2</th>\n",
              "      <td>0.194323</td>\n",
              "    </tr>\n",
              "    <tr>\n",
              "      <th>3</th>\n",
              "      <td>0.000086</td>\n",
              "    </tr>\n",
              "    <tr>\n",
              "      <th>4</th>\n",
              "      <td>0.000112</td>\n",
              "    </tr>\n",
              "  </tbody>\n",
              "</table>\n",
              "</div>"
            ],
            "text/plain": [
              "   target_probas\n",
              "0       0.200170\n",
              "1       0.144559\n",
              "2       0.194323\n",
              "3       0.000086\n",
              "4       0.000112"
            ]
          },
          "metadata": {
            "tags": []
          },
          "execution_count": 256
        }
      ]
    },
    {
      "cell_type": "code",
      "metadata": {
        "colab": {
          "base_uri": "https://localhost:8080/",
          "height": 292
        },
        "id": "wvoQZz7qmf1u",
        "outputId": "38923f2e-9d81-46d4-bf03-8d934974be2b"
      },
      "source": [
        "targets_lvl_2_probas = pd.concat([targets_lvl_2, target_probas], axis=1)\n",
        "targets_lvl_2_probas.sort_values(['user_id', 'target_probas'],ascending=False)[targets_lvl_2_probas['user_id'] == 2290].head()"
      ],
      "execution_count": null,
      "outputs": [
        {
          "output_type": "stream",
          "text": [
            "/usr/local/lib/python3.7/dist-packages/ipykernel_launcher.py:2: UserWarning: Boolean Series key will be reindexed to match DataFrame index.\n",
            "  \n"
          ],
          "name": "stderr"
        },
        {
          "output_type": "execute_result",
          "data": {
            "text/html": [
              "<div>\n",
              "<style scoped>\n",
              "    .dataframe tbody tr th:only-of-type {\n",
              "        vertical-align: middle;\n",
              "    }\n",
              "\n",
              "    .dataframe tbody tr th {\n",
              "        vertical-align: top;\n",
              "    }\n",
              "\n",
              "    .dataframe thead th {\n",
              "        text-align: right;\n",
              "    }\n",
              "</style>\n",
              "<table border=\"1\" class=\"dataframe\">\n",
              "  <thead>\n",
              "    <tr style=\"text-align: right;\">\n",
              "      <th></th>\n",
              "      <th>user_id</th>\n",
              "      <th>item_id</th>\n",
              "      <th>target</th>\n",
              "      <th>manufacturer</th>\n",
              "      <th>department</th>\n",
              "      <th>brand</th>\n",
              "      <th>commodity_desc</th>\n",
              "      <th>sub_commodity_desc</th>\n",
              "      <th>curr_size_of_product</th>\n",
              "      <th>age_desc</th>\n",
              "      <th>marital_status_code</th>\n",
              "      <th>income_desc</th>\n",
              "      <th>homeowner_desc</th>\n",
              "      <th>hh_comp_desc</th>\n",
              "      <th>household_size_desc</th>\n",
              "      <th>kid_category_desc</th>\n",
              "      <th>item_value_div_mean_sales_value_in_department</th>\n",
              "      <th>mean_purchases_count_in_week</th>\n",
              "      <th>purchases_frequency_in_a_month</th>\n",
              "      <th>average_check</th>\n",
              "      <th>relatively_purchases_in_dept_by_user</th>\n",
              "      <th>mean_sales_value_in_dept_subtract_sales_value</th>\n",
              "      <th>target_probas</th>\n",
              "    </tr>\n",
              "  </thead>\n",
              "  <tbody>\n",
              "    <tr>\n",
              "      <th>63029</th>\n",
              "      <td>2290</td>\n",
              "      <td>1029743</td>\n",
              "      <td>1.0</td>\n",
              "      <td>69</td>\n",
              "      <td>GROCERY</td>\n",
              "      <td>Private</td>\n",
              "      <td>FLUID MILK PRODUCTS</td>\n",
              "      <td>FLUID MILK WHITE ONLY</td>\n",
              "      <td>1 GA</td>\n",
              "      <td>NaN</td>\n",
              "      <td>NaN</td>\n",
              "      <td>NaN</td>\n",
              "      <td>NaN</td>\n",
              "      <td>NaN</td>\n",
              "      <td>NaN</td>\n",
              "      <td>NaN</td>\n",
              "      <td>0.962053</td>\n",
              "      <td>141.631579</td>\n",
              "      <td>1.431579</td>\n",
              "      <td>13.207647</td>\n",
              "      <td>0.000316</td>\n",
              "      <td>0.094158</td>\n",
              "      <td>0.268335</td>\n",
              "    </tr>\n",
              "    <tr>\n",
              "      <th>63030</th>\n",
              "      <td>2290</td>\n",
              "      <td>1037840</td>\n",
              "      <td>0.0</td>\n",
              "      <td>539</td>\n",
              "      <td>DRUG GM</td>\n",
              "      <td>National</td>\n",
              "      <td>CIGARETTES</td>\n",
              "      <td>CIGARETTES</td>\n",
              "      <td>973875  PK</td>\n",
              "      <td>NaN</td>\n",
              "      <td>NaN</td>\n",
              "      <td>NaN</td>\n",
              "      <td>NaN</td>\n",
              "      <td>NaN</td>\n",
              "      <td>NaN</td>\n",
              "      <td>NaN</td>\n",
              "      <td>1.010618</td>\n",
              "      <td>9.882979</td>\n",
              "      <td>1.431579</td>\n",
              "      <td>13.207647</td>\n",
              "      <td>0.000797</td>\n",
              "      <td>-0.040343</td>\n",
              "      <td>0.203269</td>\n",
              "    </tr>\n",
              "    <tr>\n",
              "      <th>63024</th>\n",
              "      <td>2290</td>\n",
              "      <td>1132771</td>\n",
              "      <td>0.0</td>\n",
              "      <td>3787</td>\n",
              "      <td>DELI</td>\n",
              "      <td>National</td>\n",
              "      <td>CHEESES</td>\n",
              "      <td>CHEESE: NATURAL BULK</td>\n",
              "      <td></td>\n",
              "      <td>NaN</td>\n",
              "      <td>NaN</td>\n",
              "      <td>NaN</td>\n",
              "      <td>NaN</td>\n",
              "      <td>NaN</td>\n",
              "      <td>NaN</td>\n",
              "      <td>NaN</td>\n",
              "      <td>1.022513</td>\n",
              "      <td>11.105263</td>\n",
              "      <td>1.431579</td>\n",
              "      <td>13.207647</td>\n",
              "      <td>0.000529</td>\n",
              "      <td>-0.093354</td>\n",
              "      <td>0.201911</td>\n",
              "    </tr>\n",
              "    <tr>\n",
              "      <th>63009</th>\n",
              "      <td>2290</td>\n",
              "      <td>827656</td>\n",
              "      <td>1.0</td>\n",
              "      <td>4208</td>\n",
              "      <td>DELI</td>\n",
              "      <td>National</td>\n",
              "      <td>DELI MEATS</td>\n",
              "      <td>MEAT:HAM BULK</td>\n",
              "      <td></td>\n",
              "      <td>NaN</td>\n",
              "      <td>NaN</td>\n",
              "      <td>NaN</td>\n",
              "      <td>NaN</td>\n",
              "      <td>NaN</td>\n",
              "      <td>NaN</td>\n",
              "      <td>NaN</td>\n",
              "      <td>1.582002</td>\n",
              "      <td>4.606742</td>\n",
              "      <td>1.431579</td>\n",
              "      <td>13.207647</td>\n",
              "      <td>0.000529</td>\n",
              "      <td>-2.413354</td>\n",
              "      <td>0.167582</td>\n",
              "    </tr>\n",
              "    <tr>\n",
              "      <th>63007</th>\n",
              "      <td>2290</td>\n",
              "      <td>883003</td>\n",
              "      <td>0.0</td>\n",
              "      <td>3726</td>\n",
              "      <td>DELI</td>\n",
              "      <td>National</td>\n",
              "      <td>DELI MEATS</td>\n",
              "      <td>MEAT:HAM BULK</td>\n",
              "      <td></td>\n",
              "      <td>NaN</td>\n",
              "      <td>NaN</td>\n",
              "      <td>NaN</td>\n",
              "      <td>NaN</td>\n",
              "      <td>NaN</td>\n",
              "      <td>NaN</td>\n",
              "      <td>NaN</td>\n",
              "      <td>1.642291</td>\n",
              "      <td>10.215054</td>\n",
              "      <td>1.431579</td>\n",
              "      <td>13.207647</td>\n",
              "      <td>0.000529</td>\n",
              "      <td>-2.663354</td>\n",
              "      <td>0.109950</td>\n",
              "    </tr>\n",
              "  </tbody>\n",
              "</table>\n",
              "</div>"
            ],
            "text/plain": [
              "       user_id  ...  target_probas\n",
              "63029     2290  ...       0.268335\n",
              "63030     2290  ...       0.203269\n",
              "63024     2290  ...       0.201911\n",
              "63009     2290  ...       0.167582\n",
              "63007     2290  ...       0.109950\n",
              "\n",
              "[5 rows x 23 columns]"
            ]
          },
          "metadata": {
            "tags": []
          },
          "execution_count": 281
        }
      ]
    },
    {
      "cell_type": "markdown",
      "metadata": {
        "id": "m2t1D5yJzKAy"
      },
      "source": [
        "Обучите модель 2-ого уровня, при этом: - Добавьте минимум по 2 фичи для юзера, товара и пары юзер-товар - Измерьте отдельно precision@5 модели 1-ого уровня и двухуровневой модели на data_val_lvl_2 - Вырос ли precision@5 при использовании двухуровневой модели?"
      ]
    },
    {
      "cell_type": "markdown",
      "metadata": {
        "id": "aKIki1Mb0bYM"
      },
      "source": [
        "#### Подготовим data_val_lvl_2"
      ]
    },
    {
      "cell_type": "code",
      "metadata": {
        "colab": {
          "base_uri": "https://localhost:8080/",
          "height": 111
        },
        "id": "5R0TU0s6ozRY",
        "outputId": "21438771-b6c9-4374-def5-8eb09838282b"
      },
      "source": [
        "result_lvl_2 = data_val_lvl_2.groupby('user_id')['item_id'].unique().reset_index()\n",
        "result_lvl_2.columns=['user_id', 'actual']\n",
        "result_lvl_2.head(2)"
      ],
      "execution_count": null,
      "outputs": [
        {
          "output_type": "execute_result",
          "data": {
            "text/html": [
              "<div>\n",
              "<style scoped>\n",
              "    .dataframe tbody tr th:only-of-type {\n",
              "        vertical-align: middle;\n",
              "    }\n",
              "\n",
              "    .dataframe tbody tr th {\n",
              "        vertical-align: top;\n",
              "    }\n",
              "\n",
              "    .dataframe thead th {\n",
              "        text-align: right;\n",
              "    }\n",
              "</style>\n",
              "<table border=\"1\" class=\"dataframe\">\n",
              "  <thead>\n",
              "    <tr style=\"text-align: right;\">\n",
              "      <th></th>\n",
              "      <th>user_id</th>\n",
              "      <th>actual</th>\n",
              "    </tr>\n",
              "  </thead>\n",
              "  <tbody>\n",
              "    <tr>\n",
              "      <th>0</th>\n",
              "      <td>1</td>\n",
              "      <td>[821867, 834484, 856942, 865456, 889248, 90795...</td>\n",
              "    </tr>\n",
              "    <tr>\n",
              "      <th>1</th>\n",
              "      <td>3</td>\n",
              "      <td>[835476, 851057, 872021, 878302, 879948, 90963...</td>\n",
              "    </tr>\n",
              "  </tbody>\n",
              "</table>\n",
              "</div>"
            ],
            "text/plain": [
              "   user_id                                             actual\n",
              "0        1  [821867, 834484, 856942, 865456, 889248, 90795...\n",
              "1        3  [835476, 851057, 872021, 878302, 879948, 90963..."
            ]
          },
          "metadata": {
            "tags": []
          },
          "execution_count": 282
        }
      ]
    },
    {
      "cell_type": "code",
      "metadata": {
        "colab": {
          "base_uri": "https://localhost:8080/"
        },
        "id": "EcV1gVSU5vD4",
        "outputId": "614213f7-e91d-44e4-b945-ae4aa5996bde"
      },
      "source": [
        "targets_lvl_2_probas.duplicated(subset=['user_id', 'item_id']).sum()  # Выше были дубликаты пар user_id-item_id, нужно их обработать"
      ],
      "execution_count": null,
      "outputs": [
        {
          "output_type": "execute_result",
          "data": {
            "text/plain": [
              "3748"
            ]
          },
          "metadata": {
            "tags": []
          },
          "execution_count": 359
        }
      ]
    },
    {
      "cell_type": "code",
      "metadata": {
        "id": "h0bczW169aQ2"
      },
      "source": [
        "targets_lvl_2_probas = targets_lvl_2_probas.drop_duplicates(subset=['user_id', 'item_id'])"
      ],
      "execution_count": null,
      "outputs": []
    },
    {
      "cell_type": "code",
      "metadata": {
        "colab": {
          "base_uri": "https://localhost:8080/",
          "height": 402
        },
        "id": "Xn6qrHBH3OFU",
        "outputId": "72d5e8b9-0afb-4652-b970-43bebef3e80b"
      },
      "source": [
        "top_5_lvl_2_boosting = targets_lvl_2_probas.sort_values('target_probas', ascending=False).groupby('user_id').head(5)\n",
        "top_5_lvl_2_boosting.head(8)"
      ],
      "execution_count": null,
      "outputs": [
        {
          "output_type": "execute_result",
          "data": {
            "text/html": [
              "<div>\n",
              "<style scoped>\n",
              "    .dataframe tbody tr th:only-of-type {\n",
              "        vertical-align: middle;\n",
              "    }\n",
              "\n",
              "    .dataframe tbody tr th {\n",
              "        vertical-align: top;\n",
              "    }\n",
              "\n",
              "    .dataframe thead th {\n",
              "        text-align: right;\n",
              "    }\n",
              "</style>\n",
              "<table border=\"1\" class=\"dataframe\">\n",
              "  <thead>\n",
              "    <tr style=\"text-align: right;\">\n",
              "      <th></th>\n",
              "      <th>user_id</th>\n",
              "      <th>item_id</th>\n",
              "      <th>target</th>\n",
              "      <th>manufacturer</th>\n",
              "      <th>department</th>\n",
              "      <th>brand</th>\n",
              "      <th>commodity_desc</th>\n",
              "      <th>sub_commodity_desc</th>\n",
              "      <th>curr_size_of_product</th>\n",
              "      <th>age_desc</th>\n",
              "      <th>marital_status_code</th>\n",
              "      <th>income_desc</th>\n",
              "      <th>homeowner_desc</th>\n",
              "      <th>hh_comp_desc</th>\n",
              "      <th>household_size_desc</th>\n",
              "      <th>kid_category_desc</th>\n",
              "      <th>item_value_div_mean_sales_value_in_department</th>\n",
              "      <th>mean_purchases_count_in_week</th>\n",
              "      <th>purchases_frequency_in_a_month</th>\n",
              "      <th>average_check</th>\n",
              "      <th>relatively_purchases_in_dept_by_user</th>\n",
              "      <th>mean_sales_value_in_dept_subtract_sales_value</th>\n",
              "      <th>target_probas</th>\n",
              "    </tr>\n",
              "  </thead>\n",
              "  <tbody>\n",
              "    <tr>\n",
              "      <th>15976</th>\n",
              "      <td>787</td>\n",
              "      <td>1079528</td>\n",
              "      <td>1.0</td>\n",
              "      <td>737</td>\n",
              "      <td>DRUG GM</td>\n",
              "      <td>National</td>\n",
              "      <td>NEWSPAPER</td>\n",
              "      <td>NEWSPAPER</td>\n",
              "      <td></td>\n",
              "      <td>25-34</td>\n",
              "      <td>B</td>\n",
              "      <td>25-34K</td>\n",
              "      <td>Homeowner</td>\n",
              "      <td>Single Male</td>\n",
              "      <td>1</td>\n",
              "      <td>None/Unknown</td>\n",
              "      <td>1.315908</td>\n",
              "      <td>1.450000</td>\n",
              "      <td>3.284211</td>\n",
              "      <td>13.072541</td>\n",
              "      <td>0.001389</td>\n",
              "      <td>-1.200343</td>\n",
              "      <td>0.983843</td>\n",
              "    </tr>\n",
              "    <tr>\n",
              "      <th>64741</th>\n",
              "      <td>1057</td>\n",
              "      <td>1079528</td>\n",
              "      <td>1.0</td>\n",
              "      <td>737</td>\n",
              "      <td>DRUG GM</td>\n",
              "      <td>National</td>\n",
              "      <td>NEWSPAPER</td>\n",
              "      <td>NEWSPAPER</td>\n",
              "      <td></td>\n",
              "      <td>35-44</td>\n",
              "      <td>U</td>\n",
              "      <td>50-74K</td>\n",
              "      <td>Unknown</td>\n",
              "      <td>Single Male</td>\n",
              "      <td>1</td>\n",
              "      <td>None/Unknown</td>\n",
              "      <td>1.315908</td>\n",
              "      <td>1.450000</td>\n",
              "      <td>3.494737</td>\n",
              "      <td>44.081818</td>\n",
              "      <td>0.000836</td>\n",
              "      <td>-1.200343</td>\n",
              "      <td>0.978549</td>\n",
              "    </tr>\n",
              "    <tr>\n",
              "      <th>57310</th>\n",
              "      <td>1061</td>\n",
              "      <td>875089</td>\n",
              "      <td>1.0</td>\n",
              "      <td>539</td>\n",
              "      <td>DRUG GM</td>\n",
              "      <td>National</td>\n",
              "      <td>CIGARETTES</td>\n",
              "      <td>CIGARETTES</td>\n",
              "      <td>974139  PK</td>\n",
              "      <td>NaN</td>\n",
              "      <td>NaN</td>\n",
              "      <td>NaN</td>\n",
              "      <td>NaN</td>\n",
              "      <td>NaN</td>\n",
              "      <td>NaN</td>\n",
              "      <td>NaN</td>\n",
              "      <td>1.622357</td>\n",
              "      <td>1.677419</td>\n",
              "      <td>2.273684</td>\n",
              "      <td>43.075500</td>\n",
              "      <td>0.001058</td>\n",
              "      <td>-2.364743</td>\n",
              "      <td>0.976371</td>\n",
              "    </tr>\n",
              "    <tr>\n",
              "      <th>4964</th>\n",
              "      <td>1379</td>\n",
              "      <td>962229</td>\n",
              "      <td>1.0</td>\n",
              "      <td>1636</td>\n",
              "      <td>GROCERY</td>\n",
              "      <td>National</td>\n",
              "      <td>BAKED BREAD/BUNS/ROLLS</td>\n",
              "      <td>MAINSTREAM WHITE BREAD</td>\n",
              "      <td>24 OZ</td>\n",
              "      <td>NaN</td>\n",
              "      <td>NaN</td>\n",
              "      <td>NaN</td>\n",
              "      <td>NaN</td>\n",
              "      <td>NaN</td>\n",
              "      <td>NaN</td>\n",
              "      <td>NaN</td>\n",
              "      <td>0.889704</td>\n",
              "      <td>29.358696</td>\n",
              "      <td>3.536842</td>\n",
              "      <td>26.992710</td>\n",
              "      <td>0.002018</td>\n",
              "      <td>0.273678</td>\n",
              "      <td>0.968111</td>\n",
              "    </tr>\n",
              "    <tr>\n",
              "      <th>1582</th>\n",
              "      <td>853</td>\n",
              "      <td>6904485</td>\n",
              "      <td>1.0</td>\n",
              "      <td>2382</td>\n",
              "      <td>GROCERY</td>\n",
              "      <td>National</td>\n",
              "      <td>DOMESTIC WINE</td>\n",
              "      <td>ULTRA PREMIUM WINES</td>\n",
              "      <td>750 ML</td>\n",
              "      <td>25-34</td>\n",
              "      <td>B</td>\n",
              "      <td>175-199K</td>\n",
              "      <td>Unknown</td>\n",
              "      <td>Single Female</td>\n",
              "      <td>1</td>\n",
              "      <td>None/Unknown</td>\n",
              "      <td>3.623099</td>\n",
              "      <td>2.416667</td>\n",
              "      <td>3.536842</td>\n",
              "      <td>26.164309</td>\n",
              "      <td>0.001127</td>\n",
              "      <td>-6.508699</td>\n",
              "      <td>0.966561</td>\n",
              "    </tr>\n",
              "    <tr>\n",
              "      <th>14260</th>\n",
              "      <td>27</td>\n",
              "      <td>963686</td>\n",
              "      <td>1.0</td>\n",
              "      <td>539</td>\n",
              "      <td>DRUG GM</td>\n",
              "      <td>National</td>\n",
              "      <td>CIGARETTES</td>\n",
              "      <td>CIGARETTES</td>\n",
              "      <td>998377  PK</td>\n",
              "      <td>45-54</td>\n",
              "      <td>U</td>\n",
              "      <td>25-34K</td>\n",
              "      <td>Probable Renter</td>\n",
              "      <td>Single Female</td>\n",
              "      <td>1</td>\n",
              "      <td>None/Unknown</td>\n",
              "      <td>1.101296</td>\n",
              "      <td>2.218182</td>\n",
              "      <td>3.494737</td>\n",
              "      <td>14.334444</td>\n",
              "      <td>0.002902</td>\n",
              "      <td>-0.384888</td>\n",
              "      <td>0.965872</td>\n",
              "    </tr>\n",
              "    <tr>\n",
              "      <th>7326</th>\n",
              "      <td>2162</td>\n",
              "      <td>6395907</td>\n",
              "      <td>1.0</td>\n",
              "      <td>103</td>\n",
              "      <td>GROCERY</td>\n",
              "      <td>National</td>\n",
              "      <td>SOFT DRINKS</td>\n",
              "      <td>SFT DRNK MLT-PK BTL CARB (EXCP</td>\n",
              "      <td>16.9 OZ</td>\n",
              "      <td>45-54</td>\n",
              "      <td>U</td>\n",
              "      <td>75-99K</td>\n",
              "      <td>Homeowner</td>\n",
              "      <td>Unknown</td>\n",
              "      <td>1</td>\n",
              "      <td>None/Unknown</td>\n",
              "      <td>5.268242</td>\n",
              "      <td>1.776316</td>\n",
              "      <td>3.115789</td>\n",
              "      <td>79.842750</td>\n",
              "      <td>0.001084</td>\n",
              "      <td>-10.590796</td>\n",
              "      <td>0.957281</td>\n",
              "    </tr>\n",
              "    <tr>\n",
              "      <th>24960</th>\n",
              "      <td>1397</td>\n",
              "      <td>7410071</td>\n",
              "      <td>1.0</td>\n",
              "      <td>827</td>\n",
              "      <td>GROCERY</td>\n",
              "      <td>National</td>\n",
              "      <td>FRUIT - SHELF STABLE</td>\n",
              "      <td>MANDARIN ORANGES/CITRUS SECT</td>\n",
              "      <td>24.5 OZ</td>\n",
              "      <td>45-54</td>\n",
              "      <td>B</td>\n",
              "      <td>35-49K</td>\n",
              "      <td>Renter</td>\n",
              "      <td>Single Female</td>\n",
              "      <td>1</td>\n",
              "      <td>None/Unknown</td>\n",
              "      <td>1.169654</td>\n",
              "      <td>2.559524</td>\n",
              "      <td>3.410526</td>\n",
              "      <td>20.312441</td>\n",
              "      <td>0.001002</td>\n",
              "      <td>-0.420963</td>\n",
              "      <td>0.956441</td>\n",
              "    </tr>\n",
              "  </tbody>\n",
              "</table>\n",
              "</div>"
            ],
            "text/plain": [
              "       user_id  ...  target_probas\n",
              "15976      787  ...       0.983843\n",
              "64741     1057  ...       0.978549\n",
              "57310     1061  ...       0.976371\n",
              "4964      1379  ...       0.968111\n",
              "1582       853  ...       0.966561\n",
              "14260       27  ...       0.965872\n",
              "7326      2162  ...       0.957281\n",
              "24960     1397  ...       0.956441\n",
              "\n",
              "[8 rows x 23 columns]"
            ]
          },
          "metadata": {
            "tags": []
          },
          "execution_count": 388
        }
      ]
    },
    {
      "cell_type": "code",
      "metadata": {
        "colab": {
          "base_uri": "https://localhost:8080/",
          "height": 419
        },
        "id": "QAi-p6qg5Kvb",
        "outputId": "65889b63-13ff-47c2-e48a-96e98e683969"
      },
      "source": [
        "all_users_list = top_5_lvl_2_boosting['user_id'].drop_duplicates().to_list()\n",
        "recs = []\n",
        "for user in all_users_list:\n",
        "    recs_user = []\n",
        "    recs_user.append(user)\n",
        "    recs_user.append(top_5_lvl_2_boosting.loc[top_5_lvl_2_boosting['user_id'] == user, 'item_id'].tolist())\n",
        "    recs.append(recs_user)\n",
        "    \n",
        "top_5_lvl_2_boosting_recs = pd.DataFrame(recs, columns=['user_id', 'top_5_lvl_2_boosting_recs'])\n",
        "top_5_lvl_2_boosting_recs"
      ],
      "execution_count": null,
      "outputs": [
        {
          "output_type": "execute_result",
          "data": {
            "text/html": [
              "<div>\n",
              "<style scoped>\n",
              "    .dataframe tbody tr th:only-of-type {\n",
              "        vertical-align: middle;\n",
              "    }\n",
              "\n",
              "    .dataframe tbody tr th {\n",
              "        vertical-align: top;\n",
              "    }\n",
              "\n",
              "    .dataframe thead th {\n",
              "        text-align: right;\n",
              "    }\n",
              "</style>\n",
              "<table border=\"1\" class=\"dataframe\">\n",
              "  <thead>\n",
              "    <tr style=\"text-align: right;\">\n",
              "      <th></th>\n",
              "      <th>user_id</th>\n",
              "      <th>top_5_lvl_2_boosting_recs</th>\n",
              "    </tr>\n",
              "  </thead>\n",
              "  <tbody>\n",
              "    <tr>\n",
              "      <th>0</th>\n",
              "      <td>787</td>\n",
              "      <td>[1079528, 857538, 999104, 1082212, 934399]</td>\n",
              "    </tr>\n",
              "    <tr>\n",
              "      <th>1</th>\n",
              "      <td>1057</td>\n",
              "      <td>[1079528, 899257, 1117219, 916990, 1105450]</td>\n",
              "    </tr>\n",
              "    <tr>\n",
              "      <th>2</th>\n",
              "      <td>1061</td>\n",
              "      <td>[875089, 1106523, 1127758, 1025611, 910673]</td>\n",
              "    </tr>\n",
              "    <tr>\n",
              "      <th>3</th>\n",
              "      <td>1379</td>\n",
              "      <td>[962229, 1029743, 899624, 955687, 902640]</td>\n",
              "    </tr>\n",
              "    <tr>\n",
              "      <th>4</th>\n",
              "      <td>853</td>\n",
              "      <td>[6904485, 9859017, 6396174, 6602729, 1001369]</td>\n",
              "    </tr>\n",
              "    <tr>\n",
              "      <th>...</th>\n",
              "      <td>...</td>\n",
              "      <td>...</td>\n",
              "    </tr>\n",
              "    <tr>\n",
              "      <th>2146</th>\n",
              "      <td>650</td>\n",
              "      <td>[1029743, 1106523, 1013928, 8205418, 1001475]</td>\n",
              "    </tr>\n",
              "    <tr>\n",
              "      <th>2147</th>\n",
              "      <td>1565</td>\n",
              "      <td>[8205418, 1106523, 1029743, 6463729, 945662]</td>\n",
              "    </tr>\n",
              "    <tr>\n",
              "      <th>2148</th>\n",
              "      <td>1987</td>\n",
              "      <td>[8205418, 1029743, 1106523, 1001475, 1067779]</td>\n",
              "    </tr>\n",
              "    <tr>\n",
              "      <th>2149</th>\n",
              "      <td>75</td>\n",
              "      <td>[1029743, 1106523, 1013928, 986912, 8205418]</td>\n",
              "    </tr>\n",
              "    <tr>\n",
              "      <th>2150</th>\n",
              "      <td>2120</td>\n",
              "      <td>[1029743, 1106523, 945662, 1020208, 8205418]</td>\n",
              "    </tr>\n",
              "  </tbody>\n",
              "</table>\n",
              "<p>2151 rows × 2 columns</p>\n",
              "</div>"
            ],
            "text/plain": [
              "      user_id                      top_5_lvl_2_boosting_recs\n",
              "0         787     [1079528, 857538, 999104, 1082212, 934399]\n",
              "1        1057    [1079528, 899257, 1117219, 916990, 1105450]\n",
              "2        1061    [875089, 1106523, 1127758, 1025611, 910673]\n",
              "3        1379      [962229, 1029743, 899624, 955687, 902640]\n",
              "4         853  [6904485, 9859017, 6396174, 6602729, 1001369]\n",
              "...       ...                                            ...\n",
              "2146      650  [1029743, 1106523, 1013928, 8205418, 1001475]\n",
              "2147     1565   [8205418, 1106523, 1029743, 6463729, 945662]\n",
              "2148     1987  [8205418, 1029743, 1106523, 1001475, 1067779]\n",
              "2149       75   [1029743, 1106523, 1013928, 986912, 8205418]\n",
              "2150     2120   [1029743, 1106523, 945662, 1020208, 8205418]\n",
              "\n",
              "[2151 rows x 2 columns]"
            ]
          },
          "metadata": {
            "tags": []
          },
          "execution_count": 391
        }
      ]
    },
    {
      "cell_type": "code",
      "metadata": {
        "colab": {
          "base_uri": "https://localhost:8080/",
          "height": 111
        },
        "id": "PFquR3-sJwEE",
        "outputId": "cd7dd2f3-e86a-4054-9a43-598f26a8f5c8"
      },
      "source": [
        "result_lvl_2 = pd.merge(result_lvl_2, top_5_lvl_2_boosting_recs, how='inner', on=\"user_id\")\n",
        "result_lvl_2.head(2)"
      ],
      "execution_count": null,
      "outputs": [
        {
          "output_type": "execute_result",
          "data": {
            "text/html": [
              "<div>\n",
              "<style scoped>\n",
              "    .dataframe tbody tr th:only-of-type {\n",
              "        vertical-align: middle;\n",
              "    }\n",
              "\n",
              "    .dataframe tbody tr th {\n",
              "        vertical-align: top;\n",
              "    }\n",
              "\n",
              "    .dataframe thead th {\n",
              "        text-align: right;\n",
              "    }\n",
              "</style>\n",
              "<table border=\"1\" class=\"dataframe\">\n",
              "  <thead>\n",
              "    <tr style=\"text-align: right;\">\n",
              "      <th></th>\n",
              "      <th>user_id</th>\n",
              "      <th>actual</th>\n",
              "      <th>top_5_lvl_2_boosting_recs</th>\n",
              "    </tr>\n",
              "  </thead>\n",
              "  <tbody>\n",
              "    <tr>\n",
              "      <th>0</th>\n",
              "      <td>1</td>\n",
              "      <td>[821867, 834484, 856942, 865456, 889248, 90795...</td>\n",
              "      <td>[9297615, 5577022, 856942, 1025641, 9655212]</td>\n",
              "    </tr>\n",
              "    <tr>\n",
              "      <th>1</th>\n",
              "      <td>6</td>\n",
              "      <td>[920308, 926804, 946489, 1006718, 1017061, 107...</td>\n",
              "      <td>[1082185, 1098844, 1024306, 866211, 1084036]</td>\n",
              "    </tr>\n",
              "  </tbody>\n",
              "</table>\n",
              "</div>"
            ],
            "text/plain": [
              "   user_id  ...                     top_5_lvl_2_boosting_recs\n",
              "0        1  ...  [9297615, 5577022, 856942, 1025641, 9655212]\n",
              "1        6  ...  [1082185, 1098844, 1024306, 866211, 1084036]\n",
              "\n",
              "[2 rows x 3 columns]"
            ]
          },
          "metadata": {
            "tags": []
          },
          "execution_count": 392
        }
      ]
    },
    {
      "cell_type": "code",
      "metadata": {
        "id": "pHCkfvrsL6C7"
      },
      "source": [
        "result_lvl_2['top_5_lvl_2_als_recommendations'] = result_lvl_2['user_id'].apply(lambda x: recommender.get_als_recommendations(x, N=5))\n",
        "result_lvl_2.head(2)"
      ],
      "execution_count": null,
      "outputs": []
    },
    {
      "cell_type": "markdown",
      "metadata": {
        "id": "iYUYO15F0jc0"
      },
      "source": [
        "#### Сравнение моделей"
      ]
    },
    {
      "cell_type": "code",
      "metadata": {
        "colab": {
          "base_uri": "https://localhost:8080/"
        },
        "id": "2dlWEmYj0pTu",
        "outputId": "70786fd2-fbd6-488d-bdef-1a7226b62e97"
      },
      "source": [
        "for variant in result_lvl_2.columns[2:]:\n",
        "    print(f\"{variant}: {result_lvl_2.apply(lambda row: precision_at_k(row[variant], row['actual'], k=5), axis=1).mean()}\")"
      ],
      "execution_count": null,
      "outputs": [
        {
          "output_type": "stream",
          "text": [
            "top_5_lvl_2_boosting_recs: 0.21900783289816994\n",
            "top_5_lvl_2_als_recommendations: 0.10381201044386389\n"
          ],
          "name": "stdout"
        }
      ]
    },
    {
      "cell_type": "markdown",
      "metadata": {
        "id": "FLB9K6qlYpal"
      },
      "source": [
        "Видим, что Бустинг значительно улучшил качество рекомендаций по метрике precision@k."
      ]
    },
    {
      "cell_type": "markdown",
      "metadata": {
        "id": "7q1S0zUU83Wr"
      },
      "source": [
        "### Финальный проект\n",
        "\n",
        "Мы уже прошли всю необходимую теорию для финального проекта. Проект осуществляется на данных из вебинара (данные считаны в начале ДЗ).\n",
        "Рекомендуем вам **начать делать проект сразу после этого домашнего задания**\n",
        "- Целевая метрика - precision@5. Порог для уcпешной сдачи проекта precision@5 > 0.27%\n",
        "- Будет public тестовый датасет, на котором вы сможете измерять метрику\n",
        "- Также будет private тестовый датасет для измерения финального качества\n",
        "- НЕ обязательно, но крайне желательно использовать 2-ух уровневые рекоммендательные системы в проекте\n",
        "- Вы сдаете код проекта в виде github репозитория и csv файл с рекомендациями "
      ]
    }
  ]
}